{
 "cells": [
  {
   "cell_type": "code",
   "execution_count": 1,
   "id": "443739ad-6323-4cac-86a0-c06167e90358",
   "metadata": {},
   "outputs": [],
   "source": [
    "import os\n",
    "import numpy as np\n",
    "import random as r\n",
    "import librosa\n",
    "from sklearn.preprocessing import StandardScaler\n",
    "from sklearn.model_selection import train_test_split\n",
    "import tensorflow as tf\n",
    "from CalcMFCC import calculate_mfcc\n",
    "import InitialParams as ip\n",
    "import PinkNoise as pn"
   ]
  },
  {
   "cell_type": "code",
   "execution_count": 2,
   "id": "9373fe70-6fea-431d-9773-1ea53789a61f",
   "metadata": {
    "editable": true,
    "slideshow": {
     "slide_type": ""
    },
    "tags": []
   },
   "outputs": [],
   "source": [
    "def pad_or_truncate_mfcc(mfcc, max_length):\n",
    "    current_length = mfcc.shape[0]\n",
    "    if current_length < max_length:\n",
    "        padding = max_length - current_length\n",
    "        return np.pad(mfcc, ((0, padding), (0, 0)), mode='constant')\n",
    "    else:\n",
    "        return mfcc[:max_length]\n",
    "\n",
    "def normalize_features(X):\n",
    "    scaler = StandardScaler()\n",
    "    X_reshaped = X.reshape(-1, X.shape[-1])\n",
    "    X_normalized = scaler.fit_transform(X_reshaped).reshape(X.shape)\n",
    "    return X_normalized, scaler\n",
    "\n",
    "def prepare_data(audio_files, sample_rate, win_len, hop_len, n_mfcc, max_length, noised=False, intensity = 0.0001):\n",
    "    mfcc_features = []\n",
    "    labels = []\n",
    "    SNR = 0\n",
    "    label_map = {label: idx for idx, label in enumerate(audio_files.keys())}\n",
    "    for label, files in audio_files.items():\n",
    "        for file in files:\n",
    "            audio = librosa.load(file, sr=sample_rate)[0]\n",
    "            if noised == True:\n",
    "                pink_noise = pn.generate_pink_noise(len(audio)) \n",
    "                pink_audio = pn.generate_noisy_signal(audio, pink_noise, intensity)\n",
    "                SNR = 10*np.log(np.sum(np.power(audio, 2))/np.sum(np.power(pink_audio-audio, 2)))\n",
    "                audio = pink_audio\n",
    "            mfcc = calculate_mfcc(audio, sample_rate, win_len, hop_len, n_mfcc)\n",
    "            mfcc = pad_or_truncate_mfcc(mfcc.T, max_length)\n",
    "            mfcc_features.append(mfcc)\n",
    "            labels.append(label_map[label])\n",
    "    \n",
    "    X = np.array(mfcc_features)\n",
    "    y = np.array(labels)\n",
    "    X, scaler = normalize_features(X)\n",
    "    \n",
    "    return X, y, scaler, SNR"
   ]
  },
  {
   "cell_type": "code",
   "execution_count": 3,
   "id": "451e17c9-5b62-480c-9d36-cec31a55834d",
   "metadata": {},
   "outputs": [],
   "source": [
    "np.random.seed(42)\n",
    "r.seed(42)\n",
    "tf.random.set_seed(42)"
   ]
  },
  {
   "cell_type": "code",
   "execution_count": 4,
   "id": "1996808a-ce86-4dde-9b57-aa97326016df",
   "metadata": {
    "editable": true,
    "slideshow": {
     "slide_type": ""
    },
    "tags": []
   },
   "outputs": [
    {
     "name": "stdout",
     "output_type": "stream",
     "text": [
      "Дискреттеу жиілігі: 48000 Гц,\n",
      "MFCC коэффициенттер саны: 20,\n",
      "MFCC фреймінің ұзындығы: 170\n"
     ]
    }
   ],
   "source": [
    "Soileushiler = {}\n",
    "for i in range(1, 17):\n",
    "    Soileushiler[i-1] = [f'DaustarNew/Soyleushy_{i}/' + j for j in os.listdir(f'DaustarNew/Soyleushy_{i}')]\n",
    "\n",
    "print(f'''Дискреттеу жиілігі: {ip.F_dis} Гц,\n",
    "MFCC коэффициенттер саны: {ip.n_mfcc},\n",
    "MFCC фреймінің ұзындығы: {ip.mfcc_frame}''')\n",
    "\n",
    "X, y, scaler, _ = prepare_data(Soileushiler, ip.F_dis, ip.win_len, ip.hop_len, ip.n_mfcc, ip.mfcc_frame)\n",
    "X_train, X_test, y_train, y_test = train_test_split(X, y, test_size=0.1, stratify=y, random_state=42)"
   ]
  },
  {
   "cell_type": "code",
   "execution_count": 124,
   "id": "d229da59-8a10-4095-b16a-77588525912d",
   "metadata": {
    "editable": true,
    "slideshow": {
     "slide_type": ""
    },
    "tags": []
   },
   "outputs": [
    {
     "name": "stdout",
     "output_type": "stream",
     "text": [
      "Model: \"sequential_27\"\n",
      "_________________________________________________________________\n",
      " Layer (type)                Output Shape              Param #   \n",
      "=================================================================\n",
      " masking_27 (Masking)        (None, 170, 20)           0         \n",
      "                                                                 \n",
      " conv1d_54 (Conv1D)          (None, 168, 128)          7808      \n",
      "                                                                 \n",
      " max_pooling1d_54 (MaxPooli  (None, 84, 128)           0         \n",
      " ng1D)                                                           \n",
      "                                                                 \n",
      " conv1d_55 (Conv1D)          (None, 82, 256)           98560     \n",
      "                                                                 \n",
      " max_pooling1d_55 (MaxPooli  (None, 41, 256)           0         \n",
      " ng1D)                                                           \n",
      "                                                                 \n",
      " flatten_27 (Flatten)        (None, 10496)             0         \n",
      "                                                                 \n",
      " dense_54 (Dense)            (None, 128)               1343616   \n",
      "                                                                 \n",
      " dropout_27 (Dropout)        (None, 128)               0         \n",
      "                                                                 \n",
      " dense_55 (Dense)            (None, 16)                2064      \n",
      "                                                                 \n",
      "=================================================================\n",
      "Total params: 1452048 (5.54 MB)\n",
      "Trainable params: 1452048 (5.54 MB)\n",
      "Non-trainable params: 0 (0.00 Byte)\n",
      "_________________________________________________________________\n"
     ]
    }
   ],
   "source": [
    "import tensorflow as tf\n",
    "from tensorflow.keras.models import Sequential\n",
    "from tensorflow.keras.layers import Conv1D, MaxPooling1D, Flatten, Dense, Dropout, Masking\n",
    "from tensorflow.keras.regularizers import l2\n",
    "from tensorflow.keras.callbacks import EarlyStopping, ReduceLROnPlateau\n",
    "\n",
    "def create_model():\n",
    "    temp_model = Sequential([\n",
    "        Masking(mask_value=0.0, input_shape=(ip.mfcc_frame, ip.n_mfcc)),\n",
    "        Conv1D(128, kernel_size=3, activation='relu', kernel_regularizer=l2(0.01)),\n",
    "        MaxPooling1D(pool_size=2),\n",
    "        Conv1D(256, kernel_size=3, activation='relu', kernel_regularizer=l2(0.01)),\n",
    "        MaxPooling1D(pool_size=2),\n",
    "        Flatten(),\n",
    "        Dense(128, activation='relu', kernel_regularizer=l2(0.01)),\n",
    "        Dropout(0.5),\n",
    "        Dense(16, activation='softmax') \n",
    "    ])\n",
    "    temp_model.compile(optimizer='adam', loss='sparse_categorical_crossentropy', metrics=['accuracy'])\n",
    "    return temp_model\n",
    "\n",
    "\n",
    "CNNmodel = create_model()\n",
    "CNNmodel.summary()"
   ]
  },
  {
   "cell_type": "code",
   "execution_count": 6,
   "id": "b31e478c-fdad-4cfa-a934-f307487e1c76",
   "metadata": {
    "editable": true,
    "slideshow": {
     "slide_type": ""
    },
    "tags": []
   },
   "outputs": [],
   "source": [
    "callbacks = [\n",
    "    EarlyStopping(monitor='val_loss', patience=10, restore_best_weights=True),\n",
    "    ReduceLROnPlateau(monitor='val_loss', factor=0.5, patience=5, min_lr=1e-6),\n",
    "]"
   ]
  },
  {
   "cell_type": "code",
   "execution_count": 125,
   "id": "55d735c3-177d-448a-b034-fa74f4fa7943",
   "metadata": {},
   "outputs": [
    {
     "name": "stdout",
     "output_type": "stream",
     "text": [
      "Epoch 1/100\n",
      "3/3 [==============================] - 1s 158ms/step - loss: 7.7524 - accuracy: 0.0779 - val_loss: 7.0242 - val_accuracy: 0.1111 - lr: 0.0010\n",
      "Epoch 2/100\n",
      "3/3 [==============================] - 0s 87ms/step - loss: 6.6966 - accuracy: 0.2468 - val_loss: 6.3692 - val_accuracy: 0.3333 - lr: 0.0010\n",
      "Epoch 3/100\n",
      "3/3 [==============================] - 0s 76ms/step - loss: 5.9020 - accuracy: 0.5260 - val_loss: 5.9360 - val_accuracy: 0.5000 - lr: 0.0010\n",
      "Epoch 4/100\n",
      "3/3 [==============================] - 0s 81ms/step - loss: 5.2552 - accuracy: 0.6169 - val_loss: 5.2407 - val_accuracy: 0.5000 - lr: 0.0010\n",
      "Epoch 5/100\n",
      "3/3 [==============================] - 0s 87ms/step - loss: 4.6147 - accuracy: 0.7273 - val_loss: 4.7687 - val_accuracy: 0.5556 - lr: 0.0010\n",
      "Epoch 6/100\n",
      "3/3 [==============================] - 0s 69ms/step - loss: 4.1513 - accuracy: 0.8117 - val_loss: 4.2511 - val_accuracy: 0.6667 - lr: 0.0010\n",
      "Epoch 7/100\n",
      "3/3 [==============================] - 0s 69ms/step - loss: 3.9096 - accuracy: 0.8312 - val_loss: 4.1305 - val_accuracy: 0.5556 - lr: 0.0010\n",
      "Epoch 8/100\n",
      "3/3 [==============================] - 0s 73ms/step - loss: 3.5943 - accuracy: 0.9156 - val_loss: 4.0570 - val_accuracy: 0.6667 - lr: 0.0010\n",
      "Epoch 9/100\n",
      "3/3 [==============================] - 0s 77ms/step - loss: 3.4405 - accuracy: 0.9091 - val_loss: 3.7647 - val_accuracy: 0.6667 - lr: 0.0010\n",
      "Epoch 10/100\n",
      "3/3 [==============================] - 0s 77ms/step - loss: 3.2338 - accuracy: 0.9545 - val_loss: 3.4717 - val_accuracy: 0.8333 - lr: 0.0010\n",
      "Epoch 11/100\n",
      "3/3 [==============================] - 0s 78ms/step - loss: 3.1433 - accuracy: 0.9481 - val_loss: 3.2072 - val_accuracy: 0.8889 - lr: 0.0010\n",
      "Epoch 12/100\n",
      "3/3 [==============================] - 0s 75ms/step - loss: 2.9984 - accuracy: 0.9545 - val_loss: 3.1358 - val_accuracy: 0.8889 - lr: 0.0010\n",
      "Epoch 13/100\n",
      "3/3 [==============================] - 0s 79ms/step - loss: 2.8808 - accuracy: 0.9740 - val_loss: 3.1411 - val_accuracy: 0.8889 - lr: 0.0010\n",
      "Epoch 14/100\n",
      "3/3 [==============================] - 0s 73ms/step - loss: 2.8127 - accuracy: 0.9545 - val_loss: 3.0002 - val_accuracy: 0.8889 - lr: 0.0010\n",
      "Epoch 15/100\n",
      "3/3 [==============================] - 0s 75ms/step - loss: 2.6640 - accuracy: 0.9610 - val_loss: 2.9978 - val_accuracy: 0.7778 - lr: 0.0010\n",
      "Epoch 16/100\n",
      "3/3 [==============================] - 0s 71ms/step - loss: 2.5470 - accuracy: 0.9805 - val_loss: 2.9205 - val_accuracy: 0.8333 - lr: 0.0010\n",
      "Epoch 17/100\n",
      "3/3 [==============================] - 0s 73ms/step - loss: 2.4682 - accuracy: 0.9805 - val_loss: 2.7208 - val_accuracy: 0.8333 - lr: 0.0010\n",
      "Epoch 18/100\n",
      "3/3 [==============================] - 0s 74ms/step - loss: 2.3399 - accuracy: 1.0000 - val_loss: 2.5263 - val_accuracy: 0.8889 - lr: 0.0010\n",
      "Epoch 19/100\n",
      "3/3 [==============================] - 0s 75ms/step - loss: 2.2787 - accuracy: 0.9870 - val_loss: 2.4450 - val_accuracy: 0.8333 - lr: 0.0010\n",
      "Epoch 20/100\n",
      "3/3 [==============================] - 0s 70ms/step - loss: 2.1701 - accuracy: 0.9935 - val_loss: 2.4584 - val_accuracy: 0.8889 - lr: 0.0010\n",
      "Epoch 21/100\n",
      "3/3 [==============================] - 0s 68ms/step - loss: 2.1472 - accuracy: 0.9740 - val_loss: 2.3949 - val_accuracy: 0.8333 - lr: 0.0010\n",
      "Epoch 22/100\n",
      "3/3 [==============================] - 0s 72ms/step - loss: 2.0285 - accuracy: 0.9870 - val_loss: 2.3542 - val_accuracy: 0.8333 - lr: 0.0010\n",
      "Epoch 23/100\n",
      "3/3 [==============================] - 0s 78ms/step - loss: 1.9720 - accuracy: 0.9740 - val_loss: 2.2277 - val_accuracy: 0.8889 - lr: 0.0010\n",
      "Epoch 24/100\n",
      "3/3 [==============================] - 0s 77ms/step - loss: 1.8804 - accuracy: 0.9870 - val_loss: 2.1815 - val_accuracy: 0.8333 - lr: 0.0010\n",
      "Epoch 25/100\n",
      "3/3 [==============================] - 0s 76ms/step - loss: 1.8139 - accuracy: 0.9870 - val_loss: 2.1758 - val_accuracy: 0.8333 - lr: 0.0010\n",
      "Epoch 26/100\n",
      "3/3 [==============================] - 0s 77ms/step - loss: 1.7046 - accuracy: 1.0000 - val_loss: 2.0615 - val_accuracy: 0.8889 - lr: 0.0010\n",
      "Epoch 27/100\n",
      "3/3 [==============================] - 0s 77ms/step - loss: 1.6804 - accuracy: 0.9870 - val_loss: 1.8638 - val_accuracy: 0.9444 - lr: 0.0010\n",
      "Epoch 28/100\n",
      "3/3 [==============================] - 0s 71ms/step - loss: 1.6305 - accuracy: 0.9740 - val_loss: 1.7951 - val_accuracy: 0.8889 - lr: 0.0010\n",
      "Epoch 29/100\n",
      "3/3 [==============================] - 0s 79ms/step - loss: 1.5360 - accuracy: 0.9935 - val_loss: 1.8127 - val_accuracy: 0.8333 - lr: 0.0010\n",
      "Epoch 30/100\n",
      "3/3 [==============================] - 0s 77ms/step - loss: 1.4893 - accuracy: 0.9870 - val_loss: 1.8106 - val_accuracy: 0.7778 - lr: 0.0010\n",
      "Epoch 31/100\n",
      "3/3 [==============================] - 0s 81ms/step - loss: 1.4316 - accuracy: 0.9870 - val_loss: 1.7749 - val_accuracy: 0.7778 - lr: 0.0010\n",
      "Epoch 32/100\n",
      "3/3 [==============================] - 0s 115ms/step - loss: 1.3861 - accuracy: 0.9935 - val_loss: 1.6430 - val_accuracy: 0.8889 - lr: 0.0010\n",
      "Epoch 33/100\n",
      "3/3 [==============================] - 0s 76ms/step - loss: 1.3393 - accuracy: 0.9935 - val_loss: 1.6356 - val_accuracy: 0.8333 - lr: 0.0010\n",
      "Epoch 34/100\n",
      "3/3 [==============================] - 0s 73ms/step - loss: 1.3044 - accuracy: 0.9870 - val_loss: 1.6108 - val_accuracy: 0.7778 - lr: 0.0010\n",
      "Epoch 35/100\n",
      "3/3 [==============================] - 0s 74ms/step - loss: 1.2203 - accuracy: 0.9935 - val_loss: 1.6929 - val_accuracy: 0.7222 - lr: 0.0010\n",
      "Epoch 36/100\n",
      "3/3 [==============================] - 0s 72ms/step - loss: 1.2077 - accuracy: 0.9935 - val_loss: 1.6115 - val_accuracy: 0.7778 - lr: 0.0010\n",
      "Epoch 37/100\n",
      "3/3 [==============================] - 0s 76ms/step - loss: 1.1930 - accuracy: 0.9740 - val_loss: 1.4608 - val_accuracy: 0.8889 - lr: 0.0010\n",
      "Epoch 38/100\n",
      "3/3 [==============================] - 0s 79ms/step - loss: 1.1210 - accuracy: 1.0000 - val_loss: 1.3173 - val_accuracy: 0.8889 - lr: 0.0010\n",
      "Epoch 39/100\n",
      "3/3 [==============================] - 0s 73ms/step - loss: 1.1012 - accuracy: 0.9870 - val_loss: 1.2952 - val_accuracy: 0.9444 - lr: 0.0010\n",
      "Epoch 40/100\n",
      "3/3 [==============================] - 0s 73ms/step - loss: 1.0549 - accuracy: 1.0000 - val_loss: 1.3181 - val_accuracy: 0.8889 - lr: 0.0010\n",
      "Epoch 41/100\n",
      "3/3 [==============================] - 0s 74ms/step - loss: 1.0319 - accuracy: 0.9935 - val_loss: 1.3967 - val_accuracy: 0.8333 - lr: 0.0010\n",
      "Epoch 42/100\n",
      "3/3 [==============================] - 0s 73ms/step - loss: 1.0101 - accuracy: 0.9870 - val_loss: 1.2422 - val_accuracy: 0.8333 - lr: 0.0010\n",
      "Epoch 43/100\n",
      "3/3 [==============================] - 0s 75ms/step - loss: 0.9873 - accuracy: 0.9935 - val_loss: 1.2079 - val_accuracy: 0.8889 - lr: 0.0010\n",
      "Epoch 44/100\n",
      "3/3 [==============================] - 0s 76ms/step - loss: 0.9586 - accuracy: 0.9870 - val_loss: 1.2243 - val_accuracy: 0.8889 - lr: 0.0010\n",
      "Epoch 45/100\n",
      "3/3 [==============================] - 0s 77ms/step - loss: 0.9399 - accuracy: 0.9870 - val_loss: 1.1692 - val_accuracy: 0.8333 - lr: 0.0010\n",
      "Epoch 46/100\n",
      "3/3 [==============================] - 0s 81ms/step - loss: 0.8905 - accuracy: 0.9935 - val_loss: 1.2398 - val_accuracy: 0.8333 - lr: 0.0010\n",
      "Epoch 47/100\n",
      "3/3 [==============================] - 0s 77ms/step - loss: 0.8891 - accuracy: 0.9935 - val_loss: 1.1021 - val_accuracy: 0.9444 - lr: 0.0010\n",
      "Epoch 48/100\n",
      "3/3 [==============================] - 0s 76ms/step - loss: 0.8274 - accuracy: 1.0000 - val_loss: 1.1760 - val_accuracy: 0.8889 - lr: 0.0010\n",
      "Epoch 49/100\n",
      "3/3 [==============================] - 0s 78ms/step - loss: 0.8322 - accuracy: 1.0000 - val_loss: 1.0308 - val_accuracy: 0.8889 - lr: 0.0010\n",
      "Epoch 50/100\n",
      "3/3 [==============================] - 0s 74ms/step - loss: 0.7985 - accuracy: 0.9935 - val_loss: 0.9401 - val_accuracy: 0.9444 - lr: 0.0010\n",
      "Epoch 51/100\n",
      "3/3 [==============================] - 0s 78ms/step - loss: 0.8069 - accuracy: 0.9740 - val_loss: 0.9285 - val_accuracy: 0.9444 - lr: 0.0010\n",
      "Epoch 52/100\n",
      "3/3 [==============================] - 0s 76ms/step - loss: 0.7773 - accuracy: 0.9805 - val_loss: 0.9964 - val_accuracy: 0.9444 - lr: 0.0010\n",
      "Epoch 53/100\n",
      "3/3 [==============================] - 0s 74ms/step - loss: 0.7436 - accuracy: 0.9870 - val_loss: 1.0263 - val_accuracy: 0.8333 - lr: 0.0010\n",
      "Epoch 54/100\n",
      "3/3 [==============================] - 0s 73ms/step - loss: 0.7394 - accuracy: 0.9870 - val_loss: 1.0067 - val_accuracy: 0.8333 - lr: 0.0010\n",
      "Epoch 55/100\n",
      "3/3 [==============================] - 0s 72ms/step - loss: 0.7113 - accuracy: 0.9935 - val_loss: 0.9509 - val_accuracy: 0.8889 - lr: 0.0010\n",
      "Epoch 56/100\n",
      "3/3 [==============================] - 0s 74ms/step - loss: 0.6961 - accuracy: 0.9935 - val_loss: 0.9318 - val_accuracy: 0.8889 - lr: 0.0010\n",
      "Epoch 57/100\n",
      "3/3 [==============================] - 0s 75ms/step - loss: 0.6863 - accuracy: 0.9870 - val_loss: 0.8482 - val_accuracy: 0.9444 - lr: 5.0000e-04\n",
      "Epoch 58/100\n",
      "3/3 [==============================] - 0s 74ms/step - loss: 0.6609 - accuracy: 0.9935 - val_loss: 0.8648 - val_accuracy: 0.9444 - lr: 5.0000e-04\n",
      "Epoch 59/100\n",
      "3/3 [==============================] - 0s 75ms/step - loss: 0.6699 - accuracy: 0.9805 - val_loss: 0.8882 - val_accuracy: 0.9444 - lr: 5.0000e-04\n",
      "Epoch 60/100\n",
      "3/3 [==============================] - 0s 73ms/step - loss: 0.6391 - accuracy: 0.9935 - val_loss: 0.8875 - val_accuracy: 0.8889 - lr: 5.0000e-04\n",
      "Epoch 61/100\n",
      "3/3 [==============================] - 0s 77ms/step - loss: 0.6369 - accuracy: 0.9870 - val_loss: 0.8959 - val_accuracy: 0.9444 - lr: 5.0000e-04\n",
      "Epoch 62/100\n",
      "3/3 [==============================] - 0s 77ms/step - loss: 0.6155 - accuracy: 1.0000 - val_loss: 0.9096 - val_accuracy: 0.8889 - lr: 5.0000e-04\n",
      "Epoch 63/100\n",
      "3/3 [==============================] - 0s 77ms/step - loss: 0.6170 - accuracy: 0.9935 - val_loss: 0.8632 - val_accuracy: 0.8889 - lr: 2.5000e-04\n",
      "Epoch 64/100\n",
      "3/3 [==============================] - 0s 78ms/step - loss: 0.6121 - accuracy: 1.0000 - val_loss: 0.8084 - val_accuracy: 0.9444 - lr: 2.5000e-04\n",
      "Epoch 65/100\n",
      "3/3 [==============================] - 0s 76ms/step - loss: 0.6269 - accuracy: 0.9805 - val_loss: 0.7742 - val_accuracy: 0.9444 - lr: 2.5000e-04\n",
      "Epoch 66/100\n",
      "3/3 [==============================] - 0s 84ms/step - loss: 0.5950 - accuracy: 0.9935 - val_loss: 0.7645 - val_accuracy: 0.9444 - lr: 2.5000e-04\n",
      "Epoch 67/100\n",
      "3/3 [==============================] - 0s 77ms/step - loss: 0.5811 - accuracy: 1.0000 - val_loss: 0.7710 - val_accuracy: 0.9444 - lr: 2.5000e-04\n",
      "Epoch 68/100\n",
      "3/3 [==============================] - 0s 76ms/step - loss: 0.5835 - accuracy: 0.9935 - val_loss: 0.7874 - val_accuracy: 0.9444 - lr: 2.5000e-04\n",
      "Epoch 69/100\n",
      "3/3 [==============================] - 0s 77ms/step - loss: 0.5871 - accuracy: 1.0000 - val_loss: 0.7835 - val_accuracy: 0.9444 - lr: 2.5000e-04\n",
      "Epoch 70/100\n",
      "3/3 [==============================] - 0s 85ms/step - loss: 0.5822 - accuracy: 1.0000 - val_loss: 0.7860 - val_accuracy: 0.9444 - lr: 2.5000e-04\n",
      "Epoch 71/100\n",
      "3/3 [==============================] - 0s 93ms/step - loss: 0.5607 - accuracy: 1.0000 - val_loss: 0.7908 - val_accuracy: 0.9444 - lr: 2.5000e-04\n",
      "Epoch 72/100\n",
      "3/3 [==============================] - 0s 78ms/step - loss: 0.5523 - accuracy: 1.0000 - val_loss: 0.7965 - val_accuracy: 0.9444 - lr: 1.2500e-04\n",
      "Epoch 73/100\n",
      "3/3 [==============================] - 0s 75ms/step - loss: 0.5481 - accuracy: 1.0000 - val_loss: 0.8011 - val_accuracy: 0.9444 - lr: 1.2500e-04\n",
      "Epoch 74/100\n",
      "3/3 [==============================] - 0s 78ms/step - loss: 0.5723 - accuracy: 0.9935 - val_loss: 0.7994 - val_accuracy: 0.8889 - lr: 1.2500e-04\n",
      "Epoch 75/100\n",
      "3/3 [==============================] - 0s 92ms/step - loss: 0.5641 - accuracy: 1.0000 - val_loss: 0.7876 - val_accuracy: 0.8889 - lr: 1.2500e-04\n",
      "Epoch 76/100\n",
      "3/3 [==============================] - 0s 80ms/step - loss: 0.5359 - accuracy: 1.0000 - val_loss: 0.7705 - val_accuracy: 0.8889 - lr: 1.2500e-04\n"
     ]
    }
   ],
   "source": [
    "history = CNNmodel.fit(X_train,\n",
    "                       y_train, epochs=100, batch_size=64, validation_split=0.1,\n",
    "                       callbacks=callbacks)"
   ]
  },
  {
   "cell_type": "code",
   "execution_count": 126,
   "id": "ad037db8-63d2-4098-ab25-8329a44c6afb",
   "metadata": {},
   "outputs": [
    {
     "data": {
      "text/html": [
       "<iframe\n",
       "    scrolling=\"no\"\n",
       "    width=\"100%\"\n",
       "    height=\"545px\"\n",
       "    src=\"iframe_figures/figure_126.html\"\n",
       "    frameborder=\"0\"\n",
       "    allowfullscreen\n",
       "></iframe>\n"
      ]
     },
     "metadata": {},
     "output_type": "display_data"
    }
   ],
   "source": [
    "import plotly.graph_objects as go\n",
    "import plotly.io as pio\n",
    "pio.renderers.default = 'iframe'\n",
    "\n",
    "epoch_count = np.array(range(1, 91))\n",
    "accuracy = history.history['accuracy']\n",
    "val_accuracy = history.history['val_accuracy']\n",
    "loss = history.history['loss']\n",
    "val_loss = history.history['val_loss']\n",
    "\n",
    "fig = go.Figure()\n",
    "fig.add_trace(go.Scatter(x=epoch_count, y=accuracy, mode='lines+markers', name='Оқыту дәлдігі'))\n",
    "fig.add_trace(go.Scatter(x=epoch_count, y=val_accuracy, mode='lines+markers', name='Валидация дәлдігі'))\n",
    "fig.update_layout(title='Эпоха сайын Оқыту және Валидация кезіндегі дәлдік', xaxis_title='Эпоха саны', yaxis_title='Дәлдік')\n",
    "fig.show()"
   ]
  },
  {
   "cell_type": "code",
   "execution_count": 127,
   "id": "d461c134-fd2f-4d5b-b306-cc19835f76e6",
   "metadata": {},
   "outputs": [
    {
     "data": {
      "text/html": [
       "<iframe\n",
       "    scrolling=\"no\"\n",
       "    width=\"100%\"\n",
       "    height=\"545px\"\n",
       "    src=\"iframe_figures/figure_127.html\"\n",
       "    frameborder=\"0\"\n",
       "    allowfullscreen\n",
       "></iframe>\n"
      ]
     },
     "metadata": {},
     "output_type": "display_data"
    }
   ],
   "source": [
    "fig = go.Figure()\n",
    "fig.add_trace(go.Scatter(x=epoch_count, y=loss, mode='lines+markers', name='Оқыту жоғалтулары'))\n",
    "fig.add_trace(go.Scatter(x=epoch_count, y=val_loss, mode='lines+markers', name='Валидациялық жоғалтулар'))\n",
    "fig.update_layout(title='Эпоха сайын Оқыту және Валидация кезіндегі жоғалтулар', xaxis_title='Эпоха саны', yaxis_title='Жоғалтулар')\n",
    "fig.show()"
   ]
  },
  {
   "cell_type": "code",
   "execution_count": 128,
   "id": "366488b2-5862-4f88-b809-9aca82dbbf7e",
   "metadata": {
    "editable": true,
    "slideshow": {
     "slide_type": ""
    },
    "tags": []
   },
   "outputs": [
    {
     "name": "stdout",
     "output_type": "stream",
     "text": [
      "1/1 [==============================] - 0s 40ms/step - loss: 0.7126 - accuracy: 0.9500\n",
      "Тестілік жоғалтулар: 0.7126\n",
      "Тестілік дәлдік: 0.9500\n"
     ]
    }
   ],
   "source": [
    "import numpy as np\n",
    "\n",
    "test_loss, test_accuracy = CNNmodel.evaluate(X_test, y_test)\n",
    "print(f'Тестілік жоғалтулар: {test_loss:.4f}')\n",
    "print(f'Тестілік дәлдік: {test_accuracy:.4f}')\n"
   ]
  },
  {
   "cell_type": "code",
   "execution_count": 129,
   "id": "e8054f67-3c6e-4e69-856f-88963c1bd6c6",
   "metadata": {},
   "outputs": [
    {
     "name": "stdout",
     "output_type": "stream",
     "text": [
      "1/1 [==============================] - 0s 86ms/step\n"
     ]
    },
    {
     "data": {
      "text/html": [
       "<iframe\n",
       "    scrolling=\"no\"\n",
       "    width=\"100%\"\n",
       "    height=\"545px\"\n",
       "    src=\"iframe_figures/figure_129.html\"\n",
       "    frameborder=\"0\"\n",
       "    allowfullscreen\n",
       "></iframe>\n"
      ]
     },
     "metadata": {},
     "output_type": "display_data"
    }
   ],
   "source": [
    "import plotly.express as px\n",
    "from sklearn.metrics import confusion_matrix\n",
    "from sklearn.metrics import f1_score\n",
    "from sklearn.preprocessing import LabelEncoder\n",
    "\n",
    "label_encoder = LabelEncoder()\n",
    "y = label_encoder.fit_transform(y)\n",
    "y_pred_probabilities = CNNmodel.predict(X_test)\n",
    "y_pred = np.argmax(y_pred_probabilities, axis=1)\n",
    "\n",
    "y_test_decoded = label_encoder.inverse_transform(y_test)\n",
    "y_pred_decoded = label_encoder.inverse_transform(y_pred)\n",
    "\n",
    "conf_matrix = confusion_matrix(y_test_decoded, y_pred_decoded, labels=[i for i in range(0, 16)])\n",
    "\n",
    "xlabels = [f'Сөйлеуші_{i+1}' for i in range(0, 16)]\n",
    "\n",
    "fig = px.imshow(conf_matrix, x=xlabels, y=xlabels, text_auto='.d', aspect='auto', color_continuous_scale='Greens',\\\n",
    "               labels=dict(x='Болжанған белгілер', y='Рас белгілеря'))\n",
    "fig.update_layout(title='Олқылық матрицасы')\n",
    "fig.show()\n"
   ]
  },
  {
   "cell_type": "code",
   "execution_count": 130,
   "id": "43f1a8b4-05b8-4738-a9b8-ebde490e4215",
   "metadata": {
    "editable": true,
    "slideshow": {
     "slide_type": ""
    },
    "tags": []
   },
   "outputs": [
    {
     "name": "stderr",
     "output_type": "stream",
     "text": [
      "C:\\Users\\Администратор\\Desktop\\DiplomPython\\venv\\Lib\\site-packages\\sklearn\\metrics\\_classification.py:1517: UndefinedMetricWarning:\n",
      "\n",
      "Precision is ill-defined and being set to 0.0 in labels with no predicted samples. Use `zero_division` parameter to control this behavior.\n",
      "\n",
      "C:\\Users\\Администратор\\Desktop\\DiplomPython\\venv\\Lib\\site-packages\\sklearn\\metrics\\_classification.py:1517: UndefinedMetricWarning:\n",
      "\n",
      "Precision is ill-defined and being set to 0.0 in labels with no predicted samples. Use `zero_division` parameter to control this behavior.\n",
      "\n",
      "C:\\Users\\Администратор\\Desktop\\DiplomPython\\venv\\Lib\\site-packages\\sklearn\\metrics\\_classification.py:1517: UndefinedMetricWarning:\n",
      "\n",
      "Precision is ill-defined and being set to 0.0 in labels with no predicted samples. Use `zero_division` parameter to control this behavior.\n",
      "\n"
     ]
    },
    {
     "data": {
      "text/plain": [
       "<Axes: >"
      ]
     },
     "execution_count": 130,
     "metadata": {},
     "output_type": "execute_result"
    },
    {
     "data": {
      "image/png": "[encoded data removed]",
      "text/plain": [
       "<Figure size 640x480 with 2 Axes>"
      ]
     },
     "metadata": {},
     "output_type": "display_data"
    }
   ],
   "source": [
    "import seaborn as sns\n",
    "import pandas as pd\n",
    "from sklearn.metrics import classification_report\n",
    "\n",
    "\n",
    "class_report = classification_report(y_test, y_pred, labels=[i for i in range(0, 16)],\n",
    "                                   target_names=[f'Сөйлеуші_{i+1}' for i in range(0, 16)],\n",
    "                                   output_dict=True)\n",
    "sns.heatmap(pd.DataFrame(class_report).iloc[:-1, :].T, annot=True)"
   ]
  },
  {
   "cell_type": "code",
   "execution_count": 146,
   "id": "e41c945a-12a0-49cf-8a79-925738162a24",
   "metadata": {},
   "outputs": [
    {
     "data": {
      "text/plain": [
       "['scaler.pkl']"
      ]
     },
     "execution_count": 146,
     "metadata": {},
     "output_type": "execute_result"
    }
   ],
   "source": [
    "CNNmodel.save('speaker_verification_model_cnn.keras')\n",
    "\n",
    "import joblib\n",
    "joblib.dump(scaler, 'scaler.pkl')"
   ]
  },
  {
   "cell_type": "code",
   "execution_count": 147,
   "id": "891c18c3-ea94-4c3f-85b4-f4f5fc6b45ef",
   "metadata": {
    "editable": true,
    "slideshow": {
     "slide_type": ""
    },
    "tags": []
   },
   "outputs": [],
   "source": [
    "np.save('X_train.npy', X_train)\n",
    "np.save('X_test.npy', X_test)\n",
    "np.save('y_train.npy', y_train)\n",
    "np.save('y_test.npy', y_test)"
   ]
  },
  {
   "cell_type": "code",
   "execution_count": 131,
   "id": "73bebae9-5198-4f73-a9a2-1f6eca17b02d",
   "metadata": {},
   "outputs": [
    {
     "name": "stdout",
     "output_type": "stream",
     "text": [
      "Орташа FAR: 0.003289473684210526\n",
      "Орташа FRR: 0.0625\n"
     ]
    }
   ],
   "source": [
    "FP = np.sum(conf_matrix, axis=0) - np.diag(conf_matrix)\n",
    "FN = np.sum(conf_matrix, axis=1) - np.diag(conf_matrix)\n",
    "TP = np.diag(conf_matrix)\n",
    "TN = conf_matrix.sum() - (FP + FN + TP)\n",
    "\n",
    "FAR = FP / (FP + TN)\n",
    "FRR = FN / (FN + TP)\n",
    "\n",
    "print(f'Орташа FAR: {FAR.mean()}')\n",
    "print(f'Орташа FRR: {FRR.mean()}')"
   ]
  },
  {
   "cell_type": "code",
   "execution_count": 148,
   "id": "ee4098da-84a9-44f2-9d74-6420fed9d25c",
   "metadata": {},
   "outputs": [
    {
     "name": "stdout",
     "output_type": "stream",
     "text": [
      "SNR, шу интенсивтілігі 0.01 = 43.608311136340305\n"
     ]
    }
   ],
   "source": [
    "intensity = 0.01\n",
    "X_noise, y_noise, scaler_noise, SNR = prepare_data(Soileushiler, ip.F_dis, ip.win_len, ip.hop_len, ip.n_mfcc, ip.mfcc_frame, noised=True, intensity=intensity)\n",
    "X_noise_train, X_noise_test, y_noise_train, y_noise_test = train_test_split(X_noise, y_noise, test_size=0.1, stratify=y, random_state=42)\n",
    "print(f\"SNR, шу интенсивтілігі {intensity} = {SNR}\")"
   ]
  },
  {
   "cell_type": "code",
   "execution_count": 135,
   "id": "eb864cc8-1127-46b3-b5bb-3c122f73d9b0",
   "metadata": {},
   "outputs": [
    {
     "name": "stdout",
     "output_type": "stream",
     "text": [
      "1/1 [==============================] - 0s 35ms/step - loss: 1.3474 - accuracy: 0.8500\n",
      "Тестілік жоғалтулар (шу бар сигнал): 1.3474453687667847\n",
      "Тестілік дәлдік (шу бар сигнал): 0.8500000238418579\n",
      "1/1 [==============================] - 0s 18ms/step\n"
     ]
    },
    {
     "data": {
      "text/html": [
       "<iframe\n",
       "    scrolling=\"no\"\n",
       "    width=\"100%\"\n",
       "    height=\"545px\"\n",
       "    src=\"iframe_figures/figure_135.html\"\n",
       "    frameborder=\"0\"\n",
       "    allowfullscreen\n",
       "></iframe>\n"
      ]
     },
     "metadata": {},
     "output_type": "display_data"
    }
   ],
   "source": [
    "test_loss_noise, test_accuracy_noise = CNNmodel.evaluate(X_noise_test, y_test)\n",
    "print(f'Тестілік жоғалтулар (шу бар сигнал): {test_loss_noise}')\n",
    "print(f'Тестілік дәлдік (шу бар сигнал): {test_accuracy_noise}')\n",
    "\n",
    "y_pred_noisy = np.argmax(CNNmodel.predict(X_noise_test), axis=1)\n",
    "\n",
    "all_labels = list(range(16))\n",
    "\n",
    "conf_matrix_noisy = confusion_matrix(y_test, y_pred_noisy, labels=all_labels)\n",
    "\n",
    "\n",
    "\n",
    "\n",
    "xlabels = [f'Сөйлеуші_{i+1}' for i in range(0, 16)]\n",
    "\n",
    "fig = px.imshow(conf_matrix_noisy, x=xlabels, y=xlabels, text_auto='.d', aspect='auto', color_continuous_scale='Greens',\\\n",
    "               labels=dict(x='Болжанған белгілер', y='Рас белгілер'))\n",
    "fig.update_layout(title='Шу бар мәліметке тестіленген олқылық матрицасы')\n",
    "fig.show()"
   ]
  },
  {
   "cell_type": "code",
   "execution_count": 144,
   "id": "a312c56a-9474-4673-8380-19109ceca045",
   "metadata": {},
   "outputs": [
    {
     "name": "stderr",
     "output_type": "stream",
     "text": [
      "C:\\Users\\Администратор\\Desktop\\DiplomPython\\venv\\Lib\\site-packages\\sklearn\\metrics\\_classification.py:1517: UndefinedMetricWarning:\n",
      "\n",
      "Precision is ill-defined and being set to 0.0 in labels with no predicted samples. Use `zero_division` parameter to control this behavior.\n",
      "\n",
      "C:\\Users\\Администратор\\Desktop\\DiplomPython\\venv\\Lib\\site-packages\\sklearn\\metrics\\_classification.py:1517: UndefinedMetricWarning:\n",
      "\n",
      "Precision is ill-defined and being set to 0.0 in labels with no predicted samples. Use `zero_division` parameter to control this behavior.\n",
      "\n",
      "C:\\Users\\Администратор\\Desktop\\DiplomPython\\venv\\Lib\\site-packages\\sklearn\\metrics\\_classification.py:1517: UndefinedMetricWarning:\n",
      "\n",
      "Precision is ill-defined and being set to 0.0 in labels with no predicted samples. Use `zero_division` parameter to control this behavior.\n",
      "\n"
     ]
    },
    {
     "data": {
      "text/plain": [
       "<Axes: >"
      ]
     },
     "execution_count": 144,
     "metadata": {},
     "output_type": "execute_result"
    },
    {
     "data": {
      "image/png": "[encoded data removed]",
      "text/plain": [
       "<Figure size 640x480 with 2 Axes>"
      ]
     },
     "metadata": {},
     "output_type": "display_data"
    }
   ],
   "source": [
    "class_report_noisy = classification_report(y_test, y_pred_noisy, labels=all_labels, target_names=[f'Сөйлеуші_{i+1}' for i in all_labels], output_dict=True)\n",
    "sns.heatmap(pd.DataFrame(class_report_noisy).iloc[:-1, :].T, annot=True)"
   ]
  },
  {
   "cell_type": "code",
   "execution_count": 145,
   "id": "05ecd18c-cff0-42a6-909c-c6b72c93912e",
   "metadata": {},
   "outputs": [
    {
     "name": "stdout",
     "output_type": "stream",
     "text": [
      "Шу бар мәліметтің орташа FAR: 0.01644736842105263\n",
      "Шу бар мәліметтің орташа FRR: 0.21875\n"
     ]
    }
   ],
   "source": [
    "FP_noise = np.sum(conf_matrix_noisy, axis=0) - np.diag(conf_matrix_noisy)\n",
    "FN_noise = np.sum(conf_matrix_noisy, axis=1) - np.diag(conf_matrix_noisy)\n",
    "TP_noise = np.diag(conf_matrix_noisy)\n",
    "TN_noise = conf_matrix_noisy.sum() - (FP_noise + FN_noise + TP_noise)\n",
    "\n",
    "FAR_noise = FP_noise / (FP_noise + TN_noise)\n",
    "FRR_noise = FN_noise / (FN_noise + TP_noise)\n",
    "\n",
    "print(f'Шу бар мәліметтің орташа FAR: {FAR_noise.mean()}')\n",
    "print(f'Шу бар мәліметтің орташа FRR: {FRR_noise.mean()}')"
   ]
  },
  {
   "cell_type": "code",
   "execution_count": null,
   "id": "081c761b-0faa-4817-b312-8dc15613e9c4",
   "metadata": {},
   "outputs": [],
   "source": []
  }
 ],
 "metadata": {
  "kernelspec": {
   "display_name": "Python 3 (ipykernel)",
   "language": "python",
   "name": "python3"
  },
  "language_info": {
   "codemirror_mode": {
    "name": "ipython",
    "version": 3
   },
   "file_extension": ".py",
   "mimetype": "text/x-python",
   "name": "python",
   "nbconvert_exporter": "python",
   "pygments_lexer": "ipython3",
   "version": "3.11.8"
  }
 },
 "nbformat": 4,
 "nbformat_minor": 5
}
