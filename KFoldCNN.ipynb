{
 "cells": [
  {
   "cell_type": "code",
   "execution_count": 1,
   "id": "42f08966-8b28-4f91-8cde-0f3b4c256d74",
   "metadata": {},
   "outputs": [],
   "source": [
    "import numpy as np\n",
    "from sklearn.model_selection import KFold\n",
    "from sklearn.metrics import accuracy_score\n",
    "from tensorflow.keras.models import Sequential\n",
    "from tensorflow.keras.layers import Conv1D, MaxPooling1D, Flatten, Dense, Dropout\n",
    "from tensorflow.keras.regularizers import l2\n",
    "import plotly.graph_objects as go\n",
    "import os\n",
    "import random as r\n",
    "import librosa\n",
    "from sklearn.preprocessing import StandardScaler\n",
    "from sklearn.model_selection import train_test_split\n",
    "import tensorflow as tf\n",
    "from CalcMFCC import calculate_mfcc\n",
    "import InitialParams as ip\n",
    "import PinkNoise as pn"
   ]
  },
  {
   "cell_type": "code",
   "execution_count": 2,
   "id": "09403769-2feb-4afa-9b71-a9ef5c20fd57",
   "metadata": {},
   "outputs": [],
   "source": [
    "np.random.seed(42)\n",
    "r.seed(42)\n",
    "tf.random.set_seed(42)"
   ]
  },
  {
   "cell_type": "code",
   "execution_count": 1,
   "id": "978924c1-6a19-4a48-a203-263b7724f0e6",
   "metadata": {},
   "outputs": [],
   "source": [
    "def pad_or_truncate_mfcc(mfcc, max_length):\n",
    "    current_length = mfcc.shape[0]\n",
    "    if current_length < max_length:\n",
    "        padding = max_length - current_length\n",
    "        return np.pad(mfcc, ((0, padding), (0, 0)), mode='constant')\n",
    "    else:\n",
    "        return mfcc[:max_length]\n",
    "\n",
    "def normalize_features(X):\n",
    "    scaler = StandardScaler()\n",
    "    X_reshaped = X.reshape(-1, X.shape[-1])\n",
    "    X_normalized = scaler.fit_transform(X_reshaped).reshape(X.shape)\n",
    "    return X_normalized, scaler\n",
    "\n",
    "def prepare_data(audio_files, sample_rate, win_len, hop_len, n_mfcc, max_length, noised=False, intensity = 0.0001):\n",
    "    mfcc_features = []\n",
    "    labels = []\n",
    "    SNR = 0\n",
    "    label_map = {label: idx for idx, label in enumerate(audio_files.keys())}\n",
    "    for label, files in audio_files.items():\n",
    "        for file in files:\n",
    "            audio = librosa.load(file, sr=sample_rate)[0]\n",
    "            if noised == True:\n",
    "                pink_noise = pn.generate_pink_noise(len(audio)) \n",
    "                pink_audio = pn.generate_noisy_signal(audio, pink_noise, intensity)\n",
    "                SNR = 10*np.log(np.sum(np.power(audio, 2))/np.sum(np.power(pink_audio-audio, 2)))\n",
    "                audio = pink_audio\n",
    "            mfcc = calculate_mfcc(audio, sample_rate, win_len, hop_len, n_mfcc)\n",
    "            mfcc = pad_or_truncate_mfcc(mfcc.T, max_length)\n",
    "            mfcc_features.append(mfcc)\n",
    "            labels.append(label_map[label])\n",
    "    \n",
    "    X = np.array(mfcc_features)\n",
    "    y = np.array(labels)\n",
    "    X, scaler = normalize_features(X)\n",
    "    \n",
    "    return X, y, scaler, SNR"
   ]
  },
  {
   "cell_type": "code",
   "execution_count": 4,
   "id": "090a7125-d757-4c32-a6a0-78acc02f4b09",
   "metadata": {},
   "outputs": [],
   "source": [
    "kf = KFold(n_splits=10, shuffle=True, random_state=42)\n",
    "best_model = None\n",
    "best_history = None\n",
    "best_val_accuracy = 0"
   ]
  },
  {
   "cell_type": "code",
   "execution_count": 5,
   "id": "3bf6fa1c-b4a8-4f76-bc37-ba0b47783347",
   "metadata": {},
   "outputs": [
    {
     "name": "stdout",
     "output_type": "stream",
     "text": [
      "Дискреттеу жиілігі: 48000 Гц,\n",
      "MFCC коэффициенттер саны: 20,\n",
      "MFCC фреймінің ұзындығы: 170\n"
     ]
    }
   ],
   "source": [
    "Soileushiler = {}\n",
    "for i in range(1, 17):\n",
    "    Soileushiler[i-1] = [f'DaustarNew/Soyleushy_{i}/' + j for j in os.listdir(f'DaustarNew/Soyleushy_{i}')]\n",
    "\n",
    "print(f'''Дискреттеу жиілігі: {ip.F_dis} Гц,\n",
    "MFCC коэффициенттер саны: {ip.n_mfcc},\n",
    "MFCC фреймінің ұзындығы: {ip.mfcc_frame}''')\n",
    "\n",
    "X, y, scaler, _ = prepare_data(Soileushiler, ip.F_dis, ip.win_len, ip.hop_len, ip.n_mfcc, ip.mfcc_frame)"
   ]
  },
  {
   "cell_type": "code",
   "execution_count": 6,
   "id": "2712173d-9543-4d6b-bd1e-70d54dd56f0a",
   "metadata": {},
   "outputs": [
    {
     "name": "stdout",
     "output_type": "stream",
     "text": [
      "Train samples: 153\n",
      "Test samples: 39\n"
     ]
    }
   ],
   "source": [
    "from sklearn.model_selection import train_test_split\n",
    "X_train, X_test, y_train, y_test = train_test_split(X, y, test_size=0.2, stratify=y, random_state=42)\n",
    "\n",
    "print(f\"Train samples: {X_train.shape[0]}\")\n",
    "print(f\"Test samples: {X_test.shape[0]}\")"
   ]
  },
  {
   "cell_type": "code",
   "execution_count": 7,
   "id": "7d04ddff-3e97-4b4e-a861-566d23fd96b6",
   "metadata": {},
   "outputs": [],
   "source": [
    "import tensorflow as tf\n",
    "from tensorflow.keras.models import Sequential\n",
    "from tensorflow.keras.layers import Conv1D, MaxPooling1D, Flatten, Dense, Dropout, Masking\n",
    "from tensorflow.keras.regularizers import l2\n",
    "from tensorflow.keras.callbacks import EarlyStopping, ReduceLROnPlateau\n",
    "\n",
    "def create_model():\n",
    "    temp_model = Sequential([\n",
    "        Masking(mask_value=0.0, input_shape=(ip.mfcc_frame, ip.n_mfcc)),\n",
    "        Conv1D(128, kernel_size=3, activation='relu', kernel_regularizer=l2(0.01)),\n",
    "        MaxPooling1D(pool_size=2),\n",
    "        Conv1D(256, kernel_size=3, activation='relu', kernel_regularizer=l2(0.01)),\n",
    "        MaxPooling1D(pool_size=2),\n",
    "        Flatten(),\n",
    "        Dense(128, activation='relu', kernel_regularizer=l2(0.1)),\n",
    "        Dropout(0.5),\n",
    "        Dense(16, activation='softmax') \n",
    "    ])\n",
    "    temp_model.compile(optimizer='adam', loss='sparse_categorical_crossentropy', metrics=['accuracy'])\n",
    "    return temp_model\n",
    "\n"
   ]
  },
  {
   "cell_type": "code",
   "execution_count": 9,
   "id": "ee7cb9fc-309a-4c1b-8f6a-08765e76e429",
   "metadata": {},
   "outputs": [
    {
     "name": "stdout",
     "output_type": "stream",
     "text": [
      "Epoch 1/100\n",
      "3/3 [==============================] - 1s 158ms/step - loss: 29.0187 - accuracy: 0.0219 - val_loss: 23.7276 - val_accuracy: 0.1875 - lr: 0.0010\n",
      "Epoch 2/100\n",
      "3/3 [==============================] - 0s 65ms/step - loss: 22.3539 - accuracy: 0.2847 - val_loss: 18.3473 - val_accuracy: 0.4375 - lr: 0.0010\n",
      "Epoch 3/100\n",
      "3/3 [==============================] - 0s 65ms/step - loss: 17.2179 - accuracy: 0.4672 - val_loss: 14.1757 - val_accuracy: 0.4375 - lr: 0.0010\n",
      "Epoch 4/100\n",
      "3/3 [==============================] - 0s 69ms/step - loss: 13.1318 - accuracy: 0.6131 - val_loss: 11.1652 - val_accuracy: 0.5625 - lr: 0.0010\n",
      "Epoch 5/100\n",
      "3/3 [==============================] - 0s 70ms/step - loss: 10.2540 - accuracy: 0.6204 - val_loss: 8.7581 - val_accuracy: 0.6250 - lr: 0.0010\n",
      "Epoch 6/100\n",
      "3/3 [==============================] - 0s 70ms/step - loss: 8.1409 - accuracy: 0.7226 - val_loss: 7.1291 - val_accuracy: 0.6250 - lr: 0.0010\n",
      "Epoch 7/100\n",
      "3/3 [==============================] - 0s 70ms/step - loss: 6.8355 - accuracy: 0.6861 - val_loss: 6.1331 - val_accuracy: 0.8125 - lr: 0.0010\n",
      "Epoch 8/100\n",
      "3/3 [==============================] - 0s 69ms/step - loss: 5.6265 - accuracy: 0.8248 - val_loss: 5.6717 - val_accuracy: 0.6250 - lr: 0.0010\n",
      "Epoch 9/100\n",
      "3/3 [==============================] - 0s 71ms/step - loss: 5.0370 - accuracy: 0.8321 - val_loss: 5.1235 - val_accuracy: 0.6875 - lr: 0.0010\n",
      "Epoch 10/100\n",
      "3/3 [==============================] - 0s 69ms/step - loss: 4.4541 - accuracy: 0.8905 - val_loss: 4.5901 - val_accuracy: 0.8125 - lr: 0.0010\n",
      "Epoch 11/100\n",
      "3/3 [==============================] - 0s 70ms/step - loss: 4.1135 - accuracy: 0.8832 - val_loss: 4.3466 - val_accuracy: 0.7500 - lr: 0.0010\n",
      "Epoch 12/100\n",
      "3/3 [==============================] - 0s 69ms/step - loss: 3.8394 - accuracy: 0.9197 - val_loss: 4.1779 - val_accuracy: 0.6875 - lr: 0.0010\n",
      "Epoch 13/100\n",
      "3/3 [==============================] - 0s 70ms/step - loss: 3.5865 - accuracy: 0.9124 - val_loss: 3.8122 - val_accuracy: 0.8750 - lr: 0.0010\n",
      "Epoch 14/100\n",
      "3/3 [==============================] - 0s 68ms/step - loss: 3.4258 - accuracy: 0.8613 - val_loss: 3.7020 - val_accuracy: 0.7500 - lr: 0.0010\n",
      "Epoch 15/100\n",
      "3/3 [==============================] - 0s 69ms/step - loss: 3.1618 - accuracy: 0.9197 - val_loss: 3.4824 - val_accuracy: 0.7500 - lr: 0.0010\n",
      "Epoch 16/100\n",
      "3/3 [==============================] - 0s 77ms/step - loss: 3.0421 - accuracy: 0.8832 - val_loss: 3.3668 - val_accuracy: 0.5625 - lr: 0.0010\n",
      "Epoch 17/100\n",
      "3/3 [==============================] - 0s 71ms/step - loss: 2.8236 - accuracy: 0.9416 - val_loss: 3.1388 - val_accuracy: 0.7500 - lr: 0.0010\n",
      "Epoch 18/100\n",
      "3/3 [==============================] - 0s 75ms/step - loss: 2.6753 - accuracy: 0.9489 - val_loss: 2.7768 - val_accuracy: 0.8750 - lr: 0.0010\n",
      "Epoch 19/100\n",
      "3/3 [==============================] - 0s 66ms/step - loss: 2.5913 - accuracy: 0.9416 - val_loss: 2.6229 - val_accuracy: 0.9375 - lr: 0.0010\n",
      "Epoch 20/100\n",
      "3/3 [==============================] - 0s 65ms/step - loss: 2.4040 - accuracy: 0.9708 - val_loss: 2.5810 - val_accuracy: 0.9375 - lr: 0.0010\n",
      "Epoch 21/100\n",
      "3/3 [==============================] - 0s 63ms/step - loss: 2.3266 - accuracy: 0.9635 - val_loss: 2.6925 - val_accuracy: 0.8125 - lr: 0.0010\n",
      "Epoch 22/100\n",
      "3/3 [==============================] - 0s 65ms/step - loss: 2.2801 - accuracy: 0.9635 - val_loss: 2.5892 - val_accuracy: 0.8125 - lr: 0.0010\n",
      "Epoch 23/100\n",
      "3/3 [==============================] - 0s 70ms/step - loss: 2.2214 - accuracy: 0.9416 - val_loss: 2.4076 - val_accuracy: 0.8125 - lr: 0.0010\n",
      "Epoch 24/100\n",
      "3/3 [==============================] - 0s 69ms/step - loss: 2.0447 - accuracy: 0.9781 - val_loss: 2.5019 - val_accuracy: 0.8125 - lr: 0.0010\n",
      "Epoch 25/100\n",
      "3/3 [==============================] - 0s 69ms/step - loss: 2.0451 - accuracy: 0.9562 - val_loss: 2.4075 - val_accuracy: 0.8125 - lr: 0.0010\n",
      "Epoch 26/100\n",
      "3/3 [==============================] - 0s 71ms/step - loss: 1.8875 - accuracy: 0.9781 - val_loss: 2.2563 - val_accuracy: 0.7500 - lr: 0.0010\n",
      "Epoch 27/100\n",
      "3/3 [==============================] - 0s 69ms/step - loss: 1.9689 - accuracy: 0.9197 - val_loss: 2.4043 - val_accuracy: 0.6875 - lr: 0.0010\n",
      "Epoch 28/100\n",
      "3/3 [==============================] - 0s 67ms/step - loss: 1.8999 - accuracy: 0.9197 - val_loss: 2.6677 - val_accuracy: 0.7500 - lr: 0.0010\n",
      "Epoch 29/100\n",
      "3/3 [==============================] - 0s 69ms/step - loss: 1.9153 - accuracy: 0.9270 - val_loss: 2.1191 - val_accuracy: 0.8125 - lr: 0.0010\n",
      "Epoch 30/100\n",
      "3/3 [==============================] - 0s 68ms/step - loss: 1.7907 - accuracy: 0.9781 - val_loss: 2.0158 - val_accuracy: 0.8750 - lr: 0.0010\n",
      "Epoch 31/100\n",
      "3/3 [==============================] - 0s 71ms/step - loss: 1.8872 - accuracy: 0.9343 - val_loss: 2.0162 - val_accuracy: 0.8125 - lr: 0.0010\n",
      "Epoch 32/100\n",
      "3/3 [==============================] - 0s 70ms/step - loss: 1.7335 - accuracy: 0.9708 - val_loss: 1.9430 - val_accuracy: 0.8125 - lr: 0.0010\n",
      "Epoch 33/100\n",
      "3/3 [==============================] - 0s 69ms/step - loss: 1.7001 - accuracy: 0.9854 - val_loss: 1.7870 - val_accuracy: 0.9375 - lr: 0.0010\n",
      "Epoch 34/100\n",
      "3/3 [==============================] - 0s 72ms/step - loss: 1.6727 - accuracy: 0.9781 - val_loss: 1.8091 - val_accuracy: 1.0000 - lr: 0.0010\n",
      "Epoch 35/100\n",
      "3/3 [==============================] - 0s 66ms/step - loss: 1.6404 - accuracy: 0.9781 - val_loss: 1.9278 - val_accuracy: 0.7500 - lr: 0.0010\n",
      "Epoch 36/100\n",
      "3/3 [==============================] - 0s 68ms/step - loss: 1.6261 - accuracy: 0.9343 - val_loss: 2.0516 - val_accuracy: 0.7500 - lr: 0.0010\n",
      "Epoch 37/100\n",
      "3/3 [==============================] - 0s 68ms/step - loss: 1.5643 - accuracy: 0.9708 - val_loss: 1.8975 - val_accuracy: 0.8125 - lr: 0.0010\n",
      "Epoch 38/100\n",
      "3/3 [==============================] - 0s 69ms/step - loss: 1.5124 - accuracy: 0.9562 - val_loss: 1.8738 - val_accuracy: 0.8125 - lr: 0.0010\n",
      "Epoch 39/100\n",
      "3/3 [==============================] - 0s 70ms/step - loss: 1.5394 - accuracy: 0.9270 - val_loss: 1.6833 - val_accuracy: 0.8750 - lr: 5.0000e-04\n",
      "Epoch 40/100\n",
      "3/3 [==============================] - 0s 69ms/step - loss: 1.4114 - accuracy: 0.9781 - val_loss: 1.6261 - val_accuracy: 0.8750 - lr: 5.0000e-04\n",
      "Epoch 41/100\n",
      "3/3 [==============================] - 0s 68ms/step - loss: 1.3697 - accuracy: 1.0000 - val_loss: 1.6366 - val_accuracy: 0.8750 - lr: 5.0000e-04\n",
      "Epoch 42/100\n",
      "3/3 [==============================] - 0s 68ms/step - loss: 1.3772 - accuracy: 0.9781 - val_loss: 1.5080 - val_accuracy: 0.8750 - lr: 5.0000e-04\n",
      "Epoch 43/100\n",
      "3/3 [==============================] - 0s 70ms/step - loss: 1.3003 - accuracy: 0.9854 - val_loss: 1.4198 - val_accuracy: 1.0000 - lr: 5.0000e-04\n",
      "Epoch 44/100\n",
      "3/3 [==============================] - 0s 68ms/step - loss: 1.2913 - accuracy: 0.9927 - val_loss: 1.4518 - val_accuracy: 1.0000 - lr: 5.0000e-04\n",
      "Epoch 45/100\n",
      "3/3 [==============================] - 0s 68ms/step - loss: 1.2404 - accuracy: 1.0000 - val_loss: 1.5671 - val_accuracy: 0.7500 - lr: 5.0000e-04\n",
      "Epoch 46/100\n",
      "3/3 [==============================] - 0s 70ms/step - loss: 1.2250 - accuracy: 0.9927 - val_loss: 1.5563 - val_accuracy: 0.7500 - lr: 5.0000e-04\n",
      "Epoch 47/100\n",
      "3/3 [==============================] - 0s 68ms/step - loss: 1.1818 - accuracy: 0.9854 - val_loss: 1.4940 - val_accuracy: 0.8125 - lr: 5.0000e-04\n",
      "Epoch 48/100\n",
      "3/3 [==============================] - 0s 69ms/step - loss: 1.1891 - accuracy: 0.9927 - val_loss: 1.5197 - val_accuracy: 0.9375 - lr: 5.0000e-04\n",
      "Epoch 49/100\n",
      "3/3 [==============================] - 0s 63ms/step - loss: 1.2431 - accuracy: 0.9708 - val_loss: 1.4524 - val_accuracy: 0.9375 - lr: 2.5000e-04\n",
      "Epoch 50/100\n",
      "3/3 [==============================] - 0s 63ms/step - loss: 1.1734 - accuracy: 0.9781 - val_loss: 1.4399 - val_accuracy: 0.8750 - lr: 2.5000e-04\n",
      "Epoch 51/100\n",
      "3/3 [==============================] - 0s 64ms/step - loss: 1.1637 - accuracy: 0.9854 - val_loss: 1.4502 - val_accuracy: 0.8750 - lr: 2.5000e-04\n",
      "Epoch 52/100\n",
      "3/3 [==============================] - 0s 69ms/step - loss: 1.1546 - accuracy: 0.9854 - val_loss: 1.3921 - val_accuracy: 0.8750 - lr: 2.5000e-04\n",
      "Epoch 53/100\n",
      "3/3 [==============================] - 0s 71ms/step - loss: 1.1505 - accuracy: 0.9927 - val_loss: 1.3168 - val_accuracy: 0.9375 - lr: 2.5000e-04\n",
      "Epoch 54/100\n",
      "3/3 [==============================] - 0s 72ms/step - loss: 1.1051 - accuracy: 1.0000 - val_loss: 1.2881 - val_accuracy: 0.9375 - lr: 2.5000e-04\n",
      "Epoch 55/100\n",
      "3/3 [==============================] - 0s 70ms/step - loss: 1.0837 - accuracy: 1.0000 - val_loss: 1.3093 - val_accuracy: 1.0000 - lr: 2.5000e-04\n",
      "Epoch 56/100\n",
      "3/3 [==============================] - 0s 67ms/step - loss: 1.0668 - accuracy: 0.9927 - val_loss: 1.3252 - val_accuracy: 1.0000 - lr: 2.5000e-04\n",
      "Epoch 57/100\n",
      "3/3 [==============================] - 0s 69ms/step - loss: 1.0820 - accuracy: 0.9927 - val_loss: 1.3217 - val_accuracy: 1.0000 - lr: 2.5000e-04\n",
      "Epoch 58/100\n",
      "3/3 [==============================] - 0s 73ms/step - loss: 1.0605 - accuracy: 0.9781 - val_loss: 1.2834 - val_accuracy: 1.0000 - lr: 2.5000e-04\n",
      "Epoch 59/100\n",
      "3/3 [==============================] - 0s 70ms/step - loss: 1.0158 - accuracy: 1.0000 - val_loss: 1.2771 - val_accuracy: 1.0000 - lr: 2.5000e-04\n",
      "Epoch 60/100\n",
      "3/3 [==============================] - 0s 71ms/step - loss: 1.0087 - accuracy: 1.0000 - val_loss: 1.2628 - val_accuracy: 1.0000 - lr: 2.5000e-04\n",
      "Epoch 61/100\n",
      "3/3 [==============================] - 0s 71ms/step - loss: 0.9978 - accuracy: 0.9927 - val_loss: 1.2367 - val_accuracy: 0.9375 - lr: 2.5000e-04\n",
      "Epoch 62/100\n",
      "3/3 [==============================] - 0s 69ms/step - loss: 0.9516 - accuracy: 1.0000 - val_loss: 1.2080 - val_accuracy: 0.9375 - lr: 2.5000e-04\n",
      "Epoch 63/100\n",
      "3/3 [==============================] - 0s 71ms/step - loss: 0.9643 - accuracy: 1.0000 - val_loss: 1.1758 - val_accuracy: 0.9375 - lr: 2.5000e-04\n",
      "Epoch 64/100\n",
      "3/3 [==============================] - 0s 69ms/step - loss: 0.9505 - accuracy: 1.0000 - val_loss: 1.1893 - val_accuracy: 0.9375 - lr: 2.5000e-04\n",
      "Epoch 65/100\n",
      "3/3 [==============================] - 0s 67ms/step - loss: 0.9359 - accuracy: 1.0000 - val_loss: 1.2764 - val_accuracy: 0.9375 - lr: 2.5000e-04\n",
      "Epoch 66/100\n",
      "3/3 [==============================] - 0s 68ms/step - loss: 0.9459 - accuracy: 1.0000 - val_loss: 1.3043 - val_accuracy: 0.9375 - lr: 2.5000e-04\n",
      "Epoch 67/100\n",
      "3/3 [==============================] - 0s 68ms/step - loss: 0.9395 - accuracy: 0.9927 - val_loss: 1.2331 - val_accuracy: 0.9375 - lr: 2.5000e-04\n",
      "Epoch 68/100\n",
      "3/3 [==============================] - 0s 68ms/step - loss: 0.9350 - accuracy: 1.0000 - val_loss: 1.1887 - val_accuracy: 0.9375 - lr: 2.5000e-04\n",
      "Epoch 69/100\n",
      "3/3 [==============================] - 0s 69ms/step - loss: 0.9560 - accuracy: 0.9927 - val_loss: 1.1855 - val_accuracy: 0.9375 - lr: 1.2500e-04\n",
      "Epoch 70/100\n",
      "3/3 [==============================] - 0s 68ms/step - loss: 0.9870 - accuracy: 0.9854 - val_loss: 1.1571 - val_accuracy: 0.9375 - lr: 1.2500e-04\n",
      "Epoch 71/100\n",
      "3/3 [==============================] - 0s 71ms/step - loss: 0.9392 - accuracy: 0.9854 - val_loss: 1.1400 - val_accuracy: 0.9375 - lr: 1.2500e-04\n",
      "Epoch 72/100\n",
      "3/3 [==============================] - 0s 150ms/step - loss: 0.9279 - accuracy: 1.0000 - val_loss: 1.1510 - val_accuracy: 0.9375 - lr: 1.2500e-04\n",
      "Epoch 73/100\n",
      "3/3 [==============================] - 0s 85ms/step - loss: 0.9496 - accuracy: 1.0000 - val_loss: 1.1965 - val_accuracy: 0.9375 - lr: 1.2500e-04\n",
      "Epoch 74/100\n",
      "3/3 [==============================] - 0s 68ms/step - loss: 0.9136 - accuracy: 1.0000 - val_loss: 1.2448 - val_accuracy: 0.9375 - lr: 1.2500e-04\n",
      "Epoch 75/100\n",
      "3/3 [==============================] - 0s 69ms/step - loss: 0.9285 - accuracy: 1.0000 - val_loss: 1.2560 - val_accuracy: 0.8750 - lr: 1.2500e-04\n",
      "Epoch 76/100\n",
      "3/3 [==============================] - 0s 68ms/step - loss: 0.9380 - accuracy: 0.9927 - val_loss: 1.2407 - val_accuracy: 0.8750 - lr: 1.2500e-04\n",
      "Epoch 77/100\n",
      "3/3 [==============================] - 0s 68ms/step - loss: 0.9242 - accuracy: 0.9927 - val_loss: 1.2253 - val_accuracy: 0.8750 - lr: 6.2500e-05\n",
      "Epoch 78/100\n",
      "3/3 [==============================] - 0s 68ms/step - loss: 0.9105 - accuracy: 1.0000 - val_loss: 1.2174 - val_accuracy: 0.8125 - lr: 6.2500e-05\n",
      "Epoch 79/100\n",
      "3/3 [==============================] - 0s 68ms/step - loss: 0.9119 - accuracy: 1.0000 - val_loss: 1.2131 - val_accuracy: 0.8125 - lr: 6.2500e-05\n",
      "Epoch 80/100\n",
      "3/3 [==============================] - 0s 67ms/step - loss: 0.8742 - accuracy: 1.0000 - val_loss: 1.2123 - val_accuracy: 0.8125 - lr: 6.2500e-05\n",
      "Epoch 81/100\n",
      "3/3 [==============================] - 0s 75ms/step - loss: 0.8848 - accuracy: 1.0000 - val_loss: 1.2156 - val_accuracy: 0.8125 - lr: 6.2500e-05\n",
      "Epoch 1/100\n",
      "3/3 [==============================] - 1s 140ms/step - loss: 29.1617 - accuracy: 0.0803 - val_loss: 24.0502 - val_accuracy: 0.1250 - lr: 0.0010\n",
      "Epoch 2/100\n",
      "3/3 [==============================] - 0s 69ms/step - loss: 22.6791 - accuracy: 0.2555 - val_loss: 19.0514 - val_accuracy: 0.1875 - lr: 0.0010\n",
      "Epoch 3/100\n",
      "3/3 [==============================] - 0s 68ms/step - loss: 17.8324 - accuracy: 0.4234 - val_loss: 15.0499 - val_accuracy: 0.5000 - lr: 0.0010\n",
      "Epoch 4/100\n",
      "3/3 [==============================] - 0s 70ms/step - loss: 13.7783 - accuracy: 0.6569 - val_loss: 12.0125 - val_accuracy: 0.6250 - lr: 0.0010\n",
      "Epoch 5/100\n",
      "3/3 [==============================] - 0s 74ms/step - loss: 10.8252 - accuracy: 0.6642 - val_loss: 9.6405 - val_accuracy: 0.6250 - lr: 0.0010\n",
      "Epoch 6/100\n",
      "3/3 [==============================] - 0s 71ms/step - loss: 8.6484 - accuracy: 0.7007 - val_loss: 8.0173 - val_accuracy: 0.5625 - lr: 0.0010\n",
      "Epoch 7/100\n",
      "3/3 [==============================] - 0s 70ms/step - loss: 7.1515 - accuracy: 0.7810 - val_loss: 6.8783 - val_accuracy: 0.5625 - lr: 0.0010\n",
      "Epoch 8/100\n",
      "3/3 [==============================] - 0s 75ms/step - loss: 6.0452 - accuracy: 0.8467 - val_loss: 5.9913 - val_accuracy: 0.5000 - lr: 0.0010\n",
      "Epoch 9/100\n",
      "3/3 [==============================] - 0s 70ms/step - loss: 5.2849 - accuracy: 0.8686 - val_loss: 5.2932 - val_accuracy: 0.7500 - lr: 0.0010\n",
      "Epoch 10/100\n",
      "3/3 [==============================] - 0s 71ms/step - loss: 4.7218 - accuracy: 0.9124 - val_loss: 5.0074 - val_accuracy: 0.6250 - lr: 0.0010\n",
      "Epoch 11/100\n",
      "3/3 [==============================] - 0s 70ms/step - loss: 4.3968 - accuracy: 0.8759 - val_loss: 4.8615 - val_accuracy: 0.6250 - lr: 0.0010\n",
      "Epoch 12/100\n",
      "3/3 [==============================] - 0s 70ms/step - loss: 4.0366 - accuracy: 0.9270 - val_loss: 4.5063 - val_accuracy: 0.6250 - lr: 0.0010\n",
      "Epoch 13/100\n",
      "3/3 [==============================] - 0s 70ms/step - loss: 3.7431 - accuracy: 0.9197 - val_loss: 4.0508 - val_accuracy: 0.6875 - lr: 0.0010\n",
      "Epoch 14/100\n",
      "3/3 [==============================] - 0s 73ms/step - loss: 3.5191 - accuracy: 0.9489 - val_loss: 4.0386 - val_accuracy: 0.6250 - lr: 0.0010\n",
      "Epoch 15/100\n",
      "3/3 [==============================] - 0s 66ms/step - loss: 3.3492 - accuracy: 0.9051 - val_loss: 3.5826 - val_accuracy: 0.8125 - lr: 0.0010\n",
      "Epoch 16/100\n",
      "3/3 [==============================] - 0s 67ms/step - loss: 2.9947 - accuracy: 0.9781 - val_loss: 3.4439 - val_accuracy: 0.7500 - lr: 0.0010\n",
      "Epoch 17/100\n",
      "3/3 [==============================] - 0s 66ms/step - loss: 2.9108 - accuracy: 0.9635 - val_loss: 3.3711 - val_accuracy: 0.7500 - lr: 0.0010\n",
      "Epoch 18/100\n",
      "3/3 [==============================] - 0s 70ms/step - loss: 2.7792 - accuracy: 0.9343 - val_loss: 3.2148 - val_accuracy: 0.7500 - lr: 0.0010\n",
      "Epoch 19/100\n",
      "3/3 [==============================] - 0s 71ms/step - loss: 2.5437 - accuracy: 0.9781 - val_loss: 3.1098 - val_accuracy: 0.6875 - lr: 0.0010\n",
      "Epoch 20/100\n",
      "3/3 [==============================] - 0s 74ms/step - loss: 2.5452 - accuracy: 0.9343 - val_loss: 3.0629 - val_accuracy: 0.6250 - lr: 0.0010\n",
      "Epoch 21/100\n",
      "3/3 [==============================] - 0s 69ms/step - loss: 2.4689 - accuracy: 0.9270 - val_loss: 2.9422 - val_accuracy: 0.7500 - lr: 0.0010\n",
      "Epoch 22/100\n",
      "3/3 [==============================] - 0s 70ms/step - loss: 2.3531 - accuracy: 0.9489 - val_loss: 2.7667 - val_accuracy: 0.6875 - lr: 0.0010\n",
      "Epoch 23/100\n",
      "3/3 [==============================] - 0s 73ms/step - loss: 2.2546 - accuracy: 0.9708 - val_loss: 2.4841 - val_accuracy: 1.0000 - lr: 0.0010\n",
      "Epoch 24/100\n",
      "3/3 [==============================] - 0s 70ms/step - loss: 2.2568 - accuracy: 0.9197 - val_loss: 2.7305 - val_accuracy: 0.7500 - lr: 0.0010\n",
      "Epoch 25/100\n",
      "3/3 [==============================] - 0s 70ms/step - loss: 2.1359 - accuracy: 0.9708 - val_loss: 2.7026 - val_accuracy: 0.7500 - lr: 0.0010\n",
      "Epoch 26/100\n",
      "3/3 [==============================] - 0s 70ms/step - loss: 2.0543 - accuracy: 0.9854 - val_loss: 2.4052 - val_accuracy: 0.8750 - lr: 0.0010\n",
      "Epoch 27/100\n",
      "3/3 [==============================] - 0s 71ms/step - loss: 1.9609 - accuracy: 0.9781 - val_loss: 2.3621 - val_accuracy: 0.8125 - lr: 0.0010\n",
      "Epoch 28/100\n",
      "3/3 [==============================] - 0s 69ms/step - loss: 1.9432 - accuracy: 0.9781 - val_loss: 2.3987 - val_accuracy: 0.8125 - lr: 0.0010\n",
      "Epoch 29/100\n",
      "3/3 [==============================] - 0s 71ms/step - loss: 1.9042 - accuracy: 0.9562 - val_loss: 2.3272 - val_accuracy: 0.8750 - lr: 0.0010\n",
      "Epoch 30/100\n",
      "3/3 [==============================] - 0s 71ms/step - loss: 1.8865 - accuracy: 0.9489 - val_loss: 2.2319 - val_accuracy: 0.9375 - lr: 0.0010\n",
      "Epoch 31/100\n",
      "3/3 [==============================] - 0s 73ms/step - loss: 1.9751 - accuracy: 0.9197 - val_loss: 2.1315 - val_accuracy: 1.0000 - lr: 0.0010\n",
      "Epoch 32/100\n",
      "3/3 [==============================] - 0s 69ms/step - loss: 2.0482 - accuracy: 0.8905 - val_loss: 2.4838 - val_accuracy: 0.8125 - lr: 0.0010\n",
      "Epoch 33/100\n",
      "3/3 [==============================] - 0s 70ms/step - loss: 2.0104 - accuracy: 0.9197 - val_loss: 3.0945 - val_accuracy: 0.5625 - lr: 0.0010\n",
      "Epoch 34/100\n",
      "3/3 [==============================] - 0s 65ms/step - loss: 2.0657 - accuracy: 0.9489 - val_loss: 3.0224 - val_accuracy: 0.6250 - lr: 0.0010\n",
      "Epoch 35/100\n",
      "3/3 [==============================] - 0s 65ms/step - loss: 2.0836 - accuracy: 0.9343 - val_loss: 2.7018 - val_accuracy: 0.8125 - lr: 0.0010\n",
      "Epoch 36/100\n",
      "3/3 [==============================] - 0s 64ms/step - loss: 2.0524 - accuracy: 0.9781 - val_loss: 2.4918 - val_accuracy: 0.8750 - lr: 0.0010\n",
      "Epoch 37/100\n",
      "3/3 [==============================] - 0s 69ms/step - loss: 2.0152 - accuracy: 0.9562 - val_loss: 2.4824 - val_accuracy: 0.7500 - lr: 5.0000e-04\n",
      "Epoch 38/100\n",
      "3/3 [==============================] - 0s 70ms/step - loss: 1.9504 - accuracy: 0.9562 - val_loss: 2.4612 - val_accuracy: 0.7500 - lr: 5.0000e-04\n",
      "Epoch 39/100\n",
      "3/3 [==============================] - 0s 70ms/step - loss: 1.8284 - accuracy: 0.9927 - val_loss: 2.4250 - val_accuracy: 0.7500 - lr: 5.0000e-04\n",
      "Epoch 40/100\n",
      "3/3 [==============================] - 0s 70ms/step - loss: 1.7665 - accuracy: 0.9927 - val_loss: 2.3134 - val_accuracy: 0.7500 - lr: 5.0000e-04\n",
      "Epoch 41/100\n",
      "3/3 [==============================] - 0s 71ms/step - loss: 1.6707 - accuracy: 1.0000 - val_loss: 2.1741 - val_accuracy: 0.8750 - lr: 5.0000e-04\n",
      "Epoch 1/100\n",
      "3/3 [==============================] - 1s 142ms/step - loss: 29.0361 - accuracy: 0.0949 - val_loss: 23.8724 - val_accuracy: 0.0000e+00 - lr: 0.0010\n",
      "Epoch 2/100\n",
      "3/3 [==============================] - 0s 67ms/step - loss: 22.5115 - accuracy: 0.1971 - val_loss: 18.5428 - val_accuracy: 0.2500 - lr: 0.0010\n",
      "Epoch 3/100\n",
      "3/3 [==============================] - 0s 67ms/step - loss: 17.2326 - accuracy: 0.3358 - val_loss: 14.1445 - val_accuracy: 0.5625 - lr: 0.0010\n",
      "Epoch 4/100\n",
      "3/3 [==============================] - 0s 67ms/step - loss: 13.2032 - accuracy: 0.4672 - val_loss: 11.0107 - val_accuracy: 0.5625 - lr: 0.0010\n",
      "Epoch 5/100\n",
      "3/3 [==============================] - 0s 68ms/step - loss: 10.1578 - accuracy: 0.5693 - val_loss: 8.8477 - val_accuracy: 0.3750 - lr: 0.0010\n",
      "Epoch 6/100\n",
      "3/3 [==============================] - 0s 71ms/step - loss: 7.8310 - accuracy: 0.6788 - val_loss: 7.0100 - val_accuracy: 0.7500 - lr: 0.0010\n",
      "Epoch 7/100\n",
      "3/3 [==============================] - 0s 72ms/step - loss: 6.4468 - accuracy: 0.7518 - val_loss: 5.8037 - val_accuracy: 0.7500 - lr: 0.0010\n",
      "Epoch 8/100\n",
      "3/3 [==============================] - 0s 70ms/step - loss: 5.5450 - accuracy: 0.7518 - val_loss: 5.2638 - val_accuracy: 0.7500 - lr: 0.0010\n",
      "Epoch 9/100\n",
      "3/3 [==============================] - 0s 72ms/step - loss: 4.7140 - accuracy: 0.8175 - val_loss: 4.6632 - val_accuracy: 0.8125 - lr: 0.0010\n",
      "Epoch 10/100\n",
      "3/3 [==============================] - 0s 71ms/step - loss: 4.2888 - accuracy: 0.8613 - val_loss: 4.3293 - val_accuracy: 0.8125 - lr: 0.0010\n",
      "Epoch 11/100\n",
      "3/3 [==============================] - 0s 70ms/step - loss: 4.0365 - accuracy: 0.8102 - val_loss: 3.8810 - val_accuracy: 0.8125 - lr: 0.0010\n",
      "Epoch 12/100\n",
      "3/3 [==============================] - 0s 72ms/step - loss: 3.6955 - accuracy: 0.9051 - val_loss: 3.6533 - val_accuracy: 0.8750 - lr: 0.0010\n",
      "Epoch 13/100\n",
      "3/3 [==============================] - 0s 69ms/step - loss: 3.6384 - accuracy: 0.8540 - val_loss: 3.7128 - val_accuracy: 0.7500 - lr: 0.0010\n",
      "Epoch 14/100\n",
      "3/3 [==============================] - 0s 68ms/step - loss: 3.3376 - accuracy: 0.8759 - val_loss: 3.8726 - val_accuracy: 0.8125 - lr: 0.0010\n",
      "Epoch 15/100\n",
      "3/3 [==============================] - 0s 72ms/step - loss: 3.1811 - accuracy: 0.8905 - val_loss: 3.4139 - val_accuracy: 0.7500 - lr: 0.0010\n",
      "Epoch 16/100\n",
      "3/3 [==============================] - 0s 72ms/step - loss: 2.8878 - accuracy: 0.9489 - val_loss: 3.0154 - val_accuracy: 0.8125 - lr: 0.0010\n",
      "Epoch 17/100\n",
      "3/3 [==============================] - 0s 71ms/step - loss: 2.8094 - accuracy: 0.9416 - val_loss: 2.8922 - val_accuracy: 0.8125 - lr: 0.0010\n",
      "Epoch 18/100\n",
      "3/3 [==============================] - 0s 70ms/step - loss: 2.5139 - accuracy: 1.0000 - val_loss: 2.9073 - val_accuracy: 0.7500 - lr: 0.0010\n",
      "Epoch 19/100\n",
      "3/3 [==============================] - 0s 73ms/step - loss: 2.3912 - accuracy: 0.9854 - val_loss: 2.5874 - val_accuracy: 0.8750 - lr: 0.0010\n",
      "Epoch 20/100\n",
      "3/3 [==============================] - 0s 72ms/step - loss: 2.3784 - accuracy: 0.9270 - val_loss: 2.5088 - val_accuracy: 0.8125 - lr: 0.0010\n",
      "Epoch 21/100\n",
      "3/3 [==============================] - 0s 69ms/step - loss: 2.2884 - accuracy: 0.9416 - val_loss: 2.6628 - val_accuracy: 0.8750 - lr: 0.0010\n",
      "Epoch 22/100\n",
      "3/3 [==============================] - 0s 71ms/step - loss: 2.3151 - accuracy: 0.9124 - val_loss: 2.5037 - val_accuracy: 0.8750 - lr: 0.0010\n",
      "Epoch 23/100\n",
      "3/3 [==============================] - 0s 66ms/step - loss: 2.0997 - accuracy: 0.9635 - val_loss: 2.3513 - val_accuracy: 0.8750 - lr: 0.0010\n",
      "Epoch 24/100\n",
      "3/3 [==============================] - 0s 70ms/step - loss: 2.0594 - accuracy: 0.9416 - val_loss: 2.2235 - val_accuracy: 0.8125 - lr: 0.0010\n",
      "Epoch 25/100\n",
      "3/3 [==============================] - 0s 71ms/step - loss: 2.0616 - accuracy: 0.9489 - val_loss: 2.2903 - val_accuracy: 0.8125 - lr: 0.0010\n",
      "Epoch 26/100\n",
      "3/3 [==============================] - 0s 74ms/step - loss: 2.0140 - accuracy: 0.9124 - val_loss: 2.3840 - val_accuracy: 0.8125 - lr: 0.0010\n",
      "Epoch 27/100\n",
      "3/3 [==============================] - 0s 69ms/step - loss: 1.9107 - accuracy: 0.9343 - val_loss: 2.8265 - val_accuracy: 0.8750 - lr: 0.0010\n",
      "Epoch 28/100\n",
      "3/3 [==============================] - 0s 75ms/step - loss: 1.9812 - accuracy: 0.9343 - val_loss: 2.4202 - val_accuracy: 0.8750 - lr: 0.0010\n",
      "Epoch 29/100\n",
      "3/3 [==============================] - 0s 72ms/step - loss: 1.9385 - accuracy: 0.9051 - val_loss: 2.2014 - val_accuracy: 0.7500 - lr: 0.0010\n",
      "Epoch 30/100\n",
      "3/3 [==============================] - 0s 71ms/step - loss: 1.9021 - accuracy: 0.9562 - val_loss: 2.2564 - val_accuracy: 0.8125 - lr: 0.0010\n",
      "Epoch 31/100\n",
      "3/3 [==============================] - 0s 71ms/step - loss: 1.9002 - accuracy: 0.9489 - val_loss: 2.4144 - val_accuracy: 0.8125 - lr: 0.0010\n",
      "Epoch 32/100\n",
      "3/3 [==============================] - 0s 64ms/step - loss: 1.8755 - accuracy: 0.9562 - val_loss: 2.3221 - val_accuracy: 0.8125 - lr: 0.0010\n",
      "Epoch 33/100\n",
      "3/3 [==============================] - 0s 67ms/step - loss: 1.7611 - accuracy: 0.9854 - val_loss: 2.1888 - val_accuracy: 0.8750 - lr: 0.0010\n",
      "Epoch 34/100\n",
      "3/3 [==============================] - 0s 160ms/step - loss: 1.7794 - accuracy: 0.9416 - val_loss: 2.0492 - val_accuracy: 0.8125 - lr: 0.0010\n",
      "Epoch 35/100\n",
      "3/3 [==============================] - 0s 96ms/step - loss: 1.6761 - accuracy: 0.9489 - val_loss: 1.9126 - val_accuracy: 0.8125 - lr: 0.0010\n",
      "Epoch 36/100\n",
      "3/3 [==============================] - 0s 73ms/step - loss: 1.7117 - accuracy: 0.9562 - val_loss: 1.9139 - val_accuracy: 0.8750 - lr: 0.0010\n",
      "Epoch 37/100\n",
      "3/3 [==============================] - 0s 69ms/step - loss: 1.5731 - accuracy: 0.9781 - val_loss: 2.0395 - val_accuracy: 0.8750 - lr: 0.0010\n",
      "Epoch 38/100\n",
      "3/3 [==============================] - 0s 69ms/step - loss: 1.5607 - accuracy: 0.9416 - val_loss: 2.0074 - val_accuracy: 0.8125 - lr: 0.0010\n",
      "Epoch 39/100\n",
      "3/3 [==============================] - 0s 71ms/step - loss: 1.4877 - accuracy: 0.9927 - val_loss: 2.0613 - val_accuracy: 0.8125 - lr: 0.0010\n",
      "Epoch 40/100\n",
      "3/3 [==============================] - 0s 71ms/step - loss: 1.5898 - accuracy: 0.9635 - val_loss: 2.1905 - val_accuracy: 0.8125 - lr: 0.0010\n",
      "Epoch 41/100\n",
      "3/3 [==============================] - 0s 73ms/step - loss: 1.5270 - accuracy: 0.9562 - val_loss: 2.2691 - val_accuracy: 0.8125 - lr: 5.0000e-04\n",
      "Epoch 42/100\n",
      "3/3 [==============================] - 0s 71ms/step - loss: 1.4677 - accuracy: 0.9781 - val_loss: 2.1189 - val_accuracy: 0.8750 - lr: 5.0000e-04\n",
      "Epoch 43/100\n",
      "3/3 [==============================] - 0s 73ms/step - loss: 1.4668 - accuracy: 0.9562 - val_loss: 1.8714 - val_accuracy: 0.8750 - lr: 5.0000e-04\n",
      "Epoch 44/100\n",
      "3/3 [==============================] - 0s 76ms/step - loss: 1.4152 - accuracy: 0.9854 - val_loss: 1.6240 - val_accuracy: 0.8750 - lr: 5.0000e-04\n",
      "Epoch 45/100\n",
      "3/3 [==============================] - 0s 74ms/step - loss: 1.3411 - accuracy: 0.9854 - val_loss: 1.5865 - val_accuracy: 0.8125 - lr: 5.0000e-04\n",
      "Epoch 46/100\n",
      "3/3 [==============================] - 0s 68ms/step - loss: 1.3548 - accuracy: 0.9635 - val_loss: 1.6228 - val_accuracy: 0.8750 - lr: 5.0000e-04\n",
      "Epoch 47/100\n",
      "3/3 [==============================] - 0s 70ms/step - loss: 1.3185 - accuracy: 0.9781 - val_loss: 1.7669 - val_accuracy: 0.8750 - lr: 5.0000e-04\n",
      "Epoch 48/100\n",
      "3/3 [==============================] - 0s 70ms/step - loss: 1.2423 - accuracy: 0.9927 - val_loss: 2.0140 - val_accuracy: 0.7500 - lr: 5.0000e-04\n",
      "Epoch 49/100\n",
      "3/3 [==============================] - 0s 74ms/step - loss: 1.3940 - accuracy: 0.9197 - val_loss: 1.7552 - val_accuracy: 0.8750 - lr: 5.0000e-04\n",
      "Epoch 50/100\n",
      "3/3 [==============================] - 0s 72ms/step - loss: 1.2290 - accuracy: 0.9781 - val_loss: 1.5266 - val_accuracy: 0.8750 - lr: 5.0000e-04\n",
      "Epoch 51/100\n",
      "3/3 [==============================] - 0s 72ms/step - loss: 1.2724 - accuracy: 0.9635 - val_loss: 1.4384 - val_accuracy: 0.8750 - lr: 5.0000e-04\n",
      "Epoch 52/100\n",
      "3/3 [==============================] - 0s 75ms/step - loss: 1.2258 - accuracy: 0.9854 - val_loss: 1.4577 - val_accuracy: 0.8125 - lr: 5.0000e-04\n",
      "Epoch 53/100\n",
      "3/3 [==============================] - 0s 71ms/step - loss: 1.2873 - accuracy: 0.9416 - val_loss: 1.3959 - val_accuracy: 0.8750 - lr: 5.0000e-04\n",
      "Epoch 54/100\n",
      "3/3 [==============================] - 0s 65ms/step - loss: 1.2748 - accuracy: 0.9708 - val_loss: 1.5028 - val_accuracy: 0.8125 - lr: 5.0000e-04\n",
      "Epoch 55/100\n",
      "3/3 [==============================] - 0s 66ms/step - loss: 1.2173 - accuracy: 0.9927 - val_loss: 1.6338 - val_accuracy: 0.8125 - lr: 5.0000e-04\n",
      "Epoch 56/100\n",
      "3/3 [==============================] - 0s 69ms/step - loss: 1.2126 - accuracy: 0.9927 - val_loss: 1.6347 - val_accuracy: 0.8125 - lr: 5.0000e-04\n",
      "Epoch 57/100\n",
      "3/3 [==============================] - 0s 71ms/step - loss: 1.2000 - accuracy: 0.9708 - val_loss: 1.3976 - val_accuracy: 0.8750 - lr: 5.0000e-04\n",
      "Epoch 58/100\n",
      "3/3 [==============================] - 0s 71ms/step - loss: 1.1888 - accuracy: 0.9708 - val_loss: 1.2773 - val_accuracy: 0.8750 - lr: 5.0000e-04\n",
      "Epoch 59/100\n",
      "3/3 [==============================] - 0s 72ms/step - loss: 1.1344 - accuracy: 0.9927 - val_loss: 1.3736 - val_accuracy: 0.8125 - lr: 5.0000e-04\n",
      "Epoch 60/100\n",
      "3/3 [==============================] - 0s 70ms/step - loss: 1.0973 - accuracy: 0.9927 - val_loss: 1.5476 - val_accuracy: 0.8750 - lr: 5.0000e-04\n",
      "Epoch 61/100\n",
      "3/3 [==============================] - 0s 73ms/step - loss: 1.0879 - accuracy: 0.9854 - val_loss: 1.5181 - val_accuracy: 0.8750 - lr: 5.0000e-04\n",
      "Epoch 62/100\n",
      "3/3 [==============================] - 0s 70ms/step - loss: 1.1056 - accuracy: 0.9927 - val_loss: 1.2780 - val_accuracy: 0.8750 - lr: 5.0000e-04\n",
      "Epoch 63/100\n",
      "3/3 [==============================] - 0s 72ms/step - loss: 1.0454 - accuracy: 0.9927 - val_loss: 1.1921 - val_accuracy: 0.9375 - lr: 5.0000e-04\n",
      "Epoch 64/100\n",
      "3/3 [==============================] - 0s 70ms/step - loss: 1.1137 - accuracy: 0.9781 - val_loss: 1.5954 - val_accuracy: 0.8750 - lr: 5.0000e-04\n",
      "Epoch 65/100\n",
      "3/3 [==============================] - 0s 70ms/step - loss: 1.1043 - accuracy: 0.9562 - val_loss: 1.7592 - val_accuracy: 0.8750 - lr: 5.0000e-04\n",
      "Epoch 66/100\n",
      "3/3 [==============================] - 0s 70ms/step - loss: 1.0632 - accuracy: 0.9781 - val_loss: 1.6339 - val_accuracy: 0.8750 - lr: 5.0000e-04\n",
      "Epoch 67/100\n",
      "3/3 [==============================] - 0s 74ms/step - loss: 1.0855 - accuracy: 0.9708 - val_loss: 1.3867 - val_accuracy: 0.8750 - lr: 5.0000e-04\n",
      "Epoch 68/100\n",
      "3/3 [==============================] - 0s 73ms/step - loss: 1.0901 - accuracy: 0.9635 - val_loss: 1.1216 - val_accuracy: 0.9375 - lr: 5.0000e-04\n",
      "Epoch 69/100\n",
      "3/3 [==============================] - 0s 70ms/step - loss: 1.0676 - accuracy: 0.9635 - val_loss: 1.1287 - val_accuracy: 1.0000 - lr: 5.0000e-04\n",
      "Epoch 70/100\n",
      "3/3 [==============================] - 0s 70ms/step - loss: 1.0758 - accuracy: 0.9708 - val_loss: 1.2008 - val_accuracy: 0.8750 - lr: 5.0000e-04\n",
      "Epoch 71/100\n",
      "3/3 [==============================] - 0s 74ms/step - loss: 1.0209 - accuracy: 0.9927 - val_loss: 1.3498 - val_accuracy: 0.8750 - lr: 5.0000e-04\n",
      "Epoch 72/100\n",
      "3/3 [==============================] - 0s 66ms/step - loss: 0.9911 - accuracy: 0.9927 - val_loss: 1.4082 - val_accuracy: 0.8750 - lr: 5.0000e-04\n",
      "Epoch 73/100\n",
      "3/3 [==============================] - 0s 67ms/step - loss: 0.9860 - accuracy: 0.9854 - val_loss: 1.3053 - val_accuracy: 0.8750 - lr: 5.0000e-04\n",
      "Epoch 74/100\n",
      "3/3 [==============================] - 0s 66ms/step - loss: 0.9424 - accuracy: 0.9927 - val_loss: 1.2661 - val_accuracy: 0.8750 - lr: 2.5000e-04\n",
      "Epoch 75/100\n",
      "3/3 [==============================] - 0s 70ms/step - loss: 0.9587 - accuracy: 0.9927 - val_loss: 1.2279 - val_accuracy: 0.8750 - lr: 2.5000e-04\n",
      "Epoch 76/100\n",
      "3/3 [==============================] - 0s 70ms/step - loss: 0.9159 - accuracy: 1.0000 - val_loss: 1.1827 - val_accuracy: 0.8750 - lr: 2.5000e-04\n",
      "Epoch 77/100\n",
      "3/3 [==============================] - 0s 70ms/step - loss: 0.9068 - accuracy: 1.0000 - val_loss: 1.1322 - val_accuracy: 0.8750 - lr: 2.5000e-04\n",
      "Epoch 78/100\n",
      "3/3 [==============================] - 0s 77ms/step - loss: 0.8767 - accuracy: 1.0000 - val_loss: 1.0992 - val_accuracy: 0.8750 - lr: 2.5000e-04\n",
      "Epoch 79/100\n",
      "3/3 [==============================] - 0s 82ms/step - loss: 0.8624 - accuracy: 0.9927 - val_loss: 1.0883 - val_accuracy: 0.8750 - lr: 2.5000e-04\n",
      "Epoch 80/100\n",
      "3/3 [==============================] - 0s 76ms/step - loss: 0.8478 - accuracy: 1.0000 - val_loss: 1.1097 - val_accuracy: 0.8750 - lr: 2.5000e-04\n",
      "Epoch 81/100\n",
      "3/3 [==============================] - 0s 75ms/step - loss: 0.8194 - accuracy: 1.0000 - val_loss: 1.1826 - val_accuracy: 0.8750 - lr: 2.5000e-04\n",
      "Epoch 82/100\n",
      "3/3 [==============================] - 0s 75ms/step - loss: 0.8248 - accuracy: 0.9927 - val_loss: 1.2418 - val_accuracy: 0.8750 - lr: 2.5000e-04\n",
      "Epoch 83/100\n",
      "3/3 [==============================] - 0s 71ms/step - loss: 0.8257 - accuracy: 0.9635 - val_loss: 1.1888 - val_accuracy: 0.8750 - lr: 2.5000e-04\n",
      "Epoch 84/100\n",
      "3/3 [==============================] - 0s 71ms/step - loss: 0.8009 - accuracy: 1.0000 - val_loss: 1.0909 - val_accuracy: 0.8750 - lr: 2.5000e-04\n",
      "Epoch 85/100\n",
      "3/3 [==============================] - 0s 72ms/step - loss: 0.7716 - accuracy: 0.9927 - val_loss: 1.0404 - val_accuracy: 0.8750 - lr: 1.2500e-04\n",
      "Epoch 86/100\n",
      "3/3 [==============================] - 0s 72ms/step - loss: 0.7845 - accuracy: 1.0000 - val_loss: 1.0233 - val_accuracy: 0.8750 - lr: 1.2500e-04\n",
      "Epoch 87/100\n",
      "3/3 [==============================] - 0s 72ms/step - loss: 0.7877 - accuracy: 1.0000 - val_loss: 1.0272 - val_accuracy: 0.8750 - lr: 1.2500e-04\n",
      "Epoch 88/100\n",
      "3/3 [==============================] - 0s 73ms/step - loss: 0.7784 - accuracy: 1.0000 - val_loss: 1.0383 - val_accuracy: 0.8750 - lr: 1.2500e-04\n",
      "Epoch 89/100\n",
      "3/3 [==============================] - 0s 76ms/step - loss: 0.7638 - accuracy: 1.0000 - val_loss: 1.0527 - val_accuracy: 0.8750 - lr: 1.2500e-04\n",
      "Epoch 90/100\n",
      "3/3 [==============================] - 0s 141ms/step - loss: 0.7718 - accuracy: 1.0000 - val_loss: 1.0776 - val_accuracy: 0.8750 - lr: 1.2500e-04\n",
      "Epoch 91/100\n",
      "3/3 [==============================] - 0s 87ms/step - loss: 0.7601 - accuracy: 1.0000 - val_loss: 1.1059 - val_accuracy: 0.8750 - lr: 1.2500e-04\n",
      "Epoch 92/100\n",
      "3/3 [==============================] - 0s 74ms/step - loss: 0.7687 - accuracy: 0.9927 - val_loss: 1.1167 - val_accuracy: 0.8750 - lr: 6.2500e-05\n",
      "Epoch 93/100\n",
      "3/3 [==============================] - 0s 75ms/step - loss: 0.7629 - accuracy: 0.9927 - val_loss: 1.1349 - val_accuracy: 0.8750 - lr: 6.2500e-05\n",
      "Epoch 94/100\n",
      "3/3 [==============================] - 0s 71ms/step - loss: 0.7853 - accuracy: 0.9854 - val_loss: 1.1381 - val_accuracy: 0.8750 - lr: 6.2500e-05\n",
      "Epoch 95/100\n",
      "3/3 [==============================] - 0s 73ms/step - loss: 0.7575 - accuracy: 0.9927 - val_loss: 1.1292 - val_accuracy: 0.8750 - lr: 6.2500e-05\n",
      "Epoch 96/100\n",
      "3/3 [==============================] - 0s 74ms/step - loss: 0.7605 - accuracy: 1.0000 - val_loss: 1.1183 - val_accuracy: 0.8750 - lr: 6.2500e-05\n",
      "Epoch 1/100\n",
      "3/3 [==============================] - 1s 142ms/step - loss: 28.9896 - accuracy: 0.0652 - val_loss: 23.7807 - val_accuracy: 0.2000 - lr: 0.0010\n",
      "Epoch 2/100\n",
      "3/3 [==============================] - 0s 68ms/step - loss: 22.5246 - accuracy: 0.2101 - val_loss: 18.4760 - val_accuracy: 0.2667 - lr: 0.0010\n",
      "Epoch 3/100\n",
      "3/3 [==============================] - 0s 69ms/step - loss: 17.2022 - accuracy: 0.5652 - val_loss: 14.6486 - val_accuracy: 0.2667 - lr: 0.0010\n",
      "Epoch 4/100\n",
      "3/3 [==============================] - 0s 68ms/step - loss: 13.2177 - accuracy: 0.6232 - val_loss: 11.3863 - val_accuracy: 0.4000 - lr: 0.0010\n",
      "Epoch 5/100\n",
      "3/3 [==============================] - 0s 69ms/step - loss: 10.2401 - accuracy: 0.6739 - val_loss: 8.9468 - val_accuracy: 0.6000 - lr: 0.0010\n",
      "Epoch 6/100\n",
      "3/3 [==============================] - 0s 72ms/step - loss: 8.0837 - accuracy: 0.8043 - val_loss: 7.8090 - val_accuracy: 0.4667 - lr: 0.0010\n",
      "Epoch 7/100\n",
      "3/3 [==============================] - 0s 74ms/step - loss: 6.6450 - accuracy: 0.7609 - val_loss: 6.5309 - val_accuracy: 0.5333 - lr: 0.0010\n",
      "Epoch 8/100\n",
      "3/3 [==============================] - 0s 72ms/step - loss: 5.4966 - accuracy: 0.8986 - val_loss: 5.5803 - val_accuracy: 0.6000 - lr: 0.0010\n",
      "Epoch 9/100\n",
      "3/3 [==============================] - 0s 73ms/step - loss: 4.8177 - accuracy: 0.8986 - val_loss: 5.1041 - val_accuracy: 0.6667 - lr: 0.0010\n",
      "Epoch 10/100\n",
      "3/3 [==============================] - 0s 73ms/step - loss: 4.3398 - accuracy: 0.9130 - val_loss: 4.8813 - val_accuracy: 0.6000 - lr: 0.0010\n",
      "Epoch 11/100\n",
      "3/3 [==============================] - 0s 74ms/step - loss: 4.0534 - accuracy: 0.8913 - val_loss: 4.5257 - val_accuracy: 0.6667 - lr: 0.0010\n",
      "Epoch 12/100\n",
      "3/3 [==============================] - 0s 78ms/step - loss: 3.7634 - accuracy: 0.8696 - val_loss: 3.9634 - val_accuracy: 0.8667 - lr: 0.0010\n",
      "Epoch 13/100\n",
      "3/3 [==============================] - 0s 75ms/step - loss: 3.5326 - accuracy: 0.8623 - val_loss: 3.9548 - val_accuracy: 0.7333 - lr: 0.0010\n",
      "Epoch 14/100\n",
      "3/3 [==============================] - 0s 74ms/step - loss: 3.1448 - accuracy: 0.9348 - val_loss: 4.1920 - val_accuracy: 0.6000 - lr: 0.0010\n",
      "Epoch 15/100\n",
      "3/3 [==============================] - 0s 74ms/step - loss: 3.1228 - accuracy: 0.8768 - val_loss: 3.9079 - val_accuracy: 0.6000 - lr: 0.0010\n",
      "Epoch 16/100\n",
      "3/3 [==============================] - 0s 74ms/step - loss: 2.8387 - accuracy: 0.9420 - val_loss: 3.6057 - val_accuracy: 0.6667 - lr: 0.0010\n",
      "Epoch 17/100\n",
      "3/3 [==============================] - 0s 72ms/step - loss: 2.6878 - accuracy: 0.9493 - val_loss: 3.1844 - val_accuracy: 0.7333 - lr: 0.0010\n",
      "Epoch 18/100\n",
      "3/3 [==============================] - 0s 74ms/step - loss: 2.5381 - accuracy: 0.9493 - val_loss: 3.0614 - val_accuracy: 0.7333 - lr: 0.0010\n",
      "Epoch 19/100\n",
      "3/3 [==============================] - 0s 72ms/step - loss: 2.3158 - accuracy: 0.9783 - val_loss: 3.4847 - val_accuracy: 0.6000 - lr: 0.0010\n",
      "Epoch 20/100\n",
      "3/3 [==============================] - 0s 72ms/step - loss: 2.2466 - accuracy: 0.9638 - val_loss: 3.1122 - val_accuracy: 0.5333 - lr: 0.0010\n",
      "Epoch 21/100\n",
      "3/3 [==============================] - 0s 75ms/step - loss: 2.1341 - accuracy: 0.9783 - val_loss: 2.7704 - val_accuracy: 0.6667 - lr: 0.0010\n",
      "Epoch 22/100\n",
      "3/3 [==============================] - 0s 71ms/step - loss: 2.0911 - accuracy: 0.9420 - val_loss: 3.0785 - val_accuracy: 0.6667 - lr: 0.0010\n",
      "Epoch 23/100\n",
      "3/3 [==============================] - 0s 72ms/step - loss: 2.1608 - accuracy: 0.8913 - val_loss: 2.6127 - val_accuracy: 0.7333 - lr: 0.0010\n",
      "Epoch 24/100\n",
      "3/3 [==============================] - 0s 71ms/step - loss: 1.9691 - accuracy: 0.9710 - val_loss: 2.4132 - val_accuracy: 0.6667 - lr: 0.0010\n",
      "Epoch 25/100\n",
      "3/3 [==============================] - 0s 78ms/step - loss: 2.0167 - accuracy: 0.9275 - val_loss: 2.3287 - val_accuracy: 0.7333 - lr: 0.0010\n",
      "Epoch 26/100\n",
      "3/3 [==============================] - 0s 68ms/step - loss: 1.9520 - accuracy: 0.9710 - val_loss: 2.6884 - val_accuracy: 0.7333 - lr: 0.0010\n",
      "Epoch 27/100\n",
      "3/3 [==============================] - 0s 69ms/step - loss: 1.9656 - accuracy: 0.9638 - val_loss: 2.8113 - val_accuracy: 0.6667 - lr: 0.0010\n",
      "Epoch 28/100\n",
      "3/3 [==============================] - 0s 67ms/step - loss: 1.9548 - accuracy: 0.9420 - val_loss: 2.6267 - val_accuracy: 0.6000 - lr: 0.0010\n",
      "Epoch 29/100\n",
      "3/3 [==============================] - 0s 75ms/step - loss: 2.0222 - accuracy: 0.9275 - val_loss: 2.2629 - val_accuracy: 0.7333 - lr: 0.0010\n",
      "Epoch 30/100\n",
      "3/3 [==============================] - 0s 71ms/step - loss: 1.9608 - accuracy: 0.9420 - val_loss: 2.3092 - val_accuracy: 0.8667 - lr: 0.0010\n",
      "Epoch 31/100\n",
      "3/3 [==============================] - 0s 72ms/step - loss: 1.9791 - accuracy: 0.9493 - val_loss: 2.5334 - val_accuracy: 0.7333 - lr: 0.0010\n",
      "Epoch 32/100\n",
      "3/3 [==============================] - 0s 73ms/step - loss: 1.8975 - accuracy: 0.9783 - val_loss: 2.7214 - val_accuracy: 0.7333 - lr: 0.0010\n",
      "Epoch 33/100\n",
      "3/3 [==============================] - 0s 72ms/step - loss: 1.9726 - accuracy: 0.9565 - val_loss: 2.6279 - val_accuracy: 0.6667 - lr: 0.0010\n",
      "Epoch 34/100\n",
      "3/3 [==============================] - 0s 72ms/step - loss: 1.8773 - accuracy: 0.9783 - val_loss: 2.5395 - val_accuracy: 0.7333 - lr: 0.0010\n",
      "Epoch 35/100\n",
      "3/3 [==============================] - 0s 75ms/step - loss: 1.8768 - accuracy: 0.9710 - val_loss: 2.4913 - val_accuracy: 0.7333 - lr: 5.0000e-04\n",
      "Epoch 36/100\n",
      "3/3 [==============================] - 0s 75ms/step - loss: 1.7946 - accuracy: 0.9855 - val_loss: 2.3439 - val_accuracy: 0.7333 - lr: 5.0000e-04\n",
      "Epoch 37/100\n",
      "3/3 [==============================] - 0s 70ms/step - loss: 1.7090 - accuracy: 0.9928 - val_loss: 2.2775 - val_accuracy: 0.7333 - lr: 5.0000e-04\n",
      "Epoch 38/100\n",
      "3/3 [==============================] - 0s 155ms/step - loss: 1.6348 - accuracy: 0.9855 - val_loss: 2.1839 - val_accuracy: 0.7333 - lr: 5.0000e-04\n",
      "Epoch 39/100\n",
      "3/3 [==============================] - 0s 85ms/step - loss: 1.5990 - accuracy: 0.9710 - val_loss: 2.1143 - val_accuracy: 0.7333 - lr: 5.0000e-04\n",
      "Epoch 40/100\n",
      "3/3 [==============================] - 0s 75ms/step - loss: 1.4616 - accuracy: 1.0000 - val_loss: 2.1153 - val_accuracy: 0.6667 - lr: 5.0000e-04\n",
      "Epoch 41/100\n",
      "3/3 [==============================] - 0s 79ms/step - loss: 1.4165 - accuracy: 0.9855 - val_loss: 2.0421 - val_accuracy: 0.6667 - lr: 5.0000e-04\n",
      "Epoch 42/100\n",
      "3/3 [==============================] - 0s 72ms/step - loss: 1.3760 - accuracy: 1.0000 - val_loss: 1.9954 - val_accuracy: 0.7333 - lr: 5.0000e-04\n",
      "Epoch 43/100\n",
      "3/3 [==============================] - 0s 74ms/step - loss: 1.3104 - accuracy: 0.9928 - val_loss: 1.8779 - val_accuracy: 0.7333 - lr: 5.0000e-04\n",
      "Epoch 44/100\n",
      "3/3 [==============================] - 0s 72ms/step - loss: 1.2604 - accuracy: 0.9855 - val_loss: 1.8653 - val_accuracy: 0.7333 - lr: 5.0000e-04\n",
      "Epoch 45/100\n",
      "3/3 [==============================] - 0s 74ms/step - loss: 1.2197 - accuracy: 0.9928 - val_loss: 1.8084 - val_accuracy: 0.7333 - lr: 5.0000e-04\n",
      "Epoch 46/100\n",
      "3/3 [==============================] - 0s 72ms/step - loss: 1.1952 - accuracy: 1.0000 - val_loss: 1.8333 - val_accuracy: 0.7333 - lr: 5.0000e-04\n",
      "Epoch 47/100\n",
      "3/3 [==============================] - 0s 70ms/step - loss: 1.1693 - accuracy: 1.0000 - val_loss: 1.8874 - val_accuracy: 0.6667 - lr: 5.0000e-04\n",
      "Epoch 48/100\n",
      "3/3 [==============================] - 0s 74ms/step - loss: 1.1868 - accuracy: 0.9928 - val_loss: 1.8231 - val_accuracy: 0.7333 - lr: 5.0000e-04\n",
      "Epoch 49/100\n",
      "3/3 [==============================] - 0s 73ms/step - loss: 1.1251 - accuracy: 1.0000 - val_loss: 1.7144 - val_accuracy: 0.8000 - lr: 5.0000e-04\n",
      "Epoch 50/100\n",
      "3/3 [==============================] - 0s 74ms/step - loss: 1.0980 - accuracy: 0.9928 - val_loss: 1.5543 - val_accuracy: 0.7333 - lr: 5.0000e-04\n",
      "Epoch 51/100\n",
      "3/3 [==============================] - 0s 73ms/step - loss: 1.1027 - accuracy: 0.9855 - val_loss: 1.5003 - val_accuracy: 0.7333 - lr: 5.0000e-04\n",
      "Epoch 52/100\n",
      "3/3 [==============================] - 0s 74ms/step - loss: 1.0786 - accuracy: 0.9855 - val_loss: 1.4761 - val_accuracy: 0.8667 - lr: 5.0000e-04\n",
      "Epoch 53/100\n",
      "3/3 [==============================] - 0s 71ms/step - loss: 1.0519 - accuracy: 0.9928 - val_loss: 1.7998 - val_accuracy: 0.7333 - lr: 5.0000e-04\n",
      "Epoch 54/100\n",
      "3/3 [==============================] - 0s 67ms/step - loss: 1.1333 - accuracy: 0.9783 - val_loss: 1.9867 - val_accuracy: 0.6667 - lr: 5.0000e-04\n",
      "Epoch 55/100\n",
      "3/3 [==============================] - 0s 68ms/step - loss: 1.0747 - accuracy: 1.0000 - val_loss: 2.0919 - val_accuracy: 0.6667 - lr: 5.0000e-04\n",
      "Epoch 56/100\n",
      "3/3 [==============================] - 0s 73ms/step - loss: 1.1079 - accuracy: 0.9855 - val_loss: 1.8946 - val_accuracy: 0.8000 - lr: 5.0000e-04\n",
      "Epoch 57/100\n",
      "3/3 [==============================] - 0s 72ms/step - loss: 1.0601 - accuracy: 0.9928 - val_loss: 1.7348 - val_accuracy: 0.8000 - lr: 5.0000e-04\n",
      "Epoch 58/100\n",
      "3/3 [==============================] - 0s 71ms/step - loss: 1.1856 - accuracy: 0.9275 - val_loss: 1.6614 - val_accuracy: 0.8667 - lr: 2.5000e-04\n",
      "Epoch 59/100\n",
      "3/3 [==============================] - 0s 75ms/step - loss: 1.0750 - accuracy: 0.9855 - val_loss: 2.4587 - val_accuracy: 0.6667 - lr: 2.5000e-04\n",
      "Epoch 60/100\n",
      "3/3 [==============================] - 0s 75ms/step - loss: 1.1199 - accuracy: 0.9638 - val_loss: 3.0616 - val_accuracy: 0.6667 - lr: 2.5000e-04\n",
      "Epoch 61/100\n",
      "3/3 [==============================] - 0s 71ms/step - loss: 1.2919 - accuracy: 0.9203 - val_loss: 2.8555 - val_accuracy: 0.6667 - lr: 2.5000e-04\n",
      "Epoch 62/100\n",
      "3/3 [==============================] - 0s 76ms/step - loss: 1.1701 - accuracy: 0.9565 - val_loss: 2.3038 - val_accuracy: 0.6667 - lr: 2.5000e-04\n",
      "Epoch 1/100\n",
      "3/3 [==============================] - 1s 143ms/step - loss: 29.2880 - accuracy: 0.0580 - val_loss: 24.1102 - val_accuracy: 0.0000e+00 - lr: 0.0010\n",
      "Epoch 2/100\n",
      "3/3 [==============================] - 0s 67ms/step - loss: 22.9371 - accuracy: 0.1739 - val_loss: 18.7939 - val_accuracy: 0.2000 - lr: 0.0010\n",
      "Epoch 3/100\n",
      "3/3 [==============================] - 0s 78ms/step - loss: 17.7014 - accuracy: 0.4203 - val_loss: 14.8505 - val_accuracy: 0.1333 - lr: 0.0010\n",
      "Epoch 4/100\n",
      "3/3 [==============================] - 0s 76ms/step - loss: 13.7206 - accuracy: 0.4783 - val_loss: 11.8475 - val_accuracy: 0.4000 - lr: 0.0010\n",
      "Epoch 5/100\n",
      "3/3 [==============================] - 0s 73ms/step - loss: 10.6587 - accuracy: 0.6232 - val_loss: 9.0900 - val_accuracy: 0.6667 - lr: 0.0010\n",
      "Epoch 6/100\n",
      "3/3 [==============================] - 0s 76ms/step - loss: 8.4410 - accuracy: 0.6594 - val_loss: 7.2347 - val_accuracy: 0.6667 - lr: 0.0010\n",
      "Epoch 7/100\n",
      "3/3 [==============================] - 0s 73ms/step - loss: 6.7236 - accuracy: 0.7899 - val_loss: 6.4277 - val_accuracy: 0.5333 - lr: 0.0010\n",
      "Epoch 8/100\n",
      "3/3 [==============================] - 0s 78ms/step - loss: 5.7898 - accuracy: 0.7826 - val_loss: 5.6807 - val_accuracy: 0.4667 - lr: 0.0010\n",
      "Epoch 9/100\n",
      "3/3 [==============================] - 0s 75ms/step - loss: 4.9835 - accuracy: 0.8768 - val_loss: 4.8629 - val_accuracy: 0.8000 - lr: 0.0010\n",
      "Epoch 10/100\n",
      "3/3 [==============================] - 0s 74ms/step - loss: 4.5369 - accuracy: 0.8696 - val_loss: 4.8279 - val_accuracy: 0.6000 - lr: 0.0010\n",
      "Epoch 11/100\n",
      "3/3 [==============================] - 0s 73ms/step - loss: 4.1750 - accuracy: 0.8913 - val_loss: 4.7345 - val_accuracy: 0.6000 - lr: 0.0010\n",
      "Epoch 12/100\n",
      "3/3 [==============================] - 0s 73ms/step - loss: 3.7958 - accuracy: 0.9420 - val_loss: 4.1842 - val_accuracy: 0.5333 - lr: 0.0010\n",
      "Epoch 13/100\n",
      "3/3 [==============================] - 0s 138ms/step - loss: 3.6286 - accuracy: 0.9058 - val_loss: 3.7826 - val_accuracy: 0.8000 - lr: 0.0010\n",
      "Epoch 14/100\n",
      "3/3 [==============================] - 0s 88ms/step - loss: 3.3223 - accuracy: 0.9565 - val_loss: 4.0819 - val_accuracy: 0.5333 - lr: 0.0010\n",
      "Epoch 15/100\n",
      "3/3 [==============================] - 0s 81ms/step - loss: 3.1967 - accuracy: 0.8986 - val_loss: 4.2221 - val_accuracy: 0.6000 - lr: 0.0010\n",
      "Epoch 16/100\n",
      "3/3 [==============================] - 0s 78ms/step - loss: 2.9640 - accuracy: 0.9203 - val_loss: 3.6479 - val_accuracy: 0.4667 - lr: 0.0010\n",
      "Epoch 17/100\n",
      "3/3 [==============================] - 0s 74ms/step - loss: 2.7704 - accuracy: 0.9493 - val_loss: 3.3250 - val_accuracy: 0.4667 - lr: 0.0010\n",
      "Epoch 18/100\n",
      "3/3 [==============================] - 0s 74ms/step - loss: 2.6120 - accuracy: 0.9493 - val_loss: 3.1357 - val_accuracy: 0.5333 - lr: 0.0010\n",
      "Epoch 19/100\n",
      "3/3 [==============================] - 0s 74ms/step - loss: 2.3797 - accuracy: 0.9783 - val_loss: 2.9741 - val_accuracy: 0.6000 - lr: 0.0010\n",
      "Epoch 20/100\n",
      "3/3 [==============================] - 0s 75ms/step - loss: 2.2766 - accuracy: 0.9638 - val_loss: 2.8714 - val_accuracy: 0.6000 - lr: 0.0010\n",
      "Epoch 21/100\n",
      "3/3 [==============================] - 0s 76ms/step - loss: 2.2196 - accuracy: 0.9565 - val_loss: 2.9272 - val_accuracy: 0.6000 - lr: 0.0010\n",
      "Epoch 22/100\n",
      "3/3 [==============================] - 0s 70ms/step - loss: 2.1438 - accuracy: 0.9420 - val_loss: 2.7971 - val_accuracy: 0.5333 - lr: 0.0010\n",
      "Epoch 23/100\n",
      "3/3 [==============================] - 0s 68ms/step - loss: 2.1654 - accuracy: 0.9203 - val_loss: 2.8905 - val_accuracy: 0.6000 - lr: 0.0010\n",
      "Epoch 24/100\n",
      "3/3 [==============================] - 0s 69ms/step - loss: 2.1629 - accuracy: 0.9058 - val_loss: 2.7484 - val_accuracy: 0.5333 - lr: 0.0010\n",
      "Epoch 25/100\n",
      "3/3 [==============================] - 0s 71ms/step - loss: 2.0934 - accuracy: 0.9348 - val_loss: 2.8315 - val_accuracy: 0.5333 - lr: 0.0010\n",
      "Epoch 26/100\n",
      "3/3 [==============================] - 0s 76ms/step - loss: 2.0174 - accuracy: 0.9710 - val_loss: 2.4858 - val_accuracy: 0.6667 - lr: 0.0010\n",
      "Epoch 27/100\n",
      "3/3 [==============================] - 0s 72ms/step - loss: 2.0064 - accuracy: 0.9565 - val_loss: 2.3849 - val_accuracy: 0.8000 - lr: 0.0010\n",
      "Epoch 28/100\n",
      "3/3 [==============================] - 0s 72ms/step - loss: 1.9326 - accuracy: 0.9420 - val_loss: 2.2949 - val_accuracy: 0.6667 - lr: 0.0010\n",
      "Epoch 29/100\n",
      "3/3 [==============================] - 0s 73ms/step - loss: 1.8841 - accuracy: 0.9420 - val_loss: 2.7115 - val_accuracy: 0.5333 - lr: 0.0010\n",
      "Epoch 30/100\n",
      "3/3 [==============================] - 0s 71ms/step - loss: 1.8047 - accuracy: 0.9638 - val_loss: 2.4972 - val_accuracy: 0.6000 - lr: 0.0010\n",
      "Epoch 31/100\n",
      "3/3 [==============================] - 0s 75ms/step - loss: 1.7063 - accuracy: 0.9710 - val_loss: 1.9626 - val_accuracy: 0.8000 - lr: 0.0010\n",
      "Epoch 32/100\n",
      "3/3 [==============================] - 0s 72ms/step - loss: 1.6977 - accuracy: 0.9638 - val_loss: 1.9902 - val_accuracy: 0.8000 - lr: 0.0010\n",
      "Epoch 33/100\n",
      "3/3 [==============================] - 0s 71ms/step - loss: 1.6648 - accuracy: 0.9493 - val_loss: 2.1225 - val_accuracy: 0.6667 - lr: 0.0010\n",
      "Epoch 34/100\n",
      "3/3 [==============================] - 0s 72ms/step - loss: 1.6211 - accuracy: 0.9638 - val_loss: 2.1953 - val_accuracy: 0.7333 - lr: 0.0010\n",
      "Epoch 35/100\n",
      "3/3 [==============================] - 0s 74ms/step - loss: 1.6896 - accuracy: 0.9130 - val_loss: 2.0454 - val_accuracy: 0.6667 - lr: 0.0010\n",
      "Epoch 36/100\n",
      "3/3 [==============================] - 0s 72ms/step - loss: 1.6345 - accuracy: 0.9565 - val_loss: 2.1852 - val_accuracy: 0.7333 - lr: 0.0010\n",
      "Epoch 37/100\n",
      "3/3 [==============================] - 0s 77ms/step - loss: 1.5621 - accuracy: 0.9855 - val_loss: 2.6035 - val_accuracy: 0.6667 - lr: 5.0000e-04\n",
      "Epoch 38/100\n",
      "3/3 [==============================] - 0s 72ms/step - loss: 1.5378 - accuracy: 0.9855 - val_loss: 2.7404 - val_accuracy: 0.6667 - lr: 5.0000e-04\n",
      "Epoch 39/100\n",
      "3/3 [==============================] - 0s 72ms/step - loss: 1.4913 - accuracy: 0.9710 - val_loss: 2.5722 - val_accuracy: 0.7333 - lr: 5.0000e-04\n",
      "Epoch 40/100\n",
      "3/3 [==============================] - 0s 72ms/step - loss: 1.4565 - accuracy: 0.9855 - val_loss: 2.2992 - val_accuracy: 0.7333 - lr: 5.0000e-04\n",
      "Epoch 41/100\n",
      "3/3 [==============================] - 0s 72ms/step - loss: 1.4080 - accuracy: 0.9928 - val_loss: 2.1491 - val_accuracy: 0.7333 - lr: 5.0000e-04\n",
      "Epoch 1/100\n",
      "3/3 [==============================] - 1s 142ms/step - loss: 29.2411 - accuracy: 0.0870 - val_loss: 23.9632 - val_accuracy: 0.0667 - lr: 0.0010\n",
      "Epoch 2/100\n",
      "3/3 [==============================] - 0s 68ms/step - loss: 22.7150 - accuracy: 0.2464 - val_loss: 18.6475 - val_accuracy: 0.3333 - lr: 0.0010\n",
      "Epoch 3/100\n",
      "3/3 [==============================] - 0s 73ms/step - loss: 17.5622 - accuracy: 0.3478 - val_loss: 14.5258 - val_accuracy: 0.3333 - lr: 0.0010\n",
      "Epoch 4/100\n",
      "3/3 [==============================] - 0s 78ms/step - loss: 13.4940 - accuracy: 0.5217 - val_loss: 11.4243 - val_accuracy: 0.4000 - lr: 0.0010\n",
      "Epoch 5/100\n",
      "3/3 [==============================] - 0s 74ms/step - loss: 10.4663 - accuracy: 0.5870 - val_loss: 9.0902 - val_accuracy: 0.4667 - lr: 0.0010\n",
      "Epoch 6/100\n",
      "3/3 [==============================] - 0s 147ms/step - loss: 8.1501 - accuracy: 0.7319 - val_loss: 7.3316 - val_accuracy: 0.6667 - lr: 0.0010\n",
      "Epoch 7/100\n",
      "3/3 [==============================] - 0s 93ms/step - loss: 6.5914 - accuracy: 0.7391 - val_loss: 6.1098 - val_accuracy: 0.7333 - lr: 0.0010\n",
      "Epoch 8/100\n",
      "3/3 [==============================] - 0s 84ms/step - loss: 5.6219 - accuracy: 0.7754 - val_loss: 5.5190 - val_accuracy: 0.6667 - lr: 0.0010\n",
      "Epoch 9/100\n",
      "3/3 [==============================] - 0s 76ms/step - loss: 4.8818 - accuracy: 0.8551 - val_loss: 5.0923 - val_accuracy: 0.4667 - lr: 0.0010\n",
      "Epoch 10/100\n",
      "3/3 [==============================] - 0s 75ms/step - loss: 4.4619 - accuracy: 0.8116 - val_loss: 4.4713 - val_accuracy: 0.8667 - lr: 0.0010\n",
      "Epoch 11/100\n",
      "3/3 [==============================] - 0s 74ms/step - loss: 4.0263 - accuracy: 0.8841 - val_loss: 4.1568 - val_accuracy: 0.8667 - lr: 0.0010\n",
      "Epoch 12/100\n",
      "3/3 [==============================] - 0s 78ms/step - loss: 3.8194 - accuracy: 0.8986 - val_loss: 3.8504 - val_accuracy: 0.9333 - lr: 0.0010\n",
      "Epoch 13/100\n",
      "3/3 [==============================] - 0s 73ms/step - loss: 3.5144 - accuracy: 0.9203 - val_loss: 3.6876 - val_accuracy: 0.8000 - lr: 0.0010\n",
      "Epoch 14/100\n",
      "3/3 [==============================] - 0s 75ms/step - loss: 3.3059 - accuracy: 0.9420 - val_loss: 3.6684 - val_accuracy: 0.8000 - lr: 0.0010\n",
      "Epoch 15/100\n",
      "3/3 [==============================] - 0s 74ms/step - loss: 3.1581 - accuracy: 0.9130 - val_loss: 3.2982 - val_accuracy: 0.8667 - lr: 0.0010\n",
      "Epoch 16/100\n",
      "3/3 [==============================] - 0s 74ms/step - loss: 3.0414 - accuracy: 0.8768 - val_loss: 3.1130 - val_accuracy: 1.0000 - lr: 0.0010\n",
      "Epoch 17/100\n",
      "3/3 [==============================] - 0s 70ms/step - loss: 2.8454 - accuracy: 0.9203 - val_loss: 3.0922 - val_accuracy: 0.8667 - lr: 0.0010\n",
      "Epoch 18/100\n",
      "3/3 [==============================] - 0s 67ms/step - loss: 2.7344 - accuracy: 0.9348 - val_loss: 2.9195 - val_accuracy: 0.8000 - lr: 0.0010\n",
      "Epoch 19/100\n",
      "3/3 [==============================] - 0s 68ms/step - loss: 2.4914 - accuracy: 0.9638 - val_loss: 2.7359 - val_accuracy: 0.9333 - lr: 0.0010\n",
      "Epoch 20/100\n",
      "3/3 [==============================] - 0s 74ms/step - loss: 2.3204 - accuracy: 0.9710 - val_loss: 2.5116 - val_accuracy: 0.9333 - lr: 0.0010\n",
      "Epoch 21/100\n",
      "3/3 [==============================] - 0s 74ms/step - loss: 2.2933 - accuracy: 0.9348 - val_loss: 2.3801 - val_accuracy: 0.9333 - lr: 0.0010\n",
      "Epoch 22/100\n",
      "3/3 [==============================] - 0s 72ms/step - loss: 2.1231 - accuracy: 0.9638 - val_loss: 2.4106 - val_accuracy: 0.8667 - lr: 0.0010\n",
      "Epoch 23/100\n",
      "3/3 [==============================] - 0s 76ms/step - loss: 2.0799 - accuracy: 0.9493 - val_loss: 2.2793 - val_accuracy: 0.9333 - lr: 0.0010\n",
      "Epoch 24/100\n",
      "3/3 [==============================] - 0s 76ms/step - loss: 1.9380 - accuracy: 0.9638 - val_loss: 2.2646 - val_accuracy: 0.8667 - lr: 0.0010\n",
      "Epoch 25/100\n",
      "3/3 [==============================] - 0s 74ms/step - loss: 1.9260 - accuracy: 0.9493 - val_loss: 2.2443 - val_accuracy: 0.9333 - lr: 0.0010\n",
      "Epoch 26/100\n",
      "3/3 [==============================] - 0s 73ms/step - loss: 1.8876 - accuracy: 0.9638 - val_loss: 2.1730 - val_accuracy: 0.8667 - lr: 0.0010\n",
      "Epoch 27/100\n",
      "3/3 [==============================] - 0s 73ms/step - loss: 1.8924 - accuracy: 0.9130 - val_loss: 2.0475 - val_accuracy: 1.0000 - lr: 0.0010\n",
      "Epoch 28/100\n",
      "3/3 [==============================] - 0s 72ms/step - loss: 1.8153 - accuracy: 0.9348 - val_loss: 2.1170 - val_accuracy: 0.8667 - lr: 0.0010\n",
      "Epoch 29/100\n",
      "3/3 [==============================] - 0s 73ms/step - loss: 1.7996 - accuracy: 0.9493 - val_loss: 2.0814 - val_accuracy: 0.8667 - lr: 0.0010\n",
      "Epoch 30/100\n",
      "3/3 [==============================] - 0s 72ms/step - loss: 1.8875 - accuracy: 0.9203 - val_loss: 2.1139 - val_accuracy: 0.8667 - lr: 0.0010\n",
      "Epoch 31/100\n",
      "3/3 [==============================] - 0s 73ms/step - loss: 1.8356 - accuracy: 0.9493 - val_loss: 2.0743 - val_accuracy: 0.8000 - lr: 0.0010\n",
      "Epoch 32/100\n",
      "3/3 [==============================] - 0s 75ms/step - loss: 1.8548 - accuracy: 0.9420 - val_loss: 1.9504 - val_accuracy: 0.9333 - lr: 0.0010\n",
      "Epoch 33/100\n",
      "3/3 [==============================] - 0s 74ms/step - loss: 1.7766 - accuracy: 0.9783 - val_loss: 1.9268 - val_accuracy: 1.0000 - lr: 0.0010\n",
      "Epoch 34/100\n",
      "3/3 [==============================] - 0s 71ms/step - loss: 1.7027 - accuracy: 0.9783 - val_loss: 2.0367 - val_accuracy: 0.8667 - lr: 0.0010\n",
      "Epoch 35/100\n",
      "3/3 [==============================] - 0s 73ms/step - loss: 1.7279 - accuracy: 0.9493 - val_loss: 1.9476 - val_accuracy: 0.8667 - lr: 0.0010\n",
      "Epoch 36/100\n",
      "3/3 [==============================] - 0s 71ms/step - loss: 1.7181 - accuracy: 0.9203 - val_loss: 1.9530 - val_accuracy: 0.8667 - lr: 0.0010\n",
      "Epoch 37/100\n",
      "3/3 [==============================] - 0s 106ms/step - loss: 1.6484 - accuracy: 0.9710 - val_loss: 1.8679 - val_accuracy: 0.8667 - lr: 0.0010\n",
      "Epoch 38/100\n",
      "3/3 [==============================] - 0s 119ms/step - loss: 1.6960 - accuracy: 0.9420 - val_loss: 1.8566 - val_accuracy: 0.9333 - lr: 0.0010\n",
      "Epoch 39/100\n",
      "3/3 [==============================] - 0s 82ms/step - loss: 1.6049 - accuracy: 0.9565 - val_loss: 1.8110 - val_accuracy: 0.8667 - lr: 0.0010\n",
      "Epoch 40/100\n",
      "3/3 [==============================] - 0s 77ms/step - loss: 1.5792 - accuracy: 0.9565 - val_loss: 1.7951 - val_accuracy: 1.0000 - lr: 0.0010\n",
      "Epoch 41/100\n",
      "3/3 [==============================] - 0s 75ms/step - loss: 1.4984 - accuracy: 0.9928 - val_loss: 1.7822 - val_accuracy: 0.9333 - lr: 0.0010\n",
      "Epoch 42/100\n",
      "3/3 [==============================] - 0s 77ms/step - loss: 1.4656 - accuracy: 0.9710 - val_loss: 1.7098 - val_accuracy: 0.9333 - lr: 0.0010\n",
      "Epoch 43/100\n",
      "3/3 [==============================] - 0s 70ms/step - loss: 1.4960 - accuracy: 0.9493 - val_loss: 1.6001 - val_accuracy: 1.0000 - lr: 0.0010\n",
      "Epoch 44/100\n",
      "3/3 [==============================] - 0s 67ms/step - loss: 1.4412 - accuracy: 0.9783 - val_loss: 1.7878 - val_accuracy: 0.9333 - lr: 0.0010\n",
      "Epoch 45/100\n",
      "3/3 [==============================] - 0s 71ms/step - loss: 1.6386 - accuracy: 0.9058 - val_loss: 1.6498 - val_accuracy: 1.0000 - lr: 0.0010\n",
      "Epoch 46/100\n",
      "3/3 [==============================] - 0s 81ms/step - loss: 1.4547 - accuracy: 0.9638 - val_loss: 1.9609 - val_accuracy: 0.6667 - lr: 0.0010\n",
      "Epoch 47/100\n",
      "3/3 [==============================] - 0s 73ms/step - loss: 1.5120 - accuracy: 0.9638 - val_loss: 1.9581 - val_accuracy: 0.8000 - lr: 0.0010\n",
      "Epoch 48/100\n",
      "3/3 [==============================] - 0s 71ms/step - loss: 1.6001 - accuracy: 0.9203 - val_loss: 1.8364 - val_accuracy: 0.9333 - lr: 0.0010\n",
      "Epoch 49/100\n",
      "3/3 [==============================] - 0s 73ms/step - loss: 1.5671 - accuracy: 0.9783 - val_loss: 1.8199 - val_accuracy: 0.8667 - lr: 5.0000e-04\n",
      "Epoch 50/100\n",
      "3/3 [==============================] - 0s 93ms/step - loss: 1.6177 - accuracy: 0.9348 - val_loss: 1.7996 - val_accuracy: 0.8667 - lr: 5.0000e-04\n",
      "Epoch 51/100\n",
      "3/3 [==============================] - 0s 78ms/step - loss: 1.4770 - accuracy: 0.9710 - val_loss: 1.7318 - val_accuracy: 0.9333 - lr: 5.0000e-04\n",
      "Epoch 52/100\n",
      "3/3 [==============================] - 0s 75ms/step - loss: 1.4437 - accuracy: 0.9855 - val_loss: 1.6785 - val_accuracy: 0.9333 - lr: 5.0000e-04\n",
      "Epoch 53/100\n",
      "3/3 [==============================] - 0s 75ms/step - loss: 1.3956 - accuracy: 0.9710 - val_loss: 1.6109 - val_accuracy: 0.9333 - lr: 5.0000e-04\n",
      "Epoch 1/100\n",
      "3/3 [==============================] - 1s 143ms/step - loss: 29.3004 - accuracy: 0.0362 - val_loss: 24.1589 - val_accuracy: 0.0000e+00 - lr: 0.0010\n",
      "Epoch 2/100\n",
      "3/3 [==============================] - 0s 75ms/step - loss: 23.0430 - accuracy: 0.2029 - val_loss: 19.1358 - val_accuracy: 0.0667 - lr: 0.0010\n",
      "Epoch 3/100\n",
      "3/3 [==============================] - 0s 73ms/step - loss: 18.0427 - accuracy: 0.2971 - val_loss: 14.9990 - val_accuracy: 0.2000 - lr: 0.0010\n",
      "Epoch 4/100\n",
      "3/3 [==============================] - 0s 76ms/step - loss: 13.8926 - accuracy: 0.4638 - val_loss: 11.7508 - val_accuracy: 0.5333 - lr: 0.0010\n",
      "Epoch 5/100\n",
      "3/3 [==============================] - 0s 74ms/step - loss: 10.8671 - accuracy: 0.5000 - val_loss: 9.2938 - val_accuracy: 0.6000 - lr: 0.0010\n",
      "Epoch 6/100\n",
      "3/3 [==============================] - 0s 74ms/step - loss: 8.6390 - accuracy: 0.5290 - val_loss: 7.6242 - val_accuracy: 0.4667 - lr: 0.0010\n",
      "Epoch 7/100\n",
      "3/3 [==============================] - 0s 73ms/step - loss: 6.8467 - accuracy: 0.6667 - val_loss: 6.3051 - val_accuracy: 0.7333 - lr: 0.0010\n",
      "Epoch 8/100\n",
      "3/3 [==============================] - 0s 69ms/step - loss: 5.7804 - accuracy: 0.6884 - val_loss: 5.3421 - val_accuracy: 0.7333 - lr: 0.0010\n",
      "Epoch 9/100\n",
      "3/3 [==============================] - 0s 69ms/step - loss: 4.9626 - accuracy: 0.8116 - val_loss: 4.9321 - val_accuracy: 0.7333 - lr: 0.0010\n",
      "Epoch 10/100\n",
      "3/3 [==============================] - 0s 70ms/step - loss: 4.5391 - accuracy: 0.7464 - val_loss: 4.5438 - val_accuracy: 0.8000 - lr: 0.0010\n",
      "Epoch 11/100\n",
      "3/3 [==============================] - 0s 71ms/step - loss: 4.1284 - accuracy: 0.8043 - val_loss: 4.1993 - val_accuracy: 0.8667 - lr: 0.0010\n",
      "Epoch 12/100\n",
      "3/3 [==============================] - 0s 74ms/step - loss: 3.8321 - accuracy: 0.8696 - val_loss: 3.9161 - val_accuracy: 0.9333 - lr: 0.0010\n",
      "Epoch 13/100\n",
      "3/3 [==============================] - 0s 163ms/step - loss: 3.6908 - accuracy: 0.8551 - val_loss: 3.7906 - val_accuracy: 0.7333 - lr: 0.0010\n",
      "Epoch 14/100\n",
      "3/3 [==============================] - 0s 86ms/step - loss: 3.4115 - accuracy: 0.8841 - val_loss: 3.5776 - val_accuracy: 0.8000 - lr: 0.0010\n",
      "Epoch 15/100\n",
      "3/3 [==============================] - 0s 74ms/step - loss: 3.2014 - accuracy: 0.9203 - val_loss: 3.4072 - val_accuracy: 0.8000 - lr: 0.0010\n",
      "Epoch 16/100\n",
      "3/3 [==============================] - 0s 80ms/step - loss: 3.0541 - accuracy: 0.9058 - val_loss: 3.2339 - val_accuracy: 0.7333 - lr: 0.0010\n",
      "Epoch 17/100\n",
      "3/3 [==============================] - 0s 77ms/step - loss: 2.8945 - accuracy: 0.9203 - val_loss: 3.1915 - val_accuracy: 0.7333 - lr: 0.0010\n",
      "Epoch 18/100\n",
      "3/3 [==============================] - 0s 75ms/step - loss: 2.7963 - accuracy: 0.9058 - val_loss: 2.9973 - val_accuracy: 0.8667 - lr: 0.0010\n",
      "Epoch 19/100\n",
      "3/3 [==============================] - 0s 76ms/step - loss: 2.6266 - accuracy: 0.9638 - val_loss: 2.8441 - val_accuracy: 0.7333 - lr: 0.0010\n",
      "Epoch 20/100\n",
      "3/3 [==============================] - 0s 79ms/step - loss: 2.5479 - accuracy: 0.9203 - val_loss: 2.7553 - val_accuracy: 0.7333 - lr: 0.0010\n",
      "Epoch 21/100\n",
      "3/3 [==============================] - 0s 73ms/step - loss: 2.3392 - accuracy: 0.9565 - val_loss: 2.7756 - val_accuracy: 0.8667 - lr: 0.0010\n",
      "Epoch 22/100\n",
      "3/3 [==============================] - 0s 73ms/step - loss: 2.3095 - accuracy: 0.9348 - val_loss: 2.5795 - val_accuracy: 0.8000 - lr: 0.0010\n",
      "Epoch 23/100\n",
      "3/3 [==============================] - 0s 76ms/step - loss: 2.2889 - accuracy: 0.9130 - val_loss: 2.5252 - val_accuracy: 0.8000 - lr: 0.0010\n",
      "Epoch 24/100\n",
      "3/3 [==============================] - 0s 73ms/step - loss: 2.3209 - accuracy: 0.9130 - val_loss: 2.4547 - val_accuracy: 0.8000 - lr: 0.0010\n",
      "Epoch 25/100\n",
      "3/3 [==============================] - 0s 73ms/step - loss: 2.1133 - accuracy: 0.9565 - val_loss: 2.3899 - val_accuracy: 0.8667 - lr: 0.0010\n",
      "Epoch 26/100\n",
      "3/3 [==============================] - 0s 74ms/step - loss: 2.1158 - accuracy: 0.8986 - val_loss: 2.3065 - val_accuracy: 0.8000 - lr: 0.0010\n",
      "Epoch 27/100\n",
      "3/3 [==============================] - 0s 74ms/step - loss: 2.0055 - accuracy: 0.9493 - val_loss: 2.2542 - val_accuracy: 0.8000 - lr: 0.0010\n",
      "Epoch 28/100\n",
      "3/3 [==============================] - 0s 76ms/step - loss: 1.9185 - accuracy: 0.9855 - val_loss: 2.1622 - val_accuracy: 0.9333 - lr: 0.0010\n",
      "Epoch 29/100\n",
      "3/3 [==============================] - 0s 75ms/step - loss: 1.9178 - accuracy: 0.9565 - val_loss: 2.1526 - val_accuracy: 0.8667 - lr: 0.0010\n",
      "Epoch 30/100\n",
      "3/3 [==============================] - 0s 78ms/step - loss: 1.8401 - accuracy: 0.9493 - val_loss: 2.0926 - val_accuracy: 0.8667 - lr: 0.0010\n",
      "Epoch 31/100\n",
      "3/3 [==============================] - 0s 67ms/step - loss: 1.7369 - accuracy: 0.9783 - val_loss: 2.1335 - val_accuracy: 0.8000 - lr: 0.0010\n",
      "Epoch 32/100\n",
      "3/3 [==============================] - 0s 69ms/step - loss: 1.8045 - accuracy: 0.9565 - val_loss: 2.0646 - val_accuracy: 0.8000 - lr: 0.0010\n",
      "Epoch 33/100\n",
      "3/3 [==============================] - 0s 75ms/step - loss: 1.7621 - accuracy: 0.9420 - val_loss: 2.0427 - val_accuracy: 0.9333 - lr: 0.0010\n",
      "Epoch 34/100\n",
      "3/3 [==============================] - 0s 70ms/step - loss: 1.7468 - accuracy: 0.9420 - val_loss: 2.0711 - val_accuracy: 0.8000 - lr: 0.0010\n",
      "Epoch 35/100\n",
      "3/3 [==============================] - 0s 81ms/step - loss: 1.7522 - accuracy: 0.9565 - val_loss: 2.0434 - val_accuracy: 0.8667 - lr: 0.0010\n",
      "Epoch 36/100\n",
      "3/3 [==============================] - 0s 71ms/step - loss: 1.8265 - accuracy: 0.9130 - val_loss: 2.1597 - val_accuracy: 0.7333 - lr: 0.0010\n",
      "Epoch 37/100\n",
      "3/3 [==============================] - 0s 81ms/step - loss: 1.7113 - accuracy: 0.9710 - val_loss: 2.0187 - val_accuracy: 0.8667 - lr: 0.0010\n",
      "Epoch 38/100\n",
      "3/3 [==============================] - 0s 74ms/step - loss: 1.7290 - accuracy: 0.9420 - val_loss: 2.0648 - val_accuracy: 0.8667 - lr: 0.0010\n",
      "Epoch 39/100\n",
      "3/3 [==============================] - 0s 143ms/step - loss: 1.7301 - accuracy: 0.9638 - val_loss: 2.1535 - val_accuracy: 0.7333 - lr: 0.0010\n",
      "Epoch 40/100\n",
      "3/3 [==============================] - 0s 87ms/step - loss: 1.6666 - accuracy: 0.9638 - val_loss: 2.1311 - val_accuracy: 0.8000 - lr: 0.0010\n",
      "Epoch 41/100\n",
      "3/3 [==============================] - 0s 78ms/step - loss: 1.6530 - accuracy: 0.9783 - val_loss: 1.9928 - val_accuracy: 0.8000 - lr: 0.0010\n",
      "Epoch 42/100\n",
      "3/3 [==============================] - 0s 75ms/step - loss: 1.6285 - accuracy: 0.9565 - val_loss: 1.7753 - val_accuracy: 0.8667 - lr: 0.0010\n",
      "Epoch 43/100\n",
      "3/3 [==============================] - 0s 75ms/step - loss: 1.5417 - accuracy: 0.9710 - val_loss: 1.8272 - val_accuracy: 0.9333 - lr: 0.0010\n",
      "Epoch 44/100\n",
      "3/3 [==============================] - 0s 73ms/step - loss: 1.5142 - accuracy: 0.9420 - val_loss: 1.7312 - val_accuracy: 0.8000 - lr: 0.0010\n",
      "Epoch 45/100\n",
      "3/3 [==============================] - 0s 75ms/step - loss: 1.4011 - accuracy: 0.9855 - val_loss: 1.6301 - val_accuracy: 0.8000 - lr: 0.0010\n",
      "Epoch 46/100\n",
      "3/3 [==============================] - 0s 76ms/step - loss: 1.4286 - accuracy: 0.9638 - val_loss: 1.5226 - val_accuracy: 0.8667 - lr: 0.0010\n",
      "Epoch 47/100\n",
      "3/3 [==============================] - 0s 73ms/step - loss: 1.3791 - accuracy: 0.9565 - val_loss: 1.6113 - val_accuracy: 1.0000 - lr: 0.0010\n",
      "Epoch 48/100\n",
      "3/3 [==============================] - 0s 72ms/step - loss: 1.3934 - accuracy: 0.9493 - val_loss: 1.5347 - val_accuracy: 1.0000 - lr: 0.0010\n",
      "Epoch 49/100\n",
      "3/3 [==============================] - 0s 69ms/step - loss: 1.3492 - accuracy: 0.9638 - val_loss: 1.4573 - val_accuracy: 1.0000 - lr: 0.0010\n",
      "Epoch 50/100\n",
      "3/3 [==============================] - 0s 80ms/step - loss: 1.2540 - accuracy: 1.0000 - val_loss: 1.3880 - val_accuracy: 1.0000 - lr: 0.0010\n",
      "Epoch 51/100\n",
      "3/3 [==============================] - 0s 75ms/step - loss: 1.2501 - accuracy: 0.9783 - val_loss: 1.4246 - val_accuracy: 0.8667 - lr: 0.0010\n",
      "Epoch 52/100\n",
      "3/3 [==============================] - 0s 72ms/step - loss: 1.2085 - accuracy: 0.9855 - val_loss: 1.4413 - val_accuracy: 0.9333 - lr: 0.0010\n",
      "Epoch 53/100\n",
      "3/3 [==============================] - 0s 70ms/step - loss: 1.2658 - accuracy: 0.9275 - val_loss: 1.5554 - val_accuracy: 0.7333 - lr: 0.0010\n",
      "Epoch 54/100\n",
      "3/3 [==============================] - 0s 67ms/step - loss: 1.2256 - accuracy: 0.9420 - val_loss: 1.4504 - val_accuracy: 0.8000 - lr: 0.0010\n",
      "Epoch 55/100\n",
      "3/3 [==============================] - 0s 70ms/step - loss: 1.1509 - accuracy: 0.9855 - val_loss: 1.7081 - val_accuracy: 0.7333 - lr: 0.0010\n",
      "Epoch 56/100\n",
      "3/3 [==============================] - 0s 73ms/step - loss: 1.2383 - accuracy: 0.9565 - val_loss: 1.8146 - val_accuracy: 0.8000 - lr: 5.0000e-04\n",
      "Epoch 57/100\n",
      "3/3 [==============================] - 0s 74ms/step - loss: 1.1995 - accuracy: 0.9493 - val_loss: 1.7229 - val_accuracy: 0.8667 - lr: 5.0000e-04\n",
      "Epoch 58/100\n",
      "3/3 [==============================] - 0s 76ms/step - loss: 1.1570 - accuracy: 0.9855 - val_loss: 1.6086 - val_accuracy: 0.7333 - lr: 5.0000e-04\n",
      "Epoch 59/100\n",
      "3/3 [==============================] - 0s 73ms/step - loss: 1.1330 - accuracy: 0.9855 - val_loss: 1.3821 - val_accuracy: 0.8667 - lr: 5.0000e-04\n",
      "Epoch 60/100\n",
      "3/3 [==============================] - 0s 69ms/step - loss: 1.0899 - accuracy: 0.9928 - val_loss: 1.2814 - val_accuracy: 0.9333 - lr: 5.0000e-04\n",
      "Epoch 61/100\n",
      "3/3 [==============================] - 0s 68ms/step - loss: 1.0439 - accuracy: 0.9783 - val_loss: 1.3111 - val_accuracy: 0.8667 - lr: 5.0000e-04\n",
      "Epoch 62/100\n",
      "3/3 [==============================] - 0s 73ms/step - loss: 1.0435 - accuracy: 0.9928 - val_loss: 1.1933 - val_accuracy: 1.0000 - lr: 5.0000e-04\n",
      "Epoch 63/100\n",
      "3/3 [==============================] - 0s 73ms/step - loss: 1.0037 - accuracy: 0.9855 - val_loss: 1.1818 - val_accuracy: 0.9333 - lr: 5.0000e-04\n",
      "Epoch 64/100\n",
      "3/3 [==============================] - 0s 152ms/step - loss: 0.9921 - accuracy: 0.9928 - val_loss: 1.3193 - val_accuracy: 0.7333 - lr: 5.0000e-04\n",
      "Epoch 65/100\n",
      "3/3 [==============================] - 0s 81ms/step - loss: 0.9859 - accuracy: 0.9710 - val_loss: 1.3841 - val_accuracy: 0.8000 - lr: 5.0000e-04\n",
      "Epoch 66/100\n",
      "3/3 [==============================] - 0s 71ms/step - loss: 0.9727 - accuracy: 0.9783 - val_loss: 1.3202 - val_accuracy: 0.8667 - lr: 5.0000e-04\n",
      "Epoch 67/100\n",
      "3/3 [==============================] - 0s 74ms/step - loss: 0.9783 - accuracy: 0.9855 - val_loss: 1.2442 - val_accuracy: 0.8667 - lr: 5.0000e-04\n",
      "Epoch 68/100\n",
      "3/3 [==============================] - 0s 76ms/step - loss: 0.9770 - accuracy: 0.9710 - val_loss: 1.1530 - val_accuracy: 0.9333 - lr: 5.0000e-04\n",
      "Epoch 69/100\n",
      "3/3 [==============================] - 0s 76ms/step - loss: 0.9203 - accuracy: 0.9928 - val_loss: 1.0402 - val_accuracy: 1.0000 - lr: 5.0000e-04\n",
      "Epoch 70/100\n",
      "3/3 [==============================] - 0s 77ms/step - loss: 0.9166 - accuracy: 0.9928 - val_loss: 1.0365 - val_accuracy: 0.9333 - lr: 5.0000e-04\n",
      "Epoch 71/100\n",
      "3/3 [==============================] - 0s 74ms/step - loss: 0.8791 - accuracy: 1.0000 - val_loss: 1.0897 - val_accuracy: 0.8667 - lr: 5.0000e-04\n",
      "Epoch 72/100\n",
      "3/3 [==============================] - 0s 72ms/step - loss: 0.8557 - accuracy: 0.9928 - val_loss: 1.1331 - val_accuracy: 0.8000 - lr: 5.0000e-04\n",
      "Epoch 73/100\n",
      "3/3 [==============================] - 0s 69ms/step - loss: 0.8429 - accuracy: 0.9928 - val_loss: 1.0770 - val_accuracy: 0.8000 - lr: 5.0000e-04\n",
      "Epoch 74/100\n",
      "3/3 [==============================] - 0s 74ms/step - loss: 0.8176 - accuracy: 1.0000 - val_loss: 0.9962 - val_accuracy: 0.9333 - lr: 5.0000e-04\n",
      "Epoch 75/100\n",
      "3/3 [==============================] - 0s 71ms/step - loss: 0.8579 - accuracy: 0.9855 - val_loss: 0.9554 - val_accuracy: 0.9333 - lr: 5.0000e-04\n",
      "Epoch 76/100\n",
      "3/3 [==============================] - 0s 72ms/step - loss: 0.8055 - accuracy: 1.0000 - val_loss: 0.9966 - val_accuracy: 0.9333 - lr: 5.0000e-04\n",
      "Epoch 77/100\n",
      "3/3 [==============================] - 0s 71ms/step - loss: 0.8409 - accuracy: 0.9928 - val_loss: 0.9928 - val_accuracy: 0.8667 - lr: 5.0000e-04\n",
      "Epoch 78/100\n",
      "3/3 [==============================] - 0s 70ms/step - loss: 0.8035 - accuracy: 1.0000 - val_loss: 1.0845 - val_accuracy: 0.8667 - lr: 5.0000e-04\n",
      "Epoch 79/100\n",
      "3/3 [==============================] - 0s 73ms/step - loss: 0.8263 - accuracy: 0.9855 - val_loss: 1.0245 - val_accuracy: 0.9333 - lr: 5.0000e-04\n",
      "Epoch 80/100\n",
      "3/3 [==============================] - 0s 73ms/step - loss: 0.8004 - accuracy: 0.9928 - val_loss: 0.9132 - val_accuracy: 1.0000 - lr: 5.0000e-04\n",
      "Epoch 81/100\n",
      "3/3 [==============================] - 0s 73ms/step - loss: 0.7916 - accuracy: 0.9928 - val_loss: 0.9012 - val_accuracy: 1.0000 - lr: 5.0000e-04\n",
      "Epoch 82/100\n",
      "3/3 [==============================] - 0s 73ms/step - loss: 0.7968 - accuracy: 0.9928 - val_loss: 0.8778 - val_accuracy: 1.0000 - lr: 5.0000e-04\n",
      "Epoch 83/100\n",
      "3/3 [==============================] - 0s 71ms/step - loss: 0.8334 - accuracy: 0.9710 - val_loss: 0.9435 - val_accuracy: 0.9333 - lr: 5.0000e-04\n",
      "Epoch 84/100\n",
      "3/3 [==============================] - 0s 70ms/step - loss: 0.8379 - accuracy: 0.9638 - val_loss: 0.9918 - val_accuracy: 0.9333 - lr: 5.0000e-04\n",
      "Epoch 85/100\n",
      "3/3 [==============================] - 0s 68ms/step - loss: 0.8347 - accuracy: 0.9783 - val_loss: 1.0199 - val_accuracy: 0.9333 - lr: 5.0000e-04\n",
      "Epoch 86/100\n",
      "3/3 [==============================] - 0s 70ms/step - loss: 0.8958 - accuracy: 0.9783 - val_loss: 1.0053 - val_accuracy: 0.9333 - lr: 5.0000e-04\n",
      "Epoch 87/100\n",
      "3/3 [==============================] - 0s 144ms/step - loss: 0.8854 - accuracy: 0.9493 - val_loss: 1.0007 - val_accuracy: 0.9333 - lr: 5.0000e-04\n",
      "Epoch 88/100\n",
      "3/3 [==============================] - 0s 87ms/step - loss: 0.8482 - accuracy: 0.9783 - val_loss: 0.9563 - val_accuracy: 1.0000 - lr: 2.5000e-04\n",
      "Epoch 89/100\n",
      "3/3 [==============================] - 0s 69ms/step - loss: 0.8948 - accuracy: 0.9565 - val_loss: 0.9622 - val_accuracy: 1.0000 - lr: 2.5000e-04\n",
      "Epoch 90/100\n",
      "3/3 [==============================] - 0s 71ms/step - loss: 0.8283 - accuracy: 1.0000 - val_loss: 1.0061 - val_accuracy: 0.9333 - lr: 2.5000e-04\n",
      "Epoch 91/100\n",
      "3/3 [==============================] - 0s 76ms/step - loss: 0.8160 - accuracy: 1.0000 - val_loss: 1.0523 - val_accuracy: 0.8667 - lr: 2.5000e-04\n",
      "Epoch 92/100\n",
      "3/3 [==============================] - 0s 77ms/step - loss: 0.8072 - accuracy: 0.9928 - val_loss: 1.0521 - val_accuracy: 0.8667 - lr: 2.5000e-04\n",
      "Epoch 1/100\n",
      "3/3 [==============================] - 1s 143ms/step - loss: 29.4501 - accuracy: 0.0072 - val_loss: 24.5085 - val_accuracy: 0.0000e+00 - lr: 0.0010\n",
      "Epoch 2/100\n",
      "3/3 [==============================] - 0s 71ms/step - loss: 23.2712 - accuracy: 0.1449 - val_loss: 19.3268 - val_accuracy: 0.3333 - lr: 0.0010\n",
      "Epoch 3/100\n",
      "3/3 [==============================] - 0s 73ms/step - loss: 18.1007 - accuracy: 0.4420 - val_loss: 15.3854 - val_accuracy: 0.2000 - lr: 0.0010\n",
      "Epoch 4/100\n",
      "3/3 [==============================] - 0s 71ms/step - loss: 14.1980 - accuracy: 0.4928 - val_loss: 12.2046 - val_accuracy: 0.3333 - lr: 0.0010\n",
      "Epoch 5/100\n",
      "3/3 [==============================] - 0s 72ms/step - loss: 11.0572 - accuracy: 0.5507 - val_loss: 9.6772 - val_accuracy: 0.3333 - lr: 0.0010\n",
      "Epoch 6/100\n",
      "3/3 [==============================] - 0s 75ms/step - loss: 8.6954 - accuracy: 0.6957 - val_loss: 7.8836 - val_accuracy: 0.6667 - lr: 0.0010\n",
      "Epoch 7/100\n",
      "3/3 [==============================] - 0s 74ms/step - loss: 7.1002 - accuracy: 0.6957 - val_loss: 6.7284 - val_accuracy: 0.6000 - lr: 0.0010\n",
      "Epoch 8/100\n",
      "3/3 [==============================] - 0s 68ms/step - loss: 5.8610 - accuracy: 0.7609 - val_loss: 6.1754 - val_accuracy: 0.4667 - lr: 0.0010\n",
      "Epoch 9/100\n",
      "3/3 [==============================] - 0s 70ms/step - loss: 5.1224 - accuracy: 0.8116 - val_loss: 5.5293 - val_accuracy: 0.6000 - lr: 0.0010\n",
      "Epoch 10/100\n",
      "3/3 [==============================] - 0s 72ms/step - loss: 4.6019 - accuracy: 0.8333 - val_loss: 4.7579 - val_accuracy: 0.8000 - lr: 0.0010\n",
      "Epoch 11/100\n",
      "3/3 [==============================] - 0s 71ms/step - loss: 4.2733 - accuracy: 0.7899 - val_loss: 4.5043 - val_accuracy: 0.6667 - lr: 0.0010\n",
      "Epoch 12/100\n",
      "3/3 [==============================] - 0s 75ms/step - loss: 3.7831 - accuracy: 0.9275 - val_loss: 4.4063 - val_accuracy: 0.5333 - lr: 0.0010\n",
      "Epoch 13/100\n",
      "3/3 [==============================] - 0s 74ms/step - loss: 3.6660 - accuracy: 0.8333 - val_loss: 3.9637 - val_accuracy: 0.8000 - lr: 0.0010\n",
      "Epoch 14/100\n",
      "3/3 [==============================] - 0s 75ms/step - loss: 3.3337 - accuracy: 0.8913 - val_loss: 3.6920 - val_accuracy: 0.7333 - lr: 0.0010\n",
      "Epoch 15/100\n",
      "3/3 [==============================] - 0s 74ms/step - loss: 3.1051 - accuracy: 0.9348 - val_loss: 3.5443 - val_accuracy: 0.9333 - lr: 0.0010\n",
      "Epoch 16/100\n",
      "3/3 [==============================] - 0s 70ms/step - loss: 2.9328 - accuracy: 0.9710 - val_loss: 3.2818 - val_accuracy: 0.8667 - lr: 0.0010\n",
      "Epoch 17/100\n",
      "3/3 [==============================] - 0s 140ms/step - loss: 2.7749 - accuracy: 0.9348 - val_loss: 3.1456 - val_accuracy: 0.8000 - lr: 0.0010\n",
      "Epoch 18/100\n",
      "3/3 [==============================] - 0s 91ms/step - loss: 2.6424 - accuracy: 0.9275 - val_loss: 2.9507 - val_accuracy: 0.8667 - lr: 0.0010\n",
      "Epoch 19/100\n",
      "3/3 [==============================] - 0s 70ms/step - loss: 2.5000 - accuracy: 0.9420 - val_loss: 2.9517 - val_accuracy: 0.8000 - lr: 0.0010\n",
      "Epoch 20/100\n",
      "3/3 [==============================] - 0s 68ms/step - loss: 2.4183 - accuracy: 0.9275 - val_loss: 3.1473 - val_accuracy: 0.8000 - lr: 0.0010\n",
      "Epoch 21/100\n",
      "3/3 [==============================] - 0s 70ms/step - loss: 2.4046 - accuracy: 0.9348 - val_loss: 3.0052 - val_accuracy: 0.7333 - lr: 0.0010\n",
      "Epoch 22/100\n",
      "3/3 [==============================] - 0s 71ms/step - loss: 2.3995 - accuracy: 0.9203 - val_loss: 2.9911 - val_accuracy: 0.6667 - lr: 0.0010\n",
      "Epoch 23/100\n",
      "3/3 [==============================] - 0s 73ms/step - loss: 2.2463 - accuracy: 0.9130 - val_loss: 2.5957 - val_accuracy: 0.8000 - lr: 0.0010\n",
      "Epoch 24/100\n",
      "3/3 [==============================] - 0s 68ms/step - loss: 2.2630 - accuracy: 0.9130 - val_loss: 2.7174 - val_accuracy: 0.8000 - lr: 0.0010\n",
      "Epoch 25/100\n",
      "3/3 [==============================] - 0s 69ms/step - loss: 2.2571 - accuracy: 0.8986 - val_loss: 2.8760 - val_accuracy: 0.6667 - lr: 0.0010\n",
      "Epoch 26/100\n",
      "3/3 [==============================] - 0s 69ms/step - loss: 2.1760 - accuracy: 0.9493 - val_loss: 2.6264 - val_accuracy: 0.8000 - lr: 0.0010\n",
      "Epoch 27/100\n",
      "3/3 [==============================] - 0s 75ms/step - loss: 2.3085 - accuracy: 0.8913 - val_loss: 2.5489 - val_accuracy: 0.8667 - lr: 0.0010\n",
      "Epoch 28/100\n",
      "3/3 [==============================] - 0s 67ms/step - loss: 2.1372 - accuracy: 0.9348 - val_loss: 3.0548 - val_accuracy: 0.6000 - lr: 0.0010\n",
      "Epoch 29/100\n",
      "3/3 [==============================] - 0s 70ms/step - loss: 2.2235 - accuracy: 0.9203 - val_loss: 2.9132 - val_accuracy: 0.6000 - lr: 0.0010\n",
      "Epoch 30/100\n",
      "3/3 [==============================] - 0s 71ms/step - loss: 2.1088 - accuracy: 0.9710 - val_loss: 2.6682 - val_accuracy: 0.8000 - lr: 0.0010\n",
      "Epoch 31/100\n",
      "3/3 [==============================] - 0s 78ms/step - loss: 2.0586 - accuracy: 0.9638 - val_loss: 2.4818 - val_accuracy: 0.8667 - lr: 0.0010\n",
      "Epoch 32/100\n",
      "3/3 [==============================] - 0s 74ms/step - loss: 2.0132 - accuracy: 0.9710 - val_loss: 2.3731 - val_accuracy: 0.8667 - lr: 0.0010\n",
      "Epoch 33/100\n",
      "3/3 [==============================] - 0s 70ms/step - loss: 1.9132 - accuracy: 0.9783 - val_loss: 2.3505 - val_accuracy: 0.7333 - lr: 0.0010\n",
      "Epoch 34/100\n",
      "3/3 [==============================] - 0s 72ms/step - loss: 1.7940 - accuracy: 0.9855 - val_loss: 2.3161 - val_accuracy: 0.8667 - lr: 0.0010\n",
      "Epoch 35/100\n",
      "3/3 [==============================] - 0s 93ms/step - loss: 1.8057 - accuracy: 0.9275 - val_loss: 2.0845 - val_accuracy: 0.8000 - lr: 0.0010\n",
      "Epoch 36/100\n",
      "3/3 [==============================] - 0s 122ms/step - loss: 1.7298 - accuracy: 0.9493 - val_loss: 1.9973 - val_accuracy: 0.8000 - lr: 0.0010\n",
      "Epoch 37/100\n",
      "3/3 [==============================] - 0s 91ms/step - loss: 1.6419 - accuracy: 0.9855 - val_loss: 2.1536 - val_accuracy: 0.8000 - lr: 0.0010\n",
      "Epoch 38/100\n",
      "3/3 [==============================] - 0s 71ms/step - loss: 1.7545 - accuracy: 0.8986 - val_loss: 2.0920 - val_accuracy: 0.8667 - lr: 0.0010\n",
      "Epoch 39/100\n",
      "3/3 [==============================] - 0s 70ms/step - loss: 1.6556 - accuracy: 0.9565 - val_loss: 2.1018 - val_accuracy: 0.7333 - lr: 0.0010\n",
      "Epoch 40/100\n",
      "3/3 [==============================] - 0s 71ms/step - loss: 1.6222 - accuracy: 0.9783 - val_loss: 1.9545 - val_accuracy: 0.8667 - lr: 0.0010\n",
      "Epoch 41/100\n",
      "3/3 [==============================] - 0s 71ms/step - loss: 1.5886 - accuracy: 0.9565 - val_loss: 2.0104 - val_accuracy: 0.9333 - lr: 0.0010\n",
      "Epoch 42/100\n",
      "3/3 [==============================] - 0s 72ms/step - loss: 1.5580 - accuracy: 0.9928 - val_loss: 1.9212 - val_accuracy: 0.9333 - lr: 0.0010\n",
      "Epoch 43/100\n",
      "3/3 [==============================] - 0s 72ms/step - loss: 1.5135 - accuracy: 0.9855 - val_loss: 1.7551 - val_accuracy: 1.0000 - lr: 0.0010\n",
      "Epoch 44/100\n",
      "3/3 [==============================] - 0s 68ms/step - loss: 1.4768 - accuracy: 1.0000 - val_loss: 1.8020 - val_accuracy: 0.9333 - lr: 0.0010\n",
      "Epoch 45/100\n",
      "3/3 [==============================] - 0s 70ms/step - loss: 1.5018 - accuracy: 0.9638 - val_loss: 1.9800 - val_accuracy: 0.8000 - lr: 0.0010\n",
      "Epoch 46/100\n",
      "3/3 [==============================] - 0s 70ms/step - loss: 1.4707 - accuracy: 0.9565 - val_loss: 1.8317 - val_accuracy: 0.8667 - lr: 0.0010\n",
      "Epoch 47/100\n",
      "3/3 [==============================] - 0s 71ms/step - loss: 1.4848 - accuracy: 0.9420 - val_loss: 1.8533 - val_accuracy: 0.8667 - lr: 0.0010\n",
      "Epoch 48/100\n",
      "3/3 [==============================] - 0s 69ms/step - loss: 1.4370 - accuracy: 0.9638 - val_loss: 1.9133 - val_accuracy: 0.8667 - lr: 0.0010\n",
      "Epoch 49/100\n",
      "3/3 [==============================] - 0s 65ms/step - loss: 1.4549 - accuracy: 0.9638 - val_loss: 1.8903 - val_accuracy: 0.8667 - lr: 5.0000e-04\n",
      "Epoch 50/100\n",
      "3/3 [==============================] - 0s 66ms/step - loss: 1.3960 - accuracy: 0.9783 - val_loss: 1.8450 - val_accuracy: 0.8667 - lr: 5.0000e-04\n",
      "Epoch 51/100\n",
      "3/3 [==============================] - 0s 70ms/step - loss: 1.3593 - accuracy: 0.9710 - val_loss: 1.7620 - val_accuracy: 0.8667 - lr: 5.0000e-04\n",
      "Epoch 52/100\n",
      "3/3 [==============================] - 0s 70ms/step - loss: 1.3129 - accuracy: 0.9928 - val_loss: 1.5935 - val_accuracy: 0.9333 - lr: 5.0000e-04\n",
      "Epoch 53/100\n",
      "3/3 [==============================] - 0s 71ms/step - loss: 1.2443 - accuracy: 0.9928 - val_loss: 1.5118 - val_accuracy: 0.8667 - lr: 5.0000e-04\n",
      "Epoch 54/100\n",
      "3/3 [==============================] - 0s 72ms/step - loss: 1.1994 - accuracy: 0.9928 - val_loss: 1.4957 - val_accuracy: 0.9333 - lr: 5.0000e-04\n",
      "Epoch 55/100\n",
      "3/3 [==============================] - 0s 77ms/step - loss: 1.1765 - accuracy: 0.9928 - val_loss: 1.4604 - val_accuracy: 0.9333 - lr: 5.0000e-04\n",
      "Epoch 56/100\n",
      "3/3 [==============================] - 0s 124ms/step - loss: 1.1390 - accuracy: 1.0000 - val_loss: 1.4313 - val_accuracy: 0.8000 - lr: 5.0000e-04\n",
      "Epoch 57/100\n",
      "3/3 [==============================] - 0s 86ms/step - loss: 1.1117 - accuracy: 0.9928 - val_loss: 1.4109 - val_accuracy: 0.8667 - lr: 5.0000e-04\n",
      "Epoch 58/100\n",
      "3/3 [==============================] - 0s 71ms/step - loss: 1.0598 - accuracy: 1.0000 - val_loss: 1.4242 - val_accuracy: 0.8667 - lr: 5.0000e-04\n",
      "Epoch 59/100\n",
      "3/3 [==============================] - 0s 69ms/step - loss: 1.0277 - accuracy: 1.0000 - val_loss: 1.4618 - val_accuracy: 0.8000 - lr: 5.0000e-04\n",
      "Epoch 60/100\n",
      "3/3 [==============================] - 0s 68ms/step - loss: 1.0199 - accuracy: 1.0000 - val_loss: 1.4472 - val_accuracy: 0.8667 - lr: 5.0000e-04\n",
      "Epoch 61/100\n",
      "3/3 [==============================] - 0s 70ms/step - loss: 1.0118 - accuracy: 0.9855 - val_loss: 1.4867 - val_accuracy: 0.8000 - lr: 5.0000e-04\n",
      "Epoch 62/100\n",
      "3/3 [==============================] - 0s 70ms/step - loss: 1.0048 - accuracy: 0.9928 - val_loss: 1.4204 - val_accuracy: 0.8000 - lr: 5.0000e-04\n",
      "Epoch 63/100\n",
      "3/3 [==============================] - 0s 76ms/step - loss: 0.9687 - accuracy: 0.9928 - val_loss: 1.3659 - val_accuracy: 0.8000 - lr: 2.5000e-04\n",
      "Epoch 64/100\n",
      "3/3 [==============================] - 0s 74ms/step - loss: 0.9494 - accuracy: 0.9928 - val_loss: 1.3170 - val_accuracy: 0.8667 - lr: 2.5000e-04\n",
      "Epoch 65/100\n",
      "3/3 [==============================] - 0s 83ms/step - loss: 0.9195 - accuracy: 1.0000 - val_loss: 1.2831 - val_accuracy: 0.9333 - lr: 2.5000e-04\n",
      "Epoch 66/100\n",
      "3/3 [==============================] - 0s 88ms/step - loss: 0.9192 - accuracy: 0.9928 - val_loss: 1.2428 - val_accuracy: 0.9333 - lr: 2.5000e-04\n",
      "Epoch 67/100\n",
      "3/3 [==============================] - 0s 81ms/step - loss: 0.9247 - accuracy: 0.9855 - val_loss: 1.2147 - val_accuracy: 0.9333 - lr: 2.5000e-04\n",
      "Epoch 68/100\n",
      "3/3 [==============================] - 0s 78ms/step - loss: 0.9172 - accuracy: 1.0000 - val_loss: 1.2313 - val_accuracy: 0.8667 - lr: 2.5000e-04\n",
      "Epoch 69/100\n",
      "3/3 [==============================] - 0s 79ms/step - loss: 0.8658 - accuracy: 1.0000 - val_loss: 1.2520 - val_accuracy: 0.9333 - lr: 2.5000e-04\n",
      "Epoch 70/100\n",
      "3/3 [==============================] - 0s 70ms/step - loss: 0.8922 - accuracy: 0.9783 - val_loss: 1.2281 - val_accuracy: 0.9333 - lr: 2.5000e-04\n",
      "Epoch 71/100\n",
      "3/3 [==============================] - 0s 74ms/step - loss: 0.8778 - accuracy: 1.0000 - val_loss: 1.2079 - val_accuracy: 0.8667 - lr: 2.5000e-04\n",
      "Epoch 72/100\n",
      "3/3 [==============================] - 0s 71ms/step - loss: 0.8541 - accuracy: 0.9855 - val_loss: 1.2370 - val_accuracy: 0.8000 - lr: 2.5000e-04\n",
      "Epoch 73/100\n",
      "3/3 [==============================] - 0s 145ms/step - loss: 0.8222 - accuracy: 1.0000 - val_loss: 1.2626 - val_accuracy: 0.8667 - lr: 2.5000e-04\n",
      "Epoch 74/100\n",
      "3/3 [==============================] - 0s 79ms/step - loss: 0.8164 - accuracy: 1.0000 - val_loss: 1.1965 - val_accuracy: 0.8667 - lr: 2.5000e-04\n",
      "Epoch 75/100\n",
      "3/3 [==============================] - 0s 75ms/step - loss: 0.8104 - accuracy: 1.0000 - val_loss: 1.1196 - val_accuracy: 1.0000 - lr: 2.5000e-04\n",
      "Epoch 76/100\n",
      "3/3 [==============================] - 0s 68ms/step - loss: 0.8124 - accuracy: 0.9928 - val_loss: 1.1221 - val_accuracy: 1.0000 - lr: 2.5000e-04\n",
      "Epoch 77/100\n",
      "3/3 [==============================] - 0s 71ms/step - loss: 0.7962 - accuracy: 1.0000 - val_loss: 1.1208 - val_accuracy: 1.0000 - lr: 2.5000e-04\n",
      "Epoch 78/100\n",
      "3/3 [==============================] - 0s 72ms/step - loss: 0.8001 - accuracy: 1.0000 - val_loss: 1.1414 - val_accuracy: 0.8667 - lr: 2.5000e-04\n",
      "Epoch 79/100\n",
      "3/3 [==============================] - 0s 74ms/step - loss: 0.7738 - accuracy: 1.0000 - val_loss: 1.2016 - val_accuracy: 0.8667 - lr: 2.5000e-04\n",
      "Epoch 80/100\n",
      "3/3 [==============================] - 0s 72ms/step - loss: 0.7902 - accuracy: 1.0000 - val_loss: 1.2381 - val_accuracy: 0.8667 - lr: 2.5000e-04\n",
      "Epoch 81/100\n",
      "3/3 [==============================] - 0s 71ms/step - loss: 0.7682 - accuracy: 1.0000 - val_loss: 1.2155 - val_accuracy: 0.8667 - lr: 1.2500e-04\n",
      "Epoch 82/100\n",
      "3/3 [==============================] - 0s 69ms/step - loss: 0.7710 - accuracy: 1.0000 - val_loss: 1.1901 - val_accuracy: 0.8667 - lr: 1.2500e-04\n",
      "Epoch 83/100\n",
      "3/3 [==============================] - 0s 71ms/step - loss: 0.7861 - accuracy: 1.0000 - val_loss: 1.1408 - val_accuracy: 0.8667 - lr: 1.2500e-04\n",
      "Epoch 84/100\n",
      "3/3 [==============================] - 0s 76ms/step - loss: 0.7538 - accuracy: 1.0000 - val_loss: 1.0912 - val_accuracy: 0.8667 - lr: 1.2500e-04\n",
      "Epoch 85/100\n",
      "3/3 [==============================] - 0s 71ms/step - loss: 0.7515 - accuracy: 1.0000 - val_loss: 1.0693 - val_accuracy: 1.0000 - lr: 1.2500e-04\n",
      "Epoch 86/100\n",
      "3/3 [==============================] - 0s 73ms/step - loss: 0.7623 - accuracy: 1.0000 - val_loss: 1.0652 - val_accuracy: 1.0000 - lr: 1.2500e-04\n",
      "Epoch 87/100\n",
      "3/3 [==============================] - 0s 74ms/step - loss: 0.7544 - accuracy: 1.0000 - val_loss: 1.0614 - val_accuracy: 1.0000 - lr: 1.2500e-04\n",
      "Epoch 88/100\n",
      "3/3 [==============================] - 0s 71ms/step - loss: 0.7457 - accuracy: 0.9928 - val_loss: 1.0551 - val_accuracy: 1.0000 - lr: 1.2500e-04\n",
      "Epoch 89/100\n",
      "3/3 [==============================] - 0s 69ms/step - loss: 0.7655 - accuracy: 0.9855 - val_loss: 1.0618 - val_accuracy: 1.0000 - lr: 1.2500e-04\n",
      "Epoch 90/100\n",
      "3/3 [==============================] - 0s 127ms/step - loss: 0.7426 - accuracy: 1.0000 - val_loss: 1.0628 - val_accuracy: 1.0000 - lr: 1.2500e-04\n",
      "Epoch 91/100\n",
      "3/3 [==============================] - 0s 86ms/step - loss: 0.7331 - accuracy: 1.0000 - val_loss: 1.0653 - val_accuracy: 0.9333 - lr: 1.2500e-04\n",
      "Epoch 92/100\n",
      "3/3 [==============================] - 0s 69ms/step - loss: 0.7589 - accuracy: 0.9928 - val_loss: 1.0653 - val_accuracy: 0.9333 - lr: 1.2500e-04\n",
      "Epoch 93/100\n",
      "3/3 [==============================] - 0s 69ms/step - loss: 0.7439 - accuracy: 1.0000 - val_loss: 1.0695 - val_accuracy: 0.8667 - lr: 1.2500e-04\n",
      "Epoch 94/100\n",
      "3/3 [==============================] - 0s 70ms/step - loss: 0.7236 - accuracy: 1.0000 - val_loss: 1.0729 - val_accuracy: 0.8667 - lr: 6.2500e-05\n",
      "Epoch 95/100\n",
      "3/3 [==============================] - 0s 70ms/step - loss: 0.7230 - accuracy: 1.0000 - val_loss: 1.0713 - val_accuracy: 0.8667 - lr: 6.2500e-05\n",
      "Epoch 96/100\n",
      "3/3 [==============================] - 0s 71ms/step - loss: 0.7180 - accuracy: 1.0000 - val_loss: 1.0735 - val_accuracy: 0.8667 - lr: 6.2500e-05\n",
      "Epoch 97/100\n",
      "3/3 [==============================] - 0s 71ms/step - loss: 0.7200 - accuracy: 1.0000 - val_loss: 1.0751 - val_accuracy: 0.8667 - lr: 6.2500e-05\n",
      "Epoch 98/100\n",
      "3/3 [==============================] - 0s 71ms/step - loss: 0.7105 - accuracy: 1.0000 - val_loss: 1.0751 - val_accuracy: 0.8667 - lr: 6.2500e-05\n",
      "Epoch 1/100\n",
      "3/3 [==============================] - 1s 150ms/step - loss: 29.2731 - accuracy: 0.0870 - val_loss: 23.6799 - val_accuracy: 0.3333 - lr: 0.0010\n",
      "Epoch 2/100\n",
      "3/3 [==============================] - 0s 68ms/step - loss: 22.4656 - accuracy: 0.2246 - val_loss: 18.3413 - val_accuracy: 0.3333 - lr: 0.0010\n",
      "Epoch 3/100\n",
      "3/3 [==============================] - 0s 69ms/step - loss: 17.2894 - accuracy: 0.3478 - val_loss: 14.0927 - val_accuracy: 0.3333 - lr: 0.0010\n",
      "Epoch 4/100\n",
      "3/3 [==============================] - 0s 66ms/step - loss: 13.1439 - accuracy: 0.5000 - val_loss: 10.7505 - val_accuracy: 0.6667 - lr: 0.0010\n",
      "Epoch 5/100\n",
      "3/3 [==============================] - 0s 159ms/step - loss: 10.0962 - accuracy: 0.5507 - val_loss: 8.3597 - val_accuracy: 0.8000 - lr: 0.0010\n",
      "Epoch 6/100\n",
      "3/3 [==============================] - 0s 82ms/step - loss: 7.8890 - accuracy: 0.6014 - val_loss: 6.6157 - val_accuracy: 0.9333 - lr: 0.0010\n",
      "Epoch 7/100\n",
      "3/3 [==============================] - 0s 73ms/step - loss: 6.3594 - accuracy: 0.6812 - val_loss: 5.4373 - val_accuracy: 0.8667 - lr: 0.0010\n",
      "Epoch 8/100\n",
      "3/3 [==============================] - 0s 76ms/step - loss: 5.2939 - accuracy: 0.7609 - val_loss: 4.8680 - val_accuracy: 0.8000 - lr: 0.0010\n",
      "Epoch 9/100\n",
      "3/3 [==============================] - 0s 74ms/step - loss: 4.7559 - accuracy: 0.7464 - val_loss: 4.4599 - val_accuracy: 0.8667 - lr: 0.0010\n",
      "Epoch 10/100\n",
      "3/3 [==============================] - 0s 72ms/step - loss: 4.3530 - accuracy: 0.7536 - val_loss: 4.0640 - val_accuracy: 0.8667 - lr: 0.0010\n",
      "Epoch 11/100\n",
      "3/3 [==============================] - 0s 72ms/step - loss: 3.9223 - accuracy: 0.9058 - val_loss: 3.8449 - val_accuracy: 0.8667 - lr: 0.0010\n",
      "Epoch 12/100\n",
      "3/3 [==============================] - 0s 70ms/step - loss: 3.6332 - accuracy: 0.9275 - val_loss: 3.6447 - val_accuracy: 0.8667 - lr: 0.0010\n",
      "Epoch 13/100\n",
      "3/3 [==============================] - 0s 73ms/step - loss: 3.3702 - accuracy: 0.9638 - val_loss: 3.4790 - val_accuracy: 0.8667 - lr: 0.0010\n",
      "Epoch 14/100\n",
      "3/3 [==============================] - 0s 70ms/step - loss: 3.2588 - accuracy: 0.9058 - val_loss: 3.1684 - val_accuracy: 0.8667 - lr: 0.0010\n",
      "Epoch 15/100\n",
      "3/3 [==============================] - 0s 73ms/step - loss: 3.0221 - accuracy: 0.9275 - val_loss: 2.9626 - val_accuracy: 0.9333 - lr: 0.0010\n",
      "Epoch 16/100\n",
      "3/3 [==============================] - 0s 70ms/step - loss: 2.8866 - accuracy: 0.9130 - val_loss: 2.8531 - val_accuracy: 0.9333 - lr: 0.0010\n",
      "Epoch 17/100\n",
      "3/3 [==============================] - 0s 81ms/step - loss: 2.7291 - accuracy: 0.9420 - val_loss: 2.8207 - val_accuracy: 0.8000 - lr: 0.0010\n",
      "Epoch 18/100\n",
      "3/3 [==============================] - 0s 75ms/step - loss: 2.6601 - accuracy: 0.9275 - val_loss: 2.6267 - val_accuracy: 0.8000 - lr: 0.0010\n",
      "Epoch 19/100\n",
      "3/3 [==============================] - 0s 72ms/step - loss: 2.4274 - accuracy: 0.9638 - val_loss: 2.5287 - val_accuracy: 0.9333 - lr: 0.0010\n",
      "Epoch 20/100\n",
      "3/3 [==============================] - 0s 78ms/step - loss: 2.3743 - accuracy: 0.9348 - val_loss: 2.4612 - val_accuracy: 0.8667 - lr: 0.0010\n",
      "Epoch 21/100\n",
      "3/3 [==============================] - 0s 68ms/step - loss: 2.3128 - accuracy: 0.9348 - val_loss: 2.3441 - val_accuracy: 0.9333 - lr: 0.0010\n",
      "Epoch 22/100\n",
      "3/3 [==============================] - 0s 65ms/step - loss: 2.2235 - accuracy: 0.9420 - val_loss: 2.3783 - val_accuracy: 0.9333 - lr: 0.0010\n",
      "Epoch 23/100\n",
      "3/3 [==============================] - 0s 73ms/step - loss: 2.1450 - accuracy: 0.9203 - val_loss: 2.3424 - val_accuracy: 0.7333 - lr: 0.0010\n",
      "Epoch 24/100\n",
      "3/3 [==============================] - 0s 163ms/step - loss: 2.0534 - accuracy: 0.9348 - val_loss: 2.2035 - val_accuracy: 0.9333 - lr: 0.0010\n",
      "Epoch 25/100\n",
      "3/3 [==============================] - 0s 84ms/step - loss: 1.9859 - accuracy: 0.9565 - val_loss: 2.0903 - val_accuracy: 0.8667 - lr: 0.0010\n",
      "Epoch 26/100\n",
      "3/3 [==============================] - 0s 74ms/step - loss: 1.8805 - accuracy: 0.9638 - val_loss: 1.9795 - val_accuracy: 0.9333 - lr: 0.0010\n",
      "Epoch 27/100\n",
      "3/3 [==============================] - 0s 73ms/step - loss: 1.8012 - accuracy: 0.9855 - val_loss: 1.8202 - val_accuracy: 0.9333 - lr: 0.0010\n",
      "Epoch 28/100\n",
      "3/3 [==============================] - 0s 70ms/step - loss: 1.7396 - accuracy: 0.9783 - val_loss: 1.7826 - val_accuracy: 0.9333 - lr: 0.0010\n",
      "Epoch 29/100\n",
      "3/3 [==============================] - 0s 69ms/step - loss: 1.6959 - accuracy: 0.9928 - val_loss: 1.8535 - val_accuracy: 0.9333 - lr: 0.0010\n",
      "Epoch 30/100\n",
      "3/3 [==============================] - 0s 69ms/step - loss: 1.6366 - accuracy: 0.9638 - val_loss: 1.8581 - val_accuracy: 0.9333 - lr: 0.0010\n",
      "Epoch 31/100\n",
      "3/3 [==============================] - 0s 74ms/step - loss: 1.6638 - accuracy: 0.9275 - val_loss: 1.6533 - val_accuracy: 1.0000 - lr: 0.0010\n",
      "Epoch 32/100\n",
      "3/3 [==============================] - 0s 71ms/step - loss: 1.6305 - accuracy: 0.9493 - val_loss: 1.7976 - val_accuracy: 0.9333 - lr: 0.0010\n",
      "Epoch 33/100\n",
      "3/3 [==============================] - 0s 70ms/step - loss: 1.6177 - accuracy: 0.9493 - val_loss: 1.8041 - val_accuracy: 0.9333 - lr: 0.0010\n",
      "Epoch 34/100\n",
      "3/3 [==============================] - 0s 70ms/step - loss: 1.7184 - accuracy: 0.9058 - val_loss: 2.1816 - val_accuracy: 0.8667 - lr: 0.0010\n",
      "Epoch 35/100\n",
      "3/3 [==============================] - 0s 74ms/step - loss: 1.8469 - accuracy: 0.8841 - val_loss: 2.3150 - val_accuracy: 0.8667 - lr: 0.0010\n",
      "Epoch 36/100\n",
      "3/3 [==============================] - 0s 69ms/step - loss: 1.8238 - accuracy: 0.9420 - val_loss: 1.8675 - val_accuracy: 1.0000 - lr: 0.0010\n",
      "Epoch 37/100\n",
      "3/3 [==============================] - 0s 70ms/step - loss: 1.8474 - accuracy: 0.9203 - val_loss: 1.7648 - val_accuracy: 1.0000 - lr: 5.0000e-04\n",
      "Epoch 38/100\n",
      "3/3 [==============================] - 0s 69ms/step - loss: 1.7922 - accuracy: 0.9565 - val_loss: 1.7008 - val_accuracy: 1.0000 - lr: 5.0000e-04\n",
      "Epoch 39/100\n",
      "3/3 [==============================] - 0s 69ms/step - loss: 1.7641 - accuracy: 0.9710 - val_loss: 1.6858 - val_accuracy: 0.9333 - lr: 5.0000e-04\n",
      "Epoch 40/100\n",
      "3/3 [==============================] - 0s 95ms/step - loss: 1.6352 - accuracy: 0.9783 - val_loss: 1.7395 - val_accuracy: 0.9333 - lr: 5.0000e-04\n",
      "Epoch 41/100\n",
      "3/3 [==============================] - 0s 107ms/step - loss: 1.6739 - accuracy: 0.9420 - val_loss: 1.7203 - val_accuracy: 0.9333 - lr: 5.0000e-04\n",
      "Epoch 1/100\n",
      "3/3 [==============================] - 1s 150ms/step - loss: 29.2211 - accuracy: 0.0507 - val_loss: 24.1685 - val_accuracy: 0.0667 - lr: 0.0010\n",
      "Epoch 2/100\n",
      "3/3 [==============================] - 0s 68ms/step - loss: 23.0065 - accuracy: 0.1304 - val_loss: 18.8259 - val_accuracy: 0.4667 - lr: 0.0010\n",
      "Epoch 3/100\n",
      "3/3 [==============================] - 0s 71ms/step - loss: 17.7212 - accuracy: 0.3696 - val_loss: 14.7191 - val_accuracy: 0.4667 - lr: 0.0010\n",
      "Epoch 4/100\n",
      "3/3 [==============================] - 0s 71ms/step - loss: 13.6542 - accuracy: 0.5217 - val_loss: 11.4483 - val_accuracy: 0.6667 - lr: 0.0010\n",
      "Epoch 5/100\n",
      "3/3 [==============================] - 0s 72ms/step - loss: 10.5876 - accuracy: 0.6377 - val_loss: 8.9259 - val_accuracy: 0.7333 - lr: 0.0010\n",
      "Epoch 6/100\n",
      "3/3 [==============================] - 0s 70ms/step - loss: 8.3206 - accuracy: 0.7174 - val_loss: 7.3223 - val_accuracy: 0.7333 - lr: 0.0010\n",
      "Epoch 7/100\n",
      "3/3 [==============================] - 0s 72ms/step - loss: 6.7907 - accuracy: 0.7536 - val_loss: 6.1780 - val_accuracy: 0.8000 - lr: 0.0010\n",
      "Epoch 8/100\n",
      "3/3 [==============================] - 0s 69ms/step - loss: 5.5714 - accuracy: 0.8406 - val_loss: 5.1644 - val_accuracy: 0.9333 - lr: 0.0010\n",
      "Epoch 9/100\n",
      "3/3 [==============================] - 0s 71ms/step - loss: 4.8886 - accuracy: 0.8623 - val_loss: 4.7510 - val_accuracy: 0.7333 - lr: 0.0010\n",
      "Epoch 10/100\n",
      "3/3 [==============================] - 0s 73ms/step - loss: 4.5889 - accuracy: 0.8188 - val_loss: 4.2128 - val_accuracy: 0.9333 - lr: 0.0010\n",
      "Epoch 11/100\n",
      "3/3 [==============================] - 0s 74ms/step - loss: 4.0881 - accuracy: 0.8841 - val_loss: 4.1216 - val_accuracy: 0.8667 - lr: 0.0010\n",
      "Epoch 12/100\n",
      "3/3 [==============================] - 0s 70ms/step - loss: 3.9209 - accuracy: 0.8333 - val_loss: 3.7579 - val_accuracy: 0.9333 - lr: 0.0010\n",
      "Epoch 13/100\n",
      "3/3 [==============================] - 0s 69ms/step - loss: 3.4953 - accuracy: 0.9493 - val_loss: 3.4777 - val_accuracy: 1.0000 - lr: 0.0010\n",
      "Epoch 14/100\n",
      "3/3 [==============================] - 0s 72ms/step - loss: 3.3592 - accuracy: 0.9203 - val_loss: 3.2848 - val_accuracy: 1.0000 - lr: 0.0010\n",
      "Epoch 15/100\n",
      "3/3 [==============================] - 0s 66ms/step - loss: 3.1618 - accuracy: 0.9348 - val_loss: 3.0582 - val_accuracy: 0.8667 - lr: 0.0010\n",
      "Epoch 16/100\n",
      "3/3 [==============================] - 0s 128ms/step - loss: 2.8763 - accuracy: 0.9638 - val_loss: 2.9616 - val_accuracy: 0.8667 - lr: 0.0010\n",
      "Epoch 17/100\n",
      "3/3 [==============================] - 0s 86ms/step - loss: 2.8029 - accuracy: 0.9348 - val_loss: 2.8791 - val_accuracy: 0.8667 - lr: 0.0010\n",
      "Epoch 18/100\n",
      "3/3 [==============================] - 0s 90ms/step - loss: 2.6479 - accuracy: 0.9420 - val_loss: 2.8023 - val_accuracy: 1.0000 - lr: 0.0010\n",
      "Epoch 19/100\n",
      "3/3 [==============================] - 0s 77ms/step - loss: 2.5958 - accuracy: 0.9275 - val_loss: 2.6777 - val_accuracy: 0.9333 - lr: 0.0010\n",
      "Epoch 20/100\n",
      "3/3 [==============================] - 0s 73ms/step - loss: 2.6088 - accuracy: 0.8768 - val_loss: 2.5476 - val_accuracy: 0.9333 - lr: 0.0010\n",
      "Epoch 21/100\n",
      "3/3 [==============================] - 0s 68ms/step - loss: 2.4579 - accuracy: 0.9130 - val_loss: 2.5509 - val_accuracy: 1.0000 - lr: 0.0010\n",
      "Epoch 22/100\n",
      "3/3 [==============================] - 0s 72ms/step - loss: 2.3523 - accuracy: 0.9493 - val_loss: 2.4579 - val_accuracy: 1.0000 - lr: 0.0010\n",
      "Epoch 23/100\n",
      "3/3 [==============================] - 0s 72ms/step - loss: 2.3337 - accuracy: 0.9420 - val_loss: 2.3379 - val_accuracy: 1.0000 - lr: 0.0010\n",
      "Epoch 24/100\n",
      "3/3 [==============================] - 0s 73ms/step - loss: 2.2764 - accuracy: 0.9420 - val_loss: 2.2944 - val_accuracy: 0.9333 - lr: 0.0010\n",
      "Epoch 25/100\n",
      "3/3 [==============================] - 0s 70ms/step - loss: 2.1903 - accuracy: 0.9130 - val_loss: 2.2415 - val_accuracy: 0.9333 - lr: 0.0010\n",
      "Epoch 26/100\n",
      "3/3 [==============================] - 0s 73ms/step - loss: 2.1136 - accuracy: 0.9710 - val_loss: 2.1599 - val_accuracy: 1.0000 - lr: 0.0010\n",
      "Epoch 27/100\n",
      "3/3 [==============================] - 0s 72ms/step - loss: 2.0351 - accuracy: 0.9783 - val_loss: 2.0798 - val_accuracy: 1.0000 - lr: 0.0010\n",
      "Epoch 28/100\n",
      "3/3 [==============================] - 0s 67ms/step - loss: 1.9968 - accuracy: 0.9565 - val_loss: 2.1156 - val_accuracy: 0.8667 - lr: 0.0010\n",
      "Epoch 29/100\n",
      "3/3 [==============================] - 0s 66ms/step - loss: 2.0029 - accuracy: 0.9493 - val_loss: 2.0885 - val_accuracy: 0.9333 - lr: 0.0010\n",
      "Epoch 30/100\n",
      "3/3 [==============================] - 0s 74ms/step - loss: 1.9427 - accuracy: 0.9420 - val_loss: 1.9618 - val_accuracy: 1.0000 - lr: 0.0010\n",
      "Epoch 31/100\n",
      "3/3 [==============================] - 0s 71ms/step - loss: 1.8237 - accuracy: 0.9710 - val_loss: 1.9470 - val_accuracy: 1.0000 - lr: 0.0010\n",
      "Epoch 32/100\n",
      "3/3 [==============================] - 0s 70ms/step - loss: 1.8140 - accuracy: 0.9565 - val_loss: 1.8883 - val_accuracy: 0.9333 - lr: 0.0010\n",
      "Epoch 33/100\n",
      "3/3 [==============================] - 0s 147ms/step - loss: 1.7469 - accuracy: 1.0000 - val_loss: 1.8266 - val_accuracy: 0.9333 - lr: 0.0010\n",
      "Epoch 34/100\n",
      "3/3 [==============================] - 0s 80ms/step - loss: 1.7501 - accuracy: 0.9638 - val_loss: 1.7002 - val_accuracy: 1.0000 - lr: 0.0010\n",
      "Epoch 35/100\n",
      "3/3 [==============================] - 0s 70ms/step - loss: 1.6676 - accuracy: 0.9420 - val_loss: 1.7255 - val_accuracy: 1.0000 - lr: 0.0010\n",
      "Epoch 36/100\n",
      "3/3 [==============================] - 0s 72ms/step - loss: 1.6536 - accuracy: 0.9493 - val_loss: 1.7100 - val_accuracy: 1.0000 - lr: 0.0010\n",
      "Epoch 37/100\n",
      "3/3 [==============================] - 0s 70ms/step - loss: 1.6160 - accuracy: 0.9783 - val_loss: 1.7336 - val_accuracy: 0.9333 - lr: 0.0010\n",
      "Epoch 38/100\n",
      "3/3 [==============================] - 0s 69ms/step - loss: 1.6139 - accuracy: 0.9348 - val_loss: 1.8747 - val_accuracy: 0.8000 - lr: 0.0010\n",
      "Epoch 39/100\n",
      "3/3 [==============================] - 0s 70ms/step - loss: 1.6308 - accuracy: 0.9493 - val_loss: 1.6280 - val_accuracy: 0.9333 - lr: 0.0010\n",
      "Epoch 40/100\n",
      "3/3 [==============================] - 0s 70ms/step - loss: 1.5593 - accuracy: 0.9565 - val_loss: 1.6308 - val_accuracy: 0.9333 - lr: 0.0010\n",
      "Epoch 41/100\n",
      "3/3 [==============================] - 0s 72ms/step - loss: 1.6641 - accuracy: 0.9058 - val_loss: 1.6246 - val_accuracy: 0.9333 - lr: 0.0010\n",
      "Epoch 42/100\n",
      "3/3 [==============================] - 0s 72ms/step - loss: 1.5945 - accuracy: 0.9710 - val_loss: 1.7531 - val_accuracy: 0.9333 - lr: 0.0010\n",
      "Epoch 43/100\n",
      "3/3 [==============================] - 0s 68ms/step - loss: 1.5904 - accuracy: 0.9493 - val_loss: 1.7814 - val_accuracy: 0.8667 - lr: 0.0010\n",
      "Epoch 44/100\n",
      "3/3 [==============================] - 0s 67ms/step - loss: 1.6081 - accuracy: 0.9348 - val_loss: 1.7217 - val_accuracy: 0.9333 - lr: 0.0010\n",
      "Epoch 45/100\n",
      "3/3 [==============================] - 0s 71ms/step - loss: 1.5189 - accuracy: 0.9783 - val_loss: 1.5934 - val_accuracy: 0.9333 - lr: 0.0010\n",
      "Epoch 46/100\n",
      "3/3 [==============================] - 0s 71ms/step - loss: 1.4514 - accuracy: 0.9855 - val_loss: 1.5020 - val_accuracy: 1.0000 - lr: 0.0010\n",
      "Epoch 47/100\n",
      "3/3 [==============================] - 0s 70ms/step - loss: 1.4715 - accuracy: 0.9710 - val_loss: 1.5356 - val_accuracy: 1.0000 - lr: 0.0010\n",
      "Epoch 48/100\n",
      "3/3 [==============================] - 0s 70ms/step - loss: 1.4916 - accuracy: 0.9275 - val_loss: 1.5843 - val_accuracy: 0.9333 - lr: 0.0010\n",
      "Epoch 49/100\n",
      "3/3 [==============================] - 0s 118ms/step - loss: 1.3942 - accuracy: 0.9638 - val_loss: 1.6786 - val_accuracy: 0.8000 - lr: 0.0010\n",
      "Epoch 50/100\n",
      "3/3 [==============================] - 0s 88ms/step - loss: 1.4105 - accuracy: 0.9275 - val_loss: 1.4526 - val_accuracy: 0.9333 - lr: 0.0010\n",
      "Epoch 51/100\n",
      "3/3 [==============================] - 0s 68ms/step - loss: 1.3816 - accuracy: 0.9710 - val_loss: 1.4728 - val_accuracy: 0.9333 - lr: 0.0010\n",
      "Epoch 52/100\n",
      "3/3 [==============================] - 0s 69ms/step - loss: 1.4239 - accuracy: 0.9565 - val_loss: 1.5988 - val_accuracy: 0.8667 - lr: 0.0010\n",
      "Epoch 53/100\n",
      "3/3 [==============================] - 0s 71ms/step - loss: 1.4021 - accuracy: 0.9638 - val_loss: 1.5807 - val_accuracy: 0.9333 - lr: 0.0010\n",
      "Epoch 54/100\n",
      "3/3 [==============================] - 0s 70ms/step - loss: 1.4550 - accuracy: 0.9275 - val_loss: 1.5480 - val_accuracy: 0.9333 - lr: 0.0010\n",
      "Epoch 55/100\n",
      "3/3 [==============================] - 0s 69ms/step - loss: 1.4555 - accuracy: 0.9855 - val_loss: 1.5353 - val_accuracy: 0.9333 - lr: 0.0010\n",
      "Epoch 56/100\n",
      "3/3 [==============================] - 0s 69ms/step - loss: 1.4571 - accuracy: 0.9565 - val_loss: 1.4686 - val_accuracy: 1.0000 - lr: 5.0000e-04\n",
      "Epoch 57/100\n",
      "3/3 [==============================] - 0s 71ms/step - loss: 1.3839 - accuracy: 0.9783 - val_loss: 1.4705 - val_accuracy: 0.9333 - lr: 5.0000e-04\n",
      "Epoch 58/100\n",
      "3/3 [==============================] - 0s 71ms/step - loss: 1.3597 - accuracy: 0.9855 - val_loss: 1.4383 - val_accuracy: 1.0000 - lr: 5.0000e-04\n",
      "Epoch 59/100\n",
      "3/3 [==============================] - 0s 74ms/step - loss: 1.3230 - accuracy: 0.9710 - val_loss: 1.3837 - val_accuracy: 1.0000 - lr: 5.0000e-04\n",
      "Epoch 60/100\n",
      "3/3 [==============================] - 0s 71ms/step - loss: 1.2670 - accuracy: 0.9855 - val_loss: 1.3089 - val_accuracy: 1.0000 - lr: 5.0000e-04\n",
      "Epoch 61/100\n",
      "3/3 [==============================] - 0s 83ms/step - loss: 1.1977 - accuracy: 0.9928 - val_loss: 1.2654 - val_accuracy: 1.0000 - lr: 5.0000e-04\n",
      "Epoch 62/100\n",
      "3/3 [==============================] - 0s 74ms/step - loss: 1.1603 - accuracy: 0.9928 - val_loss: 1.2052 - val_accuracy: 1.0000 - lr: 5.0000e-04\n",
      "Epoch 63/100\n",
      "3/3 [==============================] - 0s 76ms/step - loss: 1.1164 - accuracy: 0.9928 - val_loss: 1.1273 - val_accuracy: 1.0000 - lr: 5.0000e-04\n",
      "Epoch 64/100\n",
      "3/3 [==============================] - 0s 71ms/step - loss: 1.0671 - accuracy: 1.0000 - val_loss: 1.0890 - val_accuracy: 1.0000 - lr: 5.0000e-04\n",
      "Epoch 65/100\n",
      "3/3 [==============================] - 0s 133ms/step - loss: 1.0159 - accuracy: 0.9928 - val_loss: 1.0587 - val_accuracy: 1.0000 - lr: 5.0000e-04\n",
      "Epoch 66/100\n",
      "3/3 [==============================] - 0s 101ms/step - loss: 0.9838 - accuracy: 0.9928 - val_loss: 1.0422 - val_accuracy: 1.0000 - lr: 5.0000e-04\n",
      "Epoch 67/100\n",
      "3/3 [==============================] - 0s 85ms/step - loss: 0.9370 - accuracy: 1.0000 - val_loss: 1.0252 - val_accuracy: 1.0000 - lr: 5.0000e-04\n",
      "Epoch 68/100\n",
      "3/3 [==============================] - 0s 70ms/step - loss: 0.9255 - accuracy: 0.9928 - val_loss: 0.9977 - val_accuracy: 1.0000 - lr: 5.0000e-04\n",
      "Epoch 69/100\n",
      "3/3 [==============================] - 0s 75ms/step - loss: 0.8967 - accuracy: 1.0000 - val_loss: 0.9859 - val_accuracy: 1.0000 - lr: 5.0000e-04\n",
      "Epoch 70/100\n",
      "3/3 [==============================] - 0s 68ms/step - loss: 0.8792 - accuracy: 1.0000 - val_loss: 0.9965 - val_accuracy: 1.0000 - lr: 5.0000e-04\n",
      "Epoch 71/100\n",
      "3/3 [==============================] - 0s 69ms/step - loss: 0.8560 - accuracy: 0.9928 - val_loss: 1.0113 - val_accuracy: 1.0000 - lr: 5.0000e-04\n",
      "Epoch 72/100\n",
      "3/3 [==============================] - 0s 68ms/step - loss: 0.8312 - accuracy: 1.0000 - val_loss: 1.0295 - val_accuracy: 0.9333 - lr: 5.0000e-04\n",
      "Epoch 73/100\n",
      "3/3 [==============================] - 0s 72ms/step - loss: 0.8447 - accuracy: 0.9855 - val_loss: 0.9618 - val_accuracy: 1.0000 - lr: 5.0000e-04\n",
      "Epoch 74/100\n",
      "3/3 [==============================] - 0s 73ms/step - loss: 0.8043 - accuracy: 1.0000 - val_loss: 0.8941 - val_accuracy: 1.0000 - lr: 5.0000e-04\n",
      "Epoch 75/100\n",
      "3/3 [==============================] - 0s 70ms/step - loss: 0.7888 - accuracy: 1.0000 - val_loss: 0.9177 - val_accuracy: 1.0000 - lr: 5.0000e-04\n",
      "Epoch 76/100\n",
      "3/3 [==============================] - 0s 74ms/step - loss: 0.7660 - accuracy: 1.0000 - val_loss: 0.9827 - val_accuracy: 0.9333 - lr: 5.0000e-04\n",
      "Epoch 77/100\n",
      "3/3 [==============================] - 0s 72ms/step - loss: 0.7682 - accuracy: 1.0000 - val_loss: 0.9550 - val_accuracy: 0.9333 - lr: 5.0000e-04\n",
      "Epoch 78/100\n",
      "3/3 [==============================] - 0s 68ms/step - loss: 0.7656 - accuracy: 0.9928 - val_loss: 0.8686 - val_accuracy: 1.0000 - lr: 5.0000e-04\n",
      "Epoch 79/100\n",
      "3/3 [==============================] - 0s 70ms/step - loss: 0.7781 - accuracy: 1.0000 - val_loss: 0.8765 - val_accuracy: 1.0000 - lr: 5.0000e-04\n",
      "Epoch 80/100\n",
      "3/3 [==============================] - 0s 72ms/step - loss: 0.7913 - accuracy: 0.9928 - val_loss: 0.8498 - val_accuracy: 1.0000 - lr: 5.0000e-04\n",
      "Epoch 81/100\n",
      "3/3 [==============================] - 0s 69ms/step - loss: 0.7794 - accuracy: 0.9928 - val_loss: 0.8613 - val_accuracy: 1.0000 - lr: 5.0000e-04\n",
      "Epoch 82/100\n",
      "3/3 [==============================] - 0s 155ms/step - loss: 0.7777 - accuracy: 1.0000 - val_loss: 0.9023 - val_accuracy: 0.9333 - lr: 5.0000e-04\n",
      "Epoch 83/100\n",
      "3/3 [==============================] - 0s 90ms/step - loss: 0.7812 - accuracy: 0.9855 - val_loss: 0.8825 - val_accuracy: 1.0000 - lr: 5.0000e-04\n",
      "Epoch 84/100\n",
      "3/3 [==============================] - 0s 72ms/step - loss: 0.7855 - accuracy: 0.9855 - val_loss: 0.8918 - val_accuracy: 0.9333 - lr: 5.0000e-04\n",
      "Epoch 85/100\n",
      "3/3 [==============================] - 0s 69ms/step - loss: 0.8011 - accuracy: 0.9855 - val_loss: 0.8698 - val_accuracy: 1.0000 - lr: 5.0000e-04\n",
      "Epoch 86/100\n",
      "3/3 [==============================] - 0s 72ms/step - loss: 0.7866 - accuracy: 0.9928 - val_loss: 0.9072 - val_accuracy: 1.0000 - lr: 2.5000e-04\n",
      "Epoch 87/100\n",
      "3/3 [==============================] - 0s 68ms/step - loss: 0.8076 - accuracy: 0.9928 - val_loss: 0.8960 - val_accuracy: 1.0000 - lr: 2.5000e-04\n",
      "Epoch 88/100\n",
      "3/3 [==============================] - 0s 68ms/step - loss: 0.7695 - accuracy: 0.9928 - val_loss: 0.8672 - val_accuracy: 1.0000 - lr: 2.5000e-04\n",
      "Epoch 89/100\n",
      "3/3 [==============================] - 0s 67ms/step - loss: 0.7566 - accuracy: 0.9855 - val_loss: 0.8832 - val_accuracy: 0.9333 - lr: 2.5000e-04\n",
      "Epoch 90/100\n",
      "3/3 [==============================] - 0s 68ms/step - loss: 0.7575 - accuracy: 1.0000 - val_loss: 0.8646 - val_accuracy: 1.0000 - lr: 2.5000e-04\n"
     ]
    }
   ],
   "source": [
    "for train_index, val_index in kf.split(X_train):\n",
    "    X_train_fold, X_val_fold = X_train[train_index], X_train[val_index]\n",
    "    y_train_fold, y_val_fold = y_train[train_index], y_train[val_index]\n",
    "    callbacks = [\n",
    "    EarlyStopping(monitor='val_loss', patience=10, restore_best_weights=True),\n",
    "    ReduceLROnPlateau(monitor='val_loss', factor=0.5, patience=5, min_lr=1e-6),\n",
    "    ]\n",
    "    \n",
    "    CNNmodel = create_model()\n",
    "    \n",
    "    history = CNNmodel.fit(X_train_fold,\n",
    "                       y_train_fold, epochs=100, batch_size=64, validation_data=(X_val_fold, y_val_fold),\n",
    "                       callbacks=callbacks)\n",
    "    \n",
    "    val_accuracy = max(history.history['val_accuracy'])\n",
    "    \n",
    "    if val_accuracy > best_val_accuracy:\n",
    "        best_val_accuracy = val_accuracy\n",
    "        best_model = CNNmodel\n",
    "        best_history = history"
   ]
  },
  {
   "cell_type": "code",
   "execution_count": 48,
   "id": "ff8fb0e3-d56f-4e0a-941b-d086e6bd8a54",
   "metadata": {},
   "outputs": [
    {
     "data": {
      "application/vnd.plotly.v1+json": {
       "config": {
        "plotlyServerURL": "https://plot.ly"
       },
       "data": [
        {
         "line": {
          "color": "blue"
         },
         "mode": "lines+markers",
         "name": "Оқыту дәлдігі",
         "type": "scatter",
         "x": [
          1,
          2,
          3,
          4,
          5,
          6,
          7,
          8,
          9,
          10,
          11,
          12,
          13,
          14,
          15,
          16,
          17,
          18,
          19,
          20,
          21,
          22,
          23,
          24,
          25,
          26,
          27,
          28,
          29,
          30,
          31,
          32,
          33,
          34,
          35,
          36,
          37,
          38,
          39,
          40,
          41,
          42,
          43,
          44,
          45,
          46,
          47,
          48,
          49,
          50,
          51,
          52,
          53,
          54,
          55,
          56,
          57,
          58,
          59,
          60,
          61,
          62,
          63,
          64,
          65,
          66,
          67,
          68,
          69,
          70,
          71,
          72,
          73,
          74,
          75,
          76,
          77,
          78,
          79,
          80,
          81
         ],
         "y": [
          0.021897809579968452,
          0.2846715450286865,
          0.46715328097343445,
          0.6131386756896973,
          0.6204379796981812,
          0.7226277589797974,
          0.6861313581466675,
          0.8248175382614136,
          0.8321167826652527,
          0.8905109763145447,
          0.8832116723060608,
          0.9197080135345459,
          0.9124087691307068,
          0.8613138794898987,
          0.9197080135345459,
          0.8832116723060608,
          0.9416058659553528,
          0.9489051103591919,
          0.9416058659553528,
          0.970802903175354,
          0.9635036587715149,
          0.9635036587715149,
          0.9416058659553528,
          0.9781022071838379,
          0.956204354763031,
          0.9781022071838379,
          0.9197080135345459,
          0.9197080135345459,
          0.9270073175430298,
          0.9781022071838379,
          0.9343065619468689,
          0.970802903175354,
          0.985401451587677,
          0.9781022071838379,
          0.9781022071838379,
          0.9343065619468689,
          0.970802903175354,
          0.956204354763031,
          0.9270073175430298,
          0.9781022071838379,
          1,
          0.9781022071838379,
          0.985401451587677,
          0.9927007555961609,
          1,
          0.9927007555961609,
          0.985401451587677,
          0.9927007555961609,
          0.970802903175354,
          0.9781022071838379,
          0.985401451587677,
          0.985401451587677,
          0.9927007555961609,
          1,
          1,
          0.9927007555961609,
          0.9927007555961609,
          0.9781022071838379,
          1,
          1,
          0.9927007555961609,
          1,
          1,
          1,
          1,
          1,
          0.9927007555961609,
          1,
          0.9927007555961609,
          0.985401451587677,
          0.985401451587677,
          1,
          1,
          1,
          1,
          0.9927007555961609,
          0.9927007555961609,
          1,
          1,
          1,
          1
         ]
        },
        {
         "line": {
          "color": "red"
         },
         "mode": "lines+markers",
         "name": "Валидация дәлдігі",
         "type": "scatter",
         "x": [
          1,
          2,
          3,
          4,
          5,
          6,
          7,
          8,
          9,
          10,
          11,
          12,
          13,
          14,
          15,
          16,
          17,
          18,
          19,
          20,
          21,
          22,
          23,
          24,
          25,
          26,
          27,
          28,
          29,
          30,
          31,
          32,
          33,
          34,
          35,
          36,
          37,
          38,
          39,
          40,
          41,
          42,
          43,
          44,
          45,
          46,
          47,
          48,
          49,
          50,
          51,
          52,
          53,
          54,
          55,
          56,
          57,
          58,
          59,
          60,
          61,
          62,
          63,
          64,
          65,
          66,
          67,
          68,
          69,
          70,
          71,
          72,
          73,
          74,
          75,
          76,
          77,
          78,
          79,
          80,
          81
         ],
         "y": [
          0.1875,
          0.4375,
          0.4375,
          0.5625,
          0.625,
          0.625,
          0.8125,
          0.625,
          0.6875,
          0.8125,
          0.75,
          0.6875,
          0.875,
          0.75,
          0.75,
          0.5625,
          0.75,
          0.875,
          0.9375,
          0.9375,
          0.8125,
          0.8125,
          0.8125,
          0.8125,
          0.8125,
          0.75,
          0.6875,
          0.75,
          0.8125,
          0.875,
          0.8125,
          0.8125,
          0.9375,
          1,
          0.75,
          0.75,
          0.8125,
          0.8125,
          0.875,
          0.875,
          0.875,
          0.875,
          1,
          1,
          0.75,
          0.75,
          0.8125,
          0.9375,
          0.9375,
          0.875,
          0.875,
          0.875,
          0.9375,
          0.9375,
          1,
          1,
          1,
          1,
          1,
          1,
          0.9375,
          0.9375,
          0.9375,
          0.9375,
          0.9375,
          0.9375,
          0.9375,
          0.9375,
          0.9375,
          0.9375,
          0.9375,
          0.9375,
          0.9375,
          0.9375,
          0.875,
          0.875,
          0.875,
          0.8125,
          0.8125,
          0.8125,
          0.8125
         ]
        }
       ],
       "layout": {
        "autosize": true,
        "template": {
         "data": {
          "bar": [
           {
            "error_x": {
             "color": "#2a3f5f"
            },
            "error_y": {
             "color": "#2a3f5f"
            },
            "marker": {
             "line": {
              "color": "#E5ECF6",
              "width": 0.5
             },
             "pattern": {
              "fillmode": "overlay",
              "size": 10,
              "solidity": 0.2
             }
            },
            "type": "bar"
           }
          ],
          "barpolar": [
           {
            "marker": {
             "line": {
              "color": "#E5ECF6",
              "width": 0.5
             },
             "pattern": {
              "fillmode": "overlay",
              "size": 10,
              "solidity": 0.2
             }
            },
            "type": "barpolar"
           }
          ],
          "carpet": [
           {
            "aaxis": {
             "endlinecolor": "#2a3f5f",
             "gridcolor": "white",
             "linecolor": "white",
             "minorgridcolor": "white",
             "startlinecolor": "#2a3f5f"
            },
            "baxis": {
             "endlinecolor": "#2a3f5f",
             "gridcolor": "white",
             "linecolor": "white",
             "minorgridcolor": "white",
             "startlinecolor": "#2a3f5f"
            },
            "type": "carpet"
           }
          ],
          "choropleth": [
           {
            "colorbar": {
             "outlinewidth": 0,
             "ticks": ""
            },
            "type": "choropleth"
           }
          ],
          "contour": [
           {
            "colorbar": {
             "outlinewidth": 0,
             "ticks": ""
            },
            "colorscale": [
             [
              0,
              "#0d0887"
             ],
             [
              0.1111111111111111,
              "#46039f"
             ],
             [
              0.2222222222222222,
              "#7201a8"
             ],
             [
              0.3333333333333333,
              "#9c179e"
             ],
             [
              0.4444444444444444,
              "#bd3786"
             ],
             [
              0.5555555555555556,
              "#d8576b"
             ],
             [
              0.6666666666666666,
              "#ed7953"
             ],
             [
              0.7777777777777778,
              "#fb9f3a"
             ],
             [
              0.8888888888888888,
              "#fdca26"
             ],
             [
              1,
              "#f0f921"
             ]
            ],
            "type": "contour"
           }
          ],
          "contourcarpet": [
           {
            "colorbar": {
             "outlinewidth": 0,
             "ticks": ""
            },
            "type": "contourcarpet"
           }
          ],
          "heatmap": [
           {
            "colorbar": {
             "outlinewidth": 0,
             "ticks": ""
            },
            "colorscale": [
             [
              0,
              "#0d0887"
             ],
             [
              0.1111111111111111,
              "#46039f"
             ],
             [
              0.2222222222222222,
              "#7201a8"
             ],
             [
              0.3333333333333333,
              "#9c179e"
             ],
             [
              0.4444444444444444,
              "#bd3786"
             ],
             [
              0.5555555555555556,
              "#d8576b"
             ],
             [
              0.6666666666666666,
              "#ed7953"
             ],
             [
              0.7777777777777778,
              "#fb9f3a"
             ],
             [
              0.8888888888888888,
              "#fdca26"
             ],
             [
              1,
              "#f0f921"
             ]
            ],
            "type": "heatmap"
           }
          ],
          "heatmapgl": [
           {
            "colorbar": {
             "outlinewidth": 0,
             "ticks": ""
            },
            "colorscale": [
             [
              0,
              "#0d0887"
             ],
             [
              0.1111111111111111,
              "#46039f"
             ],
             [
              0.2222222222222222,
              "#7201a8"
             ],
             [
              0.3333333333333333,
              "#9c179e"
             ],
             [
              0.4444444444444444,
              "#bd3786"
             ],
             [
              0.5555555555555556,
              "#d8576b"
             ],
             [
              0.6666666666666666,
              "#ed7953"
             ],
             [
              0.7777777777777778,
              "#fb9f3a"
             ],
             [
              0.8888888888888888,
              "#fdca26"
             ],
             [
              1,
              "#f0f921"
             ]
            ],
            "type": "heatmapgl"
           }
          ],
          "histogram": [
           {
            "marker": {
             "pattern": {
              "fillmode": "overlay",
              "size": 10,
              "solidity": 0.2
             }
            },
            "type": "histogram"
           }
          ],
          "histogram2d": [
           {
            "colorbar": {
             "outlinewidth": 0,
             "ticks": ""
            },
            "colorscale": [
             [
              0,
              "#0d0887"
             ],
             [
              0.1111111111111111,
              "#46039f"
             ],
             [
              0.2222222222222222,
              "#7201a8"
             ],
             [
              0.3333333333333333,
              "#9c179e"
             ],
             [
              0.4444444444444444,
              "#bd3786"
             ],
             [
              0.5555555555555556,
              "#d8576b"
             ],
             [
              0.6666666666666666,
              "#ed7953"
             ],
             [
              0.7777777777777778,
              "#fb9f3a"
             ],
             [
              0.8888888888888888,
              "#fdca26"
             ],
             [
              1,
              "#f0f921"
             ]
            ],
            "type": "histogram2d"
           }
          ],
          "histogram2dcontour": [
           {
            "colorbar": {
             "outlinewidth": 0,
             "ticks": ""
            },
            "colorscale": [
             [
              0,
              "#0d0887"
             ],
             [
              0.1111111111111111,
              "#46039f"
             ],
             [
              0.2222222222222222,
              "#7201a8"
             ],
             [
              0.3333333333333333,
              "#9c179e"
             ],
             [
              0.4444444444444444,
              "#bd3786"
             ],
             [
              0.5555555555555556,
              "#d8576b"
             ],
             [
              0.6666666666666666,
              "#ed7953"
             ],
             [
              0.7777777777777778,
              "#fb9f3a"
             ],
             [
              0.8888888888888888,
              "#fdca26"
             ],
             [
              1,
              "#f0f921"
             ]
            ],
            "type": "histogram2dcontour"
           }
          ],
          "mesh3d": [
           {
            "colorbar": {
             "outlinewidth": 0,
             "ticks": ""
            },
            "type": "mesh3d"
           }
          ],
          "parcoords": [
           {
            "line": {
             "colorbar": {
              "outlinewidth": 0,
              "ticks": ""
             }
            },
            "type": "parcoords"
           }
          ],
          "pie": [
           {
            "automargin": true,
            "type": "pie"
           }
          ],
          "scatter": [
           {
            "fillpattern": {
             "fillmode": "overlay",
             "size": 10,
             "solidity": 0.2
            },
            "type": "scatter"
           }
          ],
          "scatter3d": [
           {
            "line": {
             "colorbar": {
              "outlinewidth": 0,
              "ticks": ""
             }
            },
            "marker": {
             "colorbar": {
              "outlinewidth": 0,
              "ticks": ""
             }
            },
            "type": "scatter3d"
           }
          ],
          "scattercarpet": [
           {
            "marker": {
             "colorbar": {
              "outlinewidth": 0,
              "ticks": ""
             }
            },
            "type": "scattercarpet"
           }
          ],
          "scattergeo": [
           {
            "marker": {
             "colorbar": {
              "outlinewidth": 0,
              "ticks": ""
             }
            },
            "type": "scattergeo"
           }
          ],
          "scattergl": [
           {
            "marker": {
             "colorbar": {
              "outlinewidth": 0,
              "ticks": ""
             }
            },
            "type": "scattergl"
           }
          ],
          "scattermapbox": [
           {
            "marker": {
             "colorbar": {
              "outlinewidth": 0,
              "ticks": ""
             }
            },
            "type": "scattermapbox"
           }
          ],
          "scatterpolar": [
           {
            "marker": {
             "colorbar": {
              "outlinewidth": 0,
              "ticks": ""
             }
            },
            "type": "scatterpolar"
           }
          ],
          "scatterpolargl": [
           {
            "marker": {
             "colorbar": {
              "outlinewidth": 0,
              "ticks": ""
             }
            },
            "type": "scatterpolargl"
           }
          ],
          "scatterternary": [
           {
            "marker": {
             "colorbar": {
              "outlinewidth": 0,
              "ticks": ""
             }
            },
            "type": "scatterternary"
           }
          ],
          "surface": [
           {
            "colorbar": {
             "outlinewidth": 0,
             "ticks": ""
            },
            "colorscale": [
             [
              0,
              "#0d0887"
             ],
             [
              0.1111111111111111,
              "#46039f"
             ],
             [
              0.2222222222222222,
              "#7201a8"
             ],
             [
              0.3333333333333333,
              "#9c179e"
             ],
             [
              0.4444444444444444,
              "#bd3786"
             ],
             [
              0.5555555555555556,
              "#d8576b"
             ],
             [
              0.6666666666666666,
              "#ed7953"
             ],
             [
              0.7777777777777778,
              "#fb9f3a"
             ],
             [
              0.8888888888888888,
              "#fdca26"
             ],
             [
              1,
              "#f0f921"
             ]
            ],
            "type": "surface"
           }
          ],
          "table": [
           {
            "cells": {
             "fill": {
              "color": "#EBF0F8"
             },
             "line": {
              "color": "white"
             }
            },
            "header": {
             "fill": {
              "color": "#C8D4E3"
             },
             "line": {
              "color": "white"
             }
            },
            "type": "table"
           }
          ]
         },
         "layout": {
          "annotationdefaults": {
           "arrowcolor": "#2a3f5f",
           "arrowhead": 0,
           "arrowwidth": 1
          },
          "autotypenumbers": "strict",
          "coloraxis": {
           "colorbar": {
            "outlinewidth": 0,
            "ticks": ""
           }
          },
          "colorscale": {
           "diverging": [
            [
             0,
             "#8e0152"
            ],
            [
             0.1,
             "#c51b7d"
            ],
            [
             0.2,
             "#de77ae"
            ],
            [
             0.3,
             "#f1b6da"
            ],
            [
             0.4,
             "#fde0ef"
            ],
            [
             0.5,
             "#f7f7f7"
            ],
            [
             0.6,
             "#e6f5d0"
            ],
            [
             0.7,
             "#b8e186"
            ],
            [
             0.8,
             "#7fbc41"
            ],
            [
             0.9,
             "#4d9221"
            ],
            [
             1,
             "#276419"
            ]
           ],
           "sequential": [
            [
             0,
             "#0d0887"
            ],
            [
             0.1111111111111111,
             "#46039f"
            ],
            [
             0.2222222222222222,
             "#7201a8"
            ],
            [
             0.3333333333333333,
             "#9c179e"
            ],
            [
             0.4444444444444444,
             "#bd3786"
            ],
            [
             0.5555555555555556,
             "#d8576b"
            ],
            [
             0.6666666666666666,
             "#ed7953"
            ],
            [
             0.7777777777777778,
             "#fb9f3a"
            ],
            [
             0.8888888888888888,
             "#fdca26"
            ],
            [
             1,
             "#f0f921"
            ]
           ],
           "sequentialminus": [
            [
             0,
             "#0d0887"
            ],
            [
             0.1111111111111111,
             "#46039f"
            ],
            [
             0.2222222222222222,
             "#7201a8"
            ],
            [
             0.3333333333333333,
             "#9c179e"
            ],
            [
             0.4444444444444444,
             "#bd3786"
            ],
            [
             0.5555555555555556,
             "#d8576b"
            ],
            [
             0.6666666666666666,
             "#ed7953"
            ],
            [
             0.7777777777777778,
             "#fb9f3a"
            ],
            [
             0.8888888888888888,
             "#fdca26"
            ],
            [
             1,
             "#f0f921"
            ]
           ]
          },
          "colorway": [
           "#636efa",
           "#EF553B",
           "#00cc96",
           "#ab63fa",
           "#FFA15A",
           "#19d3f3",
           "#FF6692",
           "#B6E880",
           "#FF97FF",
           "#FECB52"
          ],
          "font": {
           "color": "#2a3f5f"
          },
          "geo": {
           "bgcolor": "white",
           "lakecolor": "white",
           "landcolor": "#E5ECF6",
           "showlakes": true,
           "showland": true,
           "subunitcolor": "white"
          },
          "hoverlabel": {
           "align": "left"
          },
          "hovermode": "closest",
          "mapbox": {
           "style": "light"
          },
          "paper_bgcolor": "white",
          "plot_bgcolor": "#E5ECF6",
          "polar": {
           "angularaxis": {
            "gridcolor": "white",
            "linecolor": "white",
            "ticks": ""
           },
           "bgcolor": "#E5ECF6",
           "radialaxis": {
            "gridcolor": "white",
            "linecolor": "white",
            "ticks": ""
           }
          },
          "scene": {
           "xaxis": {
            "backgroundcolor": "#E5ECF6",
            "gridcolor": "white",
            "gridwidth": 2,
            "linecolor": "white",
            "showbackground": true,
            "ticks": "",
            "zerolinecolor": "white"
           },
           "yaxis": {
            "backgroundcolor": "#E5ECF6",
            "gridcolor": "white",
            "gridwidth": 2,
            "linecolor": "white",
            "showbackground": true,
            "ticks": "",
            "zerolinecolor": "white"
           },
           "zaxis": {
            "backgroundcolor": "#E5ECF6",
            "gridcolor": "white",
            "gridwidth": 2,
            "linecolor": "white",
            "showbackground": true,
            "ticks": "",
            "zerolinecolor": "white"
           }
          },
          "shapedefaults": {
           "line": {
            "color": "#2a3f5f"
           }
          },
          "ternary": {
           "aaxis": {
            "gridcolor": "white",
            "linecolor": "white",
            "ticks": ""
           },
           "baxis": {
            "gridcolor": "white",
            "linecolor": "white",
            "ticks": ""
           },
           "bgcolor": "#E5ECF6",
           "caxis": {
            "gridcolor": "white",
            "linecolor": "white",
            "ticks": ""
           }
          },
          "title": {
           "x": 0.05
          },
          "xaxis": {
           "automargin": true,
           "gridcolor": "white",
           "linecolor": "white",
           "ticks": "",
           "title": {
            "standoff": 15
           },
           "zerolinecolor": "white",
           "zerolinewidth": 2
          },
          "yaxis": {
           "automargin": true,
           "gridcolor": "white",
           "linecolor": "white",
           "ticks": "",
           "title": {
            "standoff": 15
           },
           "zerolinecolor": "white",
           "zerolinewidth": 2
          }
         }
        },
        "title": {
         "text": "Эпоха сайын Оқыту және Валидация кезіндегі дәлдік"
        },
        "xaxis": {
         "autorange": true,
         "range": [
          -3.817175444481718,
          85.81717544448172
         ],
         "title": {
          "text": "Эпоха саны"
         },
         "type": "linear"
        },
        "yaxis": {
         "autorange": true,
         "range": [
          -0.05881936147411182,
          1.0807171710540802
         ],
         "title": {
          "text": "Дәлдік"
         },
         "type": "linear"
        }
       }
      },
      "image/png": "[encoded data removed]",
      "text/html": [
       "<div>                            <div id=\"c3b2ce09-4c7c-4764-b831-421d3b6db785\" class=\"plotly-graph-div\" style=\"height:525px; width:100%;\"></div>            <script type=\"text/javascript\">                require([\"plotly\"], function(Plotly) {                    window.PLOTLYENV=window.PLOTLYENV || {};                                    if (document.getElementById(\"c3b2ce09-4c7c-4764-b831-421d3b6db785\")) {                    Plotly.newPlot(                        \"c3b2ce09-4c7c-4764-b831-421d3b6db785\",                        [{\"line\":{\"color\":\"blue\"},\"mode\":\"lines+markers\",\"name\":\"\\u041e\\u049b\\u044b\\u0442\\u0443 \\u0434\\u04d9\\u043b\\u0434\\u0456\\u0433\\u0456\",\"x\":[1,2,3,4,5,6,7,8,9,10,11,12,13,14,15,16,17,18,19,20,21,22,23,24,25,26,27,28,29,30,31,32,33,34,35,36,37,38,39,40,41,42,43,44,45,46,47,48,49,50,51,52,53,54,55,56,57,58,59,60,61,62,63,64,65,66,67,68,69,70,71,72,73,74,75,76,77,78,79,80,81],\"y\":[0.021897809579968452,0.2846715450286865,0.46715328097343445,0.6131386756896973,0.6204379796981812,0.7226277589797974,0.6861313581466675,0.8248175382614136,0.8321167826652527,0.8905109763145447,0.8832116723060608,0.9197080135345459,0.9124087691307068,0.8613138794898987,0.9197080135345459,0.8832116723060608,0.9416058659553528,0.9489051103591919,0.9416058659553528,0.970802903175354,0.9635036587715149,0.9635036587715149,0.9416058659553528,0.9781022071838379,0.956204354763031,0.9781022071838379,0.9197080135345459,0.9197080135345459,0.9270073175430298,0.9781022071838379,0.9343065619468689,0.970802903175354,0.985401451587677,0.9781022071838379,0.9781022071838379,0.9343065619468689,0.970802903175354,0.956204354763031,0.9270073175430298,0.9781022071838379,1.0,0.9781022071838379,0.985401451587677,0.9927007555961609,1.0,0.9927007555961609,0.985401451587677,0.9927007555961609,0.970802903175354,0.9781022071838379,0.985401451587677,0.985401451587677,0.9927007555961609,1.0,1.0,0.9927007555961609,0.9927007555961609,0.9781022071838379,1.0,1.0,0.9927007555961609,1.0,1.0,1.0,1.0,1.0,0.9927007555961609,1.0,0.9927007555961609,0.985401451587677,0.985401451587677,1.0,1.0,1.0,1.0,0.9927007555961609,0.9927007555961609,1.0,1.0,1.0,1.0],\"type\":\"scatter\"},{\"line\":{\"color\":\"red\"},\"mode\":\"lines+markers\",\"name\":\"\\u0412\\u0430\\u043b\\u0438\\u0434\\u0430\\u0446\\u0438\\u044f \\u0434\\u04d9\\u043b\\u0434\\u0456\\u0433\\u0456\",\"x\":[1,2,3,4,5,6,7,8,9,10,11,12,13,14,15,16,17,18,19,20,21,22,23,24,25,26,27,28,29,30,31,32,33,34,35,36,37,38,39,40,41,42,43,44,45,46,47,48,49,50,51,52,53,54,55,56,57,58,59,60,61,62,63,64,65,66,67,68,69,70,71,72,73,74,75,76,77,78,79,80,81],\"y\":[0.1875,0.4375,0.4375,0.5625,0.625,0.625,0.8125,0.625,0.6875,0.8125,0.75,0.6875,0.875,0.75,0.75,0.5625,0.75,0.875,0.9375,0.9375,0.8125,0.8125,0.8125,0.8125,0.8125,0.75,0.6875,0.75,0.8125,0.875,0.8125,0.8125,0.9375,1.0,0.75,0.75,0.8125,0.8125,0.875,0.875,0.875,0.875,1.0,1.0,0.75,0.75,0.8125,0.9375,0.9375,0.875,0.875,0.875,0.9375,0.9375,1.0,1.0,1.0,1.0,1.0,1.0,0.9375,0.9375,0.9375,0.9375,0.9375,0.9375,0.9375,0.9375,0.9375,0.9375,0.9375,0.9375,0.9375,0.9375,0.875,0.875,0.875,0.8125,0.8125,0.8125,0.8125],\"type\":\"scatter\"}],                        {\"template\":{\"data\":{\"histogram2dcontour\":[{\"type\":\"histogram2dcontour\",\"colorbar\":{\"outlinewidth\":0,\"ticks\":\"\"},\"colorscale\":[[0.0,\"#0d0887\"],[0.1111111111111111,\"#46039f\"],[0.2222222222222222,\"#7201a8\"],[0.3333333333333333,\"#9c179e\"],[0.4444444444444444,\"#bd3786\"],[0.5555555555555556,\"#d8576b\"],[0.6666666666666666,\"#ed7953\"],[0.7777777777777778,\"#fb9f3a\"],[0.8888888888888888,\"#fdca26\"],[1.0,\"#f0f921\"]]}],\"choropleth\":[{\"type\":\"choropleth\",\"colorbar\":{\"outlinewidth\":0,\"ticks\":\"\"}}],\"histogram2d\":[{\"type\":\"histogram2d\",\"colorbar\":{\"outlinewidth\":0,\"ticks\":\"\"},\"colorscale\":[[0.0,\"#0d0887\"],[0.1111111111111111,\"#46039f\"],[0.2222222222222222,\"#7201a8\"],[0.3333333333333333,\"#9c179e\"],[0.4444444444444444,\"#bd3786\"],[0.5555555555555556,\"#d8576b\"],[0.6666666666666666,\"#ed7953\"],[0.7777777777777778,\"#fb9f3a\"],[0.8888888888888888,\"#fdca26\"],[1.0,\"#f0f921\"]]}],\"heatmap\":[{\"type\":\"heatmap\",\"colorbar\":{\"outlinewidth\":0,\"ticks\":\"\"},\"colorscale\":[[0.0,\"#0d0887\"],[0.1111111111111111,\"#46039f\"],[0.2222222222222222,\"#7201a8\"],[0.3333333333333333,\"#9c179e\"],[0.4444444444444444,\"#bd3786\"],[0.5555555555555556,\"#d8576b\"],[0.6666666666666666,\"#ed7953\"],[0.7777777777777778,\"#fb9f3a\"],[0.8888888888888888,\"#fdca26\"],[1.0,\"#f0f921\"]]}],\"heatmapgl\":[{\"type\":\"heatmapgl\",\"colorbar\":{\"outlinewidth\":0,\"ticks\":\"\"},\"colorscale\":[[0.0,\"#0d0887\"],[0.1111111111111111,\"#46039f\"],[0.2222222222222222,\"#7201a8\"],[0.3333333333333333,\"#9c179e\"],[0.4444444444444444,\"#bd3786\"],[0.5555555555555556,\"#d8576b\"],[0.6666666666666666,\"#ed7953\"],[0.7777777777777778,\"#fb9f3a\"],[0.8888888888888888,\"#fdca26\"],[1.0,\"#f0f921\"]]}],\"contourcarpet\":[{\"type\":\"contourcarpet\",\"colorbar\":{\"outlinewidth\":0,\"ticks\":\"\"}}],\"contour\":[{\"type\":\"contour\",\"colorbar\":{\"outlinewidth\":0,\"ticks\":\"\"},\"colorscale\":[[0.0,\"#0d0887\"],[0.1111111111111111,\"#46039f\"],[0.2222222222222222,\"#7201a8\"],[0.3333333333333333,\"#9c179e\"],[0.4444444444444444,\"#bd3786\"],[0.5555555555555556,\"#d8576b\"],[0.6666666666666666,\"#ed7953\"],[0.7777777777777778,\"#fb9f3a\"],[0.8888888888888888,\"#fdca26\"],[1.0,\"#f0f921\"]]}],\"surface\":[{\"type\":\"surface\",\"colorbar\":{\"outlinewidth\":0,\"ticks\":\"\"},\"colorscale\":[[0.0,\"#0d0887\"],[0.1111111111111111,\"#46039f\"],[0.2222222222222222,\"#7201a8\"],[0.3333333333333333,\"#9c179e\"],[0.4444444444444444,\"#bd3786\"],[0.5555555555555556,\"#d8576b\"],[0.6666666666666666,\"#ed7953\"],[0.7777777777777778,\"#fb9f3a\"],[0.8888888888888888,\"#fdca26\"],[1.0,\"#f0f921\"]]}],\"mesh3d\":[{\"type\":\"mesh3d\",\"colorbar\":{\"outlinewidth\":0,\"ticks\":\"\"}}],\"scatter\":[{\"fillpattern\":{\"fillmode\":\"overlay\",\"size\":10,\"solidity\":0.2},\"type\":\"scatter\"}],\"parcoords\":[{\"type\":\"parcoords\",\"line\":{\"colorbar\":{\"outlinewidth\":0,\"ticks\":\"\"}}}],\"scatterpolargl\":[{\"type\":\"scatterpolargl\",\"marker\":{\"colorbar\":{\"outlinewidth\":0,\"ticks\":\"\"}}}],\"bar\":[{\"error_x\":{\"color\":\"#2a3f5f\"},\"error_y\":{\"color\":\"#2a3f5f\"},\"marker\":{\"line\":{\"color\":\"#E5ECF6\",\"width\":0.5},\"pattern\":{\"fillmode\":\"overlay\",\"size\":10,\"solidity\":0.2}},\"type\":\"bar\"}],\"scattergeo\":[{\"type\":\"scattergeo\",\"marker\":{\"colorbar\":{\"outlinewidth\":0,\"ticks\":\"\"}}}],\"scatterpolar\":[{\"type\":\"scatterpolar\",\"marker\":{\"colorbar\":{\"outlinewidth\":0,\"ticks\":\"\"}}}],\"histogram\":[{\"marker\":{\"pattern\":{\"fillmode\":\"overlay\",\"size\":10,\"solidity\":0.2}},\"type\":\"histogram\"}],\"scattergl\":[{\"type\":\"scattergl\",\"marker\":{\"colorbar\":{\"outlinewidth\":0,\"ticks\":\"\"}}}],\"scatter3d\":[{\"type\":\"scatter3d\",\"line\":{\"colorbar\":{\"outlinewidth\":0,\"ticks\":\"\"}},\"marker\":{\"colorbar\":{\"outlinewidth\":0,\"ticks\":\"\"}}}],\"scattermapbox\":[{\"type\":\"scattermapbox\",\"marker\":{\"colorbar\":{\"outlinewidth\":0,\"ticks\":\"\"}}}],\"scatterternary\":[{\"type\":\"scatterternary\",\"marker\":{\"colorbar\":{\"outlinewidth\":0,\"ticks\":\"\"}}}],\"scattercarpet\":[{\"type\":\"scattercarpet\",\"marker\":{\"colorbar\":{\"outlinewidth\":0,\"ticks\":\"\"}}}],\"carpet\":[{\"aaxis\":{\"endlinecolor\":\"#2a3f5f\",\"gridcolor\":\"white\",\"linecolor\":\"white\",\"minorgridcolor\":\"white\",\"startlinecolor\":\"#2a3f5f\"},\"baxis\":{\"endlinecolor\":\"#2a3f5f\",\"gridcolor\":\"white\",\"linecolor\":\"white\",\"minorgridcolor\":\"white\",\"startlinecolor\":\"#2a3f5f\"},\"type\":\"carpet\"}],\"table\":[{\"cells\":{\"fill\":{\"color\":\"#EBF0F8\"},\"line\":{\"color\":\"white\"}},\"header\":{\"fill\":{\"color\":\"#C8D4E3\"},\"line\":{\"color\":\"white\"}},\"type\":\"table\"}],\"barpolar\":[{\"marker\":{\"line\":{\"color\":\"#E5ECF6\",\"width\":0.5},\"pattern\":{\"fillmode\":\"overlay\",\"size\":10,\"solidity\":0.2}},\"type\":\"barpolar\"}],\"pie\":[{\"automargin\":true,\"type\":\"pie\"}]},\"layout\":{\"autotypenumbers\":\"strict\",\"colorway\":[\"#636efa\",\"#EF553B\",\"#00cc96\",\"#ab63fa\",\"#FFA15A\",\"#19d3f3\",\"#FF6692\",\"#B6E880\",\"#FF97FF\",\"#FECB52\"],\"font\":{\"color\":\"#2a3f5f\"},\"hovermode\":\"closest\",\"hoverlabel\":{\"align\":\"left\"},\"paper_bgcolor\":\"white\",\"plot_bgcolor\":\"#E5ECF6\",\"polar\":{\"bgcolor\":\"#E5ECF6\",\"angularaxis\":{\"gridcolor\":\"white\",\"linecolor\":\"white\",\"ticks\":\"\"},\"radialaxis\":{\"gridcolor\":\"white\",\"linecolor\":\"white\",\"ticks\":\"\"}},\"ternary\":{\"bgcolor\":\"#E5ECF6\",\"aaxis\":{\"gridcolor\":\"white\",\"linecolor\":\"white\",\"ticks\":\"\"},\"baxis\":{\"gridcolor\":\"white\",\"linecolor\":\"white\",\"ticks\":\"\"},\"caxis\":{\"gridcolor\":\"white\",\"linecolor\":\"white\",\"ticks\":\"\"}},\"coloraxis\":{\"colorbar\":{\"outlinewidth\":0,\"ticks\":\"\"}},\"colorscale\":{\"sequential\":[[0.0,\"#0d0887\"],[0.1111111111111111,\"#46039f\"],[0.2222222222222222,\"#7201a8\"],[0.3333333333333333,\"#9c179e\"],[0.4444444444444444,\"#bd3786\"],[0.5555555555555556,\"#d8576b\"],[0.6666666666666666,\"#ed7953\"],[0.7777777777777778,\"#fb9f3a\"],[0.8888888888888888,\"#fdca26\"],[1.0,\"#f0f921\"]],\"sequentialminus\":[[0.0,\"#0d0887\"],[0.1111111111111111,\"#46039f\"],[0.2222222222222222,\"#7201a8\"],[0.3333333333333333,\"#9c179e\"],[0.4444444444444444,\"#bd3786\"],[0.5555555555555556,\"#d8576b\"],[0.6666666666666666,\"#ed7953\"],[0.7777777777777778,\"#fb9f3a\"],[0.8888888888888888,\"#fdca26\"],[1.0,\"#f0f921\"]],\"diverging\":[[0,\"#8e0152\"],[0.1,\"#c51b7d\"],[0.2,\"#de77ae\"],[0.3,\"#f1b6da\"],[0.4,\"#fde0ef\"],[0.5,\"#f7f7f7\"],[0.6,\"#e6f5d0\"],[0.7,\"#b8e186\"],[0.8,\"#7fbc41\"],[0.9,\"#4d9221\"],[1,\"#276419\"]]},\"xaxis\":{\"gridcolor\":\"white\",\"linecolor\":\"white\",\"ticks\":\"\",\"title\":{\"standoff\":15},\"zerolinecolor\":\"white\",\"automargin\":true,\"zerolinewidth\":2},\"yaxis\":{\"gridcolor\":\"white\",\"linecolor\":\"white\",\"ticks\":\"\",\"title\":{\"standoff\":15},\"zerolinecolor\":\"white\",\"automargin\":true,\"zerolinewidth\":2},\"scene\":{\"xaxis\":{\"backgroundcolor\":\"#E5ECF6\",\"gridcolor\":\"white\",\"linecolor\":\"white\",\"showbackground\":true,\"ticks\":\"\",\"zerolinecolor\":\"white\",\"gridwidth\":2},\"yaxis\":{\"backgroundcolor\":\"#E5ECF6\",\"gridcolor\":\"white\",\"linecolor\":\"white\",\"showbackground\":true,\"ticks\":\"\",\"zerolinecolor\":\"white\",\"gridwidth\":2},\"zaxis\":{\"backgroundcolor\":\"#E5ECF6\",\"gridcolor\":\"white\",\"linecolor\":\"white\",\"showbackground\":true,\"ticks\":\"\",\"zerolinecolor\":\"white\",\"gridwidth\":2}},\"shapedefaults\":{\"line\":{\"color\":\"#2a3f5f\"}},\"annotationdefaults\":{\"arrowcolor\":\"#2a3f5f\",\"arrowhead\":0,\"arrowwidth\":1},\"geo\":{\"bgcolor\":\"white\",\"landcolor\":\"#E5ECF6\",\"subunitcolor\":\"white\",\"showland\":true,\"showlakes\":true,\"lakecolor\":\"white\"},\"title\":{\"x\":0.05},\"mapbox\":{\"style\":\"light\"}}},\"title\":{\"text\":\"\\u042d\\u043f\\u043e\\u0445\\u0430 \\u0441\\u0430\\u0439\\u044b\\u043d \\u041e\\u049b\\u044b\\u0442\\u0443 \\u0436\\u04d9\\u043d\\u0435 \\u0412\\u0430\\u043b\\u0438\\u0434\\u0430\\u0446\\u0438\\u044f \\u043a\\u0435\\u0437\\u0456\\u043d\\u0434\\u0435\\u0433\\u0456 \\u0434\\u04d9\\u043b\\u0434\\u0456\\u043a\"},\"xaxis\":{\"title\":{\"text\":\"\\u042d\\u043f\\u043e\\u0445\\u0430 \\u0441\\u0430\\u043d\\u044b\"}},\"yaxis\":{\"title\":{\"text\":\"\\u0414\\u04d9\\u043b\\u0434\\u0456\\u043a\"}}},                        {\"responsive\": true}                    ).then(function(){\n",
       "                            \n",
       "var gd = document.getElementById('c3b2ce09-4c7c-4764-b831-421d3b6db785');\n",
       "var x = new MutationObserver(function (mutations, observer) {{\n",
       "        var display = window.getComputedStyle(gd).display;\n",
       "        if (!display || display === 'none') {{\n",
       "            console.log([gd, 'removed!']);\n",
       "            Plotly.purge(gd);\n",
       "            observer.disconnect();\n",
       "        }}\n",
       "}});\n",
       "\n",
       "// Listen for the removal of the full notebook cells\n",
       "var notebookContainer = gd.closest('#notebook-container');\n",
       "if (notebookContainer) {{\n",
       "    x.observe(notebookContainer, {childList: true});\n",
       "}}\n",
       "\n",
       "// Listen for the clearing of the current output cell\n",
       "var outputEl = gd.closest('.output');\n",
       "if (outputEl) {{\n",
       "    x.observe(outputEl, {childList: true});\n",
       "}}\n",
       "\n",
       "                        })                };                });            </script>        </div>"
      ]
     },
     "metadata": {},
     "output_type": "display_data"
    }
   ],
   "source": [
    "fig = go.Figure()\n",
    "fig.add_trace(go.Scatter(\n",
    "    x=list(range(1, len(best_history.history['accuracy']) + 1)),\n",
    "    y=best_history.history['accuracy'],\n",
    "    mode='lines+markers',\n",
    "    name='Оқыту дәлдігі',\n",
    "    line=dict(color='blue')\n",
    "))\n",
    "fig.add_trace(go.Scatter(\n",
    "    x=list(range(1, len(best_history.history['val_accuracy']) + 1)),\n",
    "    y=best_history.history['val_accuracy'],\n",
    "    mode='lines+markers',\n",
    "    name='Валидация дәлдігі',\n",
    "    line=dict(color='red')\n",
    "))\n",
    "\n",
    "fig.update_layout(\n",
    "    title='Эпоха сайын Оқыту және Валидация кезіндегі дәлдік',\n",
    "    xaxis_title='Эпоха саны',\n",
    "    yaxis_title='Дәлдік'\n",
    ")\n",
    "\n",
    "fig.show()"
   ]
  },
  {
   "cell_type": "code",
   "execution_count": 50,
   "id": "4e4fe29d-93fd-4170-a1eb-47f092c5cd40",
   "metadata": {},
   "outputs": [
    {
     "data": {
      "application/vnd.plotly.v1+json": {
       "config": {
        "plotlyServerURL": "https://plot.ly"
       },
       "data": [
        {
         "line": {
          "color": "blue"
         },
         "mode": "lines+markers",
         "name": "Оқыту жоғалтулары",
         "type": "scatter",
         "x": [
          1,
          2,
          3,
          4,
          5,
          6,
          7,
          8,
          9,
          10,
          11,
          12,
          13,
          14,
          15,
          16,
          17,
          18,
          19,
          20,
          21,
          22,
          23,
          24,
          25,
          26,
          27,
          28,
          29,
          30,
          31,
          32,
          33,
          34,
          35,
          36,
          37,
          38,
          39,
          40,
          41,
          42,
          43,
          44,
          45,
          46,
          47,
          48,
          49,
          50,
          51,
          52,
          53,
          54,
          55,
          56,
          57,
          58,
          59,
          60,
          61,
          62,
          63,
          64,
          65,
          66,
          67,
          68,
          69,
          70,
          71,
          72,
          73,
          74,
          75,
          76,
          77,
          78,
          79,
          80,
          81
         ],
         "y": [
          29.018659591674805,
          22.353866577148438,
          17.217945098876953,
          13.131847381591797,
          10.254021644592285,
          8.14090347290039,
          6.835474014282227,
          5.6265082359313965,
          5.036997318267822,
          4.454074859619141,
          4.11346960067749,
          3.839362621307373,
          3.5864813327789307,
          3.4257872104644775,
          3.161763906478882,
          3.0420725345611572,
          2.8236021995544434,
          2.67531156539917,
          2.591261386871338,
          2.404040575027466,
          2.326636552810669,
          2.2801308631896973,
          2.221409559249878,
          2.044748067855835,
          2.0451371669769287,
          1.8874696493148804,
          1.9688905477523804,
          1.8999031782150269,
          1.9153491258621216,
          1.790675401687622,
          1.8872123956680298,
          1.7334825992584229,
          1.7000857591629028,
          1.672659993171692,
          1.6404262781143188,
          1.6261192560195923,
          1.564266324043274,
          1.5124415159225464,
          1.5394434928894043,
          1.411379098892212,
          1.3697385787963867,
          1.3772135972976685,
          1.3002562522888184,
          1.2912636995315552,
          1.240415096282959,
          1.2250230312347412,
          1.1817898750305176,
          1.1891480684280396,
          1.2430565357208252,
          1.1734477281570435,
          1.1637310981750488,
          1.1546045541763306,
          1.1504933834075928,
          1.1050629615783691,
          1.0837476253509521,
          1.0667530298233032,
          1.0820451974868774,
          1.0604578256607056,
          1.0157557725906372,
          1.0086783170700073,
          0.9978042840957642,
          0.9515519142150879,
          0.9643063545227051,
          0.9504618644714355,
          0.9359037280082703,
          0.9458659291267395,
          0.9394800662994385,
          0.9350366592407227,
          0.9559594392776489,
          0.9870433807373047,
          0.9392135739326477,
          0.9278830289840698,
          0.9495871663093567,
          0.9136223196983337,
          0.9284919500350952,
          0.9380181431770325,
          0.9241833686828613,
          0.910483181476593,
          0.9118934273719788,
          0.8742390871047974,
          0.8848240375518799
         ]
        },
        {
         "line": {
          "color": "red"
         },
         "mode": "lines+markers",
         "name": "Валидация жоғалтулары",
         "type": "scatter",
         "x": [
          1,
          2,
          3,
          4,
          5,
          6,
          7,
          8,
          9,
          10,
          11,
          12,
          13,
          14,
          15,
          16,
          17,
          18,
          19,
          20,
          21,
          22,
          23,
          24,
          25,
          26,
          27,
          28,
          29,
          30,
          31,
          32,
          33,
          34,
          35,
          36,
          37,
          38,
          39,
          40,
          41,
          42,
          43,
          44,
          45,
          46,
          47,
          48,
          49,
          50,
          51,
          52,
          53,
          54,
          55,
          56,
          57,
          58,
          59,
          60,
          61,
          62,
          63,
          64,
          65,
          66,
          67,
          68,
          69,
          70,
          71,
          72,
          73,
          74,
          75,
          76,
          77,
          78,
          79,
          80,
          81
         ],
         "y": [
          23.727582931518555,
          18.347291946411133,
          14.17565631866455,
          11.165213584899902,
          8.758058547973633,
          7.129136085510254,
          6.133139133453369,
          5.671736717224121,
          5.123477935791016,
          4.590147495269775,
          4.346573352813721,
          4.1778564453125,
          3.8121540546417236,
          3.701986312866211,
          3.4823951721191406,
          3.366830825805664,
          3.1388165950775146,
          2.7768001556396484,
          2.6229195594787598,
          2.580986738204956,
          2.6925246715545654,
          2.5892419815063477,
          2.407646656036377,
          2.5019032955169678,
          2.4075088500976562,
          2.256349563598633,
          2.4042532444000244,
          2.66770076751709,
          2.119086503982544,
          2.0157699584960938,
          2.016223192214966,
          1.9430148601531982,
          1.786994218826294,
          1.8091490268707275,
          1.927786111831665,
          2.051556348800659,
          1.8975436687469482,
          1.8738340139389038,
          1.6833115816116333,
          1.6260948181152344,
          1.6366136074066162,
          1.5080199241638184,
          1.4197566509246826,
          1.4517669677734375,
          1.5671097040176392,
          1.5563108921051025,
          1.4939649105072021,
          1.51967453956604,
          1.452392816543579,
          1.4399369955062866,
          1.4501793384552002,
          1.392059326171875,
          1.3168138265609741,
          1.2880865335464478,
          1.3092840909957886,
          1.325223445892334,
          1.3217192888259888,
          1.2834198474884033,
          1.2771177291870117,
          1.2627999782562256,
          1.2366764545440674,
          1.2079557180404663,
          1.1758159399032593,
          1.1892940998077393,
          1.2763816118240356,
          1.3042700290679932,
          1.2330687046051025,
          1.1887340545654297,
          1.185463547706604,
          1.1570569276809692,
          1.140030860900879,
          1.151033639907837,
          1.1964633464813232,
          1.2448370456695557,
          1.255967617034912,
          1.2407126426696777,
          1.2252535820007324,
          1.2174229621887207,
          1.2130547761917114,
          1.2123100757598877,
          1.2155776023864746
         ]
        }
       ],
       "layout": {
        "autosize": true,
        "template": {
         "data": {
          "bar": [
           {
            "error_x": {
             "color": "#2a3f5f"
            },
            "error_y": {
             "color": "#2a3f5f"
            },
            "marker": {
             "line": {
              "color": "#E5ECF6",
              "width": 0.5
             },
             "pattern": {
              "fillmode": "overlay",
              "size": 10,
              "solidity": 0.2
             }
            },
            "type": "bar"
           }
          ],
          "barpolar": [
           {
            "marker": {
             "line": {
              "color": "#E5ECF6",
              "width": 0.5
             },
             "pattern": {
              "fillmode": "overlay",
              "size": 10,
              "solidity": 0.2
             }
            },
            "type": "barpolar"
           }
          ],
          "carpet": [
           {
            "aaxis": {
             "endlinecolor": "#2a3f5f",
             "gridcolor": "white",
             "linecolor": "white",
             "minorgridcolor": "white",
             "startlinecolor": "#2a3f5f"
            },
            "baxis": {
             "endlinecolor": "#2a3f5f",
             "gridcolor": "white",
             "linecolor": "white",
             "minorgridcolor": "white",
             "startlinecolor": "#2a3f5f"
            },
            "type": "carpet"
           }
          ],
          "choropleth": [
           {
            "colorbar": {
             "outlinewidth": 0,
             "ticks": ""
            },
            "type": "choropleth"
           }
          ],
          "contour": [
           {
            "colorbar": {
             "outlinewidth": 0,
             "ticks": ""
            },
            "colorscale": [
             [
              0,
              "#0d0887"
             ],
             [
              0.1111111111111111,
              "#46039f"
             ],
             [
              0.2222222222222222,
              "#7201a8"
             ],
             [
              0.3333333333333333,
              "#9c179e"
             ],
             [
              0.4444444444444444,
              "#bd3786"
             ],
             [
              0.5555555555555556,
              "#d8576b"
             ],
             [
              0.6666666666666666,
              "#ed7953"
             ],
             [
              0.7777777777777778,
              "#fb9f3a"
             ],
             [
              0.8888888888888888,
              "#fdca26"
             ],
             [
              1,
              "#f0f921"
             ]
            ],
            "type": "contour"
           }
          ],
          "contourcarpet": [
           {
            "colorbar": {
             "outlinewidth": 0,
             "ticks": ""
            },
            "type": "contourcarpet"
           }
          ],
          "heatmap": [
           {
            "colorbar": {
             "outlinewidth": 0,
             "ticks": ""
            },
            "colorscale": [
             [
              0,
              "#0d0887"
             ],
             [
              0.1111111111111111,
              "#46039f"
             ],
             [
              0.2222222222222222,
              "#7201a8"
             ],
             [
              0.3333333333333333,
              "#9c179e"
             ],
             [
              0.4444444444444444,
              "#bd3786"
             ],
             [
              0.5555555555555556,
              "#d8576b"
             ],
             [
              0.6666666666666666,
              "#ed7953"
             ],
             [
              0.7777777777777778,
              "#fb9f3a"
             ],
             [
              0.8888888888888888,
              "#fdca26"
             ],
             [
              1,
              "#f0f921"
             ]
            ],
            "type": "heatmap"
           }
          ],
          "heatmapgl": [
           {
            "colorbar": {
             "outlinewidth": 0,
             "ticks": ""
            },
            "colorscale": [
             [
              0,
              "#0d0887"
             ],
             [
              0.1111111111111111,
              "#46039f"
             ],
             [
              0.2222222222222222,
              "#7201a8"
             ],
             [
              0.3333333333333333,
              "#9c179e"
             ],
             [
              0.4444444444444444,
              "#bd3786"
             ],
             [
              0.5555555555555556,
              "#d8576b"
             ],
             [
              0.6666666666666666,
              "#ed7953"
             ],
             [
              0.7777777777777778,
              "#fb9f3a"
             ],
             [
              0.8888888888888888,
              "#fdca26"
             ],
             [
              1,
              "#f0f921"
             ]
            ],
            "type": "heatmapgl"
           }
          ],
          "histogram": [
           {
            "marker": {
             "pattern": {
              "fillmode": "overlay",
              "size": 10,
              "solidity": 0.2
             }
            },
            "type": "histogram"
           }
          ],
          "histogram2d": [
           {
            "colorbar": {
             "outlinewidth": 0,
             "ticks": ""
            },
            "colorscale": [
             [
              0,
              "#0d0887"
             ],
             [
              0.1111111111111111,
              "#46039f"
             ],
             [
              0.2222222222222222,
              "#7201a8"
             ],
             [
              0.3333333333333333,
              "#9c179e"
             ],
             [
              0.4444444444444444,
              "#bd3786"
             ],
             [
              0.5555555555555556,
              "#d8576b"
             ],
             [
              0.6666666666666666,
              "#ed7953"
             ],
             [
              0.7777777777777778,
              "#fb9f3a"
             ],
             [
              0.8888888888888888,
              "#fdca26"
             ],
             [
              1,
              "#f0f921"
             ]
            ],
            "type": "histogram2d"
           }
          ],
          "histogram2dcontour": [
           {
            "colorbar": {
             "outlinewidth": 0,
             "ticks": ""
            },
            "colorscale": [
             [
              0,
              "#0d0887"
             ],
             [
              0.1111111111111111,
              "#46039f"
             ],
             [
              0.2222222222222222,
              "#7201a8"
             ],
             [
              0.3333333333333333,
              "#9c179e"
             ],
             [
              0.4444444444444444,
              "#bd3786"
             ],
             [
              0.5555555555555556,
              "#d8576b"
             ],
             [
              0.6666666666666666,
              "#ed7953"
             ],
             [
              0.7777777777777778,
              "#fb9f3a"
             ],
             [
              0.8888888888888888,
              "#fdca26"
             ],
             [
              1,
              "#f0f921"
             ]
            ],
            "type": "histogram2dcontour"
           }
          ],
          "mesh3d": [
           {
            "colorbar": {
             "outlinewidth": 0,
             "ticks": ""
            },
            "type": "mesh3d"
           }
          ],
          "parcoords": [
           {
            "line": {
             "colorbar": {
              "outlinewidth": 0,
              "ticks": ""
             }
            },
            "type": "parcoords"
           }
          ],
          "pie": [
           {
            "automargin": true,
            "type": "pie"
           }
          ],
          "scatter": [
           {
            "fillpattern": {
             "fillmode": "overlay",
             "size": 10,
             "solidity": 0.2
            },
            "type": "scatter"
           }
          ],
          "scatter3d": [
           {
            "line": {
             "colorbar": {
              "outlinewidth": 0,
              "ticks": ""
             }
            },
            "marker": {
             "colorbar": {
              "outlinewidth": 0,
              "ticks": ""
             }
            },
            "type": "scatter3d"
           }
          ],
          "scattercarpet": [
           {
            "marker": {
             "colorbar": {
              "outlinewidth": 0,
              "ticks": ""
             }
            },
            "type": "scattercarpet"
           }
          ],
          "scattergeo": [
           {
            "marker": {
             "colorbar": {
              "outlinewidth": 0,
              "ticks": ""
             }
            },
            "type": "scattergeo"
           }
          ],
          "scattergl": [
           {
            "marker": {
             "colorbar": {
              "outlinewidth": 0,
              "ticks": ""
             }
            },
            "type": "scattergl"
           }
          ],
          "scattermapbox": [
           {
            "marker": {
             "colorbar": {
              "outlinewidth": 0,
              "ticks": ""
             }
            },
            "type": "scattermapbox"
           }
          ],
          "scatterpolar": [
           {
            "marker": {
             "colorbar": {
              "outlinewidth": 0,
              "ticks": ""
             }
            },
            "type": "scatterpolar"
           }
          ],
          "scatterpolargl": [
           {
            "marker": {
             "colorbar": {
              "outlinewidth": 0,
              "ticks": ""
             }
            },
            "type": "scatterpolargl"
           }
          ],
          "scatterternary": [
           {
            "marker": {
             "colorbar": {
              "outlinewidth": 0,
              "ticks": ""
             }
            },
            "type": "scatterternary"
           }
          ],
          "surface": [
           {
            "colorbar": {
             "outlinewidth": 0,
             "ticks": ""
            },
            "colorscale": [
             [
              0,
              "#0d0887"
             ],
             [
              0.1111111111111111,
              "#46039f"
             ],
             [
              0.2222222222222222,
              "#7201a8"
             ],
             [
              0.3333333333333333,
              "#9c179e"
             ],
             [
              0.4444444444444444,
              "#bd3786"
             ],
             [
              0.5555555555555556,
              "#d8576b"
             ],
             [
              0.6666666666666666,
              "#ed7953"
             ],
             [
              0.7777777777777778,
              "#fb9f3a"
             ],
             [
              0.8888888888888888,
              "#fdca26"
             ],
             [
              1,
              "#f0f921"
             ]
            ],
            "type": "surface"
           }
          ],
          "table": [
           {
            "cells": {
             "fill": {
              "color": "#EBF0F8"
             },
             "line": {
              "color": "white"
             }
            },
            "header": {
             "fill": {
              "color": "#C8D4E3"
             },
             "line": {
              "color": "white"
             }
            },
            "type": "table"
           }
          ]
         },
         "layout": {
          "annotationdefaults": {
           "arrowcolor": "#2a3f5f",
           "arrowhead": 0,
           "arrowwidth": 1
          },
          "autotypenumbers": "strict",
          "coloraxis": {
           "colorbar": {
            "outlinewidth": 0,
            "ticks": ""
           }
          },
          "colorscale": {
           "diverging": [
            [
             0,
             "#8e0152"
            ],
            [
             0.1,
             "#c51b7d"
            ],
            [
             0.2,
             "#de77ae"
            ],
            [
             0.3,
             "#f1b6da"
            ],
            [
             0.4,
             "#fde0ef"
            ],
            [
             0.5,
             "#f7f7f7"
            ],
            [
             0.6,
             "#e6f5d0"
            ],
            [
             0.7,
             "#b8e186"
            ],
            [
             0.8,
             "#7fbc41"
            ],
            [
             0.9,
             "#4d9221"
            ],
            [
             1,
             "#276419"
            ]
           ],
           "sequential": [
            [
             0,
             "#0d0887"
            ],
            [
             0.1111111111111111,
             "#46039f"
            ],
            [
             0.2222222222222222,
             "#7201a8"
            ],
            [
             0.3333333333333333,
             "#9c179e"
            ],
            [
             0.4444444444444444,
             "#bd3786"
            ],
            [
             0.5555555555555556,
             "#d8576b"
            ],
            [
             0.6666666666666666,
             "#ed7953"
            ],
            [
             0.7777777777777778,
             "#fb9f3a"
            ],
            [
             0.8888888888888888,
             "#fdca26"
            ],
            [
             1,
             "#f0f921"
            ]
           ],
           "sequentialminus": [
            [
             0,
             "#0d0887"
            ],
            [
             0.1111111111111111,
             "#46039f"
            ],
            [
             0.2222222222222222,
             "#7201a8"
            ],
            [
             0.3333333333333333,
             "#9c179e"
            ],
            [
             0.4444444444444444,
             "#bd3786"
            ],
            [
             0.5555555555555556,
             "#d8576b"
            ],
            [
             0.6666666666666666,
             "#ed7953"
            ],
            [
             0.7777777777777778,
             "#fb9f3a"
            ],
            [
             0.8888888888888888,
             "#fdca26"
            ],
            [
             1,
             "#f0f921"
            ]
           ]
          },
          "colorway": [
           "#636efa",
           "#EF553B",
           "#00cc96",
           "#ab63fa",
           "#FFA15A",
           "#19d3f3",
           "#FF6692",
           "#B6E880",
           "#FF97FF",
           "#FECB52"
          ],
          "font": {
           "color": "#2a3f5f"
          },
          "geo": {
           "bgcolor": "white",
           "lakecolor": "white",
           "landcolor": "#E5ECF6",
           "showlakes": true,
           "showland": true,
           "subunitcolor": "white"
          },
          "hoverlabel": {
           "align": "left"
          },
          "hovermode": "closest",
          "mapbox": {
           "style": "light"
          },
          "paper_bgcolor": "white",
          "plot_bgcolor": "#E5ECF6",
          "polar": {
           "angularaxis": {
            "gridcolor": "white",
            "linecolor": "white",
            "ticks": ""
           },
           "bgcolor": "#E5ECF6",
           "radialaxis": {
            "gridcolor": "white",
            "linecolor": "white",
            "ticks": ""
           }
          },
          "scene": {
           "xaxis": {
            "backgroundcolor": "#E5ECF6",
            "gridcolor": "white",
            "gridwidth": 2,
            "linecolor": "white",
            "showbackground": true,
            "ticks": "",
            "zerolinecolor": "white"
           },
           "yaxis": {
            "backgroundcolor": "#E5ECF6",
            "gridcolor": "white",
            "gridwidth": 2,
            "linecolor": "white",
            "showbackground": true,
            "ticks": "",
            "zerolinecolor": "white"
           },
           "zaxis": {
            "backgroundcolor": "#E5ECF6",
            "gridcolor": "white",
            "gridwidth": 2,
            "linecolor": "white",
            "showbackground": true,
            "ticks": "",
            "zerolinecolor": "white"
           }
          },
          "shapedefaults": {
           "line": {
            "color": "#2a3f5f"
           }
          },
          "ternary": {
           "aaxis": {
            "gridcolor": "white",
            "linecolor": "white",
            "ticks": ""
           },
           "baxis": {
            "gridcolor": "white",
            "linecolor": "white",
            "ticks": ""
           },
           "bgcolor": "#E5ECF6",
           "caxis": {
            "gridcolor": "white",
            "linecolor": "white",
            "ticks": ""
           }
          },
          "title": {
           "x": 0.05
          },
          "xaxis": {
           "automargin": true,
           "gridcolor": "white",
           "linecolor": "white",
           "ticks": "",
           "title": {
            "standoff": 15
           },
           "zerolinecolor": "white",
           "zerolinewidth": 2
          },
          "yaxis": {
           "automargin": true,
           "gridcolor": "white",
           "linecolor": "white",
           "ticks": "",
           "title": {
            "standoff": 15
           },
           "zerolinecolor": "white",
           "zerolinewidth": 2
          }
         }
        },
        "title": {
         "text": "Эпоха сайын Оқыту және Валидация кезіндегі жоғалтулар"
        },
        "xaxis": {
         "autorange": true,
         "range": [
          -3.832402234636872,
          85.83240223463687
         ],
         "title": {
          "text": "Эпоха саны"
         },
         "type": "linear"
        },
        "yaxis": {
         "autorange": true,
         "range": [
          -1.4483587215247664,
          31.341257400304368
         ],
         "title": {
          "text": "Жоғалтулар"
         },
         "type": "linear"
        }
       }
      },
      "image/png": "[encoded data removed]",
      "text/html": [
       "<div>                            <div id=\"10775ebd-52a0-43bf-81dd-cb7a91ca964b\" class=\"plotly-graph-div\" style=\"height:525px; width:100%;\"></div>            <script type=\"text/javascript\">                require([\"plotly\"], function(Plotly) {                    window.PLOTLYENV=window.PLOTLYENV || {};                                    if (document.getElementById(\"10775ebd-52a0-43bf-81dd-cb7a91ca964b\")) {                    Plotly.newPlot(                        \"10775ebd-52a0-43bf-81dd-cb7a91ca964b\",                        [{\"line\":{\"color\":\"blue\"},\"mode\":\"lines+markers\",\"name\":\"\\u041e\\u049b\\u044b\\u0442\\u0443 \\u0436\\u043e\\u0493\\u0430\\u043b\\u0442\\u0443\\u043b\\u0430\\u0440\\u044b\",\"x\":[1,2,3,4,5,6,7,8,9,10,11,12,13,14,15,16,17,18,19,20,21,22,23,24,25,26,27,28,29,30,31,32,33,34,35,36,37,38,39,40,41,42,43,44,45,46,47,48,49,50,51,52,53,54,55,56,57,58,59,60,61,62,63,64,65,66,67,68,69,70,71,72,73,74,75,76,77,78,79,80,81],\"y\":[29.018659591674805,22.353866577148438,17.217945098876953,13.131847381591797,10.254021644592285,8.14090347290039,6.835474014282227,5.6265082359313965,5.036997318267822,4.454074859619141,4.11346960067749,3.839362621307373,3.5864813327789307,3.4257872104644775,3.161763906478882,3.0420725345611572,2.8236021995544434,2.67531156539917,2.591261386871338,2.404040575027466,2.326636552810669,2.2801308631896973,2.221409559249878,2.044748067855835,2.0451371669769287,1.8874696493148804,1.9688905477523804,1.8999031782150269,1.9153491258621216,1.790675401687622,1.8872123956680298,1.7334825992584229,1.7000857591629028,1.672659993171692,1.6404262781143188,1.6261192560195923,1.564266324043274,1.5124415159225464,1.5394434928894043,1.411379098892212,1.3697385787963867,1.3772135972976685,1.3002562522888184,1.2912636995315552,1.240415096282959,1.2250230312347412,1.1817898750305176,1.1891480684280396,1.2430565357208252,1.1734477281570435,1.1637310981750488,1.1546045541763306,1.1504933834075928,1.1050629615783691,1.0837476253509521,1.0667530298233032,1.0820451974868774,1.0604578256607056,1.0157557725906372,1.0086783170700073,0.9978042840957642,0.9515519142150879,0.9643063545227051,0.9504618644714355,0.9359037280082703,0.9458659291267395,0.9394800662994385,0.9350366592407227,0.9559594392776489,0.9870433807373047,0.9392135739326477,0.9278830289840698,0.9495871663093567,0.9136223196983337,0.9284919500350952,0.9380181431770325,0.9241833686828613,0.910483181476593,0.9118934273719788,0.8742390871047974,0.8848240375518799],\"type\":\"scatter\"},{\"line\":{\"color\":\"red\"},\"mode\":\"lines+markers\",\"name\":\"\\u0412\\u0430\\u043b\\u0438\\u0434\\u0430\\u0446\\u0438\\u044f \\u0436\\u043e\\u0493\\u0430\\u043b\\u0442\\u0443\\u043b\\u0430\\u0440\\u044b\",\"x\":[1,2,3,4,5,6,7,8,9,10,11,12,13,14,15,16,17,18,19,20,21,22,23,24,25,26,27,28,29,30,31,32,33,34,35,36,37,38,39,40,41,42,43,44,45,46,47,48,49,50,51,52,53,54,55,56,57,58,59,60,61,62,63,64,65,66,67,68,69,70,71,72,73,74,75,76,77,78,79,80,81],\"y\":[23.727582931518555,18.347291946411133,14.17565631866455,11.165213584899902,8.758058547973633,7.129136085510254,6.133139133453369,5.671736717224121,5.123477935791016,4.590147495269775,4.346573352813721,4.1778564453125,3.8121540546417236,3.701986312866211,3.4823951721191406,3.366830825805664,3.1388165950775146,2.7768001556396484,2.6229195594787598,2.580986738204956,2.6925246715545654,2.5892419815063477,2.407646656036377,2.5019032955169678,2.4075088500976562,2.256349563598633,2.4042532444000244,2.66770076751709,2.119086503982544,2.0157699584960938,2.016223192214966,1.9430148601531982,1.786994218826294,1.8091490268707275,1.927786111831665,2.051556348800659,1.8975436687469482,1.8738340139389038,1.6833115816116333,1.6260948181152344,1.6366136074066162,1.5080199241638184,1.4197566509246826,1.4517669677734375,1.5671097040176392,1.5563108921051025,1.4939649105072021,1.51967453956604,1.452392816543579,1.4399369955062866,1.4501793384552002,1.392059326171875,1.3168138265609741,1.2880865335464478,1.3092840909957886,1.325223445892334,1.3217192888259888,1.2834198474884033,1.2771177291870117,1.2627999782562256,1.2366764545440674,1.2079557180404663,1.1758159399032593,1.1892940998077393,1.2763816118240356,1.3042700290679932,1.2330687046051025,1.1887340545654297,1.185463547706604,1.1570569276809692,1.140030860900879,1.151033639907837,1.1964633464813232,1.2448370456695557,1.255967617034912,1.2407126426696777,1.2252535820007324,1.2174229621887207,1.2130547761917114,1.2123100757598877,1.2155776023864746],\"type\":\"scatter\"}],                        {\"template\":{\"data\":{\"histogram2dcontour\":[{\"type\":\"histogram2dcontour\",\"colorbar\":{\"outlinewidth\":0,\"ticks\":\"\"},\"colorscale\":[[0.0,\"#0d0887\"],[0.1111111111111111,\"#46039f\"],[0.2222222222222222,\"#7201a8\"],[0.3333333333333333,\"#9c179e\"],[0.4444444444444444,\"#bd3786\"],[0.5555555555555556,\"#d8576b\"],[0.6666666666666666,\"#ed7953\"],[0.7777777777777778,\"#fb9f3a\"],[0.8888888888888888,\"#fdca26\"],[1.0,\"#f0f921\"]]}],\"choropleth\":[{\"type\":\"choropleth\",\"colorbar\":{\"outlinewidth\":0,\"ticks\":\"\"}}],\"histogram2d\":[{\"type\":\"histogram2d\",\"colorbar\":{\"outlinewidth\":0,\"ticks\":\"\"},\"colorscale\":[[0.0,\"#0d0887\"],[0.1111111111111111,\"#46039f\"],[0.2222222222222222,\"#7201a8\"],[0.3333333333333333,\"#9c179e\"],[0.4444444444444444,\"#bd3786\"],[0.5555555555555556,\"#d8576b\"],[0.6666666666666666,\"#ed7953\"],[0.7777777777777778,\"#fb9f3a\"],[0.8888888888888888,\"#fdca26\"],[1.0,\"#f0f921\"]]}],\"heatmap\":[{\"type\":\"heatmap\",\"colorbar\":{\"outlinewidth\":0,\"ticks\":\"\"},\"colorscale\":[[0.0,\"#0d0887\"],[0.1111111111111111,\"#46039f\"],[0.2222222222222222,\"#7201a8\"],[0.3333333333333333,\"#9c179e\"],[0.4444444444444444,\"#bd3786\"],[0.5555555555555556,\"#d8576b\"],[0.6666666666666666,\"#ed7953\"],[0.7777777777777778,\"#fb9f3a\"],[0.8888888888888888,\"#fdca26\"],[1.0,\"#f0f921\"]]}],\"heatmapgl\":[{\"type\":\"heatmapgl\",\"colorbar\":{\"outlinewidth\":0,\"ticks\":\"\"},\"colorscale\":[[0.0,\"#0d0887\"],[0.1111111111111111,\"#46039f\"],[0.2222222222222222,\"#7201a8\"],[0.3333333333333333,\"#9c179e\"],[0.4444444444444444,\"#bd3786\"],[0.5555555555555556,\"#d8576b\"],[0.6666666666666666,\"#ed7953\"],[0.7777777777777778,\"#fb9f3a\"],[0.8888888888888888,\"#fdca26\"],[1.0,\"#f0f921\"]]}],\"contourcarpet\":[{\"type\":\"contourcarpet\",\"colorbar\":{\"outlinewidth\":0,\"ticks\":\"\"}}],\"contour\":[{\"type\":\"contour\",\"colorbar\":{\"outlinewidth\":0,\"ticks\":\"\"},\"colorscale\":[[0.0,\"#0d0887\"],[0.1111111111111111,\"#46039f\"],[0.2222222222222222,\"#7201a8\"],[0.3333333333333333,\"#9c179e\"],[0.4444444444444444,\"#bd3786\"],[0.5555555555555556,\"#d8576b\"],[0.6666666666666666,\"#ed7953\"],[0.7777777777777778,\"#fb9f3a\"],[0.8888888888888888,\"#fdca26\"],[1.0,\"#f0f921\"]]}],\"surface\":[{\"type\":\"surface\",\"colorbar\":{\"outlinewidth\":0,\"ticks\":\"\"},\"colorscale\":[[0.0,\"#0d0887\"],[0.1111111111111111,\"#46039f\"],[0.2222222222222222,\"#7201a8\"],[0.3333333333333333,\"#9c179e\"],[0.4444444444444444,\"#bd3786\"],[0.5555555555555556,\"#d8576b\"],[0.6666666666666666,\"#ed7953\"],[0.7777777777777778,\"#fb9f3a\"],[0.8888888888888888,\"#fdca26\"],[1.0,\"#f0f921\"]]}],\"mesh3d\":[{\"type\":\"mesh3d\",\"colorbar\":{\"outlinewidth\":0,\"ticks\":\"\"}}],\"scatter\":[{\"fillpattern\":{\"fillmode\":\"overlay\",\"size\":10,\"solidity\":0.2},\"type\":\"scatter\"}],\"parcoords\":[{\"type\":\"parcoords\",\"line\":{\"colorbar\":{\"outlinewidth\":0,\"ticks\":\"\"}}}],\"scatterpolargl\":[{\"type\":\"scatterpolargl\",\"marker\":{\"colorbar\":{\"outlinewidth\":0,\"ticks\":\"\"}}}],\"bar\":[{\"error_x\":{\"color\":\"#2a3f5f\"},\"error_y\":{\"color\":\"#2a3f5f\"},\"marker\":{\"line\":{\"color\":\"#E5ECF6\",\"width\":0.5},\"pattern\":{\"fillmode\":\"overlay\",\"size\":10,\"solidity\":0.2}},\"type\":\"bar\"}],\"scattergeo\":[{\"type\":\"scattergeo\",\"marker\":{\"colorbar\":{\"outlinewidth\":0,\"ticks\":\"\"}}}],\"scatterpolar\":[{\"type\":\"scatterpolar\",\"marker\":{\"colorbar\":{\"outlinewidth\":0,\"ticks\":\"\"}}}],\"histogram\":[{\"marker\":{\"pattern\":{\"fillmode\":\"overlay\",\"size\":10,\"solidity\":0.2}},\"type\":\"histogram\"}],\"scattergl\":[{\"type\":\"scattergl\",\"marker\":{\"colorbar\":{\"outlinewidth\":0,\"ticks\":\"\"}}}],\"scatter3d\":[{\"type\":\"scatter3d\",\"line\":{\"colorbar\":{\"outlinewidth\":0,\"ticks\":\"\"}},\"marker\":{\"colorbar\":{\"outlinewidth\":0,\"ticks\":\"\"}}}],\"scattermapbox\":[{\"type\":\"scattermapbox\",\"marker\":{\"colorbar\":{\"outlinewidth\":0,\"ticks\":\"\"}}}],\"scatterternary\":[{\"type\":\"scatterternary\",\"marker\":{\"colorbar\":{\"outlinewidth\":0,\"ticks\":\"\"}}}],\"scattercarpet\":[{\"type\":\"scattercarpet\",\"marker\":{\"colorbar\":{\"outlinewidth\":0,\"ticks\":\"\"}}}],\"carpet\":[{\"aaxis\":{\"endlinecolor\":\"#2a3f5f\",\"gridcolor\":\"white\",\"linecolor\":\"white\",\"minorgridcolor\":\"white\",\"startlinecolor\":\"#2a3f5f\"},\"baxis\":{\"endlinecolor\":\"#2a3f5f\",\"gridcolor\":\"white\",\"linecolor\":\"white\",\"minorgridcolor\":\"white\",\"startlinecolor\":\"#2a3f5f\"},\"type\":\"carpet\"}],\"table\":[{\"cells\":{\"fill\":{\"color\":\"#EBF0F8\"},\"line\":{\"color\":\"white\"}},\"header\":{\"fill\":{\"color\":\"#C8D4E3\"},\"line\":{\"color\":\"white\"}},\"type\":\"table\"}],\"barpolar\":[{\"marker\":{\"line\":{\"color\":\"#E5ECF6\",\"width\":0.5},\"pattern\":{\"fillmode\":\"overlay\",\"size\":10,\"solidity\":0.2}},\"type\":\"barpolar\"}],\"pie\":[{\"automargin\":true,\"type\":\"pie\"}]},\"layout\":{\"autotypenumbers\":\"strict\",\"colorway\":[\"#636efa\",\"#EF553B\",\"#00cc96\",\"#ab63fa\",\"#FFA15A\",\"#19d3f3\",\"#FF6692\",\"#B6E880\",\"#FF97FF\",\"#FECB52\"],\"font\":{\"color\":\"#2a3f5f\"},\"hovermode\":\"closest\",\"hoverlabel\":{\"align\":\"left\"},\"paper_bgcolor\":\"white\",\"plot_bgcolor\":\"#E5ECF6\",\"polar\":{\"bgcolor\":\"#E5ECF6\",\"angularaxis\":{\"gridcolor\":\"white\",\"linecolor\":\"white\",\"ticks\":\"\"},\"radialaxis\":{\"gridcolor\":\"white\",\"linecolor\":\"white\",\"ticks\":\"\"}},\"ternary\":{\"bgcolor\":\"#E5ECF6\",\"aaxis\":{\"gridcolor\":\"white\",\"linecolor\":\"white\",\"ticks\":\"\"},\"baxis\":{\"gridcolor\":\"white\",\"linecolor\":\"white\",\"ticks\":\"\"},\"caxis\":{\"gridcolor\":\"white\",\"linecolor\":\"white\",\"ticks\":\"\"}},\"coloraxis\":{\"colorbar\":{\"outlinewidth\":0,\"ticks\":\"\"}},\"colorscale\":{\"sequential\":[[0.0,\"#0d0887\"],[0.1111111111111111,\"#46039f\"],[0.2222222222222222,\"#7201a8\"],[0.3333333333333333,\"#9c179e\"],[0.4444444444444444,\"#bd3786\"],[0.5555555555555556,\"#d8576b\"],[0.6666666666666666,\"#ed7953\"],[0.7777777777777778,\"#fb9f3a\"],[0.8888888888888888,\"#fdca26\"],[1.0,\"#f0f921\"]],\"sequentialminus\":[[0.0,\"#0d0887\"],[0.1111111111111111,\"#46039f\"],[0.2222222222222222,\"#7201a8\"],[0.3333333333333333,\"#9c179e\"],[0.4444444444444444,\"#bd3786\"],[0.5555555555555556,\"#d8576b\"],[0.6666666666666666,\"#ed7953\"],[0.7777777777777778,\"#fb9f3a\"],[0.8888888888888888,\"#fdca26\"],[1.0,\"#f0f921\"]],\"diverging\":[[0,\"#8e0152\"],[0.1,\"#c51b7d\"],[0.2,\"#de77ae\"],[0.3,\"#f1b6da\"],[0.4,\"#fde0ef\"],[0.5,\"#f7f7f7\"],[0.6,\"#e6f5d0\"],[0.7,\"#b8e186\"],[0.8,\"#7fbc41\"],[0.9,\"#4d9221\"],[1,\"#276419\"]]},\"xaxis\":{\"gridcolor\":\"white\",\"linecolor\":\"white\",\"ticks\":\"\",\"title\":{\"standoff\":15},\"zerolinecolor\":\"white\",\"automargin\":true,\"zerolinewidth\":2},\"yaxis\":{\"gridcolor\":\"white\",\"linecolor\":\"white\",\"ticks\":\"\",\"title\":{\"standoff\":15},\"zerolinecolor\":\"white\",\"automargin\":true,\"zerolinewidth\":2},\"scene\":{\"xaxis\":{\"backgroundcolor\":\"#E5ECF6\",\"gridcolor\":\"white\",\"linecolor\":\"white\",\"showbackground\":true,\"ticks\":\"\",\"zerolinecolor\":\"white\",\"gridwidth\":2},\"yaxis\":{\"backgroundcolor\":\"#E5ECF6\",\"gridcolor\":\"white\",\"linecolor\":\"white\",\"showbackground\":true,\"ticks\":\"\",\"zerolinecolor\":\"white\",\"gridwidth\":2},\"zaxis\":{\"backgroundcolor\":\"#E5ECF6\",\"gridcolor\":\"white\",\"linecolor\":\"white\",\"showbackground\":true,\"ticks\":\"\",\"zerolinecolor\":\"white\",\"gridwidth\":2}},\"shapedefaults\":{\"line\":{\"color\":\"#2a3f5f\"}},\"annotationdefaults\":{\"arrowcolor\":\"#2a3f5f\",\"arrowhead\":0,\"arrowwidth\":1},\"geo\":{\"bgcolor\":\"white\",\"landcolor\":\"#E5ECF6\",\"subunitcolor\":\"white\",\"showland\":true,\"showlakes\":true,\"lakecolor\":\"white\"},\"title\":{\"x\":0.05},\"mapbox\":{\"style\":\"light\"}}},\"title\":{\"text\":\"\\u042d\\u043f\\u043e\\u0445\\u0430 \\u0441\\u0430\\u0439\\u044b\\u043d \\u041e\\u049b\\u044b\\u0442\\u0443 \\u0436\\u04d9\\u043d\\u0435 \\u0412\\u0430\\u043b\\u0438\\u0434\\u0430\\u0446\\u0438\\u044f \\u043a\\u0435\\u0437\\u0456\\u043d\\u0434\\u0435\\u0433\\u0456 \\u0436\\u043e\\u0493\\u0430\\u043b\\u0442\\u0443\\u043b\\u0430\\u0440\"},\"xaxis\":{\"title\":{\"text\":\"\\u042d\\u043f\\u043e\\u0445\\u0430 \\u0441\\u0430\\u043d\\u044b\"}},\"yaxis\":{\"title\":{\"text\":\"\\u0416\\u043e\\u0493\\u0430\\u043b\\u0442\\u0443\\u043b\\u0430\\u0440\"}}},                        {\"responsive\": true}                    ).then(function(){\n",
       "                            \n",
       "var gd = document.getElementById('10775ebd-52a0-43bf-81dd-cb7a91ca964b');\n",
       "var x = new MutationObserver(function (mutations, observer) {{\n",
       "        var display = window.getComputedStyle(gd).display;\n",
       "        if (!display || display === 'none') {{\n",
       "            console.log([gd, 'removed!']);\n",
       "            Plotly.purge(gd);\n",
       "            observer.disconnect();\n",
       "        }}\n",
       "}});\n",
       "\n",
       "// Listen for the removal of the full notebook cells\n",
       "var notebookContainer = gd.closest('#notebook-container');\n",
       "if (notebookContainer) {{\n",
       "    x.observe(notebookContainer, {childList: true});\n",
       "}}\n",
       "\n",
       "// Listen for the clearing of the current output cell\n",
       "var outputEl = gd.closest('.output');\n",
       "if (outputEl) {{\n",
       "    x.observe(outputEl, {childList: true});\n",
       "}}\n",
       "\n",
       "                        })                };                });            </script>        </div>"
      ]
     },
     "metadata": {},
     "output_type": "display_data"
    }
   ],
   "source": [
    "fig = go.Figure()\n",
    "fig.add_trace(go.Scatter(\n",
    "    x=list(range(1, len(best_history.history['loss']) + 1)),\n",
    "    y=best_history.history['loss'],\n",
    "    mode='lines+markers',\n",
    "    name='Оқыту жоғалтулары',\n",
    "    line=dict(color='blue')\n",
    "))\n",
    "fig.add_trace(go.Scatter(\n",
    "    x=list(range(1, len(best_history.history['val_loss']) + 1)),\n",
    "    y=best_history.history['val_loss'],\n",
    "    mode='lines+markers',\n",
    "    name='Валидация жоғалтулары',\n",
    "    line=dict(color='red')\n",
    "))\n",
    "\n",
    "fig.update_layout(\n",
    "    title='Эпоха сайын Оқыту және Валидация кезіндегі жоғалтулар',\n",
    "    xaxis_title='Эпоха саны',\n",
    "    yaxis_title='Жоғалтулар'\n",
    ")\n",
    "fig.show()"
   ]
  },
  {
   "cell_type": "code",
   "execution_count": 51,
   "id": "e183bcdb-15b4-4210-bd88-1beb438a9c81",
   "metadata": {},
   "outputs": [
    {
     "name": "stdout",
     "output_type": "stream",
     "text": [
      "2/2 [==============================] - 0s 9ms/step - loss: 1.1256 - accuracy: 0.9231\n",
      "Тестілік жоғалтулар: 1.1255934238433838, Тестілік дәлдік: 0.9230769276618958\n"
     ]
    }
   ],
   "source": [
    "test_loss, test_accuracy = best_model.evaluate(X_test, y_test)\n",
    "print(f'Тестілік жоғалтулар: {test_loss}, Тестілік дәлдік: {test_accuracy}')"
   ]
  },
  {
   "cell_type": "code",
   "execution_count": 13,
   "id": "957e119e-4d7d-4f70-ba5a-1bd3ce5c2213",
   "metadata": {},
   "outputs": [
    {
     "name": "stdout",
     "output_type": "stream",
     "text": [
      "2/2 [==============================] - 0s 13ms/step\n"
     ]
    },
    {
     "data": {
      "application/vnd.plotly.v1+json": {
       "config": {
        "plotlyServerURL": "https://plot.ly"
       },
       "data": [
        {
         "coloraxis": "coloraxis",
         "hovertemplate": "Болжанған белгілер: %{x}<br>Рас белгілеря: %{y}<br>color: %{z}<extra></extra>",
         "name": "0",
         "texttemplate": "%{z:.d}",
         "type": "heatmap",
         "x": [
          "Сөйлеуші_1",
          "Сөйлеуші_2",
          "Сөйлеуші_3",
          "Сөйлеуші_4",
          "Сөйлеуші_5",
          "Сөйлеуші_6",
          "Сөйлеуші_7",
          "Сөйлеуші_8",
          "Сөйлеуші_9",
          "Сөйлеуші_10",
          "Сөйлеуші_11",
          "Сөйлеуші_12",
          "Сөйлеуші_13",
          "Сөйлеуші_14",
          "Сөйлеуші_15",
          "Сөйлеуші_16"
         ],
         "xaxis": "x",
         "y": [
          "Сөйлеуші_1",
          "Сөйлеуші_2",
          "Сөйлеуші_3",
          "Сөйлеуші_4",
          "Сөйлеуші_5",
          "Сөйлеуші_6",
          "Сөйлеуші_7",
          "Сөйлеуші_8",
          "Сөйлеуші_9",
          "Сөйлеуші_10",
          "Сөйлеуші_11",
          "Сөйлеуші_12",
          "Сөйлеуші_13",
          "Сөйлеуші_14",
          "Сөйлеуші_15",
          "Сөйлеуші_16"
         ],
         "yaxis": "y",
         "z": [
          [
           2,
           0,
           0,
           0,
           0,
           0,
           0,
           0,
           0,
           0,
           0,
           0,
           0,
           0,
           0,
           0
          ],
          [
           0,
           2,
           0,
           0,
           0,
           0,
           0,
           0,
           0,
           0,
           0,
           0,
           0,
           0,
           0,
           0
          ],
          [
           0,
           0,
           2,
           0,
           0,
           0,
           0,
           0,
           0,
           0,
           0,
           0,
           0,
           0,
           0,
           0
          ],
          [
           0,
           0,
           0,
           3,
           0,
           0,
           0,
           0,
           0,
           0,
           0,
           0,
           0,
           0,
           0,
           0
          ],
          [
           0,
           0,
           0,
           0,
           2,
           1,
           0,
           0,
           0,
           0,
           0,
           0,
           0,
           0,
           0,
           0
          ],
          [
           0,
           0,
           0,
           0,
           1,
           1,
           0,
           0,
           0,
           0,
           0,
           0,
           0,
           0,
           0,
           0
          ],
          [
           0,
           0,
           0,
           0,
           0,
           0,
           3,
           0,
           0,
           0,
           0,
           0,
           0,
           0,
           0,
           0
          ],
          [
           0,
           0,
           0,
           0,
           0,
           0,
           0,
           3,
           0,
           0,
           0,
           0,
           0,
           0,
           0,
           0
          ],
          [
           0,
           0,
           0,
           0,
           0,
           0,
           0,
           0,
           2,
           0,
           0,
           0,
           0,
           0,
           0,
           0
          ],
          [
           0,
           0,
           0,
           0,
           0,
           0,
           0,
           0,
           0,
           2,
           0,
           0,
           0,
           0,
           0,
           0
          ],
          [
           0,
           0,
           0,
           0,
           0,
           0,
           0,
           0,
           0,
           0,
           3,
           0,
           0,
           0,
           0,
           0
          ],
          [
           0,
           0,
           0,
           0,
           0,
           0,
           0,
           0,
           0,
           0,
           0,
           2,
           0,
           0,
           0,
           0
          ],
          [
           0,
           0,
           0,
           0,
           0,
           0,
           0,
           0,
           0,
           0,
           0,
           0,
           3,
           0,
           0,
           0
          ],
          [
           0,
           0,
           0,
           0,
           0,
           0,
           0,
           0,
           0,
           0,
           0,
           0,
           0,
           2,
           0,
           0
          ],
          [
           0,
           0,
           0,
           0,
           0,
           0,
           0,
           0,
           0,
           0,
           0,
           0,
           0,
           0,
           2,
           0
          ],
          [
           0,
           0,
           1,
           0,
           0,
           0,
           0,
           0,
           0,
           0,
           0,
           0,
           0,
           0,
           0,
           2
          ]
         ]
        }
       ],
       "layout": {
        "autosize": true,
        "coloraxis": {
         "colorscale": [
          [
           0,
           "rgb(247,252,245)"
          ],
          [
           0.125,
           "rgb(229,245,224)"
          ],
          [
           0.25,
           "rgb(199,233,192)"
          ],
          [
           0.375,
           "rgb(161,217,155)"
          ],
          [
           0.5,
           "rgb(116,196,118)"
          ],
          [
           0.625,
           "rgb(65,171,93)"
          ],
          [
           0.75,
           "rgb(35,139,69)"
          ],
          [
           0.875,
           "rgb(0,109,44)"
          ],
          [
           1,
           "rgb(0,68,27)"
          ]
         ]
        },
        "margin": {
         "t": 60
        },
        "template": {
         "data": {
          "bar": [
           {
            "error_x": {
             "color": "#2a3f5f"
            },
            "error_y": {
             "color": "#2a3f5f"
            },
            "marker": {
             "line": {
              "color": "#E5ECF6",
              "width": 0.5
             },
             "pattern": {
              "fillmode": "overlay",
              "size": 10,
              "solidity": 0.2
             }
            },
            "type": "bar"
           }
          ],
          "barpolar": [
           {
            "marker": {
             "line": {
              "color": "#E5ECF6",
              "width": 0.5
             },
             "pattern": {
              "fillmode": "overlay",
              "size": 10,
              "solidity": 0.2
             }
            },
            "type": "barpolar"
           }
          ],
          "carpet": [
           {
            "aaxis": {
             "endlinecolor": "#2a3f5f",
             "gridcolor": "white",
             "linecolor": "white",
             "minorgridcolor": "white",
             "startlinecolor": "#2a3f5f"
            },
            "baxis": {
             "endlinecolor": "#2a3f5f",
             "gridcolor": "white",
             "linecolor": "white",
             "minorgridcolor": "white",
             "startlinecolor": "#2a3f5f"
            },
            "type": "carpet"
           }
          ],
          "choropleth": [
           {
            "colorbar": {
             "outlinewidth": 0,
             "ticks": ""
            },
            "type": "choropleth"
           }
          ],
          "contour": [
           {
            "colorbar": {
             "outlinewidth": 0,
             "ticks": ""
            },
            "colorscale": [
             [
              0,
              "#0d0887"
             ],
             [
              0.1111111111111111,
              "#46039f"
             ],
             [
              0.2222222222222222,
              "#7201a8"
             ],
             [
              0.3333333333333333,
              "#9c179e"
             ],
             [
              0.4444444444444444,
              "#bd3786"
             ],
             [
              0.5555555555555556,
              "#d8576b"
             ],
             [
              0.6666666666666666,
              "#ed7953"
             ],
             [
              0.7777777777777778,
              "#fb9f3a"
             ],
             [
              0.8888888888888888,
              "#fdca26"
             ],
             [
              1,
              "#f0f921"
             ]
            ],
            "type": "contour"
           }
          ],
          "contourcarpet": [
           {
            "colorbar": {
             "outlinewidth": 0,
             "ticks": ""
            },
            "type": "contourcarpet"
           }
          ],
          "heatmap": [
           {
            "colorbar": {
             "outlinewidth": 0,
             "ticks": ""
            },
            "colorscale": [
             [
              0,
              "#0d0887"
             ],
             [
              0.1111111111111111,
              "#46039f"
             ],
             [
              0.2222222222222222,
              "#7201a8"
             ],
             [
              0.3333333333333333,
              "#9c179e"
             ],
             [
              0.4444444444444444,
              "#bd3786"
             ],
             [
              0.5555555555555556,
              "#d8576b"
             ],
             [
              0.6666666666666666,
              "#ed7953"
             ],
             [
              0.7777777777777778,
              "#fb9f3a"
             ],
             [
              0.8888888888888888,
              "#fdca26"
             ],
             [
              1,
              "#f0f921"
             ]
            ],
            "type": "heatmap"
           }
          ],
          "heatmapgl": [
           {
            "colorbar": {
             "outlinewidth": 0,
             "ticks": ""
            },
            "colorscale": [
             [
              0,
              "#0d0887"
             ],
             [
              0.1111111111111111,
              "#46039f"
             ],
             [
              0.2222222222222222,
              "#7201a8"
             ],
             [
              0.3333333333333333,
              "#9c179e"
             ],
             [
              0.4444444444444444,
              "#bd3786"
             ],
             [
              0.5555555555555556,
              "#d8576b"
             ],
             [
              0.6666666666666666,
              "#ed7953"
             ],
             [
              0.7777777777777778,
              "#fb9f3a"
             ],
             [
              0.8888888888888888,
              "#fdca26"
             ],
             [
              1,
              "#f0f921"
             ]
            ],
            "type": "heatmapgl"
           }
          ],
          "histogram": [
           {
            "marker": {
             "pattern": {
              "fillmode": "overlay",
              "size": 10,
              "solidity": 0.2
             }
            },
            "type": "histogram"
           }
          ],
          "histogram2d": [
           {
            "colorbar": {
             "outlinewidth": 0,
             "ticks": ""
            },
            "colorscale": [
             [
              0,
              "#0d0887"
             ],
             [
              0.1111111111111111,
              "#46039f"
             ],
             [
              0.2222222222222222,
              "#7201a8"
             ],
             [
              0.3333333333333333,
              "#9c179e"
             ],
             [
              0.4444444444444444,
              "#bd3786"
             ],
             [
              0.5555555555555556,
              "#d8576b"
             ],
             [
              0.6666666666666666,
              "#ed7953"
             ],
             [
              0.7777777777777778,
              "#fb9f3a"
             ],
             [
              0.8888888888888888,
              "#fdca26"
             ],
             [
              1,
              "#f0f921"
             ]
            ],
            "type": "histogram2d"
           }
          ],
          "histogram2dcontour": [
           {
            "colorbar": {
             "outlinewidth": 0,
             "ticks": ""
            },
            "colorscale": [
             [
              0,
              "#0d0887"
             ],
             [
              0.1111111111111111,
              "#46039f"
             ],
             [
              0.2222222222222222,
              "#7201a8"
             ],
             [
              0.3333333333333333,
              "#9c179e"
             ],
             [
              0.4444444444444444,
              "#bd3786"
             ],
             [
              0.5555555555555556,
              "#d8576b"
             ],
             [
              0.6666666666666666,
              "#ed7953"
             ],
             [
              0.7777777777777778,
              "#fb9f3a"
             ],
             [
              0.8888888888888888,
              "#fdca26"
             ],
             [
              1,
              "#f0f921"
             ]
            ],
            "type": "histogram2dcontour"
           }
          ],
          "mesh3d": [
           {
            "colorbar": {
             "outlinewidth": 0,
             "ticks": ""
            },
            "type": "mesh3d"
           }
          ],
          "parcoords": [
           {
            "line": {
             "colorbar": {
              "outlinewidth": 0,
              "ticks": ""
             }
            },
            "type": "parcoords"
           }
          ],
          "pie": [
           {
            "automargin": true,
            "type": "pie"
           }
          ],
          "scatter": [
           {
            "fillpattern": {
             "fillmode": "overlay",
             "size": 10,
             "solidity": 0.2
            },
            "type": "scatter"
           }
          ],
          "scatter3d": [
           {
            "line": {
             "colorbar": {
              "outlinewidth": 0,
              "ticks": ""
             }
            },
            "marker": {
             "colorbar": {
              "outlinewidth": 0,
              "ticks": ""
             }
            },
            "type": "scatter3d"
           }
          ],
          "scattercarpet": [
           {
            "marker": {
             "colorbar": {
              "outlinewidth": 0,
              "ticks": ""
             }
            },
            "type": "scattercarpet"
           }
          ],
          "scattergeo": [
           {
            "marker": {
             "colorbar": {
              "outlinewidth": 0,
              "ticks": ""
             }
            },
            "type": "scattergeo"
           }
          ],
          "scattergl": [
           {
            "marker": {
             "colorbar": {
              "outlinewidth": 0,
              "ticks": ""
             }
            },
            "type": "scattergl"
           }
          ],
          "scattermapbox": [
           {
            "marker": {
             "colorbar": {
              "outlinewidth": 0,
              "ticks": ""
             }
            },
            "type": "scattermapbox"
           }
          ],
          "scatterpolar": [
           {
            "marker": {
             "colorbar": {
              "outlinewidth": 0,
              "ticks": ""
             }
            },
            "type": "scatterpolar"
           }
          ],
          "scatterpolargl": [
           {
            "marker": {
             "colorbar": {
              "outlinewidth": 0,
              "ticks": ""
             }
            },
            "type": "scatterpolargl"
           }
          ],
          "scatterternary": [
           {
            "marker": {
             "colorbar": {
              "outlinewidth": 0,
              "ticks": ""
             }
            },
            "type": "scatterternary"
           }
          ],
          "surface": [
           {
            "colorbar": {
             "outlinewidth": 0,
             "ticks": ""
            },
            "colorscale": [
             [
              0,
              "#0d0887"
             ],
             [
              0.1111111111111111,
              "#46039f"
             ],
             [
              0.2222222222222222,
              "#7201a8"
             ],
             [
              0.3333333333333333,
              "#9c179e"
             ],
             [
              0.4444444444444444,
              "#bd3786"
             ],
             [
              0.5555555555555556,
              "#d8576b"
             ],
             [
              0.6666666666666666,
              "#ed7953"
             ],
             [
              0.7777777777777778,
              "#fb9f3a"
             ],
             [
              0.8888888888888888,
              "#fdca26"
             ],
             [
              1,
              "#f0f921"
             ]
            ],
            "type": "surface"
           }
          ],
          "table": [
           {
            "cells": {
             "fill": {
              "color": "#EBF0F8"
             },
             "line": {
              "color": "white"
             }
            },
            "header": {
             "fill": {
              "color": "#C8D4E3"
             },
             "line": {
              "color": "white"
             }
            },
            "type": "table"
           }
          ]
         },
         "layout": {
          "annotationdefaults": {
           "arrowcolor": "#2a3f5f",
           "arrowhead": 0,
           "arrowwidth": 1
          },
          "autotypenumbers": "strict",
          "coloraxis": {
           "colorbar": {
            "outlinewidth": 0,
            "ticks": ""
           }
          },
          "colorscale": {
           "diverging": [
            [
             0,
             "#8e0152"
            ],
            [
             0.1,
             "#c51b7d"
            ],
            [
             0.2,
             "#de77ae"
            ],
            [
             0.3,
             "#f1b6da"
            ],
            [
             0.4,
             "#fde0ef"
            ],
            [
             0.5,
             "#f7f7f7"
            ],
            [
             0.6,
             "#e6f5d0"
            ],
            [
             0.7,
             "#b8e186"
            ],
            [
             0.8,
             "#7fbc41"
            ],
            [
             0.9,
             "#4d9221"
            ],
            [
             1,
             "#276419"
            ]
           ],
           "sequential": [
            [
             0,
             "#0d0887"
            ],
            [
             0.1111111111111111,
             "#46039f"
            ],
            [
             0.2222222222222222,
             "#7201a8"
            ],
            [
             0.3333333333333333,
             "#9c179e"
            ],
            [
             0.4444444444444444,
             "#bd3786"
            ],
            [
             0.5555555555555556,
             "#d8576b"
            ],
            [
             0.6666666666666666,
             "#ed7953"
            ],
            [
             0.7777777777777778,
             "#fb9f3a"
            ],
            [
             0.8888888888888888,
             "#fdca26"
            ],
            [
             1,
             "#f0f921"
            ]
           ],
           "sequentialminus": [
            [
             0,
             "#0d0887"
            ],
            [
             0.1111111111111111,
             "#46039f"
            ],
            [
             0.2222222222222222,
             "#7201a8"
            ],
            [
             0.3333333333333333,
             "#9c179e"
            ],
            [
             0.4444444444444444,
             "#bd3786"
            ],
            [
             0.5555555555555556,
             "#d8576b"
            ],
            [
             0.6666666666666666,
             "#ed7953"
            ],
            [
             0.7777777777777778,
             "#fb9f3a"
            ],
            [
             0.8888888888888888,
             "#fdca26"
            ],
            [
             1,
             "#f0f921"
            ]
           ]
          },
          "colorway": [
           "#636efa",
           "#EF553B",
           "#00cc96",
           "#ab63fa",
           "#FFA15A",
           "#19d3f3",
           "#FF6692",
           "#B6E880",
           "#FF97FF",
           "#FECB52"
          ],
          "font": {
           "color": "#2a3f5f"
          },
          "geo": {
           "bgcolor": "white",
           "lakecolor": "white",
           "landcolor": "#E5ECF6",
           "showlakes": true,
           "showland": true,
           "subunitcolor": "white"
          },
          "hoverlabel": {
           "align": "left"
          },
          "hovermode": "closest",
          "mapbox": {
           "style": "light"
          },
          "paper_bgcolor": "white",
          "plot_bgcolor": "#E5ECF6",
          "polar": {
           "angularaxis": {
            "gridcolor": "white",
            "linecolor": "white",
            "ticks": ""
           },
           "bgcolor": "#E5ECF6",
           "radialaxis": {
            "gridcolor": "white",
            "linecolor": "white",
            "ticks": ""
           }
          },
          "scene": {
           "xaxis": {
            "backgroundcolor": "#E5ECF6",
            "gridcolor": "white",
            "gridwidth": 2,
            "linecolor": "white",
            "showbackground": true,
            "ticks": "",
            "zerolinecolor": "white"
           },
           "yaxis": {
            "backgroundcolor": "#E5ECF6",
            "gridcolor": "white",
            "gridwidth": 2,
            "linecolor": "white",
            "showbackground": true,
            "ticks": "",
            "zerolinecolor": "white"
           },
           "zaxis": {
            "backgroundcolor": "#E5ECF6",
            "gridcolor": "white",
            "gridwidth": 2,
            "linecolor": "white",
            "showbackground": true,
            "ticks": "",
            "zerolinecolor": "white"
           }
          },
          "shapedefaults": {
           "line": {
            "color": "#2a3f5f"
           }
          },
          "ternary": {
           "aaxis": {
            "gridcolor": "white",
            "linecolor": "white",
            "ticks": ""
           },
           "baxis": {
            "gridcolor": "white",
            "linecolor": "white",
            "ticks": ""
           },
           "bgcolor": "#E5ECF6",
           "caxis": {
            "gridcolor": "white",
            "linecolor": "white",
            "ticks": ""
           }
          },
          "title": {
           "x": 0.05
          },
          "xaxis": {
           "automargin": true,
           "gridcolor": "white",
           "linecolor": "white",
           "ticks": "",
           "title": {
            "standoff": 15
           },
           "zerolinecolor": "white",
           "zerolinewidth": 2
          },
          "yaxis": {
           "automargin": true,
           "gridcolor": "white",
           "linecolor": "white",
           "ticks": "",
           "title": {
            "standoff": 15
           },
           "zerolinecolor": "white",
           "zerolinewidth": 2
          }
         }
        },
        "title": {
         "text": "Олқылық матрицасы"
        },
        "xaxis": {
         "anchor": "y",
         "autorange": true,
         "domain": [
          0,
          1
         ],
         "range": [
          -0.5,
          15.5
         ],
         "title": {
          "text": "Болжанған белгілер"
         },
         "type": "category"
        },
        "yaxis": {
         "anchor": "x",
         "autorange": true,
         "domain": [
          0,
          1
         ],
         "range": [
          15.5,
          -0.5
         ],
         "title": {
          "text": "Рас белгілеря"
         },
         "type": "category"
        }
       }
      },
      "image/png": "[encoded data removed]",
      "text/html": [
       "<div>                            <div id=\"290bf3d4-692a-43a9-859b-13ec68f9c738\" class=\"plotly-graph-div\" style=\"height:525px; width:100%;\"></div>            <script type=\"text/javascript\">                require([\"plotly\"], function(Plotly) {                    window.PLOTLYENV=window.PLOTLYENV || {};                                    if (document.getElementById(\"290bf3d4-692a-43a9-859b-13ec68f9c738\")) {                    Plotly.newPlot(                        \"290bf3d4-692a-43a9-859b-13ec68f9c738\",                        [{\"coloraxis\":\"coloraxis\",\"name\":\"0\",\"texttemplate\":\"%{z:.d}\",\"x\":[\"\\u0421\\u04e9\\u0439\\u043b\\u0435\\u0443\\u0448\\u0456_1\",\"\\u0421\\u04e9\\u0439\\u043b\\u0435\\u0443\\u0448\\u0456_2\",\"\\u0421\\u04e9\\u0439\\u043b\\u0435\\u0443\\u0448\\u0456_3\",\"\\u0421\\u04e9\\u0439\\u043b\\u0435\\u0443\\u0448\\u0456_4\",\"\\u0421\\u04e9\\u0439\\u043b\\u0435\\u0443\\u0448\\u0456_5\",\"\\u0421\\u04e9\\u0439\\u043b\\u0435\\u0443\\u0448\\u0456_6\",\"\\u0421\\u04e9\\u0439\\u043b\\u0435\\u0443\\u0448\\u0456_7\",\"\\u0421\\u04e9\\u0439\\u043b\\u0435\\u0443\\u0448\\u0456_8\",\"\\u0421\\u04e9\\u0439\\u043b\\u0435\\u0443\\u0448\\u0456_9\",\"\\u0421\\u04e9\\u0439\\u043b\\u0435\\u0443\\u0448\\u0456_10\",\"\\u0421\\u04e9\\u0439\\u043b\\u0435\\u0443\\u0448\\u0456_11\",\"\\u0421\\u04e9\\u0439\\u043b\\u0435\\u0443\\u0448\\u0456_12\",\"\\u0421\\u04e9\\u0439\\u043b\\u0435\\u0443\\u0448\\u0456_13\",\"\\u0421\\u04e9\\u0439\\u043b\\u0435\\u0443\\u0448\\u0456_14\",\"\\u0421\\u04e9\\u0439\\u043b\\u0435\\u0443\\u0448\\u0456_15\",\"\\u0421\\u04e9\\u0439\\u043b\\u0435\\u0443\\u0448\\u0456_16\"],\"y\":[\"\\u0421\\u04e9\\u0439\\u043b\\u0435\\u0443\\u0448\\u0456_1\",\"\\u0421\\u04e9\\u0439\\u043b\\u0435\\u0443\\u0448\\u0456_2\",\"\\u0421\\u04e9\\u0439\\u043b\\u0435\\u0443\\u0448\\u0456_3\",\"\\u0421\\u04e9\\u0439\\u043b\\u0435\\u0443\\u0448\\u0456_4\",\"\\u0421\\u04e9\\u0439\\u043b\\u0435\\u0443\\u0448\\u0456_5\",\"\\u0421\\u04e9\\u0439\\u043b\\u0435\\u0443\\u0448\\u0456_6\",\"\\u0421\\u04e9\\u0439\\u043b\\u0435\\u0443\\u0448\\u0456_7\",\"\\u0421\\u04e9\\u0439\\u043b\\u0435\\u0443\\u0448\\u0456_8\",\"\\u0421\\u04e9\\u0439\\u043b\\u0435\\u0443\\u0448\\u0456_9\",\"\\u0421\\u04e9\\u0439\\u043b\\u0435\\u0443\\u0448\\u0456_10\",\"\\u0421\\u04e9\\u0439\\u043b\\u0435\\u0443\\u0448\\u0456_11\",\"\\u0421\\u04e9\\u0439\\u043b\\u0435\\u0443\\u0448\\u0456_12\",\"\\u0421\\u04e9\\u0439\\u043b\\u0435\\u0443\\u0448\\u0456_13\",\"\\u0421\\u04e9\\u0439\\u043b\\u0435\\u0443\\u0448\\u0456_14\",\"\\u0421\\u04e9\\u0439\\u043b\\u0435\\u0443\\u0448\\u0456_15\",\"\\u0421\\u04e9\\u0439\\u043b\\u0435\\u0443\\u0448\\u0456_16\"],\"z\":[[2,0,0,0,0,0,0,0,0,0,0,0,0,0,0,0],[0,2,0,0,0,0,0,0,0,0,0,0,0,0,0,0],[0,0,2,0,0,0,0,0,0,0,0,0,0,0,0,0],[0,0,0,3,0,0,0,0,0,0,0,0,0,0,0,0],[0,0,0,0,2,1,0,0,0,0,0,0,0,0,0,0],[0,0,0,0,1,1,0,0,0,0,0,0,0,0,0,0],[0,0,0,0,0,0,3,0,0,0,0,0,0,0,0,0],[0,0,0,0,0,0,0,3,0,0,0,0,0,0,0,0],[0,0,0,0,0,0,0,0,2,0,0,0,0,0,0,0],[0,0,0,0,0,0,0,0,0,2,0,0,0,0,0,0],[0,0,0,0,0,0,0,0,0,0,3,0,0,0,0,0],[0,0,0,0,0,0,0,0,0,0,0,2,0,0,0,0],[0,0,0,0,0,0,0,0,0,0,0,0,3,0,0,0],[0,0,0,0,0,0,0,0,0,0,0,0,0,2,0,0],[0,0,0,0,0,0,0,0,0,0,0,0,0,0,2,0],[0,0,1,0,0,0,0,0,0,0,0,0,0,0,0,2]],\"type\":\"heatmap\",\"xaxis\":\"x\",\"yaxis\":\"y\",\"hovertemplate\":\"\\u0411\\u043e\\u043b\\u0436\\u0430\\u043d\\u0493\\u0430\\u043d \\u0431\\u0435\\u043b\\u0433\\u0456\\u043b\\u0435\\u0440: %{x}\\u003cbr\\u003e\\u0420\\u0430\\u0441 \\u0431\\u0435\\u043b\\u0433\\u0456\\u043b\\u0435\\u0440\\u044f: %{y}\\u003cbr\\u003ecolor: %{z}\\u003cextra\\u003e\\u003c\\u002fextra\\u003e\"}],                        {\"template\":{\"data\":{\"histogram2dcontour\":[{\"type\":\"histogram2dcontour\",\"colorbar\":{\"outlinewidth\":0,\"ticks\":\"\"},\"colorscale\":[[0.0,\"#0d0887\"],[0.1111111111111111,\"#46039f\"],[0.2222222222222222,\"#7201a8\"],[0.3333333333333333,\"#9c179e\"],[0.4444444444444444,\"#bd3786\"],[0.5555555555555556,\"#d8576b\"],[0.6666666666666666,\"#ed7953\"],[0.7777777777777778,\"#fb9f3a\"],[0.8888888888888888,\"#fdca26\"],[1.0,\"#f0f921\"]]}],\"choropleth\":[{\"type\":\"choropleth\",\"colorbar\":{\"outlinewidth\":0,\"ticks\":\"\"}}],\"histogram2d\":[{\"type\":\"histogram2d\",\"colorbar\":{\"outlinewidth\":0,\"ticks\":\"\"},\"colorscale\":[[0.0,\"#0d0887\"],[0.1111111111111111,\"#46039f\"],[0.2222222222222222,\"#7201a8\"],[0.3333333333333333,\"#9c179e\"],[0.4444444444444444,\"#bd3786\"],[0.5555555555555556,\"#d8576b\"],[0.6666666666666666,\"#ed7953\"],[0.7777777777777778,\"#fb9f3a\"],[0.8888888888888888,\"#fdca26\"],[1.0,\"#f0f921\"]]}],\"heatmap\":[{\"type\":\"heatmap\",\"colorbar\":{\"outlinewidth\":0,\"ticks\":\"\"},\"colorscale\":[[0.0,\"#0d0887\"],[0.1111111111111111,\"#46039f\"],[0.2222222222222222,\"#7201a8\"],[0.3333333333333333,\"#9c179e\"],[0.4444444444444444,\"#bd3786\"],[0.5555555555555556,\"#d8576b\"],[0.6666666666666666,\"#ed7953\"],[0.7777777777777778,\"#fb9f3a\"],[0.8888888888888888,\"#fdca26\"],[1.0,\"#f0f921\"]]}],\"heatmapgl\":[{\"type\":\"heatmapgl\",\"colorbar\":{\"outlinewidth\":0,\"ticks\":\"\"},\"colorscale\":[[0.0,\"#0d0887\"],[0.1111111111111111,\"#46039f\"],[0.2222222222222222,\"#7201a8\"],[0.3333333333333333,\"#9c179e\"],[0.4444444444444444,\"#bd3786\"],[0.5555555555555556,\"#d8576b\"],[0.6666666666666666,\"#ed7953\"],[0.7777777777777778,\"#fb9f3a\"],[0.8888888888888888,\"#fdca26\"],[1.0,\"#f0f921\"]]}],\"contourcarpet\":[{\"type\":\"contourcarpet\",\"colorbar\":{\"outlinewidth\":0,\"ticks\":\"\"}}],\"contour\":[{\"type\":\"contour\",\"colorbar\":{\"outlinewidth\":0,\"ticks\":\"\"},\"colorscale\":[[0.0,\"#0d0887\"],[0.1111111111111111,\"#46039f\"],[0.2222222222222222,\"#7201a8\"],[0.3333333333333333,\"#9c179e\"],[0.4444444444444444,\"#bd3786\"],[0.5555555555555556,\"#d8576b\"],[0.6666666666666666,\"#ed7953\"],[0.7777777777777778,\"#fb9f3a\"],[0.8888888888888888,\"#fdca26\"],[1.0,\"#f0f921\"]]}],\"surface\":[{\"type\":\"surface\",\"colorbar\":{\"outlinewidth\":0,\"ticks\":\"\"},\"colorscale\":[[0.0,\"#0d0887\"],[0.1111111111111111,\"#46039f\"],[0.2222222222222222,\"#7201a8\"],[0.3333333333333333,\"#9c179e\"],[0.4444444444444444,\"#bd3786\"],[0.5555555555555556,\"#d8576b\"],[0.6666666666666666,\"#ed7953\"],[0.7777777777777778,\"#fb9f3a\"],[0.8888888888888888,\"#fdca26\"],[1.0,\"#f0f921\"]]}],\"mesh3d\":[{\"type\":\"mesh3d\",\"colorbar\":{\"outlinewidth\":0,\"ticks\":\"\"}}],\"scatter\":[{\"fillpattern\":{\"fillmode\":\"overlay\",\"size\":10,\"solidity\":0.2},\"type\":\"scatter\"}],\"parcoords\":[{\"type\":\"parcoords\",\"line\":{\"colorbar\":{\"outlinewidth\":0,\"ticks\":\"\"}}}],\"scatterpolargl\":[{\"type\":\"scatterpolargl\",\"marker\":{\"colorbar\":{\"outlinewidth\":0,\"ticks\":\"\"}}}],\"bar\":[{\"error_x\":{\"color\":\"#2a3f5f\"},\"error_y\":{\"color\":\"#2a3f5f\"},\"marker\":{\"line\":{\"color\":\"#E5ECF6\",\"width\":0.5},\"pattern\":{\"fillmode\":\"overlay\",\"size\":10,\"solidity\":0.2}},\"type\":\"bar\"}],\"scattergeo\":[{\"type\":\"scattergeo\",\"marker\":{\"colorbar\":{\"outlinewidth\":0,\"ticks\":\"\"}}}],\"scatterpolar\":[{\"type\":\"scatterpolar\",\"marker\":{\"colorbar\":{\"outlinewidth\":0,\"ticks\":\"\"}}}],\"histogram\":[{\"marker\":{\"pattern\":{\"fillmode\":\"overlay\",\"size\":10,\"solidity\":0.2}},\"type\":\"histogram\"}],\"scattergl\":[{\"type\":\"scattergl\",\"marker\":{\"colorbar\":{\"outlinewidth\":0,\"ticks\":\"\"}}}],\"scatter3d\":[{\"type\":\"scatter3d\",\"line\":{\"colorbar\":{\"outlinewidth\":0,\"ticks\":\"\"}},\"marker\":{\"colorbar\":{\"outlinewidth\":0,\"ticks\":\"\"}}}],\"scattermapbox\":[{\"type\":\"scattermapbox\",\"marker\":{\"colorbar\":{\"outlinewidth\":0,\"ticks\":\"\"}}}],\"scatterternary\":[{\"type\":\"scatterternary\",\"marker\":{\"colorbar\":{\"outlinewidth\":0,\"ticks\":\"\"}}}],\"scattercarpet\":[{\"type\":\"scattercarpet\",\"marker\":{\"colorbar\":{\"outlinewidth\":0,\"ticks\":\"\"}}}],\"carpet\":[{\"aaxis\":{\"endlinecolor\":\"#2a3f5f\",\"gridcolor\":\"white\",\"linecolor\":\"white\",\"minorgridcolor\":\"white\",\"startlinecolor\":\"#2a3f5f\"},\"baxis\":{\"endlinecolor\":\"#2a3f5f\",\"gridcolor\":\"white\",\"linecolor\":\"white\",\"minorgridcolor\":\"white\",\"startlinecolor\":\"#2a3f5f\"},\"type\":\"carpet\"}],\"table\":[{\"cells\":{\"fill\":{\"color\":\"#EBF0F8\"},\"line\":{\"color\":\"white\"}},\"header\":{\"fill\":{\"color\":\"#C8D4E3\"},\"line\":{\"color\":\"white\"}},\"type\":\"table\"}],\"barpolar\":[{\"marker\":{\"line\":{\"color\":\"#E5ECF6\",\"width\":0.5},\"pattern\":{\"fillmode\":\"overlay\",\"size\":10,\"solidity\":0.2}},\"type\":\"barpolar\"}],\"pie\":[{\"automargin\":true,\"type\":\"pie\"}]},\"layout\":{\"autotypenumbers\":\"strict\",\"colorway\":[\"#636efa\",\"#EF553B\",\"#00cc96\",\"#ab63fa\",\"#FFA15A\",\"#19d3f3\",\"#FF6692\",\"#B6E880\",\"#FF97FF\",\"#FECB52\"],\"font\":{\"color\":\"#2a3f5f\"},\"hovermode\":\"closest\",\"hoverlabel\":{\"align\":\"left\"},\"paper_bgcolor\":\"white\",\"plot_bgcolor\":\"#E5ECF6\",\"polar\":{\"bgcolor\":\"#E5ECF6\",\"angularaxis\":{\"gridcolor\":\"white\",\"linecolor\":\"white\",\"ticks\":\"\"},\"radialaxis\":{\"gridcolor\":\"white\",\"linecolor\":\"white\",\"ticks\":\"\"}},\"ternary\":{\"bgcolor\":\"#E5ECF6\",\"aaxis\":{\"gridcolor\":\"white\",\"linecolor\":\"white\",\"ticks\":\"\"},\"baxis\":{\"gridcolor\":\"white\",\"linecolor\":\"white\",\"ticks\":\"\"},\"caxis\":{\"gridcolor\":\"white\",\"linecolor\":\"white\",\"ticks\":\"\"}},\"coloraxis\":{\"colorbar\":{\"outlinewidth\":0,\"ticks\":\"\"}},\"colorscale\":{\"sequential\":[[0.0,\"#0d0887\"],[0.1111111111111111,\"#46039f\"],[0.2222222222222222,\"#7201a8\"],[0.3333333333333333,\"#9c179e\"],[0.4444444444444444,\"#bd3786\"],[0.5555555555555556,\"#d8576b\"],[0.6666666666666666,\"#ed7953\"],[0.7777777777777778,\"#fb9f3a\"],[0.8888888888888888,\"#fdca26\"],[1.0,\"#f0f921\"]],\"sequentialminus\":[[0.0,\"#0d0887\"],[0.1111111111111111,\"#46039f\"],[0.2222222222222222,\"#7201a8\"],[0.3333333333333333,\"#9c179e\"],[0.4444444444444444,\"#bd3786\"],[0.5555555555555556,\"#d8576b\"],[0.6666666666666666,\"#ed7953\"],[0.7777777777777778,\"#fb9f3a\"],[0.8888888888888888,\"#fdca26\"],[1.0,\"#f0f921\"]],\"diverging\":[[0,\"#8e0152\"],[0.1,\"#c51b7d\"],[0.2,\"#de77ae\"],[0.3,\"#f1b6da\"],[0.4,\"#fde0ef\"],[0.5,\"#f7f7f7\"],[0.6,\"#e6f5d0\"],[0.7,\"#b8e186\"],[0.8,\"#7fbc41\"],[0.9,\"#4d9221\"],[1,\"#276419\"]]},\"xaxis\":{\"gridcolor\":\"white\",\"linecolor\":\"white\",\"ticks\":\"\",\"title\":{\"standoff\":15},\"zerolinecolor\":\"white\",\"automargin\":true,\"zerolinewidth\":2},\"yaxis\":{\"gridcolor\":\"white\",\"linecolor\":\"white\",\"ticks\":\"\",\"title\":{\"standoff\":15},\"zerolinecolor\":\"white\",\"automargin\":true,\"zerolinewidth\":2},\"scene\":{\"xaxis\":{\"backgroundcolor\":\"#E5ECF6\",\"gridcolor\":\"white\",\"linecolor\":\"white\",\"showbackground\":true,\"ticks\":\"\",\"zerolinecolor\":\"white\",\"gridwidth\":2},\"yaxis\":{\"backgroundcolor\":\"#E5ECF6\",\"gridcolor\":\"white\",\"linecolor\":\"white\",\"showbackground\":true,\"ticks\":\"\",\"zerolinecolor\":\"white\",\"gridwidth\":2},\"zaxis\":{\"backgroundcolor\":\"#E5ECF6\",\"gridcolor\":\"white\",\"linecolor\":\"white\",\"showbackground\":true,\"ticks\":\"\",\"zerolinecolor\":\"white\",\"gridwidth\":2}},\"shapedefaults\":{\"line\":{\"color\":\"#2a3f5f\"}},\"annotationdefaults\":{\"arrowcolor\":\"#2a3f5f\",\"arrowhead\":0,\"arrowwidth\":1},\"geo\":{\"bgcolor\":\"white\",\"landcolor\":\"#E5ECF6\",\"subunitcolor\":\"white\",\"showland\":true,\"showlakes\":true,\"lakecolor\":\"white\"},\"title\":{\"x\":0.05},\"mapbox\":{\"style\":\"light\"}}},\"xaxis\":{\"anchor\":\"y\",\"domain\":[0.0,1.0],\"title\":{\"text\":\"\\u0411\\u043e\\u043b\\u0436\\u0430\\u043d\\u0493\\u0430\\u043d \\u0431\\u0435\\u043b\\u0433\\u0456\\u043b\\u0435\\u0440\"}},\"yaxis\":{\"anchor\":\"x\",\"domain\":[0.0,1.0],\"autorange\":\"reversed\",\"title\":{\"text\":\"\\u0420\\u0430\\u0441 \\u0431\\u0435\\u043b\\u0433\\u0456\\u043b\\u0435\\u0440\\u044f\"}},\"coloraxis\":{\"colorscale\":[[0.0,\"rgb(247,252,245)\"],[0.125,\"rgb(229,245,224)\"],[0.25,\"rgb(199,233,192)\"],[0.375,\"rgb(161,217,155)\"],[0.5,\"rgb(116,196,118)\"],[0.625,\"rgb(65,171,93)\"],[0.75,\"rgb(35,139,69)\"],[0.875,\"rgb(0,109,44)\"],[1.0,\"rgb(0,68,27)\"]]},\"margin\":{\"t\":60},\"title\":{\"text\":\"\\u041e\\u043b\\u049b\\u044b\\u043b\\u044b\\u049b \\u043c\\u0430\\u0442\\u0440\\u0438\\u0446\\u0430\\u0441\\u044b\"}},                        {\"responsive\": true}                    ).then(function(){\n",
       "                            \n",
       "var gd = document.getElementById('290bf3d4-692a-43a9-859b-13ec68f9c738');\n",
       "var x = new MutationObserver(function (mutations, observer) {{\n",
       "        var display = window.getComputedStyle(gd).display;\n",
       "        if (!display || display === 'none') {{\n",
       "            console.log([gd, 'removed!']);\n",
       "            Plotly.purge(gd);\n",
       "            observer.disconnect();\n",
       "        }}\n",
       "}});\n",
       "\n",
       "// Listen for the removal of the full notebook cells\n",
       "var notebookContainer = gd.closest('#notebook-container');\n",
       "if (notebookContainer) {{\n",
       "    x.observe(notebookContainer, {childList: true});\n",
       "}}\n",
       "\n",
       "// Listen for the clearing of the current output cell\n",
       "var outputEl = gd.closest('.output');\n",
       "if (outputEl) {{\n",
       "    x.observe(outputEl, {childList: true});\n",
       "}}\n",
       "\n",
       "                        })                };                });            </script>        </div>"
      ]
     },
     "metadata": {},
     "output_type": "display_data"
    }
   ],
   "source": [
    "import plotly.express as px\n",
    "from sklearn.metrics import confusion_matrix\n",
    "from sklearn.metrics import f1_score\n",
    "from sklearn.preprocessing import LabelEncoder\n",
    "\n",
    "label_encoder = LabelEncoder()\n",
    "y = label_encoder.fit_transform(y)\n",
    "y_pred_probabilities = best_model.predict(X_test)\n",
    "y_pred = np.argmax(y_pred_probabilities, axis=1)\n",
    "\n",
    "y_test_decoded = label_encoder.inverse_transform(y_test)\n",
    "y_pred_decoded = label_encoder.inverse_transform(y_pred)\n",
    "\n",
    "conf_matrix = confusion_matrix(y_test_decoded, y_pred_decoded, labels=[i for i in range(0, 16)])\n",
    "\n",
    "xlabels = [f'Сөйлеуші_{i+1}' for i in range(0, 16)]\n",
    "\n",
    "fig = px.imshow(conf_matrix, x=xlabels, y=xlabels, text_auto='.d', aspect='auto', color_continuous_scale='Greens',\\\n",
    "               labels=dict(x='Болжанған белгілер', y='Рас белгілеря'))\n",
    "fig.update_layout(title='Олқылық матрицасы')\n",
    "fig.show()"
   ]
  },
  {
   "cell_type": "code",
   "execution_count": 14,
   "id": "0a3b5de1-e224-42d4-ba73-065b07047512",
   "metadata": {},
   "outputs": [
    {
     "data": {
      "text/plain": [
       "<Axes: >"
      ]
     },
     "execution_count": 14,
     "metadata": {},
     "output_type": "execute_result"
    },
    {
     "data": {
      "image/png": "[encoded data removed]",
      "text/plain": [
       "<Figure size 640x480 with 2 Axes>"
      ]
     },
     "metadata": {},
     "output_type": "display_data"
    }
   ],
   "source": [
    "import seaborn as sns\n",
    "import pandas as pd\n",
    "from sklearn.metrics import classification_report\n",
    "\n",
    "\n",
    "class_report = classification_report(y_test, y_pred, labels=[i for i in range(0, 16)],\n",
    "                                   target_names=[f'Сөйлеуші_{i+1}' for i in range(0, 16)],\n",
    "                                   output_dict=True)\n",
    "sns.heatmap(pd.DataFrame(class_report).iloc[:-1, :].T, annot=True)"
   ]
  },
  {
   "cell_type": "code",
   "execution_count": 33,
   "id": "faa4183b-9937-4caf-84c0-59468e89a983",
   "metadata": {},
   "outputs": [
    {
     "data": {
      "application/vnd.plotly.v1+json": {
       "config": {
        "plotlyServerURL": "https://plot.ly"
       },
       "data": [
        {
         "line": {
          "color": "#636EFA"
         },
         "mode": "lines",
         "name": "Класс 0 (AUC = 1.0000)",
         "type": "scatter",
         "x": [
          0,
          0,
          0,
          1
         ],
         "y": [
          0,
          0.5,
          1,
          1
         ]
        },
        {
         "line": {
          "color": "#EF553B"
         },
         "mode": "lines",
         "name": "Класс 1 (AUC = 1.0000)",
         "type": "scatter",
         "x": [
          0,
          0,
          0,
          1
         ],
         "y": [
          0,
          0.5,
          1,
          1
         ]
        },
        {
         "line": {
          "color": "#00CC96"
         },
         "mode": "lines",
         "name": "Класс 2 (AUC = 1.0000)",
         "type": "scatter",
         "x": [
          0,
          0,
          0,
          1
         ],
         "y": [
          0,
          0.5,
          1,
          1
         ]
        },
        {
         "line": {
          "color": "#AB63FA"
         },
         "mode": "lines",
         "name": "Класс 3 (AUC = 1.0000)",
         "type": "scatter",
         "x": [
          0,
          0,
          0,
          1
         ],
         "y": [
          0,
          0.3333333333333333,
          1,
          1
         ]
        },
        {
         "line": {
          "color": "#FFA15A"
         },
         "mode": "lines",
         "name": "Класс 4 (AUC = 0.9722)",
         "type": "scatter",
         "x": [
          0,
          0,
          0.027777777777777776,
          0.027777777777777776,
          0.05555555555555555,
          0.05555555555555555,
          1
         ],
         "y": [
          0,
          0.3333333333333333,
          0.3333333333333333,
          0.6666666666666666,
          0.6666666666666666,
          1,
          1
         ]
        },
        {
         "line": {
          "color": "#19D3F3"
         },
         "mode": "lines",
         "name": "Класс 5 (AUC = 0.9595)",
         "type": "scatter",
         "x": [
          0,
          0.02702702702702703,
          0.02702702702702703,
          0.05405405405405406,
          0.05405405405405406,
          1
         ],
         "y": [
          0,
          0,
          0.5,
          0.5,
          1,
          1
         ]
        },
        {
         "line": {
          "color": "#FF6692"
         },
         "mode": "lines",
         "name": "Класс 6 (AUC = 1.0000)",
         "type": "scatter",
         "x": [
          0,
          0,
          0,
          1
         ],
         "y": [
          0,
          0.3333333333333333,
          1,
          1
         ]
        },
        {
         "line": {
          "color": "#B6E880"
         },
         "mode": "lines",
         "name": "Класс 7 (AUC = 1.0000)",
         "type": "scatter",
         "x": [
          0,
          0,
          0,
          1
         ],
         "y": [
          0,
          0.3333333333333333,
          1,
          1
         ]
        },
        {
         "line": {
          "color": "#FF97FF"
         },
         "mode": "lines",
         "name": "Класс 8 (AUC = 1.0000)",
         "type": "scatter",
         "x": [
          0,
          0,
          0,
          1
         ],
         "y": [
          0,
          0.5,
          1,
          1
         ]
        },
        {
         "line": {
          "color": "#FECB52"
         },
         "mode": "lines",
         "name": "Класс 9 (AUC = 1.0000)",
         "type": "scatter",
         "x": [
          0,
          0,
          0,
          1
         ],
         "y": [
          0,
          0.5,
          1,
          1
         ]
        },
        {
         "line": {
          "color": "#636EFA"
         },
         "mode": "lines",
         "name": "Класс 10 (AUC = 1.0000)",
         "type": "scatter",
         "x": [
          0,
          0,
          0,
          1
         ],
         "y": [
          0,
          0.3333333333333333,
          1,
          1
         ]
        },
        {
         "line": {
          "color": "#EF553B"
         },
         "mode": "lines",
         "name": "Класс 11 (AUC = 1.0000)",
         "type": "scatter",
         "x": [
          0,
          0,
          0,
          1
         ],
         "y": [
          0,
          0.5,
          1,
          1
         ]
        },
        {
         "line": {
          "color": "#00CC96"
         },
         "mode": "lines",
         "name": "Класс 12 (AUC = 1.0000)",
         "type": "scatter",
         "x": [
          0,
          0,
          0,
          1
         ],
         "y": [
          0,
          0.3333333333333333,
          1,
          1
         ]
        },
        {
         "line": {
          "color": "#AB63FA"
         },
         "mode": "lines",
         "name": "Класс 13 (AUC = 1.0000)",
         "type": "scatter",
         "x": [
          0,
          0,
          0,
          1
         ],
         "y": [
          0,
          0.5,
          1,
          1
         ]
        },
        {
         "line": {
          "color": "#FFA15A"
         },
         "mode": "lines",
         "name": "Класс 14 (AUC = 1.0000)",
         "type": "scatter",
         "x": [
          0,
          0,
          0,
          1
         ],
         "y": [
          0,
          0.5,
          1,
          1
         ]
        },
        {
         "line": {
          "color": "#19D3F3"
         },
         "mode": "lines",
         "name": "Класс 15 (AUC = 1.0000)",
         "type": "scatter",
         "x": [
          0,
          0,
          0,
          1
         ],
         "y": [
          0,
          0.3333333333333333,
          1,
          1
         ]
        },
        {
         "line": {
          "color": "deeppink",
          "dash": "dot"
         },
         "mode": "lines",
         "name": "Орташа ROC (AUC = 0.9983)",
         "type": "scatter",
         "x": [
          0,
          0,
          0,
          0.0017094017094017094,
          0.0017094017094017094,
          0.003418803418803419,
          0.003418803418803419,
          0.008547008547008548,
          0.008547008547008548,
          0.011965811965811967,
          0.011965811965811967,
          0.018803418803418803,
          0.018803418803418803,
          1
         ],
         "y": [
          0,
          0.02564102564102564,
          0.6923076923076923,
          0.6923076923076923,
          0.7692307692307693,
          0.7692307692307693,
          0.9230769230769231,
          0.9230769230769231,
          0.9487179487179487,
          0.9487179487179487,
          0.9743589743589743,
          0.9743589743589743,
          1,
          1
         ]
        },
        {
         "line": {
          "color": "navy",
          "dash": "dash"
         },
         "mode": "lines",
         "name": "Кездейсоқ таңдау",
         "type": "scatter",
         "x": [
          0,
          1
         ],
         "y": [
          0,
          1
         ]
        }
       ],
       "layout": {
        "height": 600,
        "legend": {
         "x": 0.8,
         "y": 0.1
        },
        "showlegend": true,
        "template": {
         "data": {
          "bar": [
           {
            "error_x": {
             "color": "#2a3f5f"
            },
            "error_y": {
             "color": "#2a3f5f"
            },
            "marker": {
             "line": {
              "color": "#E5ECF6",
              "width": 0.5
             },
             "pattern": {
              "fillmode": "overlay",
              "size": 10,
              "solidity": 0.2
             }
            },
            "type": "bar"
           }
          ],
          "barpolar": [
           {
            "marker": {
             "line": {
              "color": "#E5ECF6",
              "width": 0.5
             },
             "pattern": {
              "fillmode": "overlay",
              "size": 10,
              "solidity": 0.2
             }
            },
            "type": "barpolar"
           }
          ],
          "carpet": [
           {
            "aaxis": {
             "endlinecolor": "#2a3f5f",
             "gridcolor": "white",
             "linecolor": "white",
             "minorgridcolor": "white",
             "startlinecolor": "#2a3f5f"
            },
            "baxis": {
             "endlinecolor": "#2a3f5f",
             "gridcolor": "white",
             "linecolor": "white",
             "minorgridcolor": "white",
             "startlinecolor": "#2a3f5f"
            },
            "type": "carpet"
           }
          ],
          "choropleth": [
           {
            "colorbar": {
             "outlinewidth": 0,
             "ticks": ""
            },
            "type": "choropleth"
           }
          ],
          "contour": [
           {
            "colorbar": {
             "outlinewidth": 0,
             "ticks": ""
            },
            "colorscale": [
             [
              0,
              "#0d0887"
             ],
             [
              0.1111111111111111,
              "#46039f"
             ],
             [
              0.2222222222222222,
              "#7201a8"
             ],
             [
              0.3333333333333333,
              "#9c179e"
             ],
             [
              0.4444444444444444,
              "#bd3786"
             ],
             [
              0.5555555555555556,
              "#d8576b"
             ],
             [
              0.6666666666666666,
              "#ed7953"
             ],
             [
              0.7777777777777778,
              "#fb9f3a"
             ],
             [
              0.8888888888888888,
              "#fdca26"
             ],
             [
              1,
              "#f0f921"
             ]
            ],
            "type": "contour"
           }
          ],
          "contourcarpet": [
           {
            "colorbar": {
             "outlinewidth": 0,
             "ticks": ""
            },
            "type": "contourcarpet"
           }
          ],
          "heatmap": [
           {
            "colorbar": {
             "outlinewidth": 0,
             "ticks": ""
            },
            "colorscale": [
             [
              0,
              "#0d0887"
             ],
             [
              0.1111111111111111,
              "#46039f"
             ],
             [
              0.2222222222222222,
              "#7201a8"
             ],
             [
              0.3333333333333333,
              "#9c179e"
             ],
             [
              0.4444444444444444,
              "#bd3786"
             ],
             [
              0.5555555555555556,
              "#d8576b"
             ],
             [
              0.6666666666666666,
              "#ed7953"
             ],
             [
              0.7777777777777778,
              "#fb9f3a"
             ],
             [
              0.8888888888888888,
              "#fdca26"
             ],
             [
              1,
              "#f0f921"
             ]
            ],
            "type": "heatmap"
           }
          ],
          "heatmapgl": [
           {
            "colorbar": {
             "outlinewidth": 0,
             "ticks": ""
            },
            "colorscale": [
             [
              0,
              "#0d0887"
             ],
             [
              0.1111111111111111,
              "#46039f"
             ],
             [
              0.2222222222222222,
              "#7201a8"
             ],
             [
              0.3333333333333333,
              "#9c179e"
             ],
             [
              0.4444444444444444,
              "#bd3786"
             ],
             [
              0.5555555555555556,
              "#d8576b"
             ],
             [
              0.6666666666666666,
              "#ed7953"
             ],
             [
              0.7777777777777778,
              "#fb9f3a"
             ],
             [
              0.8888888888888888,
              "#fdca26"
             ],
             [
              1,
              "#f0f921"
             ]
            ],
            "type": "heatmapgl"
           }
          ],
          "histogram": [
           {
            "marker": {
             "pattern": {
              "fillmode": "overlay",
              "size": 10,
              "solidity": 0.2
             }
            },
            "type": "histogram"
           }
          ],
          "histogram2d": [
           {
            "colorbar": {
             "outlinewidth": 0,
             "ticks": ""
            },
            "colorscale": [
             [
              0,
              "#0d0887"
             ],
             [
              0.1111111111111111,
              "#46039f"
             ],
             [
              0.2222222222222222,
              "#7201a8"
             ],
             [
              0.3333333333333333,
              "#9c179e"
             ],
             [
              0.4444444444444444,
              "#bd3786"
             ],
             [
              0.5555555555555556,
              "#d8576b"
             ],
             [
              0.6666666666666666,
              "#ed7953"
             ],
             [
              0.7777777777777778,
              "#fb9f3a"
             ],
             [
              0.8888888888888888,
              "#fdca26"
             ],
             [
              1,
              "#f0f921"
             ]
            ],
            "type": "histogram2d"
           }
          ],
          "histogram2dcontour": [
           {
            "colorbar": {
             "outlinewidth": 0,
             "ticks": ""
            },
            "colorscale": [
             [
              0,
              "#0d0887"
             ],
             [
              0.1111111111111111,
              "#46039f"
             ],
             [
              0.2222222222222222,
              "#7201a8"
             ],
             [
              0.3333333333333333,
              "#9c179e"
             ],
             [
              0.4444444444444444,
              "#bd3786"
             ],
             [
              0.5555555555555556,
              "#d8576b"
             ],
             [
              0.6666666666666666,
              "#ed7953"
             ],
             [
              0.7777777777777778,
              "#fb9f3a"
             ],
             [
              0.8888888888888888,
              "#fdca26"
             ],
             [
              1,
              "#f0f921"
             ]
            ],
            "type": "histogram2dcontour"
           }
          ],
          "mesh3d": [
           {
            "colorbar": {
             "outlinewidth": 0,
             "ticks": ""
            },
            "type": "mesh3d"
           }
          ],
          "parcoords": [
           {
            "line": {
             "colorbar": {
              "outlinewidth": 0,
              "ticks": ""
             }
            },
            "type": "parcoords"
           }
          ],
          "pie": [
           {
            "automargin": true,
            "type": "pie"
           }
          ],
          "scatter": [
           {
            "fillpattern": {
             "fillmode": "overlay",
             "size": 10,
             "solidity": 0.2
            },
            "type": "scatter"
           }
          ],
          "scatter3d": [
           {
            "line": {
             "colorbar": {
              "outlinewidth": 0,
              "ticks": ""
             }
            },
            "marker": {
             "colorbar": {
              "outlinewidth": 0,
              "ticks": ""
             }
            },
            "type": "scatter3d"
           }
          ],
          "scattercarpet": [
           {
            "marker": {
             "colorbar": {
              "outlinewidth": 0,
              "ticks": ""
             }
            },
            "type": "scattercarpet"
           }
          ],
          "scattergeo": [
           {
            "marker": {
             "colorbar": {
              "outlinewidth": 0,
              "ticks": ""
             }
            },
            "type": "scattergeo"
           }
          ],
          "scattergl": [
           {
            "marker": {
             "colorbar": {
              "outlinewidth": 0,
              "ticks": ""
             }
            },
            "type": "scattergl"
           }
          ],
          "scattermapbox": [
           {
            "marker": {
             "colorbar": {
              "outlinewidth": 0,
              "ticks": ""
             }
            },
            "type": "scattermapbox"
           }
          ],
          "scatterpolar": [
           {
            "marker": {
             "colorbar": {
              "outlinewidth": 0,
              "ticks": ""
             }
            },
            "type": "scatterpolar"
           }
          ],
          "scatterpolargl": [
           {
            "marker": {
             "colorbar": {
              "outlinewidth": 0,
              "ticks": ""
             }
            },
            "type": "scatterpolargl"
           }
          ],
          "scatterternary": [
           {
            "marker": {
             "colorbar": {
              "outlinewidth": 0,
              "ticks": ""
             }
            },
            "type": "scatterternary"
           }
          ],
          "surface": [
           {
            "colorbar": {
             "outlinewidth": 0,
             "ticks": ""
            },
            "colorscale": [
             [
              0,
              "#0d0887"
             ],
             [
              0.1111111111111111,
              "#46039f"
             ],
             [
              0.2222222222222222,
              "#7201a8"
             ],
             [
              0.3333333333333333,
              "#9c179e"
             ],
             [
              0.4444444444444444,
              "#bd3786"
             ],
             [
              0.5555555555555556,
              "#d8576b"
             ],
             [
              0.6666666666666666,
              "#ed7953"
             ],
             [
              0.7777777777777778,
              "#fb9f3a"
             ],
             [
              0.8888888888888888,
              "#fdca26"
             ],
             [
              1,
              "#f0f921"
             ]
            ],
            "type": "surface"
           }
          ],
          "table": [
           {
            "cells": {
             "fill": {
              "color": "#EBF0F8"
             },
             "line": {
              "color": "white"
             }
            },
            "header": {
             "fill": {
              "color": "#C8D4E3"
             },
             "line": {
              "color": "white"
             }
            },
            "type": "table"
           }
          ]
         },
         "layout": {
          "annotationdefaults": {
           "arrowcolor": "#2a3f5f",
           "arrowhead": 0,
           "arrowwidth": 1
          },
          "autotypenumbers": "strict",
          "coloraxis": {
           "colorbar": {
            "outlinewidth": 0,
            "ticks": ""
           }
          },
          "colorscale": {
           "diverging": [
            [
             0,
             "#8e0152"
            ],
            [
             0.1,
             "#c51b7d"
            ],
            [
             0.2,
             "#de77ae"
            ],
            [
             0.3,
             "#f1b6da"
            ],
            [
             0.4,
             "#fde0ef"
            ],
            [
             0.5,
             "#f7f7f7"
            ],
            [
             0.6,
             "#e6f5d0"
            ],
            [
             0.7,
             "#b8e186"
            ],
            [
             0.8,
             "#7fbc41"
            ],
            [
             0.9,
             "#4d9221"
            ],
            [
             1,
             "#276419"
            ]
           ],
           "sequential": [
            [
             0,
             "#0d0887"
            ],
            [
             0.1111111111111111,
             "#46039f"
            ],
            [
             0.2222222222222222,
             "#7201a8"
            ],
            [
             0.3333333333333333,
             "#9c179e"
            ],
            [
             0.4444444444444444,
             "#bd3786"
            ],
            [
             0.5555555555555556,
             "#d8576b"
            ],
            [
             0.6666666666666666,
             "#ed7953"
            ],
            [
             0.7777777777777778,
             "#fb9f3a"
            ],
            [
             0.8888888888888888,
             "#fdca26"
            ],
            [
             1,
             "#f0f921"
            ]
           ],
           "sequentialminus": [
            [
             0,
             "#0d0887"
            ],
            [
             0.1111111111111111,
             "#46039f"
            ],
            [
             0.2222222222222222,
             "#7201a8"
            ],
            [
             0.3333333333333333,
             "#9c179e"
            ],
            [
             0.4444444444444444,
             "#bd3786"
            ],
            [
             0.5555555555555556,
             "#d8576b"
            ],
            [
             0.6666666666666666,
             "#ed7953"
            ],
            [
             0.7777777777777778,
             "#fb9f3a"
            ],
            [
             0.8888888888888888,
             "#fdca26"
            ],
            [
             1,
             "#f0f921"
            ]
           ]
          },
          "colorway": [
           "#636efa",
           "#EF553B",
           "#00cc96",
           "#ab63fa",
           "#FFA15A",
           "#19d3f3",
           "#FF6692",
           "#B6E880",
           "#FF97FF",
           "#FECB52"
          ],
          "font": {
           "color": "#2a3f5f"
          },
          "geo": {
           "bgcolor": "white",
           "lakecolor": "white",
           "landcolor": "#E5ECF6",
           "showlakes": true,
           "showland": true,
           "subunitcolor": "white"
          },
          "hoverlabel": {
           "align": "left"
          },
          "hovermode": "closest",
          "mapbox": {
           "style": "light"
          },
          "paper_bgcolor": "white",
          "plot_bgcolor": "#E5ECF6",
          "polar": {
           "angularaxis": {
            "gridcolor": "white",
            "linecolor": "white",
            "ticks": ""
           },
           "bgcolor": "#E5ECF6",
           "radialaxis": {
            "gridcolor": "white",
            "linecolor": "white",
            "ticks": ""
           }
          },
          "scene": {
           "xaxis": {
            "backgroundcolor": "#E5ECF6",
            "gridcolor": "white",
            "gridwidth": 2,
            "linecolor": "white",
            "showbackground": true,
            "ticks": "",
            "zerolinecolor": "white"
           },
           "yaxis": {
            "backgroundcolor": "#E5ECF6",
            "gridcolor": "white",
            "gridwidth": 2,
            "linecolor": "white",
            "showbackground": true,
            "ticks": "",
            "zerolinecolor": "white"
           },
           "zaxis": {
            "backgroundcolor": "#E5ECF6",
            "gridcolor": "white",
            "gridwidth": 2,
            "linecolor": "white",
            "showbackground": true,
            "ticks": "",
            "zerolinecolor": "white"
           }
          },
          "shapedefaults": {
           "line": {
            "color": "#2a3f5f"
           }
          },
          "ternary": {
           "aaxis": {
            "gridcolor": "white",
            "linecolor": "white",
            "ticks": ""
           },
           "baxis": {
            "gridcolor": "white",
            "linecolor": "white",
            "ticks": ""
           },
           "bgcolor": "#E5ECF6",
           "caxis": {
            "gridcolor": "white",
            "linecolor": "white",
            "ticks": ""
           }
          },
          "title": {
           "x": 0.05
          },
          "xaxis": {
           "automargin": true,
           "gridcolor": "white",
           "linecolor": "white",
           "ticks": "",
           "title": {
            "standoff": 15
           },
           "zerolinecolor": "white",
           "zerolinewidth": 2
          },
          "yaxis": {
           "automargin": true,
           "gridcolor": "white",
           "linecolor": "white",
           "ticks": "",
           "title": {
            "standoff": 15
           },
           "zerolinecolor": "white",
           "zerolinewidth": 2
          }
         }
        },
        "title": {
         "text": "ROC қисығы"
        },
        "width": 1100,
        "xaxis": {
         "autorange": true,
         "range": [
          0,
          1
         ],
         "title": {
          "text": "Жалған ақиқат үлесі"
         },
         "type": "linear"
        },
        "yaxis": {
         "autorange": true,
         "range": [
          -0.05555555555555555,
          1.0555555555555556
         ],
         "title": {
          "text": "Рас ақиқат үлесі"
         },
         "type": "linear"
        }
       }
      },
      "image/png": "[encoded data removed]",
      "text/html": [
       "<div>                            <div id=\"003ab4ea-7b8f-4bf8-aa8e-31a0145f9fbc\" class=\"plotly-graph-div\" style=\"height:600px; width:1100px;\"></div>            <script type=\"text/javascript\">                require([\"plotly\"], function(Plotly) {                    window.PLOTLYENV=window.PLOTLYENV || {};                                    if (document.getElementById(\"003ab4ea-7b8f-4bf8-aa8e-31a0145f9fbc\")) {                    Plotly.newPlot(                        \"003ab4ea-7b8f-4bf8-aa8e-31a0145f9fbc\",                        [{\"line\":{\"color\":\"#636EFA\"},\"mode\":\"lines\",\"name\":\"\\u041a\\u043b\\u0430\\u0441\\u0441 0 (AUC = 1.0000)\",\"x\":[0.0,0.0,0.0,1.0],\"y\":[0.0,0.5,1.0,1.0],\"type\":\"scatter\"},{\"line\":{\"color\":\"#EF553B\"},\"mode\":\"lines\",\"name\":\"\\u041a\\u043b\\u0430\\u0441\\u0441 1 (AUC = 1.0000)\",\"x\":[0.0,0.0,0.0,1.0],\"y\":[0.0,0.5,1.0,1.0],\"type\":\"scatter\"},{\"line\":{\"color\":\"#00CC96\"},\"mode\":\"lines\",\"name\":\"\\u041a\\u043b\\u0430\\u0441\\u0441 2 (AUC = 1.0000)\",\"x\":[0.0,0.0,0.0,1.0],\"y\":[0.0,0.5,1.0,1.0],\"type\":\"scatter\"},{\"line\":{\"color\":\"#AB63FA\"},\"mode\":\"lines\",\"name\":\"\\u041a\\u043b\\u0430\\u0441\\u0441 3 (AUC = 1.0000)\",\"x\":[0.0,0.0,0.0,1.0],\"y\":[0.0,0.3333333333333333,1.0,1.0],\"type\":\"scatter\"},{\"line\":{\"color\":\"#FFA15A\"},\"mode\":\"lines\",\"name\":\"\\u041a\\u043b\\u0430\\u0441\\u0441 4 (AUC = 0.9722)\",\"x\":[0.0,0.0,0.027777777777777776,0.027777777777777776,0.05555555555555555,0.05555555555555555,1.0],\"y\":[0.0,0.3333333333333333,0.3333333333333333,0.6666666666666666,0.6666666666666666,1.0,1.0],\"type\":\"scatter\"},{\"line\":{\"color\":\"#19D3F3\"},\"mode\":\"lines\",\"name\":\"\\u041a\\u043b\\u0430\\u0441\\u0441 5 (AUC = 0.9595)\",\"x\":[0.0,0.02702702702702703,0.02702702702702703,0.05405405405405406,0.05405405405405406,1.0],\"y\":[0.0,0.0,0.5,0.5,1.0,1.0],\"type\":\"scatter\"},{\"line\":{\"color\":\"#FF6692\"},\"mode\":\"lines\",\"name\":\"\\u041a\\u043b\\u0430\\u0441\\u0441 6 (AUC = 1.0000)\",\"x\":[0.0,0.0,0.0,1.0],\"y\":[0.0,0.3333333333333333,1.0,1.0],\"type\":\"scatter\"},{\"line\":{\"color\":\"#B6E880\"},\"mode\":\"lines\",\"name\":\"\\u041a\\u043b\\u0430\\u0441\\u0441 7 (AUC = 1.0000)\",\"x\":[0.0,0.0,0.0,1.0],\"y\":[0.0,0.3333333333333333,1.0,1.0],\"type\":\"scatter\"},{\"line\":{\"color\":\"#FF97FF\"},\"mode\":\"lines\",\"name\":\"\\u041a\\u043b\\u0430\\u0441\\u0441 8 (AUC = 1.0000)\",\"x\":[0.0,0.0,0.0,1.0],\"y\":[0.0,0.5,1.0,1.0],\"type\":\"scatter\"},{\"line\":{\"color\":\"#FECB52\"},\"mode\":\"lines\",\"name\":\"\\u041a\\u043b\\u0430\\u0441\\u0441 9 (AUC = 1.0000)\",\"x\":[0.0,0.0,0.0,1.0],\"y\":[0.0,0.5,1.0,1.0],\"type\":\"scatter\"},{\"line\":{\"color\":\"#636EFA\"},\"mode\":\"lines\",\"name\":\"\\u041a\\u043b\\u0430\\u0441\\u0441 10 (AUC = 1.0000)\",\"x\":[0.0,0.0,0.0,1.0],\"y\":[0.0,0.3333333333333333,1.0,1.0],\"type\":\"scatter\"},{\"line\":{\"color\":\"#EF553B\"},\"mode\":\"lines\",\"name\":\"\\u041a\\u043b\\u0430\\u0441\\u0441 11 (AUC = 1.0000)\",\"x\":[0.0,0.0,0.0,1.0],\"y\":[0.0,0.5,1.0,1.0],\"type\":\"scatter\"},{\"line\":{\"color\":\"#00CC96\"},\"mode\":\"lines\",\"name\":\"\\u041a\\u043b\\u0430\\u0441\\u0441 12 (AUC = 1.0000)\",\"x\":[0.0,0.0,0.0,1.0],\"y\":[0.0,0.3333333333333333,1.0,1.0],\"type\":\"scatter\"},{\"line\":{\"color\":\"#AB63FA\"},\"mode\":\"lines\",\"name\":\"\\u041a\\u043b\\u0430\\u0441\\u0441 13 (AUC = 1.0000)\",\"x\":[0.0,0.0,0.0,1.0],\"y\":[0.0,0.5,1.0,1.0],\"type\":\"scatter\"},{\"line\":{\"color\":\"#FFA15A\"},\"mode\":\"lines\",\"name\":\"\\u041a\\u043b\\u0430\\u0441\\u0441 14 (AUC = 1.0000)\",\"x\":[0.0,0.0,0.0,1.0],\"y\":[0.0,0.5,1.0,1.0],\"type\":\"scatter\"},{\"line\":{\"color\":\"#19D3F3\"},\"mode\":\"lines\",\"name\":\"\\u041a\\u043b\\u0430\\u0441\\u0441 15 (AUC = 1.0000)\",\"x\":[0.0,0.0,0.0,1.0],\"y\":[0.0,0.3333333333333333,1.0,1.0],\"type\":\"scatter\"},{\"line\":{\"color\":\"deeppink\",\"dash\":\"dot\"},\"mode\":\"lines\",\"name\":\"\\u041e\\u0440\\u0442\\u0430\\u0448\\u0430 ROC (AUC = 0.9983)\",\"x\":[0.0,0.0,0.0,0.0017094017094017094,0.0017094017094017094,0.003418803418803419,0.003418803418803419,0.008547008547008548,0.008547008547008548,0.011965811965811967,0.011965811965811967,0.018803418803418803,0.018803418803418803,1.0],\"y\":[0.0,0.02564102564102564,0.6923076923076923,0.6923076923076923,0.7692307692307693,0.7692307692307693,0.9230769230769231,0.9230769230769231,0.9487179487179487,0.9487179487179487,0.9743589743589743,0.9743589743589743,1.0,1.0],\"type\":\"scatter\"},{\"line\":{\"color\":\"navy\",\"dash\":\"dash\"},\"mode\":\"lines\",\"name\":\"\\u041a\\u0435\\u0437\\u0434\\u0435\\u0439\\u0441\\u043e\\u049b \\u0442\\u0430\\u04a3\\u0434\\u0430\\u0443\",\"x\":[0,1],\"y\":[0,1],\"type\":\"scatter\"}],                        {\"template\":{\"data\":{\"histogram2dcontour\":[{\"type\":\"histogram2dcontour\",\"colorbar\":{\"outlinewidth\":0,\"ticks\":\"\"},\"colorscale\":[[0.0,\"#0d0887\"],[0.1111111111111111,\"#46039f\"],[0.2222222222222222,\"#7201a8\"],[0.3333333333333333,\"#9c179e\"],[0.4444444444444444,\"#bd3786\"],[0.5555555555555556,\"#d8576b\"],[0.6666666666666666,\"#ed7953\"],[0.7777777777777778,\"#fb9f3a\"],[0.8888888888888888,\"#fdca26\"],[1.0,\"#f0f921\"]]}],\"choropleth\":[{\"type\":\"choropleth\",\"colorbar\":{\"outlinewidth\":0,\"ticks\":\"\"}}],\"histogram2d\":[{\"type\":\"histogram2d\",\"colorbar\":{\"outlinewidth\":0,\"ticks\":\"\"},\"colorscale\":[[0.0,\"#0d0887\"],[0.1111111111111111,\"#46039f\"],[0.2222222222222222,\"#7201a8\"],[0.3333333333333333,\"#9c179e\"],[0.4444444444444444,\"#bd3786\"],[0.5555555555555556,\"#d8576b\"],[0.6666666666666666,\"#ed7953\"],[0.7777777777777778,\"#fb9f3a\"],[0.8888888888888888,\"#fdca26\"],[1.0,\"#f0f921\"]]}],\"heatmap\":[{\"type\":\"heatmap\",\"colorbar\":{\"outlinewidth\":0,\"ticks\":\"\"},\"colorscale\":[[0.0,\"#0d0887\"],[0.1111111111111111,\"#46039f\"],[0.2222222222222222,\"#7201a8\"],[0.3333333333333333,\"#9c179e\"],[0.4444444444444444,\"#bd3786\"],[0.5555555555555556,\"#d8576b\"],[0.6666666666666666,\"#ed7953\"],[0.7777777777777778,\"#fb9f3a\"],[0.8888888888888888,\"#fdca26\"],[1.0,\"#f0f921\"]]}],\"heatmapgl\":[{\"type\":\"heatmapgl\",\"colorbar\":{\"outlinewidth\":0,\"ticks\":\"\"},\"colorscale\":[[0.0,\"#0d0887\"],[0.1111111111111111,\"#46039f\"],[0.2222222222222222,\"#7201a8\"],[0.3333333333333333,\"#9c179e\"],[0.4444444444444444,\"#bd3786\"],[0.5555555555555556,\"#d8576b\"],[0.6666666666666666,\"#ed7953\"],[0.7777777777777778,\"#fb9f3a\"],[0.8888888888888888,\"#fdca26\"],[1.0,\"#f0f921\"]]}],\"contourcarpet\":[{\"type\":\"contourcarpet\",\"colorbar\":{\"outlinewidth\":0,\"ticks\":\"\"}}],\"contour\":[{\"type\":\"contour\",\"colorbar\":{\"outlinewidth\":0,\"ticks\":\"\"},\"colorscale\":[[0.0,\"#0d0887\"],[0.1111111111111111,\"#46039f\"],[0.2222222222222222,\"#7201a8\"],[0.3333333333333333,\"#9c179e\"],[0.4444444444444444,\"#bd3786\"],[0.5555555555555556,\"#d8576b\"],[0.6666666666666666,\"#ed7953\"],[0.7777777777777778,\"#fb9f3a\"],[0.8888888888888888,\"#fdca26\"],[1.0,\"#f0f921\"]]}],\"surface\":[{\"type\":\"surface\",\"colorbar\":{\"outlinewidth\":0,\"ticks\":\"\"},\"colorscale\":[[0.0,\"#0d0887\"],[0.1111111111111111,\"#46039f\"],[0.2222222222222222,\"#7201a8\"],[0.3333333333333333,\"#9c179e\"],[0.4444444444444444,\"#bd3786\"],[0.5555555555555556,\"#d8576b\"],[0.6666666666666666,\"#ed7953\"],[0.7777777777777778,\"#fb9f3a\"],[0.8888888888888888,\"#fdca26\"],[1.0,\"#f0f921\"]]}],\"mesh3d\":[{\"type\":\"mesh3d\",\"colorbar\":{\"outlinewidth\":0,\"ticks\":\"\"}}],\"scatter\":[{\"fillpattern\":{\"fillmode\":\"overlay\",\"size\":10,\"solidity\":0.2},\"type\":\"scatter\"}],\"parcoords\":[{\"type\":\"parcoords\",\"line\":{\"colorbar\":{\"outlinewidth\":0,\"ticks\":\"\"}}}],\"scatterpolargl\":[{\"type\":\"scatterpolargl\",\"marker\":{\"colorbar\":{\"outlinewidth\":0,\"ticks\":\"\"}}}],\"bar\":[{\"error_x\":{\"color\":\"#2a3f5f\"},\"error_y\":{\"color\":\"#2a3f5f\"},\"marker\":{\"line\":{\"color\":\"#E5ECF6\",\"width\":0.5},\"pattern\":{\"fillmode\":\"overlay\",\"size\":10,\"solidity\":0.2}},\"type\":\"bar\"}],\"scattergeo\":[{\"type\":\"scattergeo\",\"marker\":{\"colorbar\":{\"outlinewidth\":0,\"ticks\":\"\"}}}],\"scatterpolar\":[{\"type\":\"scatterpolar\",\"marker\":{\"colorbar\":{\"outlinewidth\":0,\"ticks\":\"\"}}}],\"histogram\":[{\"marker\":{\"pattern\":{\"fillmode\":\"overlay\",\"size\":10,\"solidity\":0.2}},\"type\":\"histogram\"}],\"scattergl\":[{\"type\":\"scattergl\",\"marker\":{\"colorbar\":{\"outlinewidth\":0,\"ticks\":\"\"}}}],\"scatter3d\":[{\"type\":\"scatter3d\",\"line\":{\"colorbar\":{\"outlinewidth\":0,\"ticks\":\"\"}},\"marker\":{\"colorbar\":{\"outlinewidth\":0,\"ticks\":\"\"}}}],\"scattermapbox\":[{\"type\":\"scattermapbox\",\"marker\":{\"colorbar\":{\"outlinewidth\":0,\"ticks\":\"\"}}}],\"scatterternary\":[{\"type\":\"scatterternary\",\"marker\":{\"colorbar\":{\"outlinewidth\":0,\"ticks\":\"\"}}}],\"scattercarpet\":[{\"type\":\"scattercarpet\",\"marker\":{\"colorbar\":{\"outlinewidth\":0,\"ticks\":\"\"}}}],\"carpet\":[{\"aaxis\":{\"endlinecolor\":\"#2a3f5f\",\"gridcolor\":\"white\",\"linecolor\":\"white\",\"minorgridcolor\":\"white\",\"startlinecolor\":\"#2a3f5f\"},\"baxis\":{\"endlinecolor\":\"#2a3f5f\",\"gridcolor\":\"white\",\"linecolor\":\"white\",\"minorgridcolor\":\"white\",\"startlinecolor\":\"#2a3f5f\"},\"type\":\"carpet\"}],\"table\":[{\"cells\":{\"fill\":{\"color\":\"#EBF0F8\"},\"line\":{\"color\":\"white\"}},\"header\":{\"fill\":{\"color\":\"#C8D4E3\"},\"line\":{\"color\":\"white\"}},\"type\":\"table\"}],\"barpolar\":[{\"marker\":{\"line\":{\"color\":\"#E5ECF6\",\"width\":0.5},\"pattern\":{\"fillmode\":\"overlay\",\"size\":10,\"solidity\":0.2}},\"type\":\"barpolar\"}],\"pie\":[{\"automargin\":true,\"type\":\"pie\"}]},\"layout\":{\"autotypenumbers\":\"strict\",\"colorway\":[\"#636efa\",\"#EF553B\",\"#00cc96\",\"#ab63fa\",\"#FFA15A\",\"#19d3f3\",\"#FF6692\",\"#B6E880\",\"#FF97FF\",\"#FECB52\"],\"font\":{\"color\":\"#2a3f5f\"},\"hovermode\":\"closest\",\"hoverlabel\":{\"align\":\"left\"},\"paper_bgcolor\":\"white\",\"plot_bgcolor\":\"#E5ECF6\",\"polar\":{\"bgcolor\":\"#E5ECF6\",\"angularaxis\":{\"gridcolor\":\"white\",\"linecolor\":\"white\",\"ticks\":\"\"},\"radialaxis\":{\"gridcolor\":\"white\",\"linecolor\":\"white\",\"ticks\":\"\"}},\"ternary\":{\"bgcolor\":\"#E5ECF6\",\"aaxis\":{\"gridcolor\":\"white\",\"linecolor\":\"white\",\"ticks\":\"\"},\"baxis\":{\"gridcolor\":\"white\",\"linecolor\":\"white\",\"ticks\":\"\"},\"caxis\":{\"gridcolor\":\"white\",\"linecolor\":\"white\",\"ticks\":\"\"}},\"coloraxis\":{\"colorbar\":{\"outlinewidth\":0,\"ticks\":\"\"}},\"colorscale\":{\"sequential\":[[0.0,\"#0d0887\"],[0.1111111111111111,\"#46039f\"],[0.2222222222222222,\"#7201a8\"],[0.3333333333333333,\"#9c179e\"],[0.4444444444444444,\"#bd3786\"],[0.5555555555555556,\"#d8576b\"],[0.6666666666666666,\"#ed7953\"],[0.7777777777777778,\"#fb9f3a\"],[0.8888888888888888,\"#fdca26\"],[1.0,\"#f0f921\"]],\"sequentialminus\":[[0.0,\"#0d0887\"],[0.1111111111111111,\"#46039f\"],[0.2222222222222222,\"#7201a8\"],[0.3333333333333333,\"#9c179e\"],[0.4444444444444444,\"#bd3786\"],[0.5555555555555556,\"#d8576b\"],[0.6666666666666666,\"#ed7953\"],[0.7777777777777778,\"#fb9f3a\"],[0.8888888888888888,\"#fdca26\"],[1.0,\"#f0f921\"]],\"diverging\":[[0,\"#8e0152\"],[0.1,\"#c51b7d\"],[0.2,\"#de77ae\"],[0.3,\"#f1b6da\"],[0.4,\"#fde0ef\"],[0.5,\"#f7f7f7\"],[0.6,\"#e6f5d0\"],[0.7,\"#b8e186\"],[0.8,\"#7fbc41\"],[0.9,\"#4d9221\"],[1,\"#276419\"]]},\"xaxis\":{\"gridcolor\":\"white\",\"linecolor\":\"white\",\"ticks\":\"\",\"title\":{\"standoff\":15},\"zerolinecolor\":\"white\",\"automargin\":true,\"zerolinewidth\":2},\"yaxis\":{\"gridcolor\":\"white\",\"linecolor\":\"white\",\"ticks\":\"\",\"title\":{\"standoff\":15},\"zerolinecolor\":\"white\",\"automargin\":true,\"zerolinewidth\":2},\"scene\":{\"xaxis\":{\"backgroundcolor\":\"#E5ECF6\",\"gridcolor\":\"white\",\"linecolor\":\"white\",\"showbackground\":true,\"ticks\":\"\",\"zerolinecolor\":\"white\",\"gridwidth\":2},\"yaxis\":{\"backgroundcolor\":\"#E5ECF6\",\"gridcolor\":\"white\",\"linecolor\":\"white\",\"showbackground\":true,\"ticks\":\"\",\"zerolinecolor\":\"white\",\"gridwidth\":2},\"zaxis\":{\"backgroundcolor\":\"#E5ECF6\",\"gridcolor\":\"white\",\"linecolor\":\"white\",\"showbackground\":true,\"ticks\":\"\",\"zerolinecolor\":\"white\",\"gridwidth\":2}},\"shapedefaults\":{\"line\":{\"color\":\"#2a3f5f\"}},\"annotationdefaults\":{\"arrowcolor\":\"#2a3f5f\",\"arrowhead\":0,\"arrowwidth\":1},\"geo\":{\"bgcolor\":\"white\",\"landcolor\":\"#E5ECF6\",\"subunitcolor\":\"white\",\"showland\":true,\"showlakes\":true,\"lakecolor\":\"white\"},\"title\":{\"x\":0.05},\"mapbox\":{\"style\":\"light\"}}},\"legend\":{\"x\":0.8,\"y\":0.1},\"title\":{\"text\":\"ROC \\u049b\\u0438\\u0441\\u044b\\u0493\\u044b\"},\"xaxis\":{\"title\":{\"text\":\"\\u0416\\u0430\\u043b\\u0493\\u0430\\u043d \\u0430\\u049b\\u0438\\u049b\\u0430\\u0442 \\u04af\\u043b\\u0435\\u0441\\u0456\"}},\"yaxis\":{\"title\":{\"text\":\"\\u0420\\u0430\\u0441 \\u0430\\u049b\\u0438\\u049b\\u0430\\u0442 \\u04af\\u043b\\u0435\\u0441\\u0456\"}},\"showlegend\":true,\"width\":1100,\"height\":600},                        {\"responsive\": true}                    ).then(function(){\n",
       "                            \n",
       "var gd = document.getElementById('003ab4ea-7b8f-4bf8-aa8e-31a0145f9fbc');\n",
       "var x = new MutationObserver(function (mutations, observer) {{\n",
       "        var display = window.getComputedStyle(gd).display;\n",
       "        if (!display || display === 'none') {{\n",
       "            console.log([gd, 'removed!']);\n",
       "            Plotly.purge(gd);\n",
       "            observer.disconnect();\n",
       "        }}\n",
       "}});\n",
       "\n",
       "// Listen for the removal of the full notebook cells\n",
       "var notebookContainer = gd.closest('#notebook-container');\n",
       "if (notebookContainer) {{\n",
       "    x.observe(notebookContainer, {childList: true});\n",
       "}}\n",
       "\n",
       "// Listen for the clearing of the current output cell\n",
       "var outputEl = gd.closest('.output');\n",
       "if (outputEl) {{\n",
       "    x.observe(outputEl, {childList: true});\n",
       "}}\n",
       "\n",
       "                        })                };                });            </script>        </div>"
      ]
     },
     "metadata": {},
     "output_type": "display_data"
    }
   ],
   "source": [
    "y_test_one_hot = tf.keras.utils.to_categorical(y_test, num_classes=16)\n",
    "\n",
    "fpr = dict()\n",
    "tpr = dict()\n",
    "roc_auc = dict()\n",
    "for i in range(16):\n",
    "    fpr[i], tpr[i], _ = roc_curve(y_test_one_hot[:, i], y_pred_probabilities[:, i])\n",
    "    roc_auc[i] = auc(fpr[i], tpr[i])\n",
    "\n",
    "fpr[\"micro\"], tpr[\"micro\"], _ = roc_curve(y_test_one_hot.ravel(), y_pred_probabilities.ravel())\n",
    "roc_auc[\"micro\"] = auc(fpr[\"micro\"], tpr[\"micro\"])\n",
    "\n",
    "fig = go.Figure()\n",
    "colors = px.colors.qualitative.Plotly\n",
    "for i in range(16):\n",
    "    fig.add_trace(go.Scatter(x=fpr[i], y=tpr[i], mode='lines', name=f'Класс {i+1} (AUC = {roc_auc[i]:.4f})', line=dict(color=colors[i % len(colors)])))\n",
    "fig.add_trace(go.Scatter(x=fpr[\"micro\"], y=tpr[\"micro\"], mode='lines', name=f'Орташа ROC (AUC = {roc_auc[\"micro\"]:.4f})', line=dict(color='deeppink', dash='dot')))\n",
    "fig.add_trace(go.Scatter(x=[0, 1], y=[0, 1], mode='lines', name='Кездейсоқ таңдау', line=dict(color='navy', dash='dash')))\n",
    "fig.update_layout(\n",
    "    title='ROC қисығы',\n",
    "    xaxis_title='Жалған ақиқат үлесі',\n",
    "    yaxis_title='Рас ақиқат үлесі',\n",
    "    showlegend=True,\n",
    "    legend=dict(x=0.8, y=0.1),\n",
    "    width=1100,\n",
    "    height=600\n",
    ")\n",
    "fig.show()"
   ]
  },
  {
   "cell_type": "code",
   "execution_count": 34,
   "id": "40793f41-6cfd-473b-9f08-522dc2db0471",
   "metadata": {},
   "outputs": [
    {
     "name": "stdout",
     "output_type": "stream",
     "text": [
      "Орташа FAR: 0.00511448948948949\n",
      "Орташа FRR: 0.07291666666666666\n"
     ]
    }
   ],
   "source": [
    "FP = np.sum(conf_matrix, axis=0) - np.diag(conf_matrix)\n",
    "FN = np.sum(conf_matrix, axis=1) - np.diag(conf_matrix)\n",
    "TP = np.diag(conf_matrix)\n",
    "TN = conf_matrix.sum() - (FP + FN + TP)\n",
    "\n",
    "FAR = FP / (FP + TN)\n",
    "FRR = FN / (FN + TP)\n",
    "\n",
    "print(f'Орташа FAR: {FAR.mean()}')\n",
    "print(f'Орташа FRR: {FRR.mean()}')"
   ]
  },
  {
   "cell_type": "code",
   "execution_count": 77,
   "id": "13c832af-db16-465c-9320-36f1a951a1a5",
   "metadata": {},
   "outputs": [
    {
     "name": "stdout",
     "output_type": "stream",
     "text": [
      "SNR, шу интенсивтілігі 0.026 = 24.49808223579158\n"
     ]
    }
   ],
   "source": [
    "intensity = 0.026\n",
    "X_noise, y_noise, scaler_noise, SNR = prepare_data(Soileushiler, ip.F_dis, ip.win_len, ip.hop_len, ip.n_mfcc, ip.mfcc_frame, noised=True, intensity=intensity)\n",
    "X_noise_train, X_noise_test, y_noise_train, y_noise_test = train_test_split(X_noise, y_noise, test_size=0.2, stratify=y, random_state=42)\n",
    "print(f\"SNR, шу интенсивтілігі {intensity} = {SNR}\")"
   ]
  },
  {
   "cell_type": "code",
   "execution_count": 78,
   "id": "28246e5d-e86a-4f74-be2b-64bb4e46b7c3",
   "metadata": {},
   "outputs": [
    {
     "name": "stdout",
     "output_type": "stream",
     "text": [
      "2/2 [==============================] - 0s 7ms/step - loss: 2.1721 - accuracy: 0.6667\n",
      "Тестілік жоғалтулар (шу бар сигнал): 2.172117233276367\n",
      "Тестілік дәлдік (шу бар сигнал): 0.6666666865348816\n"
     ]
    }
   ],
   "source": [
    "test_loss_noise, test_accuracy_noise = best_model.evaluate(X_noise_test, y_test)\n",
    "print(f'Тестілік жоғалтулар (шу бар сигнал): {test_loss_noise}')\n",
    "print(f'Тестілік дәлдік (шу бар сигнал): {test_accuracy_noise}')"
   ]
  },
  {
   "cell_type": "code",
   "execution_count": 79,
   "id": "a43fc617-770f-4cda-a5af-c67fdf134caa",
   "metadata": {},
   "outputs": [
    {
     "name": "stdout",
     "output_type": "stream",
     "text": [
      "2/2 [==============================] - 0s 9ms/step\n"
     ]
    },
    {
     "data": {
      "application/vnd.plotly.v1+json": {
       "config": {
        "plotlyServerURL": "https://plot.ly"
       },
       "data": [
        {
         "coloraxis": "coloraxis",
         "hovertemplate": "Болжанған белгілер: %{x}<br>Рас белгілер: %{y}<br>color: %{z}<extra></extra>",
         "name": "0",
         "texttemplate": "%{z:.d}",
         "type": "heatmap",
         "x": [
          "Сөйлеуші_1",
          "Сөйлеуші_2",
          "Сөйлеуші_3",
          "Сөйлеуші_4",
          "Сөйлеуші_5",
          "Сөйлеуші_6",
          "Сөйлеуші_7",
          "Сөйлеуші_8",
          "Сөйлеуші_9",
          "Сөйлеуші_10",
          "Сөйлеуші_11",
          "Сөйлеуші_12",
          "Сөйлеуші_13",
          "Сөйлеуші_14",
          "Сөйлеуші_15",
          "Сөйлеуші_16"
         ],
         "xaxis": "x",
         "y": [
          "Сөйлеуші_1",
          "Сөйлеуші_2",
          "Сөйлеуші_3",
          "Сөйлеуші_4",
          "Сөйлеуші_5",
          "Сөйлеуші_6",
          "Сөйлеуші_7",
          "Сөйлеуші_8",
          "Сөйлеуші_9",
          "Сөйлеуші_10",
          "Сөйлеуші_11",
          "Сөйлеуші_12",
          "Сөйлеуші_13",
          "Сөйлеуші_14",
          "Сөйлеуші_15",
          "Сөйлеуші_16"
         ],
         "yaxis": "y",
         "z": [
          [
           2,
           0,
           0,
           0,
           0,
           0,
           0,
           0,
           0,
           0,
           0,
           0,
           0,
           0,
           0,
           0
          ],
          [
           0,
           2,
           0,
           0,
           0,
           0,
           0,
           0,
           0,
           0,
           0,
           0,
           0,
           0,
           0,
           0
          ],
          [
           0,
           0,
           2,
           0,
           0,
           0,
           0,
           0,
           0,
           0,
           0,
           0,
           0,
           0,
           0,
           0
          ],
          [
           0,
           0,
           0,
           3,
           0,
           0,
           0,
           0,
           0,
           0,
           0,
           0,
           0,
           0,
           0,
           0
          ],
          [
           0,
           0,
           0,
           0,
           2,
           1,
           0,
           0,
           0,
           0,
           0,
           0,
           0,
           0,
           0,
           0
          ],
          [
           0,
           0,
           0,
           0,
           0,
           2,
           0,
           0,
           0,
           0,
           0,
           0,
           0,
           0,
           0,
           0
          ],
          [
           0,
           0,
           0,
           0,
           1,
           0,
           1,
           0,
           0,
           1,
           0,
           0,
           0,
           0,
           0,
           0
          ],
          [
           0,
           0,
           0,
           0,
           0,
           2,
           0,
           1,
           0,
           0,
           0,
           0,
           0,
           0,
           0,
           0
          ],
          [
           0,
           0,
           0,
           0,
           0,
           0,
           0,
           0,
           2,
           0,
           0,
           0,
           0,
           0,
           0,
           0
          ],
          [
           0,
           0,
           0,
           0,
           0,
           0,
           0,
           0,
           0,
           1,
           0,
           0,
           1,
           0,
           0,
           0
          ],
          [
           1,
           0,
           0,
           0,
           0,
           0,
           0,
           0,
           0,
           0,
           2,
           0,
           0,
           0,
           0,
           0
          ],
          [
           0,
           0,
           0,
           0,
           0,
           1,
           0,
           0,
           0,
           0,
           1,
           0,
           0,
           0,
           0,
           0
          ],
          [
           0,
           0,
           0,
           0,
           0,
           0,
           0,
           0,
           0,
           0,
           0,
           0,
           3,
           0,
           0,
           0
          ],
          [
           0,
           0,
           0,
           0,
           0,
           0,
           0,
           0,
           0,
           1,
           0,
           0,
           0,
           1,
           0,
           0
          ],
          [
           0,
           1,
           0,
           0,
           0,
           0,
           0,
           0,
           0,
           0,
           0,
           0,
           0,
           0,
           1,
           0
          ],
          [
           0,
           1,
           0,
           0,
           0,
           0,
           0,
           0,
           0,
           0,
           1,
           0,
           0,
           0,
           0,
           1
          ]
         ]
        }
       ],
       "layout": {
        "autosize": true,
        "coloraxis": {
         "colorscale": [
          [
           0,
           "rgb(247,252,245)"
          ],
          [
           0.125,
           "rgb(229,245,224)"
          ],
          [
           0.25,
           "rgb(199,233,192)"
          ],
          [
           0.375,
           "rgb(161,217,155)"
          ],
          [
           0.5,
           "rgb(116,196,118)"
          ],
          [
           0.625,
           "rgb(65,171,93)"
          ],
          [
           0.75,
           "rgb(35,139,69)"
          ],
          [
           0.875,
           "rgb(0,109,44)"
          ],
          [
           1,
           "rgb(0,68,27)"
          ]
         ]
        },
        "margin": {
         "t": 60
        },
        "template": {
         "data": {
          "bar": [
           {
            "error_x": {
             "color": "#2a3f5f"
            },
            "error_y": {
             "color": "#2a3f5f"
            },
            "marker": {
             "line": {
              "color": "#E5ECF6",
              "width": 0.5
             },
             "pattern": {
              "fillmode": "overlay",
              "size": 10,
              "solidity": 0.2
             }
            },
            "type": "bar"
           }
          ],
          "barpolar": [
           {
            "marker": {
             "line": {
              "color": "#E5ECF6",
              "width": 0.5
             },
             "pattern": {
              "fillmode": "overlay",
              "size": 10,
              "solidity": 0.2
             }
            },
            "type": "barpolar"
           }
          ],
          "carpet": [
           {
            "aaxis": {
             "endlinecolor": "#2a3f5f",
             "gridcolor": "white",
             "linecolor": "white",
             "minorgridcolor": "white",
             "startlinecolor": "#2a3f5f"
            },
            "baxis": {
             "endlinecolor": "#2a3f5f",
             "gridcolor": "white",
             "linecolor": "white",
             "minorgridcolor": "white",
             "startlinecolor": "#2a3f5f"
            },
            "type": "carpet"
           }
          ],
          "choropleth": [
           {
            "colorbar": {
             "outlinewidth": 0,
             "ticks": ""
            },
            "type": "choropleth"
           }
          ],
          "contour": [
           {
            "colorbar": {
             "outlinewidth": 0,
             "ticks": ""
            },
            "colorscale": [
             [
              0,
              "#0d0887"
             ],
             [
              0.1111111111111111,
              "#46039f"
             ],
             [
              0.2222222222222222,
              "#7201a8"
             ],
             [
              0.3333333333333333,
              "#9c179e"
             ],
             [
              0.4444444444444444,
              "#bd3786"
             ],
             [
              0.5555555555555556,
              "#d8576b"
             ],
             [
              0.6666666666666666,
              "#ed7953"
             ],
             [
              0.7777777777777778,
              "#fb9f3a"
             ],
             [
              0.8888888888888888,
              "#fdca26"
             ],
             [
              1,
              "#f0f921"
             ]
            ],
            "type": "contour"
           }
          ],
          "contourcarpet": [
           {
            "colorbar": {
             "outlinewidth": 0,
             "ticks": ""
            },
            "type": "contourcarpet"
           }
          ],
          "heatmap": [
           {
            "colorbar": {
             "outlinewidth": 0,
             "ticks": ""
            },
            "colorscale": [
             [
              0,
              "#0d0887"
             ],
             [
              0.1111111111111111,
              "#46039f"
             ],
             [
              0.2222222222222222,
              "#7201a8"
             ],
             [
              0.3333333333333333,
              "#9c179e"
             ],
             [
              0.4444444444444444,
              "#bd3786"
             ],
             [
              0.5555555555555556,
              "#d8576b"
             ],
             [
              0.6666666666666666,
              "#ed7953"
             ],
             [
              0.7777777777777778,
              "#fb9f3a"
             ],
             [
              0.8888888888888888,
              "#fdca26"
             ],
             [
              1,
              "#f0f921"
             ]
            ],
            "type": "heatmap"
           }
          ],
          "heatmapgl": [
           {
            "colorbar": {
             "outlinewidth": 0,
             "ticks": ""
            },
            "colorscale": [
             [
              0,
              "#0d0887"
             ],
             [
              0.1111111111111111,
              "#46039f"
             ],
             [
              0.2222222222222222,
              "#7201a8"
             ],
             [
              0.3333333333333333,
              "#9c179e"
             ],
             [
              0.4444444444444444,
              "#bd3786"
             ],
             [
              0.5555555555555556,
              "#d8576b"
             ],
             [
              0.6666666666666666,
              "#ed7953"
             ],
             [
              0.7777777777777778,
              "#fb9f3a"
             ],
             [
              0.8888888888888888,
              "#fdca26"
             ],
             [
              1,
              "#f0f921"
             ]
            ],
            "type": "heatmapgl"
           }
          ],
          "histogram": [
           {
            "marker": {
             "pattern": {
              "fillmode": "overlay",
              "size": 10,
              "solidity": 0.2
             }
            },
            "type": "histogram"
           }
          ],
          "histogram2d": [
           {
            "colorbar": {
             "outlinewidth": 0,
             "ticks": ""
            },
            "colorscale": [
             [
              0,
              "#0d0887"
             ],
             [
              0.1111111111111111,
              "#46039f"
             ],
             [
              0.2222222222222222,
              "#7201a8"
             ],
             [
              0.3333333333333333,
              "#9c179e"
             ],
             [
              0.4444444444444444,
              "#bd3786"
             ],
             [
              0.5555555555555556,
              "#d8576b"
             ],
             [
              0.6666666666666666,
              "#ed7953"
             ],
             [
              0.7777777777777778,
              "#fb9f3a"
             ],
             [
              0.8888888888888888,
              "#fdca26"
             ],
             [
              1,
              "#f0f921"
             ]
            ],
            "type": "histogram2d"
           }
          ],
          "histogram2dcontour": [
           {
            "colorbar": {
             "outlinewidth": 0,
             "ticks": ""
            },
            "colorscale": [
             [
              0,
              "#0d0887"
             ],
             [
              0.1111111111111111,
              "#46039f"
             ],
             [
              0.2222222222222222,
              "#7201a8"
             ],
             [
              0.3333333333333333,
              "#9c179e"
             ],
             [
              0.4444444444444444,
              "#bd3786"
             ],
             [
              0.5555555555555556,
              "#d8576b"
             ],
             [
              0.6666666666666666,
              "#ed7953"
             ],
             [
              0.7777777777777778,
              "#fb9f3a"
             ],
             [
              0.8888888888888888,
              "#fdca26"
             ],
             [
              1,
              "#f0f921"
             ]
            ],
            "type": "histogram2dcontour"
           }
          ],
          "mesh3d": [
           {
            "colorbar": {
             "outlinewidth": 0,
             "ticks": ""
            },
            "type": "mesh3d"
           }
          ],
          "parcoords": [
           {
            "line": {
             "colorbar": {
              "outlinewidth": 0,
              "ticks": ""
             }
            },
            "type": "parcoords"
           }
          ],
          "pie": [
           {
            "automargin": true,
            "type": "pie"
           }
          ],
          "scatter": [
           {
            "fillpattern": {
             "fillmode": "overlay",
             "size": 10,
             "solidity": 0.2
            },
            "type": "scatter"
           }
          ],
          "scatter3d": [
           {
            "line": {
             "colorbar": {
              "outlinewidth": 0,
              "ticks": ""
             }
            },
            "marker": {
             "colorbar": {
              "outlinewidth": 0,
              "ticks": ""
             }
            },
            "type": "scatter3d"
           }
          ],
          "scattercarpet": [
           {
            "marker": {
             "colorbar": {
              "outlinewidth": 0,
              "ticks": ""
             }
            },
            "type": "scattercarpet"
           }
          ],
          "scattergeo": [
           {
            "marker": {
             "colorbar": {
              "outlinewidth": 0,
              "ticks": ""
             }
            },
            "type": "scattergeo"
           }
          ],
          "scattergl": [
           {
            "marker": {
             "colorbar": {
              "outlinewidth": 0,
              "ticks": ""
             }
            },
            "type": "scattergl"
           }
          ],
          "scattermapbox": [
           {
            "marker": {
             "colorbar": {
              "outlinewidth": 0,
              "ticks": ""
             }
            },
            "type": "scattermapbox"
           }
          ],
          "scatterpolar": [
           {
            "marker": {
             "colorbar": {
              "outlinewidth": 0,
              "ticks": ""
             }
            },
            "type": "scatterpolar"
           }
          ],
          "scatterpolargl": [
           {
            "marker": {
             "colorbar": {
              "outlinewidth": 0,
              "ticks": ""
             }
            },
            "type": "scatterpolargl"
           }
          ],
          "scatterternary": [
           {
            "marker": {
             "colorbar": {
              "outlinewidth": 0,
              "ticks": ""
             }
            },
            "type": "scatterternary"
           }
          ],
          "surface": [
           {
            "colorbar": {
             "outlinewidth": 0,
             "ticks": ""
            },
            "colorscale": [
             [
              0,
              "#0d0887"
             ],
             [
              0.1111111111111111,
              "#46039f"
             ],
             [
              0.2222222222222222,
              "#7201a8"
             ],
             [
              0.3333333333333333,
              "#9c179e"
             ],
             [
              0.4444444444444444,
              "#bd3786"
             ],
             [
              0.5555555555555556,
              "#d8576b"
             ],
             [
              0.6666666666666666,
              "#ed7953"
             ],
             [
              0.7777777777777778,
              "#fb9f3a"
             ],
             [
              0.8888888888888888,
              "#fdca26"
             ],
             [
              1,
              "#f0f921"
             ]
            ],
            "type": "surface"
           }
          ],
          "table": [
           {
            "cells": {
             "fill": {
              "color": "#EBF0F8"
             },
             "line": {
              "color": "white"
             }
            },
            "header": {
             "fill": {
              "color": "#C8D4E3"
             },
             "line": {
              "color": "white"
             }
            },
            "type": "table"
           }
          ]
         },
         "layout": {
          "annotationdefaults": {
           "arrowcolor": "#2a3f5f",
           "arrowhead": 0,
           "arrowwidth": 1
          },
          "autotypenumbers": "strict",
          "coloraxis": {
           "colorbar": {
            "outlinewidth": 0,
            "ticks": ""
           }
          },
          "colorscale": {
           "diverging": [
            [
             0,
             "#8e0152"
            ],
            [
             0.1,
             "#c51b7d"
            ],
            [
             0.2,
             "#de77ae"
            ],
            [
             0.3,
             "#f1b6da"
            ],
            [
             0.4,
             "#fde0ef"
            ],
            [
             0.5,
             "#f7f7f7"
            ],
            [
             0.6,
             "#e6f5d0"
            ],
            [
             0.7,
             "#b8e186"
            ],
            [
             0.8,
             "#7fbc41"
            ],
            [
             0.9,
             "#4d9221"
            ],
            [
             1,
             "#276419"
            ]
           ],
           "sequential": [
            [
             0,
             "#0d0887"
            ],
            [
             0.1111111111111111,
             "#46039f"
            ],
            [
             0.2222222222222222,
             "#7201a8"
            ],
            [
             0.3333333333333333,
             "#9c179e"
            ],
            [
             0.4444444444444444,
             "#bd3786"
            ],
            [
             0.5555555555555556,
             "#d8576b"
            ],
            [
             0.6666666666666666,
             "#ed7953"
            ],
            [
             0.7777777777777778,
             "#fb9f3a"
            ],
            [
             0.8888888888888888,
             "#fdca26"
            ],
            [
             1,
             "#f0f921"
            ]
           ],
           "sequentialminus": [
            [
             0,
             "#0d0887"
            ],
            [
             0.1111111111111111,
             "#46039f"
            ],
            [
             0.2222222222222222,
             "#7201a8"
            ],
            [
             0.3333333333333333,
             "#9c179e"
            ],
            [
             0.4444444444444444,
             "#bd3786"
            ],
            [
             0.5555555555555556,
             "#d8576b"
            ],
            [
             0.6666666666666666,
             "#ed7953"
            ],
            [
             0.7777777777777778,
             "#fb9f3a"
            ],
            [
             0.8888888888888888,
             "#fdca26"
            ],
            [
             1,
             "#f0f921"
            ]
           ]
          },
          "colorway": [
           "#636efa",
           "#EF553B",
           "#00cc96",
           "#ab63fa",
           "#FFA15A",
           "#19d3f3",
           "#FF6692",
           "#B6E880",
           "#FF97FF",
           "#FECB52"
          ],
          "font": {
           "color": "#2a3f5f"
          },
          "geo": {
           "bgcolor": "white",
           "lakecolor": "white",
           "landcolor": "#E5ECF6",
           "showlakes": true,
           "showland": true,
           "subunitcolor": "white"
          },
          "hoverlabel": {
           "align": "left"
          },
          "hovermode": "closest",
          "mapbox": {
           "style": "light"
          },
          "paper_bgcolor": "white",
          "plot_bgcolor": "#E5ECF6",
          "polar": {
           "angularaxis": {
            "gridcolor": "white",
            "linecolor": "white",
            "ticks": ""
           },
           "bgcolor": "#E5ECF6",
           "radialaxis": {
            "gridcolor": "white",
            "linecolor": "white",
            "ticks": ""
           }
          },
          "scene": {
           "xaxis": {
            "backgroundcolor": "#E5ECF6",
            "gridcolor": "white",
            "gridwidth": 2,
            "linecolor": "white",
            "showbackground": true,
            "ticks": "",
            "zerolinecolor": "white"
           },
           "yaxis": {
            "backgroundcolor": "#E5ECF6",
            "gridcolor": "white",
            "gridwidth": 2,
            "linecolor": "white",
            "showbackground": true,
            "ticks": "",
            "zerolinecolor": "white"
           },
           "zaxis": {
            "backgroundcolor": "#E5ECF6",
            "gridcolor": "white",
            "gridwidth": 2,
            "linecolor": "white",
            "showbackground": true,
            "ticks": "",
            "zerolinecolor": "white"
           }
          },
          "shapedefaults": {
           "line": {
            "color": "#2a3f5f"
           }
          },
          "ternary": {
           "aaxis": {
            "gridcolor": "white",
            "linecolor": "white",
            "ticks": ""
           },
           "baxis": {
            "gridcolor": "white",
            "linecolor": "white",
            "ticks": ""
           },
           "bgcolor": "#E5ECF6",
           "caxis": {
            "gridcolor": "white",
            "linecolor": "white",
            "ticks": ""
           }
          },
          "title": {
           "x": 0.05
          },
          "xaxis": {
           "automargin": true,
           "gridcolor": "white",
           "linecolor": "white",
           "ticks": "",
           "title": {
            "standoff": 15
           },
           "zerolinecolor": "white",
           "zerolinewidth": 2
          },
          "yaxis": {
           "automargin": true,
           "gridcolor": "white",
           "linecolor": "white",
           "ticks": "",
           "title": {
            "standoff": 15
           },
           "zerolinecolor": "white",
           "zerolinewidth": 2
          }
         }
        },
        "title": {
         "text": "Шу бар мәліметке тестіленген олқылық матрицасы"
        },
        "xaxis": {
         "anchor": "y",
         "autorange": true,
         "domain": [
          0,
          1
         ],
         "range": [
          -0.5,
          15.5
         ],
         "title": {
          "text": "Болжанған белгілер"
         },
         "type": "category"
        },
        "yaxis": {
         "anchor": "x",
         "autorange": true,
         "domain": [
          0,
          1
         ],
         "range": [
          15.5,
          -0.5
         ],
         "title": {
          "text": "Рас белгілер"
         },
         "type": "category"
        }
       }
      },
      "image/png": "[encoded data removed]",
      "text/html": [
       "<div>                            <div id=\"6a169a5e-b2d6-419c-ae29-5345211de49e\" class=\"plotly-graph-div\" style=\"height:525px; width:100%;\"></div>            <script type=\"text/javascript\">                require([\"plotly\"], function(Plotly) {                    window.PLOTLYENV=window.PLOTLYENV || {};                                    if (document.getElementById(\"6a169a5e-b2d6-419c-ae29-5345211de49e\")) {                    Plotly.newPlot(                        \"6a169a5e-b2d6-419c-ae29-5345211de49e\",                        [{\"coloraxis\":\"coloraxis\",\"name\":\"0\",\"texttemplate\":\"%{z:.d}\",\"x\":[\"\\u0421\\u04e9\\u0439\\u043b\\u0435\\u0443\\u0448\\u0456_1\",\"\\u0421\\u04e9\\u0439\\u043b\\u0435\\u0443\\u0448\\u0456_2\",\"\\u0421\\u04e9\\u0439\\u043b\\u0435\\u0443\\u0448\\u0456_3\",\"\\u0421\\u04e9\\u0439\\u043b\\u0435\\u0443\\u0448\\u0456_4\",\"\\u0421\\u04e9\\u0439\\u043b\\u0435\\u0443\\u0448\\u0456_5\",\"\\u0421\\u04e9\\u0439\\u043b\\u0435\\u0443\\u0448\\u0456_6\",\"\\u0421\\u04e9\\u0439\\u043b\\u0435\\u0443\\u0448\\u0456_7\",\"\\u0421\\u04e9\\u0439\\u043b\\u0435\\u0443\\u0448\\u0456_8\",\"\\u0421\\u04e9\\u0439\\u043b\\u0435\\u0443\\u0448\\u0456_9\",\"\\u0421\\u04e9\\u0439\\u043b\\u0435\\u0443\\u0448\\u0456_10\",\"\\u0421\\u04e9\\u0439\\u043b\\u0435\\u0443\\u0448\\u0456_11\",\"\\u0421\\u04e9\\u0439\\u043b\\u0435\\u0443\\u0448\\u0456_12\",\"\\u0421\\u04e9\\u0439\\u043b\\u0435\\u0443\\u0448\\u0456_13\",\"\\u0421\\u04e9\\u0439\\u043b\\u0435\\u0443\\u0448\\u0456_14\",\"\\u0421\\u04e9\\u0439\\u043b\\u0435\\u0443\\u0448\\u0456_15\",\"\\u0421\\u04e9\\u0439\\u043b\\u0435\\u0443\\u0448\\u0456_16\"],\"y\":[\"\\u0421\\u04e9\\u0439\\u043b\\u0435\\u0443\\u0448\\u0456_1\",\"\\u0421\\u04e9\\u0439\\u043b\\u0435\\u0443\\u0448\\u0456_2\",\"\\u0421\\u04e9\\u0439\\u043b\\u0435\\u0443\\u0448\\u0456_3\",\"\\u0421\\u04e9\\u0439\\u043b\\u0435\\u0443\\u0448\\u0456_4\",\"\\u0421\\u04e9\\u0439\\u043b\\u0435\\u0443\\u0448\\u0456_5\",\"\\u0421\\u04e9\\u0439\\u043b\\u0435\\u0443\\u0448\\u0456_6\",\"\\u0421\\u04e9\\u0439\\u043b\\u0435\\u0443\\u0448\\u0456_7\",\"\\u0421\\u04e9\\u0439\\u043b\\u0435\\u0443\\u0448\\u0456_8\",\"\\u0421\\u04e9\\u0439\\u043b\\u0435\\u0443\\u0448\\u0456_9\",\"\\u0421\\u04e9\\u0439\\u043b\\u0435\\u0443\\u0448\\u0456_10\",\"\\u0421\\u04e9\\u0439\\u043b\\u0435\\u0443\\u0448\\u0456_11\",\"\\u0421\\u04e9\\u0439\\u043b\\u0435\\u0443\\u0448\\u0456_12\",\"\\u0421\\u04e9\\u0439\\u043b\\u0435\\u0443\\u0448\\u0456_13\",\"\\u0421\\u04e9\\u0439\\u043b\\u0435\\u0443\\u0448\\u0456_14\",\"\\u0421\\u04e9\\u0439\\u043b\\u0435\\u0443\\u0448\\u0456_15\",\"\\u0421\\u04e9\\u0439\\u043b\\u0435\\u0443\\u0448\\u0456_16\"],\"z\":[[2,0,0,0,0,0,0,0,0,0,0,0,0,0,0,0],[0,2,0,0,0,0,0,0,0,0,0,0,0,0,0,0],[0,0,2,0,0,0,0,0,0,0,0,0,0,0,0,0],[0,0,0,3,0,0,0,0,0,0,0,0,0,0,0,0],[0,0,0,0,2,1,0,0,0,0,0,0,0,0,0,0],[0,0,0,0,0,2,0,0,0,0,0,0,0,0,0,0],[0,0,0,0,1,0,1,0,0,1,0,0,0,0,0,0],[0,0,0,0,0,2,0,1,0,0,0,0,0,0,0,0],[0,0,0,0,0,0,0,0,2,0,0,0,0,0,0,0],[0,0,0,0,0,0,0,0,0,1,0,0,1,0,0,0],[1,0,0,0,0,0,0,0,0,0,2,0,0,0,0,0],[0,0,0,0,0,1,0,0,0,0,1,0,0,0,0,0],[0,0,0,0,0,0,0,0,0,0,0,0,3,0,0,0],[0,0,0,0,0,0,0,0,0,1,0,0,0,1,0,0],[0,1,0,0,0,0,0,0,0,0,0,0,0,0,1,0],[0,1,0,0,0,0,0,0,0,0,1,0,0,0,0,1]],\"type\":\"heatmap\",\"xaxis\":\"x\",\"yaxis\":\"y\",\"hovertemplate\":\"\\u0411\\u043e\\u043b\\u0436\\u0430\\u043d\\u0493\\u0430\\u043d \\u0431\\u0435\\u043b\\u0433\\u0456\\u043b\\u0435\\u0440: %{x}\\u003cbr\\u003e\\u0420\\u0430\\u0441 \\u0431\\u0435\\u043b\\u0433\\u0456\\u043b\\u0435\\u0440: %{y}\\u003cbr\\u003ecolor: %{z}\\u003cextra\\u003e\\u003c\\u002fextra\\u003e\"}],                        {\"template\":{\"data\":{\"histogram2dcontour\":[{\"type\":\"histogram2dcontour\",\"colorbar\":{\"outlinewidth\":0,\"ticks\":\"\"},\"colorscale\":[[0.0,\"#0d0887\"],[0.1111111111111111,\"#46039f\"],[0.2222222222222222,\"#7201a8\"],[0.3333333333333333,\"#9c179e\"],[0.4444444444444444,\"#bd3786\"],[0.5555555555555556,\"#d8576b\"],[0.6666666666666666,\"#ed7953\"],[0.7777777777777778,\"#fb9f3a\"],[0.8888888888888888,\"#fdca26\"],[1.0,\"#f0f921\"]]}],\"choropleth\":[{\"type\":\"choropleth\",\"colorbar\":{\"outlinewidth\":0,\"ticks\":\"\"}}],\"histogram2d\":[{\"type\":\"histogram2d\",\"colorbar\":{\"outlinewidth\":0,\"ticks\":\"\"},\"colorscale\":[[0.0,\"#0d0887\"],[0.1111111111111111,\"#46039f\"],[0.2222222222222222,\"#7201a8\"],[0.3333333333333333,\"#9c179e\"],[0.4444444444444444,\"#bd3786\"],[0.5555555555555556,\"#d8576b\"],[0.6666666666666666,\"#ed7953\"],[0.7777777777777778,\"#fb9f3a\"],[0.8888888888888888,\"#fdca26\"],[1.0,\"#f0f921\"]]}],\"heatmap\":[{\"type\":\"heatmap\",\"colorbar\":{\"outlinewidth\":0,\"ticks\":\"\"},\"colorscale\":[[0.0,\"#0d0887\"],[0.1111111111111111,\"#46039f\"],[0.2222222222222222,\"#7201a8\"],[0.3333333333333333,\"#9c179e\"],[0.4444444444444444,\"#bd3786\"],[0.5555555555555556,\"#d8576b\"],[0.6666666666666666,\"#ed7953\"],[0.7777777777777778,\"#fb9f3a\"],[0.8888888888888888,\"#fdca26\"],[1.0,\"#f0f921\"]]}],\"heatmapgl\":[{\"type\":\"heatmapgl\",\"colorbar\":{\"outlinewidth\":0,\"ticks\":\"\"},\"colorscale\":[[0.0,\"#0d0887\"],[0.1111111111111111,\"#46039f\"],[0.2222222222222222,\"#7201a8\"],[0.3333333333333333,\"#9c179e\"],[0.4444444444444444,\"#bd3786\"],[0.5555555555555556,\"#d8576b\"],[0.6666666666666666,\"#ed7953\"],[0.7777777777777778,\"#fb9f3a\"],[0.8888888888888888,\"#fdca26\"],[1.0,\"#f0f921\"]]}],\"contourcarpet\":[{\"type\":\"contourcarpet\",\"colorbar\":{\"outlinewidth\":0,\"ticks\":\"\"}}],\"contour\":[{\"type\":\"contour\",\"colorbar\":{\"outlinewidth\":0,\"ticks\":\"\"},\"colorscale\":[[0.0,\"#0d0887\"],[0.1111111111111111,\"#46039f\"],[0.2222222222222222,\"#7201a8\"],[0.3333333333333333,\"#9c179e\"],[0.4444444444444444,\"#bd3786\"],[0.5555555555555556,\"#d8576b\"],[0.6666666666666666,\"#ed7953\"],[0.7777777777777778,\"#fb9f3a\"],[0.8888888888888888,\"#fdca26\"],[1.0,\"#f0f921\"]]}],\"surface\":[{\"type\":\"surface\",\"colorbar\":{\"outlinewidth\":0,\"ticks\":\"\"},\"colorscale\":[[0.0,\"#0d0887\"],[0.1111111111111111,\"#46039f\"],[0.2222222222222222,\"#7201a8\"],[0.3333333333333333,\"#9c179e\"],[0.4444444444444444,\"#bd3786\"],[0.5555555555555556,\"#d8576b\"],[0.6666666666666666,\"#ed7953\"],[0.7777777777777778,\"#fb9f3a\"],[0.8888888888888888,\"#fdca26\"],[1.0,\"#f0f921\"]]}],\"mesh3d\":[{\"type\":\"mesh3d\",\"colorbar\":{\"outlinewidth\":0,\"ticks\":\"\"}}],\"scatter\":[{\"fillpattern\":{\"fillmode\":\"overlay\",\"size\":10,\"solidity\":0.2},\"type\":\"scatter\"}],\"parcoords\":[{\"type\":\"parcoords\",\"line\":{\"colorbar\":{\"outlinewidth\":0,\"ticks\":\"\"}}}],\"scatterpolargl\":[{\"type\":\"scatterpolargl\",\"marker\":{\"colorbar\":{\"outlinewidth\":0,\"ticks\":\"\"}}}],\"bar\":[{\"error_x\":{\"color\":\"#2a3f5f\"},\"error_y\":{\"color\":\"#2a3f5f\"},\"marker\":{\"line\":{\"color\":\"#E5ECF6\",\"width\":0.5},\"pattern\":{\"fillmode\":\"overlay\",\"size\":10,\"solidity\":0.2}},\"type\":\"bar\"}],\"scattergeo\":[{\"type\":\"scattergeo\",\"marker\":{\"colorbar\":{\"outlinewidth\":0,\"ticks\":\"\"}}}],\"scatterpolar\":[{\"type\":\"scatterpolar\",\"marker\":{\"colorbar\":{\"outlinewidth\":0,\"ticks\":\"\"}}}],\"histogram\":[{\"marker\":{\"pattern\":{\"fillmode\":\"overlay\",\"size\":10,\"solidity\":0.2}},\"type\":\"histogram\"}],\"scattergl\":[{\"type\":\"scattergl\",\"marker\":{\"colorbar\":{\"outlinewidth\":0,\"ticks\":\"\"}}}],\"scatter3d\":[{\"type\":\"scatter3d\",\"line\":{\"colorbar\":{\"outlinewidth\":0,\"ticks\":\"\"}},\"marker\":{\"colorbar\":{\"outlinewidth\":0,\"ticks\":\"\"}}}],\"scattermapbox\":[{\"type\":\"scattermapbox\",\"marker\":{\"colorbar\":{\"outlinewidth\":0,\"ticks\":\"\"}}}],\"scatterternary\":[{\"type\":\"scatterternary\",\"marker\":{\"colorbar\":{\"outlinewidth\":0,\"ticks\":\"\"}}}],\"scattercarpet\":[{\"type\":\"scattercarpet\",\"marker\":{\"colorbar\":{\"outlinewidth\":0,\"ticks\":\"\"}}}],\"carpet\":[{\"aaxis\":{\"endlinecolor\":\"#2a3f5f\",\"gridcolor\":\"white\",\"linecolor\":\"white\",\"minorgridcolor\":\"white\",\"startlinecolor\":\"#2a3f5f\"},\"baxis\":{\"endlinecolor\":\"#2a3f5f\",\"gridcolor\":\"white\",\"linecolor\":\"white\",\"minorgridcolor\":\"white\",\"startlinecolor\":\"#2a3f5f\"},\"type\":\"carpet\"}],\"table\":[{\"cells\":{\"fill\":{\"color\":\"#EBF0F8\"},\"line\":{\"color\":\"white\"}},\"header\":{\"fill\":{\"color\":\"#C8D4E3\"},\"line\":{\"color\":\"white\"}},\"type\":\"table\"}],\"barpolar\":[{\"marker\":{\"line\":{\"color\":\"#E5ECF6\",\"width\":0.5},\"pattern\":{\"fillmode\":\"overlay\",\"size\":10,\"solidity\":0.2}},\"type\":\"barpolar\"}],\"pie\":[{\"automargin\":true,\"type\":\"pie\"}]},\"layout\":{\"autotypenumbers\":\"strict\",\"colorway\":[\"#636efa\",\"#EF553B\",\"#00cc96\",\"#ab63fa\",\"#FFA15A\",\"#19d3f3\",\"#FF6692\",\"#B6E880\",\"#FF97FF\",\"#FECB52\"],\"font\":{\"color\":\"#2a3f5f\"},\"hovermode\":\"closest\",\"hoverlabel\":{\"align\":\"left\"},\"paper_bgcolor\":\"white\",\"plot_bgcolor\":\"#E5ECF6\",\"polar\":{\"bgcolor\":\"#E5ECF6\",\"angularaxis\":{\"gridcolor\":\"white\",\"linecolor\":\"white\",\"ticks\":\"\"},\"radialaxis\":{\"gridcolor\":\"white\",\"linecolor\":\"white\",\"ticks\":\"\"}},\"ternary\":{\"bgcolor\":\"#E5ECF6\",\"aaxis\":{\"gridcolor\":\"white\",\"linecolor\":\"white\",\"ticks\":\"\"},\"baxis\":{\"gridcolor\":\"white\",\"linecolor\":\"white\",\"ticks\":\"\"},\"caxis\":{\"gridcolor\":\"white\",\"linecolor\":\"white\",\"ticks\":\"\"}},\"coloraxis\":{\"colorbar\":{\"outlinewidth\":0,\"ticks\":\"\"}},\"colorscale\":{\"sequential\":[[0.0,\"#0d0887\"],[0.1111111111111111,\"#46039f\"],[0.2222222222222222,\"#7201a8\"],[0.3333333333333333,\"#9c179e\"],[0.4444444444444444,\"#bd3786\"],[0.5555555555555556,\"#d8576b\"],[0.6666666666666666,\"#ed7953\"],[0.7777777777777778,\"#fb9f3a\"],[0.8888888888888888,\"#fdca26\"],[1.0,\"#f0f921\"]],\"sequentialminus\":[[0.0,\"#0d0887\"],[0.1111111111111111,\"#46039f\"],[0.2222222222222222,\"#7201a8\"],[0.3333333333333333,\"#9c179e\"],[0.4444444444444444,\"#bd3786\"],[0.5555555555555556,\"#d8576b\"],[0.6666666666666666,\"#ed7953\"],[0.7777777777777778,\"#fb9f3a\"],[0.8888888888888888,\"#fdca26\"],[1.0,\"#f0f921\"]],\"diverging\":[[0,\"#8e0152\"],[0.1,\"#c51b7d\"],[0.2,\"#de77ae\"],[0.3,\"#f1b6da\"],[0.4,\"#fde0ef\"],[0.5,\"#f7f7f7\"],[0.6,\"#e6f5d0\"],[0.7,\"#b8e186\"],[0.8,\"#7fbc41\"],[0.9,\"#4d9221\"],[1,\"#276419\"]]},\"xaxis\":{\"gridcolor\":\"white\",\"linecolor\":\"white\",\"ticks\":\"\",\"title\":{\"standoff\":15},\"zerolinecolor\":\"white\",\"automargin\":true,\"zerolinewidth\":2},\"yaxis\":{\"gridcolor\":\"white\",\"linecolor\":\"white\",\"ticks\":\"\",\"title\":{\"standoff\":15},\"zerolinecolor\":\"white\",\"automargin\":true,\"zerolinewidth\":2},\"scene\":{\"xaxis\":{\"backgroundcolor\":\"#E5ECF6\",\"gridcolor\":\"white\",\"linecolor\":\"white\",\"showbackground\":true,\"ticks\":\"\",\"zerolinecolor\":\"white\",\"gridwidth\":2},\"yaxis\":{\"backgroundcolor\":\"#E5ECF6\",\"gridcolor\":\"white\",\"linecolor\":\"white\",\"showbackground\":true,\"ticks\":\"\",\"zerolinecolor\":\"white\",\"gridwidth\":2},\"zaxis\":{\"backgroundcolor\":\"#E5ECF6\",\"gridcolor\":\"white\",\"linecolor\":\"white\",\"showbackground\":true,\"ticks\":\"\",\"zerolinecolor\":\"white\",\"gridwidth\":2}},\"shapedefaults\":{\"line\":{\"color\":\"#2a3f5f\"}},\"annotationdefaults\":{\"arrowcolor\":\"#2a3f5f\",\"arrowhead\":0,\"arrowwidth\":1},\"geo\":{\"bgcolor\":\"white\",\"landcolor\":\"#E5ECF6\",\"subunitcolor\":\"white\",\"showland\":true,\"showlakes\":true,\"lakecolor\":\"white\"},\"title\":{\"x\":0.05},\"mapbox\":{\"style\":\"light\"}}},\"xaxis\":{\"anchor\":\"y\",\"domain\":[0.0,1.0],\"title\":{\"text\":\"\\u0411\\u043e\\u043b\\u0436\\u0430\\u043d\\u0493\\u0430\\u043d \\u0431\\u0435\\u043b\\u0433\\u0456\\u043b\\u0435\\u0440\"}},\"yaxis\":{\"anchor\":\"x\",\"domain\":[0.0,1.0],\"autorange\":\"reversed\",\"title\":{\"text\":\"\\u0420\\u0430\\u0441 \\u0431\\u0435\\u043b\\u0433\\u0456\\u043b\\u0435\\u0440\"}},\"coloraxis\":{\"colorscale\":[[0.0,\"rgb(247,252,245)\"],[0.125,\"rgb(229,245,224)\"],[0.25,\"rgb(199,233,192)\"],[0.375,\"rgb(161,217,155)\"],[0.5,\"rgb(116,196,118)\"],[0.625,\"rgb(65,171,93)\"],[0.75,\"rgb(35,139,69)\"],[0.875,\"rgb(0,109,44)\"],[1.0,\"rgb(0,68,27)\"]]},\"margin\":{\"t\":60},\"title\":{\"text\":\"\\u0428\\u0443 \\u0431\\u0430\\u0440 \\u043c\\u04d9\\u043b\\u0456\\u043c\\u0435\\u0442\\u043a\\u0435 \\u0442\\u0435\\u0441\\u0442\\u0456\\u043b\\u0435\\u043d\\u0433\\u0435\\u043d \\u043e\\u043b\\u049b\\u044b\\u043b\\u044b\\u049b \\u043c\\u0430\\u0442\\u0440\\u0438\\u0446\\u0430\\u0441\\u044b\"}},                        {\"responsive\": true}                    ).then(function(){\n",
       "                            \n",
       "var gd = document.getElementById('6a169a5e-b2d6-419c-ae29-5345211de49e');\n",
       "var x = new MutationObserver(function (mutations, observer) {{\n",
       "        var display = window.getComputedStyle(gd).display;\n",
       "        if (!display || display === 'none') {{\n",
       "            console.log([gd, 'removed!']);\n",
       "            Plotly.purge(gd);\n",
       "            observer.disconnect();\n",
       "        }}\n",
       "}});\n",
       "\n",
       "// Listen for the removal of the full notebook cells\n",
       "var notebookContainer = gd.closest('#notebook-container');\n",
       "if (notebookContainer) {{\n",
       "    x.observe(notebookContainer, {childList: true});\n",
       "}}\n",
       "\n",
       "// Listen for the clearing of the current output cell\n",
       "var outputEl = gd.closest('.output');\n",
       "if (outputEl) {{\n",
       "    x.observe(outputEl, {childList: true});\n",
       "}}\n",
       "\n",
       "                        })                };                });            </script>        </div>"
      ]
     },
     "metadata": {},
     "output_type": "display_data"
    }
   ],
   "source": [
    "y_pred_noisy = best_model.predict(X_noise_test)\n",
    "y_pred_noisy_max = np.argmax(y_pred_noisy, axis=1)\n",
    "\n",
    "all_labels = list(range(16))\n",
    "\n",
    "conf_matrix_noisy = confusion_matrix(y_test, y_pred_noisy_max, labels=all_labels)\n",
    "\n",
    "\n",
    "\n",
    "\n",
    "xlabels = [f'Сөйлеуші_{i+1}' for i in range(0, 16)]\n",
    "\n",
    "fig = px.imshow(conf_matrix_noisy, x=xlabels, y=xlabels, text_auto='.d', aspect='auto', color_continuous_scale='Greens',\\\n",
    "               labels=dict(x='Болжанған белгілер', y='Рас белгілер'))\n",
    "fig.update_layout(title='Шу бар мәліметке тестіленген олқылық матрицасы')\n",
    "fig.show()"
   ]
  },
  {
   "cell_type": "code",
   "execution_count": 80,
   "id": "633a1aea-dc1a-4cdd-824e-d6fa722baa54",
   "metadata": {},
   "outputs": [
    {
     "name": "stderr",
     "output_type": "stream",
     "text": [
      "C:\\Users\\Администратор\\Desktop\\DiplomPython\\venv\\Lib\\site-packages\\sklearn\\metrics\\_classification.py:1517: UndefinedMetricWarning:\n",
      "\n",
      "Precision is ill-defined and being set to 0.0 in labels with no predicted samples. Use `zero_division` parameter to control this behavior.\n",
      "\n",
      "C:\\Users\\Администратор\\Desktop\\DiplomPython\\venv\\Lib\\site-packages\\sklearn\\metrics\\_classification.py:1517: UndefinedMetricWarning:\n",
      "\n",
      "Precision is ill-defined and being set to 0.0 in labels with no predicted samples. Use `zero_division` parameter to control this behavior.\n",
      "\n",
      "C:\\Users\\Администратор\\Desktop\\DiplomPython\\venv\\Lib\\site-packages\\sklearn\\metrics\\_classification.py:1517: UndefinedMetricWarning:\n",
      "\n",
      "Precision is ill-defined and being set to 0.0 in labels with no predicted samples. Use `zero_division` parameter to control this behavior.\n",
      "\n"
     ]
    },
    {
     "data": {
      "text/plain": [
       "<Axes: >"
      ]
     },
     "execution_count": 80,
     "metadata": {},
     "output_type": "execute_result"
    },
    {
     "data": {
      "image/png": "[encoded data removed]",
      "text/plain": [
       "<Figure size 640x480 with 2 Axes>"
      ]
     },
     "metadata": {},
     "output_type": "display_data"
    }
   ],
   "source": [
    "class_report_noisy = classification_report(y_test, y_pred_noisy_max, labels=all_labels, target_names=[f'Сөйлеуші_{i+1}' for i in all_labels], output_dict=True)\n",
    "sns.heatmap(pd.DataFrame(class_report_noisy).iloc[:-1, :].T, annot=True)"
   ]
  },
  {
   "cell_type": "code",
   "execution_count": 81,
   "id": "54800339-c3dc-46e3-9f3c-dff690226052",
   "metadata": {},
   "outputs": [
    {
     "name": "stdout",
     "output_type": "stream",
     "text": [
      "Шу бар мәліметтің орташа FAR: 0.022147147147147148\n",
      "Шу бар мәліметтің орташа FRR: 0.32291666666666663\n"
     ]
    }
   ],
   "source": [
    "FP_noise = np.sum(conf_matrix_noisy, axis=0) - np.diag(conf_matrix_noisy)\n",
    "FN_noise = np.sum(conf_matrix_noisy, axis=1) - np.diag(conf_matrix_noisy)\n",
    "TP_noise = np.diag(conf_matrix_noisy)\n",
    "TN_noise = conf_matrix_noisy.sum() - (FP_noise + FN_noise + TP_noise)\n",
    "\n",
    "FAR_noise = FP_noise / (FP_noise + TN_noise)\n",
    "FRR_noise = FN_noise / (FN_noise + TP_noise)\n",
    "\n",
    "print(f'Шу бар мәліметтің орташа FAR: {FAR_noise.mean()}')\n",
    "print(f'Шу бар мәліметтің орташа FRR: {FRR_noise.mean()}')"
   ]
  },
  {
   "cell_type": "code",
   "execution_count": 82,
   "id": "de496b58-9091-4b64-b56d-346f360d721d",
   "metadata": {},
   "outputs": [
    {
     "data": {
      "application/vnd.plotly.v1+json": {
       "config": {
        "plotlyServerURL": "https://plot.ly"
       },
       "data": [
        {
         "line": {
          "color": "#636EFA"
         },
         "mode": "lines",
         "name": "Класс 0 (AUC = 1.0000)",
         "type": "scatter",
         "x": [
          0,
          0,
          0,
          1
         ],
         "y": [
          0,
          0.5,
          1,
          1
         ]
        },
        {
         "line": {
          "color": "#EF553B"
         },
         "mode": "lines",
         "name": "Класс 1 (AUC = 0.9865)",
         "type": "scatter",
         "x": [
          0,
          0,
          0.02702702702702703,
          0.02702702702702703,
          1
         ],
         "y": [
          0,
          0.5,
          0.5,
          1,
          1
         ]
        },
        {
         "line": {
          "color": "#00CC96"
         },
         "mode": "lines",
         "name": "Класс 2 (AUC = 1.0000)",
         "type": "scatter",
         "x": [
          0,
          0,
          0,
          1
         ],
         "y": [
          0,
          0.5,
          1,
          1
         ]
        },
        {
         "line": {
          "color": "#AB63FA"
         },
         "mode": "lines",
         "name": "Класс 3 (AUC = 1.0000)",
         "type": "scatter",
         "x": [
          0,
          0,
          0,
          1
         ],
         "y": [
          0,
          0.3333333333333333,
          1,
          1
         ]
        },
        {
         "line": {
          "color": "#FFA15A"
         },
         "mode": "lines",
         "name": "Класс 4 (AUC = 0.9815)",
         "type": "scatter",
         "x": [
          0,
          0,
          0,
          0.05555555555555555,
          0.05555555555555555,
          1
         ],
         "y": [
          0,
          0.3333333333333333,
          0.6666666666666666,
          0.6666666666666666,
          1,
          1
         ]
        },
        {
         "line": {
          "color": "#19D3F3"
         },
         "mode": "lines",
         "name": "Класс 5 (AUC = 0.9730)",
         "type": "scatter",
         "x": [
          0,
          0,
          0.05405405405405406,
          0.05405405405405406,
          1
         ],
         "y": [
          0,
          0.5,
          0.5,
          1,
          1
         ]
        },
        {
         "line": {
          "color": "#FF6692"
         },
         "mode": "lines",
         "name": "Класс 6 (AUC = 0.9722)",
         "type": "scatter",
         "x": [
          0,
          0,
          0,
          0.08333333333333333,
          0.08333333333333333,
          1
         ],
         "y": [
          0,
          0.3333333333333333,
          0.6666666666666666,
          0.6666666666666666,
          1,
          1
         ]
        },
        {
         "line": {
          "color": "#B6E880"
         },
         "mode": "lines",
         "name": "Класс 7 (AUC = 0.8148)",
         "type": "scatter",
         "x": [
          0,
          0.027777777777777776,
          0.027777777777777776,
          0.16666666666666666,
          0.16666666666666666,
          0.3611111111111111,
          0.3611111111111111,
          1
         ],
         "y": [
          0,
          0,
          0.3333333333333333,
          0.3333333333333333,
          0.6666666666666666,
          0.6666666666666666,
          1,
          1
         ]
        },
        {
         "line": {
          "color": "#FF97FF"
         },
         "mode": "lines",
         "name": "Класс 8 (AUC = 1.0000)",
         "type": "scatter",
         "x": [
          0,
          0,
          0,
          1
         ],
         "y": [
          0,
          0.5,
          1,
          1
         ]
        },
        {
         "line": {
          "color": "#FECB52"
         },
         "mode": "lines",
         "name": "Класс 9 (AUC = 0.9189)",
         "type": "scatter",
         "x": [
          0,
          0.02702702702702703,
          0.02702702702702703,
          0.13513513513513514,
          0.13513513513513514,
          1
         ],
         "y": [
          0,
          0,
          0.5,
          0.5,
          1,
          1
         ]
        },
        {
         "line": {
          "color": "#636EFA"
         },
         "mode": "lines",
         "name": "Класс 10 (AUC = 0.9537)",
         "type": "scatter",
         "x": [
          0,
          0,
          0,
          0.1388888888888889,
          0.1388888888888889,
          1
         ],
         "y": [
          0,
          0.3333333333333333,
          0.6666666666666666,
          0.6666666666666666,
          1,
          1
         ]
        },
        {
         "line": {
          "color": "#EF553B"
         },
         "mode": "lines",
         "name": "Класс 11 (AUC = 0.8919)",
         "type": "scatter",
         "x": [
          0,
          0.02702702702702703,
          0.08108108108108109,
          0.08108108108108109,
          0.13513513513513514,
          0.13513513513513514,
          1
         ],
         "y": [
          0,
          0,
          0,
          0.5,
          0.5,
          1,
          1
         ]
        },
        {
         "line": {
          "color": "#00CC96"
         },
         "mode": "lines",
         "name": "Класс 12 (AUC = 1.0000)",
         "type": "scatter",
         "x": [
          0,
          0,
          0,
          1
         ],
         "y": [
          0,
          0.3333333333333333,
          1,
          1
         ]
        },
        {
         "line": {
          "color": "#AB63FA"
         },
         "mode": "lines",
         "name": "Класс 13 (AUC = 1.0000)",
         "type": "scatter",
         "x": [
          0,
          0,
          0,
          1
         ],
         "y": [
          0,
          0.5,
          1,
          1
         ]
        },
        {
         "line": {
          "color": "#FFA15A"
         },
         "mode": "lines",
         "name": "Класс 14 (AUC = 0.9459)",
         "type": "scatter",
         "x": [
          0,
          0.02702702702702703,
          0.05405405405405406,
          0.05405405405405406,
          1
         ],
         "y": [
          0,
          0,
          0,
          1,
          1
         ]
        },
        {
         "line": {
          "color": "#19D3F3"
         },
         "mode": "lines",
         "name": "Класс 15 (AUC = 1.0000)",
         "type": "scatter",
         "x": [
          0,
          0,
          0,
          1
         ],
         "y": [
          0,
          0.3333333333333333,
          1,
          1
         ]
        },
        {
         "line": {
          "color": "deeppink",
          "dash": "dot"
         },
         "mode": "lines",
         "name": "Орташа ROC (AUC = 0.9310)",
         "type": "scatter",
         "x": [
          0,
          0,
          0,
          0.0017094017094017094,
          0.0017094017094017094,
          0.003418803418803419,
          0.003418803418803419,
          0.005128205128205128,
          0.005128205128205128,
          0.013675213675213675,
          0.013675213675213675,
          0.017094017094017096,
          0.017094017094017096,
          0.020512820512820513,
          0.020512820512820513,
          0.022222222222222223,
          0.022222222222222223,
          0.023931623931623933,
          0.023931623931623933,
          0.03076923076923077,
          0.03076923076923077,
          0.035897435897435895,
          0.035897435897435895,
          0.041025641025641026,
          0.041025641025641026,
          0.042735042735042736,
          0.042735042735042736,
          0.05641025641025641,
          0.05641025641025641,
          0.05982905982905983,
          0.05982905982905983,
          0.3299145299145299,
          0.3299145299145299,
          0.4170940170940171,
          0.4170940170940171,
          0.505982905982906,
          0.505982905982906,
          0.5572649572649573,
          0.5572649572649573,
          1
         ],
         "y": [
          0,
          0.02564102564102564,
          0.07692307692307693,
          0.07692307692307693,
          0.41025641025641024,
          0.41025641025641024,
          0.5384615384615384,
          0.5384615384615384,
          0.5641025641025641,
          0.5641025641025641,
          0.5897435897435898,
          0.5897435897435898,
          0.6153846153846154,
          0.6153846153846154,
          0.6410256410256411,
          0.6410256410256411,
          0.6666666666666666,
          0.6666666666666666,
          0.6923076923076923,
          0.6923076923076923,
          0.717948717948718,
          0.717948717948718,
          0.7435897435897436,
          0.7435897435897436,
          0.7692307692307693,
          0.7692307692307693,
          0.7948717948717948,
          0.7948717948717948,
          0.8461538461538461,
          0.8461538461538461,
          0.8717948717948718,
          0.8717948717948718,
          0.8974358974358975,
          0.8974358974358975,
          0.9487179487179487,
          0.9487179487179487,
          0.9743589743589743,
          0.9743589743589743,
          1,
          1
         ]
        },
        {
         "line": {
          "color": "navy",
          "dash": "dash"
         },
         "mode": "lines",
         "name": "Кездейсоқ таңдау",
         "type": "scatter",
         "x": [
          0,
          1
         ],
         "y": [
          0,
          1
         ]
        }
       ],
       "layout": {
        "height": 600,
        "legend": {
         "x": 0.8,
         "y": 0.1
        },
        "showlegend": true,
        "template": {
         "data": {
          "bar": [
           {
            "error_x": {
             "color": "#2a3f5f"
            },
            "error_y": {
             "color": "#2a3f5f"
            },
            "marker": {
             "line": {
              "color": "#E5ECF6",
              "width": 0.5
             },
             "pattern": {
              "fillmode": "overlay",
              "size": 10,
              "solidity": 0.2
             }
            },
            "type": "bar"
           }
          ],
          "barpolar": [
           {
            "marker": {
             "line": {
              "color": "#E5ECF6",
              "width": 0.5
             },
             "pattern": {
              "fillmode": "overlay",
              "size": 10,
              "solidity": 0.2
             }
            },
            "type": "barpolar"
           }
          ],
          "carpet": [
           {
            "aaxis": {
             "endlinecolor": "#2a3f5f",
             "gridcolor": "white",
             "linecolor": "white",
             "minorgridcolor": "white",
             "startlinecolor": "#2a3f5f"
            },
            "baxis": {
             "endlinecolor": "#2a3f5f",
             "gridcolor": "white",
             "linecolor": "white",
             "minorgridcolor": "white",
             "startlinecolor": "#2a3f5f"
            },
            "type": "carpet"
           }
          ],
          "choropleth": [
           {
            "colorbar": {
             "outlinewidth": 0,
             "ticks": ""
            },
            "type": "choropleth"
           }
          ],
          "contour": [
           {
            "colorbar": {
             "outlinewidth": 0,
             "ticks": ""
            },
            "colorscale": [
             [
              0,
              "#0d0887"
             ],
             [
              0.1111111111111111,
              "#46039f"
             ],
             [
              0.2222222222222222,
              "#7201a8"
             ],
             [
              0.3333333333333333,
              "#9c179e"
             ],
             [
              0.4444444444444444,
              "#bd3786"
             ],
             [
              0.5555555555555556,
              "#d8576b"
             ],
             [
              0.6666666666666666,
              "#ed7953"
             ],
             [
              0.7777777777777778,
              "#fb9f3a"
             ],
             [
              0.8888888888888888,
              "#fdca26"
             ],
             [
              1,
              "#f0f921"
             ]
            ],
            "type": "contour"
           }
          ],
          "contourcarpet": [
           {
            "colorbar": {
             "outlinewidth": 0,
             "ticks": ""
            },
            "type": "contourcarpet"
           }
          ],
          "heatmap": [
           {
            "colorbar": {
             "outlinewidth": 0,
             "ticks": ""
            },
            "colorscale": [
             [
              0,
              "#0d0887"
             ],
             [
              0.1111111111111111,
              "#46039f"
             ],
             [
              0.2222222222222222,
              "#7201a8"
             ],
             [
              0.3333333333333333,
              "#9c179e"
             ],
             [
              0.4444444444444444,
              "#bd3786"
             ],
             [
              0.5555555555555556,
              "#d8576b"
             ],
             [
              0.6666666666666666,
              "#ed7953"
             ],
             [
              0.7777777777777778,
              "#fb9f3a"
             ],
             [
              0.8888888888888888,
              "#fdca26"
             ],
             [
              1,
              "#f0f921"
             ]
            ],
            "type": "heatmap"
           }
          ],
          "heatmapgl": [
           {
            "colorbar": {
             "outlinewidth": 0,
             "ticks": ""
            },
            "colorscale": [
             [
              0,
              "#0d0887"
             ],
             [
              0.1111111111111111,
              "#46039f"
             ],
             [
              0.2222222222222222,
              "#7201a8"
             ],
             [
              0.3333333333333333,
              "#9c179e"
             ],
             [
              0.4444444444444444,
              "#bd3786"
             ],
             [
              0.5555555555555556,
              "#d8576b"
             ],
             [
              0.6666666666666666,
              "#ed7953"
             ],
             [
              0.7777777777777778,
              "#fb9f3a"
             ],
             [
              0.8888888888888888,
              "#fdca26"
             ],
             [
              1,
              "#f0f921"
             ]
            ],
            "type": "heatmapgl"
           }
          ],
          "histogram": [
           {
            "marker": {
             "pattern": {
              "fillmode": "overlay",
              "size": 10,
              "solidity": 0.2
             }
            },
            "type": "histogram"
           }
          ],
          "histogram2d": [
           {
            "colorbar": {
             "outlinewidth": 0,
             "ticks": ""
            },
            "colorscale": [
             [
              0,
              "#0d0887"
             ],
             [
              0.1111111111111111,
              "#46039f"
             ],
             [
              0.2222222222222222,
              "#7201a8"
             ],
             [
              0.3333333333333333,
              "#9c179e"
             ],
             [
              0.4444444444444444,
              "#bd3786"
             ],
             [
              0.5555555555555556,
              "#d8576b"
             ],
             [
              0.6666666666666666,
              "#ed7953"
             ],
             [
              0.7777777777777778,
              "#fb9f3a"
             ],
             [
              0.8888888888888888,
              "#fdca26"
             ],
             [
              1,
              "#f0f921"
             ]
            ],
            "type": "histogram2d"
           }
          ],
          "histogram2dcontour": [
           {
            "colorbar": {
             "outlinewidth": 0,
             "ticks": ""
            },
            "colorscale": [
             [
              0,
              "#0d0887"
             ],
             [
              0.1111111111111111,
              "#46039f"
             ],
             [
              0.2222222222222222,
              "#7201a8"
             ],
             [
              0.3333333333333333,
              "#9c179e"
             ],
             [
              0.4444444444444444,
              "#bd3786"
             ],
             [
              0.5555555555555556,
              "#d8576b"
             ],
             [
              0.6666666666666666,
              "#ed7953"
             ],
             [
              0.7777777777777778,
              "#fb9f3a"
             ],
             [
              0.8888888888888888,
              "#fdca26"
             ],
             [
              1,
              "#f0f921"
             ]
            ],
            "type": "histogram2dcontour"
           }
          ],
          "mesh3d": [
           {
            "colorbar": {
             "outlinewidth": 0,
             "ticks": ""
            },
            "type": "mesh3d"
           }
          ],
          "parcoords": [
           {
            "line": {
             "colorbar": {
              "outlinewidth": 0,
              "ticks": ""
             }
            },
            "type": "parcoords"
           }
          ],
          "pie": [
           {
            "automargin": true,
            "type": "pie"
           }
          ],
          "scatter": [
           {
            "fillpattern": {
             "fillmode": "overlay",
             "size": 10,
             "solidity": 0.2
            },
            "type": "scatter"
           }
          ],
          "scatter3d": [
           {
            "line": {
             "colorbar": {
              "outlinewidth": 0,
              "ticks": ""
             }
            },
            "marker": {
             "colorbar": {
              "outlinewidth": 0,
              "ticks": ""
             }
            },
            "type": "scatter3d"
           }
          ],
          "scattercarpet": [
           {
            "marker": {
             "colorbar": {
              "outlinewidth": 0,
              "ticks": ""
             }
            },
            "type": "scattercarpet"
           }
          ],
          "scattergeo": [
           {
            "marker": {
             "colorbar": {
              "outlinewidth": 0,
              "ticks": ""
             }
            },
            "type": "scattergeo"
           }
          ],
          "scattergl": [
           {
            "marker": {
             "colorbar": {
              "outlinewidth": 0,
              "ticks": ""
             }
            },
            "type": "scattergl"
           }
          ],
          "scattermapbox": [
           {
            "marker": {
             "colorbar": {
              "outlinewidth": 0,
              "ticks": ""
             }
            },
            "type": "scattermapbox"
           }
          ],
          "scatterpolar": [
           {
            "marker": {
             "colorbar": {
              "outlinewidth": 0,
              "ticks": ""
             }
            },
            "type": "scatterpolar"
           }
          ],
          "scatterpolargl": [
           {
            "marker": {
             "colorbar": {
              "outlinewidth": 0,
              "ticks": ""
             }
            },
            "type": "scatterpolargl"
           }
          ],
          "scatterternary": [
           {
            "marker": {
             "colorbar": {
              "outlinewidth": 0,
              "ticks": ""
             }
            },
            "type": "scatterternary"
           }
          ],
          "surface": [
           {
            "colorbar": {
             "outlinewidth": 0,
             "ticks": ""
            },
            "colorscale": [
             [
              0,
              "#0d0887"
             ],
             [
              0.1111111111111111,
              "#46039f"
             ],
             [
              0.2222222222222222,
              "#7201a8"
             ],
             [
              0.3333333333333333,
              "#9c179e"
             ],
             [
              0.4444444444444444,
              "#bd3786"
             ],
             [
              0.5555555555555556,
              "#d8576b"
             ],
             [
              0.6666666666666666,
              "#ed7953"
             ],
             [
              0.7777777777777778,
              "#fb9f3a"
             ],
             [
              0.8888888888888888,
              "#fdca26"
             ],
             [
              1,
              "#f0f921"
             ]
            ],
            "type": "surface"
           }
          ],
          "table": [
           {
            "cells": {
             "fill": {
              "color": "#EBF0F8"
             },
             "line": {
              "color": "white"
             }
            },
            "header": {
             "fill": {
              "color": "#C8D4E3"
             },
             "line": {
              "color": "white"
             }
            },
            "type": "table"
           }
          ]
         },
         "layout": {
          "annotationdefaults": {
           "arrowcolor": "#2a3f5f",
           "arrowhead": 0,
           "arrowwidth": 1
          },
          "autotypenumbers": "strict",
          "coloraxis": {
           "colorbar": {
            "outlinewidth": 0,
            "ticks": ""
           }
          },
          "colorscale": {
           "diverging": [
            [
             0,
             "#8e0152"
            ],
            [
             0.1,
             "#c51b7d"
            ],
            [
             0.2,
             "#de77ae"
            ],
            [
             0.3,
             "#f1b6da"
            ],
            [
             0.4,
             "#fde0ef"
            ],
            [
             0.5,
             "#f7f7f7"
            ],
            [
             0.6,
             "#e6f5d0"
            ],
            [
             0.7,
             "#b8e186"
            ],
            [
             0.8,
             "#7fbc41"
            ],
            [
             0.9,
             "#4d9221"
            ],
            [
             1,
             "#276419"
            ]
           ],
           "sequential": [
            [
             0,
             "#0d0887"
            ],
            [
             0.1111111111111111,
             "#46039f"
            ],
            [
             0.2222222222222222,
             "#7201a8"
            ],
            [
             0.3333333333333333,
             "#9c179e"
            ],
            [
             0.4444444444444444,
             "#bd3786"
            ],
            [
             0.5555555555555556,
             "#d8576b"
            ],
            [
             0.6666666666666666,
             "#ed7953"
            ],
            [
             0.7777777777777778,
             "#fb9f3a"
            ],
            [
             0.8888888888888888,
             "#fdca26"
            ],
            [
             1,
             "#f0f921"
            ]
           ],
           "sequentialminus": [
            [
             0,
             "#0d0887"
            ],
            [
             0.1111111111111111,
             "#46039f"
            ],
            [
             0.2222222222222222,
             "#7201a8"
            ],
            [
             0.3333333333333333,
             "#9c179e"
            ],
            [
             0.4444444444444444,
             "#bd3786"
            ],
            [
             0.5555555555555556,
             "#d8576b"
            ],
            [
             0.6666666666666666,
             "#ed7953"
            ],
            [
             0.7777777777777778,
             "#fb9f3a"
            ],
            [
             0.8888888888888888,
             "#fdca26"
            ],
            [
             1,
             "#f0f921"
            ]
           ]
          },
          "colorway": [
           "#636efa",
           "#EF553B",
           "#00cc96",
           "#ab63fa",
           "#FFA15A",
           "#19d3f3",
           "#FF6692",
           "#B6E880",
           "#FF97FF",
           "#FECB52"
          ],
          "font": {
           "color": "#2a3f5f"
          },
          "geo": {
           "bgcolor": "white",
           "lakecolor": "white",
           "landcolor": "#E5ECF6",
           "showlakes": true,
           "showland": true,
           "subunitcolor": "white"
          },
          "hoverlabel": {
           "align": "left"
          },
          "hovermode": "closest",
          "mapbox": {
           "style": "light"
          },
          "paper_bgcolor": "white",
          "plot_bgcolor": "#E5ECF6",
          "polar": {
           "angularaxis": {
            "gridcolor": "white",
            "linecolor": "white",
            "ticks": ""
           },
           "bgcolor": "#E5ECF6",
           "radialaxis": {
            "gridcolor": "white",
            "linecolor": "white",
            "ticks": ""
           }
          },
          "scene": {
           "xaxis": {
            "backgroundcolor": "#E5ECF6",
            "gridcolor": "white",
            "gridwidth": 2,
            "linecolor": "white",
            "showbackground": true,
            "ticks": "",
            "zerolinecolor": "white"
           },
           "yaxis": {
            "backgroundcolor": "#E5ECF6",
            "gridcolor": "white",
            "gridwidth": 2,
            "linecolor": "white",
            "showbackground": true,
            "ticks": "",
            "zerolinecolor": "white"
           },
           "zaxis": {
            "backgroundcolor": "#E5ECF6",
            "gridcolor": "white",
            "gridwidth": 2,
            "linecolor": "white",
            "showbackground": true,
            "ticks": "",
            "zerolinecolor": "white"
           }
          },
          "shapedefaults": {
           "line": {
            "color": "#2a3f5f"
           }
          },
          "ternary": {
           "aaxis": {
            "gridcolor": "white",
            "linecolor": "white",
            "ticks": ""
           },
           "baxis": {
            "gridcolor": "white",
            "linecolor": "white",
            "ticks": ""
           },
           "bgcolor": "#E5ECF6",
           "caxis": {
            "gridcolor": "white",
            "linecolor": "white",
            "ticks": ""
           }
          },
          "title": {
           "x": 0.05
          },
          "xaxis": {
           "automargin": true,
           "gridcolor": "white",
           "linecolor": "white",
           "ticks": "",
           "title": {
            "standoff": 15
           },
           "zerolinecolor": "white",
           "zerolinewidth": 2
          },
          "yaxis": {
           "automargin": true,
           "gridcolor": "white",
           "linecolor": "white",
           "ticks": "",
           "title": {
            "standoff": 15
           },
           "zerolinecolor": "white",
           "zerolinewidth": 2
          }
         }
        },
        "title": {
         "text": "ROC қисығы, шу бар кезде (SNR=24.49808223579158)"
        },
        "width": 1100,
        "xaxis": {
         "autorange": true,
         "range": [
          0,
          1
         ],
         "title": {
          "text": "Жалған ақиқат үлесі"
         },
         "type": "linear"
        },
        "yaxis": {
         "autorange": true,
         "range": [
          -0.05555555555555555,
          1.0555555555555556
         ],
         "title": {
          "text": "Рас ақиқат үлесі"
         },
         "type": "linear"
        }
       }
      },
      "image/png": "[encoded data removed]",
      "text/html": [
       "<div>                            <div id=\"28cab9db-cb4d-4286-9f22-64a92c5274a6\" class=\"plotly-graph-div\" style=\"height:600px; width:1100px;\"></div>            <script type=\"text/javascript\">                require([\"plotly\"], function(Plotly) {                    window.PLOTLYENV=window.PLOTLYENV || {};                                    if (document.getElementById(\"28cab9db-cb4d-4286-9f22-64a92c5274a6\")) {                    Plotly.newPlot(                        \"28cab9db-cb4d-4286-9f22-64a92c5274a6\",                        [{\"line\":{\"color\":\"#636EFA\"},\"mode\":\"lines\",\"name\":\"\\u041a\\u043b\\u0430\\u0441\\u0441 0 (AUC = 1.0000)\",\"x\":[0.0,0.0,0.0,1.0],\"y\":[0.0,0.5,1.0,1.0],\"type\":\"scatter\"},{\"line\":{\"color\":\"#EF553B\"},\"mode\":\"lines\",\"name\":\"\\u041a\\u043b\\u0430\\u0441\\u0441 1 (AUC = 0.9865)\",\"x\":[0.0,0.0,0.02702702702702703,0.02702702702702703,1.0],\"y\":[0.0,0.5,0.5,1.0,1.0],\"type\":\"scatter\"},{\"line\":{\"color\":\"#00CC96\"},\"mode\":\"lines\",\"name\":\"\\u041a\\u043b\\u0430\\u0441\\u0441 2 (AUC = 1.0000)\",\"x\":[0.0,0.0,0.0,1.0],\"y\":[0.0,0.5,1.0,1.0],\"type\":\"scatter\"},{\"line\":{\"color\":\"#AB63FA\"},\"mode\":\"lines\",\"name\":\"\\u041a\\u043b\\u0430\\u0441\\u0441 3 (AUC = 1.0000)\",\"x\":[0.0,0.0,0.0,1.0],\"y\":[0.0,0.3333333333333333,1.0,1.0],\"type\":\"scatter\"},{\"line\":{\"color\":\"#FFA15A\"},\"mode\":\"lines\",\"name\":\"\\u041a\\u043b\\u0430\\u0441\\u0441 4 (AUC = 0.9815)\",\"x\":[0.0,0.0,0.0,0.05555555555555555,0.05555555555555555,1.0],\"y\":[0.0,0.3333333333333333,0.6666666666666666,0.6666666666666666,1.0,1.0],\"type\":\"scatter\"},{\"line\":{\"color\":\"#19D3F3\"},\"mode\":\"lines\",\"name\":\"\\u041a\\u043b\\u0430\\u0441\\u0441 5 (AUC = 0.9730)\",\"x\":[0.0,0.0,0.05405405405405406,0.05405405405405406,1.0],\"y\":[0.0,0.5,0.5,1.0,1.0],\"type\":\"scatter\"},{\"line\":{\"color\":\"#FF6692\"},\"mode\":\"lines\",\"name\":\"\\u041a\\u043b\\u0430\\u0441\\u0441 6 (AUC = 0.9722)\",\"x\":[0.0,0.0,0.0,0.08333333333333333,0.08333333333333333,1.0],\"y\":[0.0,0.3333333333333333,0.6666666666666666,0.6666666666666666,1.0,1.0],\"type\":\"scatter\"},{\"line\":{\"color\":\"#B6E880\"},\"mode\":\"lines\",\"name\":\"\\u041a\\u043b\\u0430\\u0441\\u0441 7 (AUC = 0.8148)\",\"x\":[0.0,0.027777777777777776,0.027777777777777776,0.16666666666666666,0.16666666666666666,0.3611111111111111,0.3611111111111111,1.0],\"y\":[0.0,0.0,0.3333333333333333,0.3333333333333333,0.6666666666666666,0.6666666666666666,1.0,1.0],\"type\":\"scatter\"},{\"line\":{\"color\":\"#FF97FF\"},\"mode\":\"lines\",\"name\":\"\\u041a\\u043b\\u0430\\u0441\\u0441 8 (AUC = 1.0000)\",\"x\":[0.0,0.0,0.0,1.0],\"y\":[0.0,0.5,1.0,1.0],\"type\":\"scatter\"},{\"line\":{\"color\":\"#FECB52\"},\"mode\":\"lines\",\"name\":\"\\u041a\\u043b\\u0430\\u0441\\u0441 9 (AUC = 0.9189)\",\"x\":[0.0,0.02702702702702703,0.02702702702702703,0.13513513513513514,0.13513513513513514,1.0],\"y\":[0.0,0.0,0.5,0.5,1.0,1.0],\"type\":\"scatter\"},{\"line\":{\"color\":\"#636EFA\"},\"mode\":\"lines\",\"name\":\"\\u041a\\u043b\\u0430\\u0441\\u0441 10 (AUC = 0.9537)\",\"x\":[0.0,0.0,0.0,0.1388888888888889,0.1388888888888889,1.0],\"y\":[0.0,0.3333333333333333,0.6666666666666666,0.6666666666666666,1.0,1.0],\"type\":\"scatter\"},{\"line\":{\"color\":\"#EF553B\"},\"mode\":\"lines\",\"name\":\"\\u041a\\u043b\\u0430\\u0441\\u0441 11 (AUC = 0.8919)\",\"x\":[0.0,0.02702702702702703,0.08108108108108109,0.08108108108108109,0.13513513513513514,0.13513513513513514,1.0],\"y\":[0.0,0.0,0.0,0.5,0.5,1.0,1.0],\"type\":\"scatter\"},{\"line\":{\"color\":\"#00CC96\"},\"mode\":\"lines\",\"name\":\"\\u041a\\u043b\\u0430\\u0441\\u0441 12 (AUC = 1.0000)\",\"x\":[0.0,0.0,0.0,1.0],\"y\":[0.0,0.3333333333333333,1.0,1.0],\"type\":\"scatter\"},{\"line\":{\"color\":\"#AB63FA\"},\"mode\":\"lines\",\"name\":\"\\u041a\\u043b\\u0430\\u0441\\u0441 13 (AUC = 1.0000)\",\"x\":[0.0,0.0,0.0,1.0],\"y\":[0.0,0.5,1.0,1.0],\"type\":\"scatter\"},{\"line\":{\"color\":\"#FFA15A\"},\"mode\":\"lines\",\"name\":\"\\u041a\\u043b\\u0430\\u0441\\u0441 14 (AUC = 0.9459)\",\"x\":[0.0,0.02702702702702703,0.05405405405405406,0.05405405405405406,1.0],\"y\":[0.0,0.0,0.0,1.0,1.0],\"type\":\"scatter\"},{\"line\":{\"color\":\"#19D3F3\"},\"mode\":\"lines\",\"name\":\"\\u041a\\u043b\\u0430\\u0441\\u0441 15 (AUC = 1.0000)\",\"x\":[0.0,0.0,0.0,1.0],\"y\":[0.0,0.3333333333333333,1.0,1.0],\"type\":\"scatter\"},{\"line\":{\"color\":\"deeppink\",\"dash\":\"dot\"},\"mode\":\"lines\",\"name\":\"\\u041e\\u0440\\u0442\\u0430\\u0448\\u0430 ROC (AUC = 0.9310)\",\"x\":[0.0,0.0,0.0,0.0017094017094017094,0.0017094017094017094,0.003418803418803419,0.003418803418803419,0.005128205128205128,0.005128205128205128,0.013675213675213675,0.013675213675213675,0.017094017094017096,0.017094017094017096,0.020512820512820513,0.020512820512820513,0.022222222222222223,0.022222222222222223,0.023931623931623933,0.023931623931623933,0.03076923076923077,0.03076923076923077,0.035897435897435895,0.035897435897435895,0.041025641025641026,0.041025641025641026,0.042735042735042736,0.042735042735042736,0.05641025641025641,0.05641025641025641,0.05982905982905983,0.05982905982905983,0.3299145299145299,0.3299145299145299,0.4170940170940171,0.4170940170940171,0.505982905982906,0.505982905982906,0.5572649572649573,0.5572649572649573,1.0],\"y\":[0.0,0.02564102564102564,0.07692307692307693,0.07692307692307693,0.41025641025641024,0.41025641025641024,0.5384615384615384,0.5384615384615384,0.5641025641025641,0.5641025641025641,0.5897435897435898,0.5897435897435898,0.6153846153846154,0.6153846153846154,0.6410256410256411,0.6410256410256411,0.6666666666666666,0.6666666666666666,0.6923076923076923,0.6923076923076923,0.717948717948718,0.717948717948718,0.7435897435897436,0.7435897435897436,0.7692307692307693,0.7692307692307693,0.7948717948717948,0.7948717948717948,0.8461538461538461,0.8461538461538461,0.8717948717948718,0.8717948717948718,0.8974358974358975,0.8974358974358975,0.9487179487179487,0.9487179487179487,0.9743589743589743,0.9743589743589743,1.0,1.0],\"type\":\"scatter\"},{\"line\":{\"color\":\"navy\",\"dash\":\"dash\"},\"mode\":\"lines\",\"name\":\"\\u041a\\u0435\\u0437\\u0434\\u0435\\u0439\\u0441\\u043e\\u049b \\u0442\\u0430\\u04a3\\u0434\\u0430\\u0443\",\"x\":[0,1],\"y\":[0,1],\"type\":\"scatter\"}],                        {\"template\":{\"data\":{\"histogram2dcontour\":[{\"type\":\"histogram2dcontour\",\"colorbar\":{\"outlinewidth\":0,\"ticks\":\"\"},\"colorscale\":[[0.0,\"#0d0887\"],[0.1111111111111111,\"#46039f\"],[0.2222222222222222,\"#7201a8\"],[0.3333333333333333,\"#9c179e\"],[0.4444444444444444,\"#bd3786\"],[0.5555555555555556,\"#d8576b\"],[0.6666666666666666,\"#ed7953\"],[0.7777777777777778,\"#fb9f3a\"],[0.8888888888888888,\"#fdca26\"],[1.0,\"#f0f921\"]]}],\"choropleth\":[{\"type\":\"choropleth\",\"colorbar\":{\"outlinewidth\":0,\"ticks\":\"\"}}],\"histogram2d\":[{\"type\":\"histogram2d\",\"colorbar\":{\"outlinewidth\":0,\"ticks\":\"\"},\"colorscale\":[[0.0,\"#0d0887\"],[0.1111111111111111,\"#46039f\"],[0.2222222222222222,\"#7201a8\"],[0.3333333333333333,\"#9c179e\"],[0.4444444444444444,\"#bd3786\"],[0.5555555555555556,\"#d8576b\"],[0.6666666666666666,\"#ed7953\"],[0.7777777777777778,\"#fb9f3a\"],[0.8888888888888888,\"#fdca26\"],[1.0,\"#f0f921\"]]}],\"heatmap\":[{\"type\":\"heatmap\",\"colorbar\":{\"outlinewidth\":0,\"ticks\":\"\"},\"colorscale\":[[0.0,\"#0d0887\"],[0.1111111111111111,\"#46039f\"],[0.2222222222222222,\"#7201a8\"],[0.3333333333333333,\"#9c179e\"],[0.4444444444444444,\"#bd3786\"],[0.5555555555555556,\"#d8576b\"],[0.6666666666666666,\"#ed7953\"],[0.7777777777777778,\"#fb9f3a\"],[0.8888888888888888,\"#fdca26\"],[1.0,\"#f0f921\"]]}],\"heatmapgl\":[{\"type\":\"heatmapgl\",\"colorbar\":{\"outlinewidth\":0,\"ticks\":\"\"},\"colorscale\":[[0.0,\"#0d0887\"],[0.1111111111111111,\"#46039f\"],[0.2222222222222222,\"#7201a8\"],[0.3333333333333333,\"#9c179e\"],[0.4444444444444444,\"#bd3786\"],[0.5555555555555556,\"#d8576b\"],[0.6666666666666666,\"#ed7953\"],[0.7777777777777778,\"#fb9f3a\"],[0.8888888888888888,\"#fdca26\"],[1.0,\"#f0f921\"]]}],\"contourcarpet\":[{\"type\":\"contourcarpet\",\"colorbar\":{\"outlinewidth\":0,\"ticks\":\"\"}}],\"contour\":[{\"type\":\"contour\",\"colorbar\":{\"outlinewidth\":0,\"ticks\":\"\"},\"colorscale\":[[0.0,\"#0d0887\"],[0.1111111111111111,\"#46039f\"],[0.2222222222222222,\"#7201a8\"],[0.3333333333333333,\"#9c179e\"],[0.4444444444444444,\"#bd3786\"],[0.5555555555555556,\"#d8576b\"],[0.6666666666666666,\"#ed7953\"],[0.7777777777777778,\"#fb9f3a\"],[0.8888888888888888,\"#fdca26\"],[1.0,\"#f0f921\"]]}],\"surface\":[{\"type\":\"surface\",\"colorbar\":{\"outlinewidth\":0,\"ticks\":\"\"},\"colorscale\":[[0.0,\"#0d0887\"],[0.1111111111111111,\"#46039f\"],[0.2222222222222222,\"#7201a8\"],[0.3333333333333333,\"#9c179e\"],[0.4444444444444444,\"#bd3786\"],[0.5555555555555556,\"#d8576b\"],[0.6666666666666666,\"#ed7953\"],[0.7777777777777778,\"#fb9f3a\"],[0.8888888888888888,\"#fdca26\"],[1.0,\"#f0f921\"]]}],\"mesh3d\":[{\"type\":\"mesh3d\",\"colorbar\":{\"outlinewidth\":0,\"ticks\":\"\"}}],\"scatter\":[{\"fillpattern\":{\"fillmode\":\"overlay\",\"size\":10,\"solidity\":0.2},\"type\":\"scatter\"}],\"parcoords\":[{\"type\":\"parcoords\",\"line\":{\"colorbar\":{\"outlinewidth\":0,\"ticks\":\"\"}}}],\"scatterpolargl\":[{\"type\":\"scatterpolargl\",\"marker\":{\"colorbar\":{\"outlinewidth\":0,\"ticks\":\"\"}}}],\"bar\":[{\"error_x\":{\"color\":\"#2a3f5f\"},\"error_y\":{\"color\":\"#2a3f5f\"},\"marker\":{\"line\":{\"color\":\"#E5ECF6\",\"width\":0.5},\"pattern\":{\"fillmode\":\"overlay\",\"size\":10,\"solidity\":0.2}},\"type\":\"bar\"}],\"scattergeo\":[{\"type\":\"scattergeo\",\"marker\":{\"colorbar\":{\"outlinewidth\":0,\"ticks\":\"\"}}}],\"scatterpolar\":[{\"type\":\"scatterpolar\",\"marker\":{\"colorbar\":{\"outlinewidth\":0,\"ticks\":\"\"}}}],\"histogram\":[{\"marker\":{\"pattern\":{\"fillmode\":\"overlay\",\"size\":10,\"solidity\":0.2}},\"type\":\"histogram\"}],\"scattergl\":[{\"type\":\"scattergl\",\"marker\":{\"colorbar\":{\"outlinewidth\":0,\"ticks\":\"\"}}}],\"scatter3d\":[{\"type\":\"scatter3d\",\"line\":{\"colorbar\":{\"outlinewidth\":0,\"ticks\":\"\"}},\"marker\":{\"colorbar\":{\"outlinewidth\":0,\"ticks\":\"\"}}}],\"scattermapbox\":[{\"type\":\"scattermapbox\",\"marker\":{\"colorbar\":{\"outlinewidth\":0,\"ticks\":\"\"}}}],\"scatterternary\":[{\"type\":\"scatterternary\",\"marker\":{\"colorbar\":{\"outlinewidth\":0,\"ticks\":\"\"}}}],\"scattercarpet\":[{\"type\":\"scattercarpet\",\"marker\":{\"colorbar\":{\"outlinewidth\":0,\"ticks\":\"\"}}}],\"carpet\":[{\"aaxis\":{\"endlinecolor\":\"#2a3f5f\",\"gridcolor\":\"white\",\"linecolor\":\"white\",\"minorgridcolor\":\"white\",\"startlinecolor\":\"#2a3f5f\"},\"baxis\":{\"endlinecolor\":\"#2a3f5f\",\"gridcolor\":\"white\",\"linecolor\":\"white\",\"minorgridcolor\":\"white\",\"startlinecolor\":\"#2a3f5f\"},\"type\":\"carpet\"}],\"table\":[{\"cells\":{\"fill\":{\"color\":\"#EBF0F8\"},\"line\":{\"color\":\"white\"}},\"header\":{\"fill\":{\"color\":\"#C8D4E3\"},\"line\":{\"color\":\"white\"}},\"type\":\"table\"}],\"barpolar\":[{\"marker\":{\"line\":{\"color\":\"#E5ECF6\",\"width\":0.5},\"pattern\":{\"fillmode\":\"overlay\",\"size\":10,\"solidity\":0.2}},\"type\":\"barpolar\"}],\"pie\":[{\"automargin\":true,\"type\":\"pie\"}]},\"layout\":{\"autotypenumbers\":\"strict\",\"colorway\":[\"#636efa\",\"#EF553B\",\"#00cc96\",\"#ab63fa\",\"#FFA15A\",\"#19d3f3\",\"#FF6692\",\"#B6E880\",\"#FF97FF\",\"#FECB52\"],\"font\":{\"color\":\"#2a3f5f\"},\"hovermode\":\"closest\",\"hoverlabel\":{\"align\":\"left\"},\"paper_bgcolor\":\"white\",\"plot_bgcolor\":\"#E5ECF6\",\"polar\":{\"bgcolor\":\"#E5ECF6\",\"angularaxis\":{\"gridcolor\":\"white\",\"linecolor\":\"white\",\"ticks\":\"\"},\"radialaxis\":{\"gridcolor\":\"white\",\"linecolor\":\"white\",\"ticks\":\"\"}},\"ternary\":{\"bgcolor\":\"#E5ECF6\",\"aaxis\":{\"gridcolor\":\"white\",\"linecolor\":\"white\",\"ticks\":\"\"},\"baxis\":{\"gridcolor\":\"white\",\"linecolor\":\"white\",\"ticks\":\"\"},\"caxis\":{\"gridcolor\":\"white\",\"linecolor\":\"white\",\"ticks\":\"\"}},\"coloraxis\":{\"colorbar\":{\"outlinewidth\":0,\"ticks\":\"\"}},\"colorscale\":{\"sequential\":[[0.0,\"#0d0887\"],[0.1111111111111111,\"#46039f\"],[0.2222222222222222,\"#7201a8\"],[0.3333333333333333,\"#9c179e\"],[0.4444444444444444,\"#bd3786\"],[0.5555555555555556,\"#d8576b\"],[0.6666666666666666,\"#ed7953\"],[0.7777777777777778,\"#fb9f3a\"],[0.8888888888888888,\"#fdca26\"],[1.0,\"#f0f921\"]],\"sequentialminus\":[[0.0,\"#0d0887\"],[0.1111111111111111,\"#46039f\"],[0.2222222222222222,\"#7201a8\"],[0.3333333333333333,\"#9c179e\"],[0.4444444444444444,\"#bd3786\"],[0.5555555555555556,\"#d8576b\"],[0.6666666666666666,\"#ed7953\"],[0.7777777777777778,\"#fb9f3a\"],[0.8888888888888888,\"#fdca26\"],[1.0,\"#f0f921\"]],\"diverging\":[[0,\"#8e0152\"],[0.1,\"#c51b7d\"],[0.2,\"#de77ae\"],[0.3,\"#f1b6da\"],[0.4,\"#fde0ef\"],[0.5,\"#f7f7f7\"],[0.6,\"#e6f5d0\"],[0.7,\"#b8e186\"],[0.8,\"#7fbc41\"],[0.9,\"#4d9221\"],[1,\"#276419\"]]},\"xaxis\":{\"gridcolor\":\"white\",\"linecolor\":\"white\",\"ticks\":\"\",\"title\":{\"standoff\":15},\"zerolinecolor\":\"white\",\"automargin\":true,\"zerolinewidth\":2},\"yaxis\":{\"gridcolor\":\"white\",\"linecolor\":\"white\",\"ticks\":\"\",\"title\":{\"standoff\":15},\"zerolinecolor\":\"white\",\"automargin\":true,\"zerolinewidth\":2},\"scene\":{\"xaxis\":{\"backgroundcolor\":\"#E5ECF6\",\"gridcolor\":\"white\",\"linecolor\":\"white\",\"showbackground\":true,\"ticks\":\"\",\"zerolinecolor\":\"white\",\"gridwidth\":2},\"yaxis\":{\"backgroundcolor\":\"#E5ECF6\",\"gridcolor\":\"white\",\"linecolor\":\"white\",\"showbackground\":true,\"ticks\":\"\",\"zerolinecolor\":\"white\",\"gridwidth\":2},\"zaxis\":{\"backgroundcolor\":\"#E5ECF6\",\"gridcolor\":\"white\",\"linecolor\":\"white\",\"showbackground\":true,\"ticks\":\"\",\"zerolinecolor\":\"white\",\"gridwidth\":2}},\"shapedefaults\":{\"line\":{\"color\":\"#2a3f5f\"}},\"annotationdefaults\":{\"arrowcolor\":\"#2a3f5f\",\"arrowhead\":0,\"arrowwidth\":1},\"geo\":{\"bgcolor\":\"white\",\"landcolor\":\"#E5ECF6\",\"subunitcolor\":\"white\",\"showland\":true,\"showlakes\":true,\"lakecolor\":\"white\"},\"title\":{\"x\":0.05},\"mapbox\":{\"style\":\"light\"}}},\"legend\":{\"x\":0.8,\"y\":0.1},\"title\":{\"text\":\"ROC \\u049b\\u0438\\u0441\\u044b\\u0493\\u044b, \\u0448\\u0443 \\u0431\\u0430\\u0440 \\u043a\\u0435\\u0437\\u0434\\u0435 (SNR=24.49808223579158)\"},\"xaxis\":{\"title\":{\"text\":\"\\u0416\\u0430\\u043b\\u0493\\u0430\\u043d \\u0430\\u049b\\u0438\\u049b\\u0430\\u0442 \\u04af\\u043b\\u0435\\u0441\\u0456\"}},\"yaxis\":{\"title\":{\"text\":\"\\u0420\\u0430\\u0441 \\u0430\\u049b\\u0438\\u049b\\u0430\\u0442 \\u04af\\u043b\\u0435\\u0441\\u0456\"}},\"showlegend\":true,\"width\":1100,\"height\":600},                        {\"responsive\": true}                    ).then(function(){\n",
       "                            \n",
       "var gd = document.getElementById('28cab9db-cb4d-4286-9f22-64a92c5274a6');\n",
       "var x = new MutationObserver(function (mutations, observer) {{\n",
       "        var display = window.getComputedStyle(gd).display;\n",
       "        if (!display || display === 'none') {{\n",
       "            console.log([gd, 'removed!']);\n",
       "            Plotly.purge(gd);\n",
       "            observer.disconnect();\n",
       "        }}\n",
       "}});\n",
       "\n",
       "// Listen for the removal of the full notebook cells\n",
       "var notebookContainer = gd.closest('#notebook-container');\n",
       "if (notebookContainer) {{\n",
       "    x.observe(notebookContainer, {childList: true});\n",
       "}}\n",
       "\n",
       "// Listen for the clearing of the current output cell\n",
       "var outputEl = gd.closest('.output');\n",
       "if (outputEl) {{\n",
       "    x.observe(outputEl, {childList: true});\n",
       "}}\n",
       "\n",
       "                        })                };                });            </script>        </div>"
      ]
     },
     "metadata": {},
     "output_type": "display_data"
    }
   ],
   "source": [
    "\n",
    "fpr = dict()\n",
    "tpr = dict()\n",
    "roc_auc = dict()\n",
    "for i in range(16):\n",
    "    fpr[i], tpr[i], _ = roc_curve(y_test_one_hot[:, i], y_pred_noisy[:, i])\n",
    "    roc_auc[i] = auc(fpr[i], tpr[i])\n",
    "\n",
    "fpr[\"micro\"], tpr[\"micro\"], _ = roc_curve(y_test_one_hot.ravel(), y_pred_noisy.ravel())\n",
    "roc_auc[\"micro\"] = auc(fpr[\"micro\"], tpr[\"micro\"])\n",
    "\n",
    "fig = go.Figure()\n",
    "colors = px.colors.qualitative.Plotly\n",
    "for i in range(16):\n",
    "    fig.add_trace(go.Scatter(x=fpr[i], y=tpr[i], mode='lines', name=f'Класс {i+1} (AUC = {roc_auc[i]:.4f})', line=dict(color=colors[i % len(colors)])))\n",
    "fig.add_trace(go.Scatter(x=fpr[\"micro\"], y=tpr[\"micro\"], mode='lines', name=f'Орташа ROC (AUC = {roc_auc[\"micro\"]:.4f})', line=dict(color='deeppink', dash='dot')))\n",
    "fig.add_trace(go.Scatter(x=[0, 1], y=[0, 1], mode='lines', name='Кездейсоқ таңдау', line=dict(color='navy', dash='dash')))\n",
    "fig.update_layout(\n",
    "    title=f'ROC қисығы, шу бар кезде (SNR={SNR})',\n",
    "    xaxis_title='Жалған ақиқат үлесі',\n",
    "    yaxis_title='Рас ақиқат үлесі',\n",
    "    showlegend=True,\n",
    "    legend=dict(x=0.8, y=0.1),\n",
    "    width=1100,\n",
    "    height=600\n",
    ")\n",
    "fig.show()"
   ]
  },
  {
   "cell_type": "code",
   "execution_count": 57,
   "id": "6a2c0d9b-fbed-4e6c-84a3-a5d7e27dcf85",
   "metadata": {},
   "outputs": [
    {
     "data": {
      "text/plain": [
       "['scaler.pkl']"
      ]
     },
     "execution_count": 57,
     "metadata": {},
     "output_type": "execute_result"
    }
   ],
   "source": [
    "best_model.save('Soileushi_model_CNN.keras')\n",
    "\n",
    "import joblib\n",
    "joblib.dump(scaler, 'scaler.pkl')"
   ]
  },
  {
   "cell_type": "code",
   "execution_count": null,
   "id": "5a73eee5-9bb4-4664-8f51-8ecb049106a6",
   "metadata": {},
   "outputs": [],
   "source": []
  }
 ],
 "metadata": {
  "kernelspec": {
   "display_name": "Python 3 (ipykernel)",
   "language": "python",
   "name": "python3"
  },
  "language_info": {
   "codemirror_mode": {
    "name": "ipython",
    "version": 3
   },
   "file_extension": ".py",
   "mimetype": "text/x-python",
   "name": "python",
   "nbconvert_exporter": "python",
   "pygments_lexer": "ipython3",
   "version": "3.11.8"
  }
 },
 "nbformat": 4,
 "nbformat_minor": 5
}
